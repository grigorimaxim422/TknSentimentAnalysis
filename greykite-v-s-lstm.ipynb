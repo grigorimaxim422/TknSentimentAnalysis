{
 "cells": [
  {
   "cell_type": "markdown",
   "id": "printable-france",
   "metadata": {
    "papermill": {
     "duration": 0.052275,
     "end_time": "2022-05-21T20:57:48.501258",
     "exception": false,
     "start_time": "2022-05-21T20:57:48.448983",
     "status": "completed"
    },
    "tags": []
   },
   "source": [
    "<br>\n",
    "<h1 style = \"font-size:35px; font-family:cursive ; font-weight : bold; color : #650076; text-align: center;\">💲📈 Bitcoin Price Prediction : GreyKite V/s LSTM </h1>\n",
    "<br>"
   ]
  },
  {
   "cell_type": "markdown",
   "id": "psychological-paint",
   "metadata": {
    "papermill": {
     "duration": 0.040617,
     "end_time": "2022-05-21T20:57:48.585720",
     "exception": false,
     "start_time": "2022-05-21T20:57:48.545103",
     "status": "completed"
    },
    "tags": []
   },
   "source": []
  },
  {
   "cell_type": "markdown",
   "id": "lonely-operation",
   "metadata": {
    "papermill": {
     "duration": 0.040678,
     "end_time": "2022-05-21T20:57:48.667484",
     "exception": false,
     "start_time": "2022-05-21T20:57:48.626806",
     "status": "completed"
    },
    "tags": []
   },
   "source": [
    "# **Context**\n",
    "<p style=\"font-size:15px;color:#1C37A6;\">Bitcoin (₿) is a decentralized digital currency, without a central bank or single administrator, that can be sent from user to user on the peer-to-peer bitcoin network without the need for intermediaries. Transactions are verified by network nodes through cryptography and recorded in a public distributed ledger called a blockchain. The cryptocurrency was invented in 2008 by an unknown person or group of people using the name Satoshi Nakamoto. The currency began use in 2009 when its implementation was released as open-source software.<br><br>\n",
    "Accurate knowledge about the future is helpful to any business. Time series forecasts can provide future expectations for metrics and other quantities that are measurable over time.<br> \n",
    "While domain knowledge and expert judgment can sometimes produce accurate forecasts, algorithmic automation enables scalability and reproducibility, and may improve accuracy. Algorithmic forecasts can be consumed by additional algorithms downstream to make decisions or derive insights.</p>"
   ]
  },
  {
   "cell_type": "code",
   "execution_count": 1,
   "id": "accepting-dodge",
   "metadata": {
    "_cell_guid": "b1076dfc-b9ad-4769-8c92-a6c4dae69d19",
    "_kg_hide-input": true,
    "_kg_hide-output": true,
    "_uuid": "8f2839f25d086af736a60e9eeb907d3b93b6e0e5",
    "execution": {
     "iopub.execute_input": "2022-05-21T20:57:48.759133Z",
     "iopub.status.busy": "2022-05-21T20:57:48.758499Z",
     "iopub.status.idle": "2022-05-21T20:57:48.772995Z",
     "shell.execute_reply": "2022-05-21T20:57:48.773680Z",
     "shell.execute_reply.started": "2021-06-08T22:19:40.650339Z"
    },
    "papermill": {
     "duration": 0.065984,
     "end_time": "2022-05-21T20:57:48.774091",
     "exception": false,
     "start_time": "2022-05-21T20:57:48.708107",
     "status": "completed"
    },
    "tags": []
   },
   "outputs": [
    {
     "name": "stdout",
     "output_type": "stream",
     "text": [
      "/kaggle/input/bitcoin-historical-data/bitstampUSD_1-min_data_2012-01-01_to_2021-03-31.csv\n"
     ]
    }
   ],
   "source": [
    "# This Python 3 environment comes with many helpful analytics libraries installed\n",
    "# It is defined by the kaggle/python Docker image: https://github.com/kaggle/docker-python\n",
    "# For example, here's several helpful packages to load\n",
    "\n",
    "import numpy as np # linear algebra\n",
    "import pandas as pd # data processing, CSV file I/O (e.g. pd.read_csv)\n",
    "\n",
    "# Input data files are available in the read-only \"../input/\" directory\n",
    "# For example, running this (by clicking run or pressing Shift+Enter) will list all files under the input directory\n",
    "\n",
    "import os\n",
    "for dirname, _, filenames in os.walk('/kaggle/input'):\n",
    "    for filename in filenames:\n",
    "        print(os.path.join(dirname, filename))\n",
    "\n",
    "# You can write up to 20GB to the current directory (/kaggle/working/) that gets preserved as output when you create a version using \"Save & Run All\" \n",
    "# You can also write temporary files to /kaggle/temp/, but they won't be saved outside of the current session"
   ]
  },
  {
   "cell_type": "code",
   "execution_count": 2,
   "id": "pointed-green",
   "metadata": {
    "_kg_hide-input": true,
    "_kg_hide-output": true,
    "execution": {
     "iopub.execute_input": "2022-05-21T20:57:48.891125Z",
     "iopub.status.busy": "2022-05-21T20:57:48.890173Z",
     "iopub.status.idle": "2022-05-21T20:57:48.894072Z",
     "shell.execute_reply": "2022-05-21T20:57:48.894552Z",
     "shell.execute_reply.started": "2022-05-21T20:41:20.373733Z"
    },
    "papermill": {
     "duration": 0.061235,
     "end_time": "2022-05-21T20:57:48.894735",
     "exception": false,
     "start_time": "2022-05-21T20:57:48.833500",
     "status": "completed"
    },
    "tags": []
   },
   "outputs": [
    {
     "data": {
      "text/html": [
       "\n",
       "<style>\n",
       "h1,h2,h3 {\n",
       "\tmargin: 1em 0 0.5em 0;\n",
       "\tfont-weight: 600;\n",
       "\tfont-family: 'Titillium Web', sans-serif;\n",
       "\tposition: relative;  \n",
       "\tfont-size: 36px;\n",
       "\tline-height: 40px;\n",
       "\tpadding: 15px 15px 15px 2.5%;\n",
       "\tcolor: #13003A;\n",
       "\tbox-shadow: \n",
       "\t\tinset 0 0 0 1px rgba(53,86,129, 1), \n",
       "\t\tinset 0 0 5px rgba(53,86,129, 1),\n",
       "\t\tinset -285px 0 35px white;\n",
       "\tborder-radius: 0 10px 0 15px;\n",
       "\tbackground: #fff\n",
       "    \n",
       "}\n",
       "</style>\n"
      ],
      "text/plain": [
       "<IPython.core.display.HTML object>"
      ]
     },
     "execution_count": 2,
     "metadata": {},
     "output_type": "execute_result"
    }
   ],
   "source": [
    "from IPython.display import HTML\n",
    "HTML(\"\"\"\n",
    "<style>\n",
    "h1,h2,h3 {\n",
    "\tmargin: 1em 0 0.5em 0;\n",
    "\tfont-weight: 600;\n",
    "\tfont-family: 'Titillium Web', sans-serif;\n",
    "\tposition: relative;  \n",
    "\tfont-size: 36px;\n",
    "\tline-height: 40px;\n",
    "\tpadding: 15px 15px 15px 2.5%;\n",
    "\tcolor: #13003A;\n",
    "\tbox-shadow: \n",
    "\t\tinset 0 0 0 1px rgba(53,86,129, 1), \n",
    "\t\tinset 0 0 5px rgba(53,86,129, 1),\n",
    "\t\tinset -285px 0 35px white;\n",
    "\tborder-radius: 0 10px 0 15px;\n",
    "\tbackground: #fff\n",
    "    \n",
    "}\n",
    "</style>\n",
    "\"\"\")"
   ]
  },
  {
   "cell_type": "markdown",
   "id": "filled-assault",
   "metadata": {
    "papermill": {
     "duration": 0.04208,
     "end_time": "2022-05-21T20:57:48.978628",
     "exception": false,
     "start_time": "2022-05-21T20:57:48.936548",
     "status": "completed"
    },
    "tags": []
   },
   "source": [
    "<h1 style=\"background-color:#88FBFF;font-size:30px;color:#00033E;font-weight : bold\">Introduction to GreyKite :</h1>"
   ]
  },
  {
   "cell_type": "markdown",
   "id": "subject-nightlife",
   "metadata": {
    "papermill": {
     "duration": 0.041834,
     "end_time": "2022-05-21T20:57:49.063067",
     "exception": false,
     "start_time": "2022-05-21T20:57:49.021233",
     "status": "completed"
    },
    "tags": []
   },
   "source": []
  },
  {
   "cell_type": "markdown",
   "id": "cubic-bikini",
   "metadata": {
    "papermill": {
     "duration": 0.0489,
     "end_time": "2022-05-21T20:57:49.153609",
     "exception": false,
     "start_time": "2022-05-21T20:57:49.104709",
     "status": "completed"
    },
    "tags": []
   },
   "source": [
    "<p style=\"font-size:15px;color:#1C37A6;\">This brand new Python library <b>GreyKite by Linkedin</b>, is used for time series forecasting. This library makes the life of data scientists easier. \n",
    "    Its main forecasting algorithm, called <b>Silverkite</b>, is fast, accurate, and intuitive, making it suitable for interactive and automated forecasting at scale. We will start by describing a few applications and then walk through the algorithm design and user experience.</p>"
   ]
  },
  {
   "cell_type": "markdown",
   "id": "guided-employee",
   "metadata": {
    "papermill": {
     "duration": 0.044442,
     "end_time": "2022-05-21T20:57:49.244303",
     "exception": false,
     "start_time": "2022-05-21T20:57:49.199861",
     "status": "completed"
    },
    "tags": []
   },
   "source": [
    "<h1 style=\"background-color:#FF85A3;font-size:20px;color:#00033E;font-weight : bold\">Tech behind GreyKite :</h1>"
   ]
  },
  {
   "cell_type": "markdown",
   "id": "adjustable-farming",
   "metadata": {
    "papermill": {
     "duration": 0.041202,
     "end_time": "2022-05-21T20:57:49.327323",
     "exception": false,
     "start_time": "2022-05-21T20:57:49.286121",
     "status": "completed"
    },
    "tags": []
   },
   "source": [
    "![](https://analyticsdrift.com/wp-content/uploads/2021/05/LinkedIn-greykite-architecture-1024x481.png)"
   ]
  },
  {
   "cell_type": "markdown",
   "id": "fabulous-diversity",
   "metadata": {
    "papermill": {
     "duration": 0.042135,
     "end_time": "2022-05-21T20:57:49.410988",
     "exception": false,
     "start_time": "2022-05-21T20:57:49.368853",
     "status": "completed"
    },
    "tags": []
   },
   "source": [
    "<p style=\"font-size:15px;color:#1C37A6;\"><b>Greykite</b> contains a simple modeling interface that facilitates data exploration and model tuning. The library provides intuitive forecasts through its flagship algorithm, known as Silverkite. <b>Silverkite</b> is highly customizable and includes tuning parameters to capture diverse time series characteristics. \n",
    "    Besides Silverkite, Greykite also supports <b>Prophet</b>, which is an open-source algorithm for forecasting time series data. The Prophet algorithm is developed by Facebook and is robust to missing data and shifts in the trend and handles outliers well.</p>"
   ]
  },
  {
   "cell_type": "markdown",
   "id": "printable-perception",
   "metadata": {
    "papermill": {
     "duration": 0.043793,
     "end_time": "2022-05-21T20:57:49.498440",
     "exception": false,
     "start_time": "2022-05-21T20:57:49.454647",
     "status": "completed"
    },
    "tags": []
   },
   "source": [
    "<h1 style=\"background-color:#FF85A3;font-size:20px;color:#00033E;font-weight : bold\">Features of GreyKite :</h1>"
   ]
  },
  {
   "cell_type": "markdown",
   "id": "strong-interface",
   "metadata": {
    "papermill": {
     "duration": 0.041378,
     "end_time": "2022-05-21T20:57:49.581467",
     "exception": false,
     "start_time": "2022-05-21T20:57:49.540089",
     "status": "completed"
    },
    "tags": []
   },
   "source": [
    "- **Fast training and scoring**\n",
    "Works with intelligent prototyping, framework search, and benchmarking. Matrix search is valuable for model choice and self-loader estimating of different measurements.\n",
    "- **Flexible design**\n",
    "Gives time arrangement regressors to catch pattern, irregularity, occasions, changepoints, and autoregression, and allows you to add your own.<br>\n",
    "Fits the conjecture utilizing an AI model.\n",
    "- **Intuitive Interface**\n",
    "Gives incredible plotting apparatuses to investigate irregularity, connections, changepoints, and so forth <br>\n",
    "Gives model formats (default boundaries) that function admirably dependent on information attributes and gauge prerequisites (for example every day long haul conjecture).<br>\n",
    "Produces interpretable yield, with model rundown to analyze individual regressors, and segment plots to outwardly review the consolidated impact of related regressors <br>\n",
    "- **Extensible Framework**\n",
    "Uncovered numerous estimate calculations in a similar interface, making it simple to attempt calculations from various libraries and think about outcomes.<br>\n",
    "A similar pipeline gives preprocessing, cross-approval, backtest, estimate, and assessment with any calculation."
   ]
  },
  {
   "cell_type": "markdown",
   "id": "experienced-recording",
   "metadata": {
    "papermill": {
     "duration": 0.042556,
     "end_time": "2022-05-21T20:57:49.666173",
     "exception": false,
     "start_time": "2022-05-21T20:57:49.623617",
     "status": "completed"
    },
    "tags": []
   },
   "source": [
    "<div class=\"alert alert-block alert-info\"><p style='color:black;'> 📌 <b>UPDATE</b> : Salesforce introduced thier new library <b>\"Merlion\"</b> for time series tasks and they had claimed to be much better than thier counter parts.\n",
    "    I have created a introductory NB on merlion, do check that if you are interested.\n",
    "    </p>\n",
    "</div>\n"
   ]
  },
  {
   "cell_type": "markdown",
   "id": "indoor-savannah",
   "metadata": {
    "papermill": {
     "duration": 0.04139,
     "end_time": "2022-05-21T20:57:49.749257",
     "exception": false,
     "start_time": "2022-05-21T20:57:49.707867",
     "status": "completed"
    },
    "tags": []
   },
   "source": [
    "<b>[Link to the Merlion Notebook](https://www.kaggle.com/code/pranjalverma08/exploring-merlion-ml-library-for-ts-tasks/notebook)</b>"
   ]
  },
  {
   "cell_type": "markdown",
   "id": "beneficial-raleigh",
   "metadata": {
    "papermill": {
     "duration": 0.04125,
     "end_time": "2022-05-21T20:57:49.832359",
     "exception": false,
     "start_time": "2022-05-21T20:57:49.791109",
     "status": "completed"
    },
    "tags": []
   },
   "source": [
    "<h1 style=\"background-color:#FF85A3;font-size:20px;color:#00033E;font-weight : bold\">⚙ Installation :</h1>"
   ]
  },
  {
   "cell_type": "code",
   "execution_count": 3,
   "id": "final-external",
   "metadata": {
    "_kg_hide-input": false,
    "_kg_hide-output": true,
    "execution": {
     "iopub.execute_input": "2022-05-21T20:57:49.919483Z",
     "iopub.status.busy": "2022-05-21T20:57:49.918517Z",
     "iopub.status.idle": "2022-05-21T20:58:16.162137Z",
     "shell.execute_reply": "2022-05-21T20:58:16.161399Z",
     "shell.execute_reply.started": "2022-05-21T20:54:27.823956Z"
    },
    "papermill": {
     "duration": 26.288208,
     "end_time": "2022-05-21T20:58:16.162294",
     "exception": false,
     "start_time": "2022-05-21T20:57:49.874086",
     "status": "completed"
    },
    "tags": []
   },
   "outputs": [
    {
     "name": "stdout",
     "output_type": "stream",
     "text": [
      "Collecting greykite\r\n",
      "  Downloading greykite-0.3.0-py2.py3-none-any.whl (21.9 MB)\r\n",
      "\u001b[K     |████████████████████████████████| 21.9 MB 43.3 MB/s \r\n",
      "\u001b[?25hRequirement already satisfied: pandas<1.3,>=1.1.3 in /opt/conda/lib/python3.7/site-packages (from greykite) (1.2.3)\r\n",
      "Collecting cvxpy>=1.1.12\r\n",
      "  Downloading cvxpy-1.2.1-cp37-cp37m-manylinux_2_24_x86_64.whl (2.8 MB)\r\n",
      "\u001b[K     |████████████████████████████████| 2.8 MB 39.0 MB/s \r\n",
      "\u001b[?25hCollecting pytest-runner>=5.1\r\n",
      "  Downloading pytest_runner-6.0.0-py3-none-any.whl (7.2 kB)\r\n",
      "Collecting holidays-ext>=0.0.7\r\n",
      "  Downloading holidays_ext-0.0.7-py3-none-any.whl (9.7 kB)\r\n",
      "Requirement already satisfied: matplotlib>=3.4.1 in /opt/conda/lib/python3.7/site-packages (from greykite) (3.4.1)\r\n",
      "Requirement already satisfied: pytest>=4.6.5 in /opt/conda/lib/python3.7/site-packages (from greykite) (6.2.3)\r\n",
      "Collecting osqp==0.6.1\r\n",
      "  Downloading osqp-0.6.1-cp37-cp37m-manylinux2010_x86_64.whl (211 kB)\r\n",
      "\u001b[K     |████████████████████████████████| 211 kB 49.1 MB/s \r\n",
      "\u001b[?25hCollecting pmdarima>=1.8.0\r\n",
      "  Downloading pmdarima-1.8.5-cp37-cp37m-manylinux_2_17_x86_64.manylinux2014_x86_64.manylinux_2_24_x86_64.whl (1.4 MB)\r\n",
      "\u001b[K     |████████████████████████████████| 1.4 MB 41.8 MB/s \r\n",
      "\u001b[?25hCollecting testfixtures>=6.14.2\r\n",
      "  Downloading testfixtures-6.18.5-py2.py3-none-any.whl (95 kB)\r\n",
      "\u001b[K     |████████████████████████████████| 95 kB 3.4 MB/s \r\n",
      "\u001b[?25hRequirement already satisfied: patsy>=0.5.1 in /opt/conda/lib/python3.7/site-packages (from greykite) (0.5.1)\r\n",
      "Requirement already satisfied: overrides>=2.8.0 in /opt/conda/lib/python3.7/site-packages (from greykite) (3.1.0)\r\n",
      "Requirement already satisfied: six>=1.15.0 in /opt/conda/lib/python3.7/site-packages (from greykite) (1.15.0)\r\n",
      "Requirement already satisfied: numpy>=1.19.2 in /opt/conda/lib/python3.7/site-packages (from greykite) (1.19.5)\r\n",
      "Requirement already satisfied: dill>=0.3.3 in /opt/conda/lib/python3.7/site-packages (from greykite) (0.3.3)\r\n",
      "Requirement already satisfied: tqdm>=4.52.0 in /opt/conda/lib/python3.7/site-packages (from greykite) (4.59.0)\r\n",
      "Requirement already satisfied: plotly>=4.12.0 in /opt/conda/lib/python3.7/site-packages (from greykite) (4.14.3)\r\n",
      "Requirement already satisfied: scikit-learn>=0.24.1 in /opt/conda/lib/python3.7/site-packages (from greykite) (0.24.1)\r\n",
      "Requirement already satisfied: statsmodels>=0.12.2 in /opt/conda/lib/python3.7/site-packages (from greykite) (0.12.2)\r\n",
      "Requirement already satisfied: scipy>=1.5.4 in /opt/conda/lib/python3.7/site-packages (from greykite) (1.5.4)\r\n",
      "Requirement already satisfied: future in /opt/conda/lib/python3.7/site-packages (from osqp==0.6.1->greykite) (0.18.2)\r\n",
      "Requirement already satisfied: ecos>=2 in /opt/conda/lib/python3.7/site-packages (from cvxpy>=1.1.12->greykite) (2.0.7.post1)\r\n",
      "Requirement already satisfied: scs>=1.1.6 in /opt/conda/lib/python3.7/site-packages (from cvxpy>=1.1.12->greykite) (2.1.3)\r\n",
      "Collecting LunarCalendar-ext>=0.0.1\r\n",
      "  Downloading LunarCalendar_ext-0.0.1-py3-none-any.whl (16 kB)\r\n",
      "Requirement already satisfied: holidays>=0.9.5 in /opt/conda/lib/python3.7/site-packages (from holidays-ext>=0.0.7->greykite) (0.11.1)\r\n",
      "Requirement already satisfied: convertdate>=2.1.2 in /opt/conda/lib/python3.7/site-packages (from holidays-ext>=0.0.7->greykite) (2.3.2)\r\n",
      "Requirement already satisfied: python-dateutil>=2.8.0 in /opt/conda/lib/python3.7/site-packages (from holidays-ext>=0.0.7->greykite) (2.8.1)\r\n",
      "Requirement already satisfied: pymeeus<=1,>=0.3.13 in /opt/conda/lib/python3.7/site-packages (from convertdate>=2.1.2->holidays-ext>=0.0.7->greykite) (0.5.11)\r\n",
      "Requirement already satisfied: pytz>=2014.10 in /opt/conda/lib/python3.7/site-packages (from convertdate>=2.1.2->holidays-ext>=0.0.7->greykite) (2021.1)\r\n",
      "Requirement already satisfied: korean-lunar-calendar in /opt/conda/lib/python3.7/site-packages (from holidays>=0.9.5->holidays-ext>=0.0.7->greykite) (0.2.1)\r\n",
      "Requirement already satisfied: hijri-converter in /opt/conda/lib/python3.7/site-packages (from holidays>=0.9.5->holidays-ext>=0.0.7->greykite) (2.1.1)\r\n",
      "Requirement already satisfied: ephem>=3.7.5.3 in /opt/conda/lib/python3.7/site-packages (from LunarCalendar-ext>=0.0.1->holidays-ext>=0.0.7->greykite) (3.7.7.1)\r\n",
      "Requirement already satisfied: pillow>=6.2.0 in /opt/conda/lib/python3.7/site-packages (from matplotlib>=3.4.1->greykite) (7.2.0)\r\n",
      "Requirement already satisfied: kiwisolver>=1.0.1 in /opt/conda/lib/python3.7/site-packages (from matplotlib>=3.4.1->greykite) (1.3.1)\r\n",
      "Requirement already satisfied: cycler>=0.10 in /opt/conda/lib/python3.7/site-packages (from matplotlib>=3.4.1->greykite) (0.10.0)\r\n",
      "Requirement already satisfied: pyparsing>=2.2.1 in /opt/conda/lib/python3.7/site-packages (from matplotlib>=3.4.1->greykite) (2.4.7)\r\n",
      "Requirement already satisfied: retrying>=1.3.3 in /opt/conda/lib/python3.7/site-packages (from plotly>=4.12.0->greykite) (1.3.3)\r\n",
      "Requirement already satisfied: urllib3 in /opt/conda/lib/python3.7/site-packages (from pmdarima>=1.8.0->greykite) (1.26.4)\r\n",
      "Requirement already satisfied: Cython!=0.29.18,>=0.29 in /opt/conda/lib/python3.7/site-packages (from pmdarima>=1.8.0->greykite) (0.29.23)\r\n",
      "Requirement already satisfied: setuptools!=50.0.0,>=38.6.0 in /opt/conda/lib/python3.7/site-packages (from pmdarima>=1.8.0->greykite) (49.6.0.post20210108)\r\n",
      "Requirement already satisfied: joblib>=0.11 in /opt/conda/lib/python3.7/site-packages (from pmdarima>=1.8.0->greykite) (1.0.1)\r\n",
      "Requirement already satisfied: importlib-metadata>=0.12 in /opt/conda/lib/python3.7/site-packages (from pytest>=4.6.5->greykite) (3.4.0)\r\n",
      "Requirement already satisfied: attrs>=19.2.0 in /opt/conda/lib/python3.7/site-packages (from pytest>=4.6.5->greykite) (20.3.0)\r\n",
      "Requirement already satisfied: pluggy<1.0.0a1,>=0.12 in /opt/conda/lib/python3.7/site-packages (from pytest>=4.6.5->greykite) (0.13.1)\r\n",
      "Requirement already satisfied: py>=1.8.2 in /opt/conda/lib/python3.7/site-packages (from pytest>=4.6.5->greykite) (1.10.0)\r\n",
      "Requirement already satisfied: iniconfig in /opt/conda/lib/python3.7/site-packages (from pytest>=4.6.5->greykite) (1.1.1)\r\n",
      "Requirement already satisfied: packaging in /opt/conda/lib/python3.7/site-packages (from pytest>=4.6.5->greykite) (20.9)\r\n",
      "Requirement already satisfied: toml in /opt/conda/lib/python3.7/site-packages (from pytest>=4.6.5->greykite) (0.10.2)\r\n",
      "Requirement already satisfied: typing-extensions>=3.6.4 in /opt/conda/lib/python3.7/site-packages (from importlib-metadata>=0.12->pytest>=4.6.5->greykite) (3.7.4.3)\r\n",
      "Requirement already satisfied: zipp>=0.5 in /opt/conda/lib/python3.7/site-packages (from importlib-metadata>=0.12->pytest>=4.6.5->greykite) (3.4.1)\r\n",
      "Requirement already satisfied: threadpoolctl>=2.0.0 in /opt/conda/lib/python3.7/site-packages (from scikit-learn>=0.24.1->greykite) (2.1.0)\r\n",
      "Installing collected packages: osqp, LunarCalendar-ext, testfixtures, pytest-runner, pmdarima, holidays-ext, cvxpy, greykite\r\n",
      "  Attempting uninstall: osqp\r\n",
      "    Found existing installation: osqp 0.6.2.post0\r\n",
      "    Uninstalling osqp-0.6.2.post0:\r\n",
      "      Successfully uninstalled osqp-0.6.2.post0\r\n",
      "  Attempting uninstall: cvxpy\r\n",
      "    Found existing installation: cvxpy 1.1.7\r\n",
      "    Uninstalling cvxpy-1.1.7:\r\n",
      "      Successfully uninstalled cvxpy-1.1.7\r\n",
      "Successfully installed LunarCalendar-ext-0.0.1 cvxpy-1.2.1 greykite-0.3.0 holidays-ext-0.0.7 osqp-0.6.1 pmdarima-1.8.5 pytest-runner-6.0.0 testfixtures-6.18.5\r\n"
     ]
    }
   ],
   "source": [
    "!pip install greykite"
   ]
  },
  {
   "cell_type": "code",
   "execution_count": 4,
   "id": "explicit-launch",
   "metadata": {
    "_kg_hide-input": true,
    "_kg_hide-output": true,
    "execution": {
     "iopub.execute_input": "2022-05-21T20:58:16.299140Z",
     "iopub.status.busy": "2022-05-21T20:58:16.298142Z",
     "iopub.status.idle": "2022-05-21T20:58:16.300605Z",
     "shell.execute_reply": "2022-05-21T20:58:16.299992Z",
     "shell.execute_reply.started": "2021-06-08T22:47:48.226164Z"
    },
    "papermill": {
     "duration": 0.072028,
     "end_time": "2022-05-21T20:58:16.300771",
     "exception": false,
     "start_time": "2022-05-21T20:58:16.228743",
     "status": "completed"
    },
    "tags": []
   },
   "outputs": [],
   "source": [
    "# !pip install pillow==4.1.1\n",
    "# %reload_ext autoreload\n",
    "# %autoreload"
   ]
  },
  {
   "cell_type": "code",
   "execution_count": 5,
   "id": "daily-amplifier",
   "metadata": {
    "_kg_hide-input": true,
    "_kg_hide-output": true,
    "execution": {
     "iopub.execute_input": "2022-05-21T20:58:16.435985Z",
     "iopub.status.busy": "2022-05-21T20:58:16.435340Z",
     "iopub.status.idle": "2022-05-21T20:58:16.437782Z",
     "shell.execute_reply": "2022-05-21T20:58:16.437239Z",
     "shell.execute_reply.started": "2021-06-08T22:26:22.734587Z"
    },
    "papermill": {
     "duration": 0.071853,
     "end_time": "2022-05-21T20:58:16.437921",
     "exception": false,
     "start_time": "2022-05-21T20:58:16.366068",
     "status": "completed"
    },
    "tags": []
   },
   "outputs": [],
   "source": [
    "# !pip install --force-reinstall pandas"
   ]
  },
  {
   "cell_type": "markdown",
   "id": "negative-maximum",
   "metadata": {
    "papermill": {
     "duration": 0.065203,
     "end_time": "2022-05-21T20:58:16.568505",
     "exception": false,
     "start_time": "2022-05-21T20:58:16.503302",
     "status": "completed"
    },
    "tags": []
   },
   "source": [
    "<h1 style=\"background-color:#FF85A3;font-size:20px;color:#00033E;font-weight : bold\">✅ Importing the required Libraries :</h1>"
   ]
  },
  {
   "cell_type": "code",
   "execution_count": 6,
   "id": "complex-cookbook",
   "metadata": {
    "_kg_hide-input": true,
    "_kg_hide-output": true,
    "execution": {
     "iopub.execute_input": "2022-05-21T20:58:16.715171Z",
     "iopub.status.busy": "2022-05-21T20:58:16.714458Z",
     "iopub.status.idle": "2022-05-21T20:58:23.662896Z",
     "shell.execute_reply": "2022-05-21T20:58:23.662217Z",
     "shell.execute_reply.started": "2022-05-21T20:55:03.567924Z"
    },
    "papermill": {
     "duration": 7.029252,
     "end_time": "2022-05-21T20:58:23.663047",
     "exception": false,
     "start_time": "2022-05-21T20:58:16.633795",
     "status": "completed"
    },
    "tags": []
   },
   "outputs": [
    {
     "data": {
      "text/html": [
       "        <script type=\"text/javascript\">\n",
       "        window.PlotlyConfig = {MathJaxConfig: 'local'};\n",
       "        if (window.MathJax) {MathJax.Hub.Config({SVG: {font: \"STIX-Web\"}});}\n",
       "        if (typeof require !== 'undefined') {\n",
       "        require.undef(\"plotly\");\n",
       "        requirejs.config({\n",
       "            paths: {\n",
       "                'plotly': ['https://cdn.plot.ly/plotly-latest.min']\n",
       "            }\n",
       "        });\n",
       "        require(['plotly'], function(Plotly) {\n",
       "            window._Plotly = Plotly;\n",
       "        });\n",
       "        }\n",
       "        </script>\n",
       "        "
      ]
     },
     "metadata": {},
     "output_type": "display_data"
    }
   ],
   "source": [
    "from collections import defaultdict\n",
    "import warnings\n",
    "import pandas as pd\n",
    "warnings.filterwarnings(\"ignore\")\n",
    "import pandas as pd\n",
    "%matplotlib inline\n",
    "import matplotlib.pyplot as plt \n",
    "import datetime, pytz\n",
    "from plotly import tools\n",
    "from plotly.offline import init_notebook_mode, iplot\n",
    "init_notebook_mode(connected=True)\n",
    "import plotly.graph_objs as go\n",
    "import gc\n",
    "from sklearn.preprocessing import MinMaxScaler\n",
    "from sklearn.model_selection import train_test_split\n",
    "import seaborn as sns\n",
    "import plotly\n",
    "from sklearn.metrics import mean_absolute_error\n",
    "from keras.models import Sequential\n",
    "from keras.layers import Dense\n",
    "from keras.layers import LSTM\n",
    "from keras.layers import Dropout\n",
    "from keras.layers import Activation\n",
    "import keras\n",
    "import tensorflow\n",
    "from greykite.framework.templates.autogen.forecast_config import ForecastConfig\n",
    "from greykite.framework.templates.autogen.forecast_config import MetadataParam\n",
    "from greykite.framework.templates.forecaster import Forecaster \n",
    "from greykite.framework.templates.model_templates import ModelTemplateEnum\n",
    "from greykite.framework.utils.result_summary import summarize_grid_search_results"
   ]
  },
  {
   "cell_type": "markdown",
   "id": "small-crisis",
   "metadata": {
    "papermill": {
     "duration": 0.065455,
     "end_time": "2022-05-21T20:58:23.794858",
     "exception": false,
     "start_time": "2022-05-21T20:58:23.729403",
     "status": "completed"
    },
    "tags": []
   },
   "source": [
    "<h1 style=\"background-color:#FF85A3;font-size:20px;color:#00033E;font-weight : bold\"> 🛠 Data Preprocessing :</h1>"
   ]
  },
  {
   "cell_type": "code",
   "execution_count": 7,
   "id": "activated-senegal",
   "metadata": {
    "_kg_hide-input": true,
    "execution": {
     "iopub.execute_input": "2022-05-21T20:58:23.934616Z",
     "iopub.status.busy": "2022-05-21T20:58:23.933738Z",
     "iopub.status.idle": "2022-05-21T20:58:35.851542Z",
     "shell.execute_reply": "2022-05-21T20:58:35.850726Z",
     "shell.execute_reply.started": "2022-05-21T20:55:24.743150Z"
    },
    "papermill": {
     "duration": 11.991137,
     "end_time": "2022-05-21T20:58:35.851716",
     "exception": false,
     "start_time": "2022-05-21T20:58:23.860579",
     "status": "completed"
    },
    "tags": []
   },
   "outputs": [],
   "source": [
    "df = pd.read_csv('../input/bitcoin-historical-data/bitstampUSD_1-min_data_2012-01-01_to_2021-03-31.csv')\n",
    "df['date'] = pd.to_datetime(df['Timestamp'],unit='s').dt.date\n",
    "group = df.groupby('date')\n",
    "Price = group['Weighted_Price'].mean()"
   ]
  },
  {
   "cell_type": "code",
   "execution_count": 8,
   "id": "multiple-wheel",
   "metadata": {
    "_kg_hide-input": true,
    "_kg_hide-output": true,
    "execution": {
     "iopub.execute_input": "2022-05-21T20:58:36.024492Z",
     "iopub.status.busy": "2022-05-21T20:58:36.023724Z",
     "iopub.status.idle": "2022-05-21T20:58:36.042901Z",
     "shell.execute_reply": "2022-05-21T20:58:36.043413Z",
     "shell.execute_reply.started": "2022-05-21T20:55:37.550201Z"
    },
    "papermill": {
     "duration": 0.107751,
     "end_time": "2022-05-21T20:58:36.043582",
     "exception": false,
     "start_time": "2022-05-21T20:58:35.935831",
     "status": "completed"
    },
    "tags": []
   },
   "outputs": [],
   "source": [
    "df_price_zz=Price.to_frame()\n",
    "df_price_zz['Timestamp'] = df_price_zz.index\n",
    "df_price_zz['Timestamp'] = pd.to_datetime(df_price_zz['Timestamp'])\n",
    "df_price_zz.reset_index(drop=True,inplace=True)\n",
    "df_price_include_zz = df_price_zz[df_price_zz['Timestamp'].dt.year >= 2017]\n",
    "df_price_include_zz.reset_index(drop=True,inplace=True)\n",
    "# df_price_include_zz"
   ]
  },
  {
   "cell_type": "code",
   "execution_count": 9,
   "id": "broadband-couple",
   "metadata": {
    "_kg_hide-input": true,
    "execution": {
     "iopub.execute_input": "2022-05-21T20:58:36.188905Z",
     "iopub.status.busy": "2022-05-21T20:58:36.188193Z",
     "iopub.status.idle": "2022-05-21T20:58:36.201566Z",
     "shell.execute_reply": "2022-05-21T20:58:36.202440Z",
     "shell.execute_reply.started": "2022-05-21T20:55:37.579088Z"
    },
    "papermill": {
     "duration": 0.088872,
     "end_time": "2022-05-21T20:58:36.202623",
     "exception": false,
     "start_time": "2022-05-21T20:58:36.113751",
     "status": "completed"
    },
    "tags": []
   },
   "outputs": [
    {
     "data": {
      "text/html": [
       "<div>\n",
       "<style scoped>\n",
       "    .dataframe tbody tr th:only-of-type {\n",
       "        vertical-align: middle;\n",
       "    }\n",
       "\n",
       "    .dataframe tbody tr th {\n",
       "        vertical-align: top;\n",
       "    }\n",
       "\n",
       "    .dataframe thead th {\n",
       "        text-align: right;\n",
       "    }\n",
       "</style>\n",
       "<table border=\"1\" class=\"dataframe\">\n",
       "  <thead>\n",
       "    <tr style=\"text-align: right;\">\n",
       "      <th></th>\n",
       "      <th>Weighted_Price</th>\n",
       "    </tr>\n",
       "    <tr>\n",
       "      <th>Timestamp</th>\n",
       "      <th></th>\n",
       "    </tr>\n",
       "  </thead>\n",
       "  <tbody>\n",
       "    <tr>\n",
       "      <th>2017-01-01</th>\n",
       "      <td>981.637688</td>\n",
       "    </tr>\n",
       "    <tr>\n",
       "      <th>2017-01-02</th>\n",
       "      <td>1013.199484</td>\n",
       "    </tr>\n",
       "    <tr>\n",
       "      <th>2017-01-03</th>\n",
       "      <td>1019.992995</td>\n",
       "    </tr>\n",
       "    <tr>\n",
       "      <th>2017-01-04</th>\n",
       "      <td>1079.434027</td>\n",
       "    </tr>\n",
       "    <tr>\n",
       "      <th>2017-01-05</th>\n",
       "      <td>1039.655397</td>\n",
       "    </tr>\n",
       "    <tr>\n",
       "      <th>...</th>\n",
       "      <td>...</td>\n",
       "    </tr>\n",
       "    <tr>\n",
       "      <th>2021-03-27</th>\n",
       "      <td>55193.357260</td>\n",
       "    </tr>\n",
       "    <tr>\n",
       "      <th>2021-03-28</th>\n",
       "      <td>55832.958824</td>\n",
       "    </tr>\n",
       "    <tr>\n",
       "      <th>2021-03-29</th>\n",
       "      <td>56913.993819</td>\n",
       "    </tr>\n",
       "    <tr>\n",
       "      <th>2021-03-30</th>\n",
       "      <td>58346.912268</td>\n",
       "    </tr>\n",
       "    <tr>\n",
       "      <th>2021-03-31</th>\n",
       "      <td>58764.349363</td>\n",
       "    </tr>\n",
       "  </tbody>\n",
       "</table>\n",
       "<p>1551 rows × 1 columns</p>\n",
       "</div>"
      ],
      "text/plain": [
       "            Weighted_Price\n",
       "Timestamp                 \n",
       "2017-01-01      981.637688\n",
       "2017-01-02     1013.199484\n",
       "2017-01-03     1019.992995\n",
       "2017-01-04     1079.434027\n",
       "2017-01-05     1039.655397\n",
       "...                    ...\n",
       "2021-03-27    55193.357260\n",
       "2021-03-28    55832.958824\n",
       "2021-03-29    56913.993819\n",
       "2021-03-30    58346.912268\n",
       "2021-03-31    58764.349363\n",
       "\n",
       "[1551 rows x 1 columns]"
      ]
     },
     "execution_count": 9,
     "metadata": {},
     "output_type": "execute_result"
    }
   ],
   "source": [
    "df_price_include_zz.set_index(\"Timestamp\", inplace = True)\n",
    "df_price_include_zz"
   ]
  },
  {
   "cell_type": "code",
   "execution_count": 10,
   "id": "functional-greece",
   "metadata": {
    "_kg_hide-input": true,
    "execution": {
     "iopub.execute_input": "2022-05-21T20:58:36.343631Z",
     "iopub.status.busy": "2022-05-21T20:58:36.342993Z",
     "iopub.status.idle": "2022-05-21T20:58:36.350560Z",
     "shell.execute_reply": "2022-05-21T20:58:36.351066Z",
     "shell.execute_reply.started": "2022-05-21T20:55:37.603561Z"
    },
    "papermill": {
     "duration": 0.080735,
     "end_time": "2022-05-21T20:58:36.351243",
     "exception": false,
     "start_time": "2022-05-21T20:58:36.270508",
     "status": "completed"
    },
    "tags": []
   },
   "outputs": [],
   "source": [
    "Price.to_numpy()\n",
    "df_price=Price.to_frame()\n",
    "df_price['Timestamp'] = df_price.index\n",
    "df_price['Timestamp'] = pd.to_datetime(df_price['Timestamp'])\n",
    "df_price.reset_index(drop=True,inplace=True)\n",
    "df_price_include = df_price[df_price['Timestamp'].dt.year >= 2017]\n",
    "df_price_include.reset_index(drop=True,inplace=True)"
   ]
  },
  {
   "cell_type": "code",
   "execution_count": 11,
   "id": "great-moscow",
   "metadata": {
    "_kg_hide-input": true,
    "execution": {
     "iopub.execute_input": "2022-05-21T20:58:36.507377Z",
     "iopub.status.busy": "2022-05-21T20:58:36.506726Z",
     "iopub.status.idle": "2022-05-21T20:58:36.511144Z",
     "shell.execute_reply": "2022-05-21T20:58:36.511696Z",
     "shell.execute_reply.started": "2022-05-21T20:55:37.618812Z"
    },
    "papermill": {
     "duration": 0.084408,
     "end_time": "2022-05-21T20:58:36.511895",
     "exception": false,
     "start_time": "2022-05-21T20:58:36.427487",
     "status": "completed"
    },
    "tags": []
   },
   "outputs": [],
   "source": [
    "prediction_days = 50\n",
    "df_train= df_price_include_zz[:len(df_price_include_zz)-prediction_days]\n",
    "df_test= df_price_include_zz[len(df_price_include_zz)-prediction_days:]"
   ]
  },
  {
   "cell_type": "markdown",
   "id": "directed-secret",
   "metadata": {
    "papermill": {
     "duration": 0.075684,
     "end_time": "2022-05-21T20:58:36.663684",
     "exception": false,
     "start_time": "2022-05-21T20:58:36.588000",
     "status": "completed"
    },
    "tags": []
   },
   "source": [
    "<h1 style=\"background-color:#FF85A3;font-size:20px;color:#00033E;font-weight : bold\"> Creating a Forecast :</h1>"
   ]
  },
  {
   "cell_type": "markdown",
   "id": "possible-cowboy",
   "metadata": {
    "papermill": {
     "duration": 0.077341,
     "end_time": "2022-05-21T20:58:36.817508",
     "exception": false,
     "start_time": "2022-05-21T20:58:36.740167",
     "status": "completed"
    },
    "tags": []
   },
   "source": [
    "<p style=\"font-size:15px;color:#1C37A6;\">The forecast can be created with just a few lines of code. First, specify the dataset information. We are setting the time_col parameter as 'Timestamp' and the value_col parameter as 'Weighted_Price'. In freq, we are setting value as D for Daily at the start date. After this create a forecaster using the Forecaster class from the GreyKite package. The output of run_forecast_config() would be a dictionary which is having future predicted values, original time series, and historical forecast performance</p>"
   ]
  },
  {
   "cell_type": "code",
   "execution_count": 12,
   "id": "bound-dubai",
   "metadata": {
    "execution": {
     "iopub.execute_input": "2022-05-21T20:58:36.976270Z",
     "iopub.status.busy": "2022-05-21T20:58:36.975467Z",
     "iopub.status.idle": "2022-05-21T20:58:36.979613Z",
     "shell.execute_reply": "2022-05-21T20:58:36.980076Z",
     "shell.execute_reply.started": "2022-05-21T20:55:44.906795Z"
    },
    "papermill": {
     "duration": 0.08432,
     "end_time": "2022-05-21T20:58:36.980249",
     "exception": false,
     "start_time": "2022-05-21T20:58:36.895929",
     "status": "completed"
    },
    "tags": []
   },
   "outputs": [],
   "source": [
    "metadata = MetadataParam(\n",
    " time_col=\"Timestamp\",   # ----> name of the time column \n",
    " value_col=\"Weighted_Price\",  # ----> name of the value column \n",
    " freq=\"W\"           #\"MS\" for Montly at start date, \"H\" for hourly, \"D\" for daily, \"W\" for weekly, etc.\n",
    ")"
   ]
  },
  {
   "cell_type": "code",
   "execution_count": 13,
   "id": "lasting-shipping",
   "metadata": {
    "execution": {
     "iopub.execute_input": "2022-05-21T20:58:37.115848Z",
     "iopub.status.busy": "2022-05-21T20:58:37.115180Z",
     "iopub.status.idle": "2022-05-21T20:59:44.570459Z",
     "shell.execute_reply": "2022-05-21T20:59:44.571860Z",
     "shell.execute_reply.started": "2022-05-21T20:55:46.569442Z"
    },
    "papermill": {
     "duration": 67.526419,
     "end_time": "2022-05-21T20:59:44.572682",
     "exception": false,
     "start_time": "2022-05-21T20:58:37.046263",
     "status": "completed"
    },
    "tags": []
   },
   "outputs": [
    {
     "name": "stdout",
     "output_type": "stream",
     "text": [
      "Fitting 3 folds for each of 1 candidates, totalling 3 fits\n"
     ]
    }
   ],
   "source": [
    "forecaster = Forecaster()\n",
    "result = forecaster.run_forecast_config(\n",
    "     df=df_price_include,\n",
    "     config=ForecastConfig(\n",
    "         model_template=ModelTemplateEnum.SILVERKITE.name,\n",
    "         forecast_horizon=30,  # forecasts 30 steps ahead\n",
    "         coverage=0.95,  # 95% prediction intervals\n",
    "         metadata_param=metadata\n",
    "    )\n",
    ")"
   ]
  },
  {
   "cell_type": "code",
   "execution_count": 14,
   "id": "abroad-protection",
   "metadata": {
    "execution": {
     "iopub.execute_input": "2022-05-21T20:59:44.731382Z",
     "iopub.status.busy": "2022-05-21T20:59:44.730630Z",
     "iopub.status.idle": "2022-05-21T20:59:44.835578Z",
     "shell.execute_reply": "2022-05-21T20:59:44.836082Z",
     "shell.execute_reply.started": "2022-05-21T20:57:01.900546Z"
    },
    "papermill": {
     "duration": 0.177869,
     "end_time": "2022-05-21T20:59:44.836252",
     "exception": false,
     "start_time": "2022-05-21T20:59:44.658383",
     "status": "completed"
    },
    "tags": []
   },
   "outputs": [
    {
     "data": {
      "application/vnd.plotly.v1+json": {
       "config": {
        "plotlyServerURL": "https://plot.ly"
       },
       "data": [
        {
         "line": {
          "color": "rgb(32, 149, 212)"
         },
         "mode": "lines",
         "name": "Weighted_Price",
         "opacity": 0.8,
         "type": "scatter",
         "x": [
          "2017-01-01T00:00:00",
          "2017-01-08T00:00:00",
          "2017-01-15T00:00:00",
          "2017-01-22T00:00:00",
          "2017-01-29T00:00:00",
          "2017-02-05T00:00:00",
          "2017-02-12T00:00:00",
          "2017-02-19T00:00:00",
          "2017-02-26T00:00:00",
          "2017-03-05T00:00:00",
          "2017-03-12T00:00:00",
          "2017-03-19T00:00:00",
          "2017-03-26T00:00:00",
          "2017-04-02T00:00:00",
          "2017-04-09T00:00:00",
          "2017-04-16T00:00:00",
          "2017-04-23T00:00:00",
          "2017-04-30T00:00:00",
          "2017-05-07T00:00:00",
          "2017-05-14T00:00:00",
          "2017-05-21T00:00:00",
          "2017-05-28T00:00:00",
          "2017-06-04T00:00:00",
          "2017-06-11T00:00:00",
          "2017-06-18T00:00:00",
          "2017-06-25T00:00:00",
          "2017-07-02T00:00:00",
          "2017-07-09T00:00:00",
          "2017-07-16T00:00:00",
          "2017-07-23T00:00:00",
          "2017-07-30T00:00:00",
          "2017-08-06T00:00:00",
          "2017-08-13T00:00:00",
          "2017-08-20T00:00:00",
          "2017-08-27T00:00:00",
          "2017-09-03T00:00:00",
          "2017-09-10T00:00:00",
          "2017-09-17T00:00:00",
          "2017-09-24T00:00:00",
          "2017-10-01T00:00:00",
          "2017-10-08T00:00:00",
          "2017-10-15T00:00:00",
          "2017-10-22T00:00:00",
          "2017-10-29T00:00:00",
          "2017-11-05T00:00:00",
          "2017-11-12T00:00:00",
          "2017-11-19T00:00:00",
          "2017-11-26T00:00:00",
          "2017-12-03T00:00:00",
          "2017-12-10T00:00:00",
          "2017-12-17T00:00:00",
          "2017-12-24T00:00:00",
          "2017-12-31T00:00:00",
          "2018-01-07T00:00:00",
          "2018-01-14T00:00:00",
          "2018-01-21T00:00:00",
          "2018-01-28T00:00:00",
          "2018-02-04T00:00:00",
          "2018-02-11T00:00:00",
          "2018-02-18T00:00:00",
          "2018-02-25T00:00:00",
          "2018-03-04T00:00:00",
          "2018-03-11T00:00:00",
          "2018-03-18T00:00:00",
          "2018-03-25T00:00:00",
          "2018-04-01T00:00:00",
          "2018-04-08T00:00:00",
          "2018-04-15T00:00:00",
          "2018-04-22T00:00:00",
          "2018-04-29T00:00:00",
          "2018-05-06T00:00:00",
          "2018-05-13T00:00:00",
          "2018-05-20T00:00:00",
          "2018-05-27T00:00:00",
          "2018-06-03T00:00:00",
          "2018-06-10T00:00:00",
          "2018-06-17T00:00:00",
          "2018-06-24T00:00:00",
          "2018-07-01T00:00:00",
          "2018-07-08T00:00:00",
          "2018-07-15T00:00:00",
          "2018-07-22T00:00:00",
          "2018-07-29T00:00:00",
          "2018-08-05T00:00:00",
          "2018-08-12T00:00:00",
          "2018-08-19T00:00:00",
          "2018-08-26T00:00:00",
          "2018-09-02T00:00:00",
          "2018-09-09T00:00:00",
          "2018-09-16T00:00:00",
          "2018-09-23T00:00:00",
          "2018-09-30T00:00:00",
          "2018-10-07T00:00:00",
          "2018-10-14T00:00:00",
          "2018-10-21T00:00:00",
          "2018-10-28T00:00:00",
          "2018-11-04T00:00:00",
          "2018-11-11T00:00:00",
          "2018-11-18T00:00:00",
          "2018-11-25T00:00:00",
          "2018-12-02T00:00:00",
          "2018-12-09T00:00:00",
          "2018-12-16T00:00:00",
          "2018-12-23T00:00:00",
          "2018-12-30T00:00:00",
          "2019-01-06T00:00:00",
          "2019-01-13T00:00:00",
          "2019-01-20T00:00:00",
          "2019-01-27T00:00:00",
          "2019-02-03T00:00:00",
          "2019-02-10T00:00:00",
          "2019-02-17T00:00:00",
          "2019-02-24T00:00:00",
          "2019-03-03T00:00:00",
          "2019-03-10T00:00:00",
          "2019-03-17T00:00:00",
          "2019-03-24T00:00:00",
          "2019-03-31T00:00:00",
          "2019-04-07T00:00:00",
          "2019-04-14T00:00:00",
          "2019-04-21T00:00:00",
          "2019-04-28T00:00:00",
          "2019-05-05T00:00:00",
          "2019-05-12T00:00:00",
          "2019-05-19T00:00:00",
          "2019-05-26T00:00:00",
          "2019-06-02T00:00:00",
          "2019-06-09T00:00:00",
          "2019-06-16T00:00:00",
          "2019-06-23T00:00:00",
          "2019-06-30T00:00:00",
          "2019-07-07T00:00:00",
          "2019-07-14T00:00:00",
          "2019-07-21T00:00:00",
          "2019-07-28T00:00:00",
          "2019-08-04T00:00:00",
          "2019-08-11T00:00:00",
          "2019-08-18T00:00:00",
          "2019-08-25T00:00:00",
          "2019-09-01T00:00:00",
          "2019-09-08T00:00:00",
          "2019-09-15T00:00:00",
          "2019-09-22T00:00:00",
          "2019-09-29T00:00:00",
          "2019-10-06T00:00:00",
          "2019-10-13T00:00:00",
          "2019-10-20T00:00:00",
          "2019-10-27T00:00:00",
          "2019-11-03T00:00:00",
          "2019-11-10T00:00:00",
          "2019-11-17T00:00:00",
          "2019-11-24T00:00:00",
          "2019-12-01T00:00:00",
          "2019-12-08T00:00:00",
          "2019-12-15T00:00:00",
          "2019-12-22T00:00:00",
          "2019-12-29T00:00:00",
          "2020-01-05T00:00:00",
          "2020-01-12T00:00:00",
          "2020-01-19T00:00:00",
          "2020-01-26T00:00:00",
          "2020-02-02T00:00:00",
          "2020-02-09T00:00:00",
          "2020-02-16T00:00:00",
          "2020-02-23T00:00:00",
          "2020-03-01T00:00:00",
          "2020-03-08T00:00:00",
          "2020-03-15T00:00:00",
          "2020-03-22T00:00:00",
          "2020-03-29T00:00:00",
          "2020-04-05T00:00:00",
          "2020-04-12T00:00:00",
          "2020-04-19T00:00:00",
          "2020-04-26T00:00:00",
          "2020-05-03T00:00:00",
          "2020-05-10T00:00:00",
          "2020-05-17T00:00:00",
          "2020-05-24T00:00:00",
          "2020-05-31T00:00:00",
          "2020-06-07T00:00:00",
          "2020-06-14T00:00:00",
          "2020-06-21T00:00:00",
          "2020-06-28T00:00:00",
          "2020-07-05T00:00:00",
          "2020-07-12T00:00:00",
          "2020-07-19T00:00:00",
          "2020-07-26T00:00:00",
          "2020-08-02T00:00:00",
          "2020-08-09T00:00:00",
          "2020-08-16T00:00:00",
          "2020-08-23T00:00:00",
          "2020-08-30T00:00:00",
          "2020-09-06T00:00:00",
          "2020-09-13T00:00:00",
          "2020-09-20T00:00:00",
          "2020-09-27T00:00:00",
          "2020-10-04T00:00:00",
          "2020-10-11T00:00:00",
          "2020-10-18T00:00:00",
          "2020-10-25T00:00:00",
          "2020-11-01T00:00:00",
          "2020-11-08T00:00:00",
          "2020-11-15T00:00:00",
          "2020-11-22T00:00:00",
          "2020-11-29T00:00:00",
          "2020-12-06T00:00:00",
          "2020-12-13T00:00:00",
          "2020-12-20T00:00:00",
          "2020-12-27T00:00:00",
          "2021-01-03T00:00:00",
          "2021-01-10T00:00:00",
          "2021-01-17T00:00:00",
          "2021-01-24T00:00:00",
          "2021-01-31T00:00:00",
          "2021-02-07T00:00:00",
          "2021-02-14T00:00:00",
          "2021-02-21T00:00:00",
          "2021-02-28T00:00:00",
          "2021-03-07T00:00:00",
          "2021-03-14T00:00:00",
          "2021-03-21T00:00:00",
          "2021-03-28T00:00:00"
         ],
         "y": [
          981.6376879920928,
          915.2058142519436,
          817.0549635712492,
          921.0022294154238,
          916.4743844403482,
          1018.327562124935,
          1002.9858857063558,
          1052.5456970824382,
          1165.8244162493393,
          1258.6520904332842,
          1198.4495991848353,
          1009.8453678806043,
          965.6647718384512,
          1080.593671156791,
          1195.2263193941758,
          1168.5849291604588,
          1235.959071154503,
          1331.428636861853,
          1541.9670501659964,
          1781.992960291066,
          2022.2277678510666,
          2188.8339780159095,
          2524.769903107526,
          2907.1849046281804,
          2564.159564217592,
          2557.9534132747376,
          2445.2220216764304,
          2538.7765526156186,
          1938.9989240757789,
          2766.018589895212,
          2674.9081195927315,
          3236.1315535456533,
          4022.9411932688417,
          4059.5180476308906,
          4340.433891081189,
          4575.300758474094,
          4178.9680422029805,
          3634.043061056025,
          3694.9808246963107,
          4290.272278589144,
          4497.856967223395,
          5608.239015452093,
          5909.253738347273,
          5890.56903730675,
          7458.414757038099,
          6113.264264574333,
          7827.131551353381,
          8971.770344226623,
          11291.622579057115,
          14132.601710642339,
          19186.169610256275,
          13652.628406286824,
          13337.513232213194,
          16516.38596170831,
          13678.34344394982,
          11894.038151210543,
          11673.754262195793,
          8718.772985557165,
          8187.7584321186805,
          10737.516565552482,
          9594.672009343749,
          11241.467414556733,
          9059.7413486486,
          7678.897274336678,
          8535.27998779133,
          6796.601292610656,
          6988.220222870914,
          8215.062462895481,
          8888.486728819395,
          9355.907476675324,
          9615.743948307036,
          8550.046166780056,
          8362.053475615578,
          7316.551009348536,
          7690.58057537641,
          7132.902355224252,
          6508.827389822967,
          6023.8896670909435,
          6349.980904651709,
          6738.8721180935745,
          6318.013231735982,
          7447.723313695186,
          8202.498761161012,
          6995.192839452979,
          6305.226968673242,
          6401.7003608656405,
          6670.069420563303,
          7240.745144965029,
          6295.955871608836,
          6481.711958450328,
          6707.643346377803,
          6578.164624514121,
          6533.448685133508,
          6226.1260207690675,
          6434.035994542509,
          6402.290679530039,
          6369.730653024255,
          6337.526091595159,
          5534.734346708526,
          3756.9321726632147,
          4120.589503435377,
          3471.6984966057476,
          3217.320694474901,
          3978.056280943766,
          3787.8872244049644,
          3885.3312363064815,
          3575.310055370954,
          3600.5671484172353,
          3544.653609846713,
          3424.824032234868,
          3607.855117072525,
          3585.2871700518717,
          3985.1708804270693,
          3800.987502450217,
          3892.6368754301884,
          3963.4112159366673,
          3968.46245122984,
          4088.4294700084174,
          5128.484710430335,
          5078.929244976857,
          5287.273093444004,
          5169.575513691476,
          5722.166836310573,
          7154.9551372121105,
          7933.9268158052155,
          8128.546958223451,
          8670.265812880712,
          7798.498155120784,
          9095.289101530452,
          10746.900511013211,
          11542.5519109653,
          11311.47674802796,
          10857.026633891062,
          10577.614454422597,
          9484.914105643693,
          10820.892324169692,
          11378.232876254126,
          10292.527044551465,
          10100.656939299763,
          9626.724277129402,
          10460.721158303631,
          10316.665172788826,
          9978.878329965732,
          8073.95375222317,
          7980.2613741350415,
          8358.546977063057,
          8020.297620718581,
          9413.283675192675,
          9217.614908547763,
          8896.594757823774,
          8514.029198381439,
          7146.012933634438,
          7353.310525060708,
          7495.626457542383,
          7089.723106689306,
          7228.238391081989,
          7345.635970926209,
          7430.027209611784,
          8111.715362809299,
          8847.166821810986,
          8430.129199500645,
          9377.036114146784,
          10080.72238297771,
          9905.53388478716,
          9870.245958296517,
          8557.198634572247,
          8569.848185239654,
          5300.8230481772,
          6132.192548689882,
          6104.824055534396,
          6796.675729856801,
          6954.061312250376,
          7166.968470350743,
          7603.793608820947,
          8979.892588601406,
          8687.485435756498,
          9626.880262499786,
          9119.084263966222,
          9546.667359008288,
          9618.2132603281,
          9403.238615212738,
          9348.204026697782,
          9056.25733932299,
          9062.05921703053,
          9249.438246949527,
          9154.807427888656,
          9834.34345093738,
          11333.746837542161,
          11672.131345720929,
          11850.765200290209,
          11623.091878436793,
          11609.048559349349,
          10201.799719070545,
          10393.662602084078,
          10915.45825408122,
          10717.587523472932,
          10604.973839338634,
          11360.626362271318,
          11424.963448037344,
          13056.228187102959,
          13769.800513425602,
          15202.594518399836,
          15995.998189848071,
          18432.242585682645,
          17991.419820260784,
          19145.148466569415,
          19113.047104531674,
          23594.411731075204,
          27043.386470000005,
          33467.36252562915,
          39727.27752555421,
          35650.76418554722,
          32225.07011977885,
          33450.93785876327,
          38711.77455524941,
          48600.49151849026,
          57040.825943830474,
          44818.44755210362,
          50218.21680438112,
          60455.84483148646,
          57312.59853645818,
          55832.958823907036
         ]
        }
       ],
       "layout": {
        "legend": {
         "traceorder": "reversed"
        },
        "showlegend": true,
        "template": {
         "data": {
          "bar": [
           {
            "error_x": {
             "color": "#2a3f5f"
            },
            "error_y": {
             "color": "#2a3f5f"
            },
            "marker": {
             "line": {
              "color": "#E5ECF6",
              "width": 0.5
             }
            },
            "type": "bar"
           }
          ],
          "barpolar": [
           {
            "marker": {
             "line": {
              "color": "#E5ECF6",
              "width": 0.5
             }
            },
            "type": "barpolar"
           }
          ],
          "carpet": [
           {
            "aaxis": {
             "endlinecolor": "#2a3f5f",
             "gridcolor": "white",
             "linecolor": "white",
             "minorgridcolor": "white",
             "startlinecolor": "#2a3f5f"
            },
            "baxis": {
             "endlinecolor": "#2a3f5f",
             "gridcolor": "white",
             "linecolor": "white",
             "minorgridcolor": "white",
             "startlinecolor": "#2a3f5f"
            },
            "type": "carpet"
           }
          ],
          "choropleth": [
           {
            "colorbar": {
             "outlinewidth": 0,
             "ticks": ""
            },
            "type": "choropleth"
           }
          ],
          "contour": [
           {
            "colorbar": {
             "outlinewidth": 0,
             "ticks": ""
            },
            "colorscale": [
             [
              0,
              "#0d0887"
             ],
             [
              0.1111111111111111,
              "#46039f"
             ],
             [
              0.2222222222222222,
              "#7201a8"
             ],
             [
              0.3333333333333333,
              "#9c179e"
             ],
             [
              0.4444444444444444,
              "#bd3786"
             ],
             [
              0.5555555555555556,
              "#d8576b"
             ],
             [
              0.6666666666666666,
              "#ed7953"
             ],
             [
              0.7777777777777778,
              "#fb9f3a"
             ],
             [
              0.8888888888888888,
              "#fdca26"
             ],
             [
              1,
              "#f0f921"
             ]
            ],
            "type": "contour"
           }
          ],
          "contourcarpet": [
           {
            "colorbar": {
             "outlinewidth": 0,
             "ticks": ""
            },
            "type": "contourcarpet"
           }
          ],
          "heatmap": [
           {
            "colorbar": {
             "outlinewidth": 0,
             "ticks": ""
            },
            "colorscale": [
             [
              0,
              "#0d0887"
             ],
             [
              0.1111111111111111,
              "#46039f"
             ],
             [
              0.2222222222222222,
              "#7201a8"
             ],
             [
              0.3333333333333333,
              "#9c179e"
             ],
             [
              0.4444444444444444,
              "#bd3786"
             ],
             [
              0.5555555555555556,
              "#d8576b"
             ],
             [
              0.6666666666666666,
              "#ed7953"
             ],
             [
              0.7777777777777778,
              "#fb9f3a"
             ],
             [
              0.8888888888888888,
              "#fdca26"
             ],
             [
              1,
              "#f0f921"
             ]
            ],
            "type": "heatmap"
           }
          ],
          "heatmapgl": [
           {
            "colorbar": {
             "outlinewidth": 0,
             "ticks": ""
            },
            "colorscale": [
             [
              0,
              "#0d0887"
             ],
             [
              0.1111111111111111,
              "#46039f"
             ],
             [
              0.2222222222222222,
              "#7201a8"
             ],
             [
              0.3333333333333333,
              "#9c179e"
             ],
             [
              0.4444444444444444,
              "#bd3786"
             ],
             [
              0.5555555555555556,
              "#d8576b"
             ],
             [
              0.6666666666666666,
              "#ed7953"
             ],
             [
              0.7777777777777778,
              "#fb9f3a"
             ],
             [
              0.8888888888888888,
              "#fdca26"
             ],
             [
              1,
              "#f0f921"
             ]
            ],
            "type": "heatmapgl"
           }
          ],
          "histogram": [
           {
            "marker": {
             "colorbar": {
              "outlinewidth": 0,
              "ticks": ""
             }
            },
            "type": "histogram"
           }
          ],
          "histogram2d": [
           {
            "colorbar": {
             "outlinewidth": 0,
             "ticks": ""
            },
            "colorscale": [
             [
              0,
              "#0d0887"
             ],
             [
              0.1111111111111111,
              "#46039f"
             ],
             [
              0.2222222222222222,
              "#7201a8"
             ],
             [
              0.3333333333333333,
              "#9c179e"
             ],
             [
              0.4444444444444444,
              "#bd3786"
             ],
             [
              0.5555555555555556,
              "#d8576b"
             ],
             [
              0.6666666666666666,
              "#ed7953"
             ],
             [
              0.7777777777777778,
              "#fb9f3a"
             ],
             [
              0.8888888888888888,
              "#fdca26"
             ],
             [
              1,
              "#f0f921"
             ]
            ],
            "type": "histogram2d"
           }
          ],
          "histogram2dcontour": [
           {
            "colorbar": {
             "outlinewidth": 0,
             "ticks": ""
            },
            "colorscale": [
             [
              0,
              "#0d0887"
             ],
             [
              0.1111111111111111,
              "#46039f"
             ],
             [
              0.2222222222222222,
              "#7201a8"
             ],
             [
              0.3333333333333333,
              "#9c179e"
             ],
             [
              0.4444444444444444,
              "#bd3786"
             ],
             [
              0.5555555555555556,
              "#d8576b"
             ],
             [
              0.6666666666666666,
              "#ed7953"
             ],
             [
              0.7777777777777778,
              "#fb9f3a"
             ],
             [
              0.8888888888888888,
              "#fdca26"
             ],
             [
              1,
              "#f0f921"
             ]
            ],
            "type": "histogram2dcontour"
           }
          ],
          "mesh3d": [
           {
            "colorbar": {
             "outlinewidth": 0,
             "ticks": ""
            },
            "type": "mesh3d"
           }
          ],
          "parcoords": [
           {
            "line": {
             "colorbar": {
              "outlinewidth": 0,
              "ticks": ""
             }
            },
            "type": "parcoords"
           }
          ],
          "pie": [
           {
            "automargin": true,
            "type": "pie"
           }
          ],
          "scatter": [
           {
            "marker": {
             "colorbar": {
              "outlinewidth": 0,
              "ticks": ""
             }
            },
            "type": "scatter"
           }
          ],
          "scatter3d": [
           {
            "line": {
             "colorbar": {
              "outlinewidth": 0,
              "ticks": ""
             }
            },
            "marker": {
             "colorbar": {
              "outlinewidth": 0,
              "ticks": ""
             }
            },
            "type": "scatter3d"
           }
          ],
          "scattercarpet": [
           {
            "marker": {
             "colorbar": {
              "outlinewidth": 0,
              "ticks": ""
             }
            },
            "type": "scattercarpet"
           }
          ],
          "scattergeo": [
           {
            "marker": {
             "colorbar": {
              "outlinewidth": 0,
              "ticks": ""
             }
            },
            "type": "scattergeo"
           }
          ],
          "scattergl": [
           {
            "marker": {
             "colorbar": {
              "outlinewidth": 0,
              "ticks": ""
             }
            },
            "type": "scattergl"
           }
          ],
          "scattermapbox": [
           {
            "marker": {
             "colorbar": {
              "outlinewidth": 0,
              "ticks": ""
             }
            },
            "type": "scattermapbox"
           }
          ],
          "scatterpolar": [
           {
            "marker": {
             "colorbar": {
              "outlinewidth": 0,
              "ticks": ""
             }
            },
            "type": "scatterpolar"
           }
          ],
          "scatterpolargl": [
           {
            "marker": {
             "colorbar": {
              "outlinewidth": 0,
              "ticks": ""
             }
            },
            "type": "scatterpolargl"
           }
          ],
          "scatterternary": [
           {
            "marker": {
             "colorbar": {
              "outlinewidth": 0,
              "ticks": ""
             }
            },
            "type": "scatterternary"
           }
          ],
          "surface": [
           {
            "colorbar": {
             "outlinewidth": 0,
             "ticks": ""
            },
            "colorscale": [
             [
              0,
              "#0d0887"
             ],
             [
              0.1111111111111111,
              "#46039f"
             ],
             [
              0.2222222222222222,
              "#7201a8"
             ],
             [
              0.3333333333333333,
              "#9c179e"
             ],
             [
              0.4444444444444444,
              "#bd3786"
             ],
             [
              0.5555555555555556,
              "#d8576b"
             ],
             [
              0.6666666666666666,
              "#ed7953"
             ],
             [
              0.7777777777777778,
              "#fb9f3a"
             ],
             [
              0.8888888888888888,
              "#fdca26"
             ],
             [
              1,
              "#f0f921"
             ]
            ],
            "type": "surface"
           }
          ],
          "table": [
           {
            "cells": {
             "fill": {
              "color": "#EBF0F8"
             },
             "line": {
              "color": "white"
             }
            },
            "header": {
             "fill": {
              "color": "#C8D4E3"
             },
             "line": {
              "color": "white"
             }
            },
            "type": "table"
           }
          ]
         },
         "layout": {
          "annotationdefaults": {
           "arrowcolor": "#2a3f5f",
           "arrowhead": 0,
           "arrowwidth": 1
          },
          "autotypenumbers": "strict",
          "coloraxis": {
           "colorbar": {
            "outlinewidth": 0,
            "ticks": ""
           }
          },
          "colorscale": {
           "diverging": [
            [
             0,
             "#8e0152"
            ],
            [
             0.1,
             "#c51b7d"
            ],
            [
             0.2,
             "#de77ae"
            ],
            [
             0.3,
             "#f1b6da"
            ],
            [
             0.4,
             "#fde0ef"
            ],
            [
             0.5,
             "#f7f7f7"
            ],
            [
             0.6,
             "#e6f5d0"
            ],
            [
             0.7,
             "#b8e186"
            ],
            [
             0.8,
             "#7fbc41"
            ],
            [
             0.9,
             "#4d9221"
            ],
            [
             1,
             "#276419"
            ]
           ],
           "sequential": [
            [
             0,
             "#0d0887"
            ],
            [
             0.1111111111111111,
             "#46039f"
            ],
            [
             0.2222222222222222,
             "#7201a8"
            ],
            [
             0.3333333333333333,
             "#9c179e"
            ],
            [
             0.4444444444444444,
             "#bd3786"
            ],
            [
             0.5555555555555556,
             "#d8576b"
            ],
            [
             0.6666666666666666,
             "#ed7953"
            ],
            [
             0.7777777777777778,
             "#fb9f3a"
            ],
            [
             0.8888888888888888,
             "#fdca26"
            ],
            [
             1,
             "#f0f921"
            ]
           ],
           "sequentialminus": [
            [
             0,
             "#0d0887"
            ],
            [
             0.1111111111111111,
             "#46039f"
            ],
            [
             0.2222222222222222,
             "#7201a8"
            ],
            [
             0.3333333333333333,
             "#9c179e"
            ],
            [
             0.4444444444444444,
             "#bd3786"
            ],
            [
             0.5555555555555556,
             "#d8576b"
            ],
            [
             0.6666666666666666,
             "#ed7953"
            ],
            [
             0.7777777777777778,
             "#fb9f3a"
            ],
            [
             0.8888888888888888,
             "#fdca26"
            ],
            [
             1,
             "#f0f921"
            ]
           ]
          },
          "colorway": [
           "#636efa",
           "#EF553B",
           "#00cc96",
           "#ab63fa",
           "#FFA15A",
           "#19d3f3",
           "#FF6692",
           "#B6E880",
           "#FF97FF",
           "#FECB52"
          ],
          "font": {
           "color": "#2a3f5f"
          },
          "geo": {
           "bgcolor": "white",
           "lakecolor": "white",
           "landcolor": "#E5ECF6",
           "showlakes": true,
           "showland": true,
           "subunitcolor": "white"
          },
          "hoverlabel": {
           "align": "left"
          },
          "hovermode": "closest",
          "mapbox": {
           "style": "light"
          },
          "paper_bgcolor": "white",
          "plot_bgcolor": "#E5ECF6",
          "polar": {
           "angularaxis": {
            "gridcolor": "white",
            "linecolor": "white",
            "ticks": ""
           },
           "bgcolor": "#E5ECF6",
           "radialaxis": {
            "gridcolor": "white",
            "linecolor": "white",
            "ticks": ""
           }
          },
          "scene": {
           "xaxis": {
            "backgroundcolor": "#E5ECF6",
            "gridcolor": "white",
            "gridwidth": 2,
            "linecolor": "white",
            "showbackground": true,
            "ticks": "",
            "zerolinecolor": "white"
           },
           "yaxis": {
            "backgroundcolor": "#E5ECF6",
            "gridcolor": "white",
            "gridwidth": 2,
            "linecolor": "white",
            "showbackground": true,
            "ticks": "",
            "zerolinecolor": "white"
           },
           "zaxis": {
            "backgroundcolor": "#E5ECF6",
            "gridcolor": "white",
            "gridwidth": 2,
            "linecolor": "white",
            "showbackground": true,
            "ticks": "",
            "zerolinecolor": "white"
           }
          },
          "shapedefaults": {
           "line": {
            "color": "#2a3f5f"
           }
          },
          "ternary": {
           "aaxis": {
            "gridcolor": "white",
            "linecolor": "white",
            "ticks": ""
           },
           "baxis": {
            "gridcolor": "white",
            "linecolor": "white",
            "ticks": ""
           },
           "bgcolor": "#E5ECF6",
           "caxis": {
            "gridcolor": "white",
            "linecolor": "white",
            "ticks": ""
           }
          },
          "title": {
           "x": 0.05
          },
          "xaxis": {
           "automargin": true,
           "gridcolor": "white",
           "linecolor": "white",
           "ticks": "",
           "title": {
            "standoff": 15
           },
           "zerolinecolor": "white",
           "zerolinewidth": 2
          },
          "yaxis": {
           "automargin": true,
           "gridcolor": "white",
           "linecolor": "white",
           "ticks": "",
           "title": {
            "standoff": 15
           },
           "zerolinecolor": "white",
           "zerolinewidth": 2
          }
         }
        },
        "title": {
         "text": "Weighted_Price vs Timestamp",
         "x": 0.5
        },
        "xaxis": {
         "title": {
          "text": "Timestamp"
         }
        },
        "yaxis": {
         "title": {
          "text": "Weighted_Price"
         }
        }
       }
      },
      "text/html": [
       "<div>                            <div id=\"fb57a7ab-0edc-4f9e-91d4-64608b36d04f\" class=\"plotly-graph-div\" style=\"height:525px; width:100%;\"></div>            <script type=\"text/javascript\">                require([\"plotly\"], function(Plotly) {                    window.PLOTLYENV=window.PLOTLYENV || {};                                    if (document.getElementById(\"fb57a7ab-0edc-4f9e-91d4-64608b36d04f\")) {                    Plotly.newPlot(                        \"fb57a7ab-0edc-4f9e-91d4-64608b36d04f\",                        [{\"line\": {\"color\": \"rgb(32, 149, 212)\"}, \"mode\": \"lines\", \"name\": \"Weighted_Price\", \"opacity\": 0.8, \"type\": \"scatter\", \"x\": [\"2017-01-01T00:00:00\", \"2017-01-08T00:00:00\", \"2017-01-15T00:00:00\", \"2017-01-22T00:00:00\", \"2017-01-29T00:00:00\", \"2017-02-05T00:00:00\", \"2017-02-12T00:00:00\", \"2017-02-19T00:00:00\", \"2017-02-26T00:00:00\", \"2017-03-05T00:00:00\", \"2017-03-12T00:00:00\", \"2017-03-19T00:00:00\", \"2017-03-26T00:00:00\", \"2017-04-02T00:00:00\", \"2017-04-09T00:00:00\", \"2017-04-16T00:00:00\", \"2017-04-23T00:00:00\", \"2017-04-30T00:00:00\", \"2017-05-07T00:00:00\", \"2017-05-14T00:00:00\", \"2017-05-21T00:00:00\", \"2017-05-28T00:00:00\", \"2017-06-04T00:00:00\", \"2017-06-11T00:00:00\", \"2017-06-18T00:00:00\", \"2017-06-25T00:00:00\", \"2017-07-02T00:00:00\", \"2017-07-09T00:00:00\", \"2017-07-16T00:00:00\", \"2017-07-23T00:00:00\", \"2017-07-30T00:00:00\", \"2017-08-06T00:00:00\", \"2017-08-13T00:00:00\", \"2017-08-20T00:00:00\", \"2017-08-27T00:00:00\", \"2017-09-03T00:00:00\", \"2017-09-10T00:00:00\", \"2017-09-17T00:00:00\", \"2017-09-24T00:00:00\", \"2017-10-01T00:00:00\", \"2017-10-08T00:00:00\", \"2017-10-15T00:00:00\", \"2017-10-22T00:00:00\", \"2017-10-29T00:00:00\", \"2017-11-05T00:00:00\", \"2017-11-12T00:00:00\", \"2017-11-19T00:00:00\", \"2017-11-26T00:00:00\", \"2017-12-03T00:00:00\", \"2017-12-10T00:00:00\", \"2017-12-17T00:00:00\", \"2017-12-24T00:00:00\", \"2017-12-31T00:00:00\", \"2018-01-07T00:00:00\", \"2018-01-14T00:00:00\", \"2018-01-21T00:00:00\", \"2018-01-28T00:00:00\", \"2018-02-04T00:00:00\", \"2018-02-11T00:00:00\", \"2018-02-18T00:00:00\", \"2018-02-25T00:00:00\", \"2018-03-04T00:00:00\", \"2018-03-11T00:00:00\", \"2018-03-18T00:00:00\", \"2018-03-25T00:00:00\", \"2018-04-01T00:00:00\", \"2018-04-08T00:00:00\", \"2018-04-15T00:00:00\", \"2018-04-22T00:00:00\", \"2018-04-29T00:00:00\", \"2018-05-06T00:00:00\", \"2018-05-13T00:00:00\", \"2018-05-20T00:00:00\", \"2018-05-27T00:00:00\", \"2018-06-03T00:00:00\", \"2018-06-10T00:00:00\", \"2018-06-17T00:00:00\", \"2018-06-24T00:00:00\", \"2018-07-01T00:00:00\", \"2018-07-08T00:00:00\", \"2018-07-15T00:00:00\", \"2018-07-22T00:00:00\", \"2018-07-29T00:00:00\", \"2018-08-05T00:00:00\", \"2018-08-12T00:00:00\", \"2018-08-19T00:00:00\", \"2018-08-26T00:00:00\", \"2018-09-02T00:00:00\", \"2018-09-09T00:00:00\", \"2018-09-16T00:00:00\", \"2018-09-23T00:00:00\", \"2018-09-30T00:00:00\", \"2018-10-07T00:00:00\", \"2018-10-14T00:00:00\", \"2018-10-21T00:00:00\", \"2018-10-28T00:00:00\", \"2018-11-04T00:00:00\", \"2018-11-11T00:00:00\", \"2018-11-18T00:00:00\", \"2018-11-25T00:00:00\", \"2018-12-02T00:00:00\", \"2018-12-09T00:00:00\", \"2018-12-16T00:00:00\", \"2018-12-23T00:00:00\", \"2018-12-30T00:00:00\", \"2019-01-06T00:00:00\", \"2019-01-13T00:00:00\", \"2019-01-20T00:00:00\", \"2019-01-27T00:00:00\", \"2019-02-03T00:00:00\", \"2019-02-10T00:00:00\", \"2019-02-17T00:00:00\", \"2019-02-24T00:00:00\", \"2019-03-03T00:00:00\", \"2019-03-10T00:00:00\", \"2019-03-17T00:00:00\", \"2019-03-24T00:00:00\", \"2019-03-31T00:00:00\", \"2019-04-07T00:00:00\", \"2019-04-14T00:00:00\", \"2019-04-21T00:00:00\", \"2019-04-28T00:00:00\", \"2019-05-05T00:00:00\", \"2019-05-12T00:00:00\", \"2019-05-19T00:00:00\", \"2019-05-26T00:00:00\", \"2019-06-02T00:00:00\", \"2019-06-09T00:00:00\", \"2019-06-16T00:00:00\", \"2019-06-23T00:00:00\", \"2019-06-30T00:00:00\", \"2019-07-07T00:00:00\", \"2019-07-14T00:00:00\", \"2019-07-21T00:00:00\", \"2019-07-28T00:00:00\", \"2019-08-04T00:00:00\", \"2019-08-11T00:00:00\", \"2019-08-18T00:00:00\", \"2019-08-25T00:00:00\", \"2019-09-01T00:00:00\", \"2019-09-08T00:00:00\", \"2019-09-15T00:00:00\", \"2019-09-22T00:00:00\", \"2019-09-29T00:00:00\", \"2019-10-06T00:00:00\", \"2019-10-13T00:00:00\", \"2019-10-20T00:00:00\", \"2019-10-27T00:00:00\", \"2019-11-03T00:00:00\", \"2019-11-10T00:00:00\", \"2019-11-17T00:00:00\", \"2019-11-24T00:00:00\", \"2019-12-01T00:00:00\", \"2019-12-08T00:00:00\", \"2019-12-15T00:00:00\", \"2019-12-22T00:00:00\", \"2019-12-29T00:00:00\", \"2020-01-05T00:00:00\", \"2020-01-12T00:00:00\", \"2020-01-19T00:00:00\", \"2020-01-26T00:00:00\", \"2020-02-02T00:00:00\", \"2020-02-09T00:00:00\", \"2020-02-16T00:00:00\", \"2020-02-23T00:00:00\", \"2020-03-01T00:00:00\", \"2020-03-08T00:00:00\", \"2020-03-15T00:00:00\", \"2020-03-22T00:00:00\", \"2020-03-29T00:00:00\", \"2020-04-05T00:00:00\", \"2020-04-12T00:00:00\", \"2020-04-19T00:00:00\", \"2020-04-26T00:00:00\", \"2020-05-03T00:00:00\", \"2020-05-10T00:00:00\", \"2020-05-17T00:00:00\", \"2020-05-24T00:00:00\", \"2020-05-31T00:00:00\", \"2020-06-07T00:00:00\", \"2020-06-14T00:00:00\", \"2020-06-21T00:00:00\", \"2020-06-28T00:00:00\", \"2020-07-05T00:00:00\", \"2020-07-12T00:00:00\", \"2020-07-19T00:00:00\", \"2020-07-26T00:00:00\", \"2020-08-02T00:00:00\", \"2020-08-09T00:00:00\", \"2020-08-16T00:00:00\", \"2020-08-23T00:00:00\", \"2020-08-30T00:00:00\", \"2020-09-06T00:00:00\", \"2020-09-13T00:00:00\", \"2020-09-20T00:00:00\", \"2020-09-27T00:00:00\", \"2020-10-04T00:00:00\", \"2020-10-11T00:00:00\", \"2020-10-18T00:00:00\", \"2020-10-25T00:00:00\", \"2020-11-01T00:00:00\", \"2020-11-08T00:00:00\", \"2020-11-15T00:00:00\", \"2020-11-22T00:00:00\", \"2020-11-29T00:00:00\", \"2020-12-06T00:00:00\", \"2020-12-13T00:00:00\", \"2020-12-20T00:00:00\", \"2020-12-27T00:00:00\", \"2021-01-03T00:00:00\", \"2021-01-10T00:00:00\", \"2021-01-17T00:00:00\", \"2021-01-24T00:00:00\", \"2021-01-31T00:00:00\", \"2021-02-07T00:00:00\", \"2021-02-14T00:00:00\", \"2021-02-21T00:00:00\", \"2021-02-28T00:00:00\", \"2021-03-07T00:00:00\", \"2021-03-14T00:00:00\", \"2021-03-21T00:00:00\", \"2021-03-28T00:00:00\"], \"y\": [981.6376879920928, 915.2058142519436, 817.0549635712492, 921.0022294154238, 916.4743844403482, 1018.327562124935, 1002.9858857063558, 1052.5456970824382, 1165.8244162493393, 1258.6520904332842, 1198.4495991848353, 1009.8453678806043, 965.6647718384512, 1080.593671156791, 1195.2263193941758, 1168.5849291604588, 1235.959071154503, 1331.428636861853, 1541.9670501659964, 1781.992960291066, 2022.2277678510666, 2188.8339780159095, 2524.769903107526, 2907.1849046281804, 2564.159564217592, 2557.9534132747376, 2445.2220216764304, 2538.7765526156186, 1938.9989240757789, 2766.018589895212, 2674.9081195927315, 3236.1315535456533, 4022.9411932688417, 4059.5180476308906, 4340.433891081189, 4575.300758474094, 4178.9680422029805, 3634.043061056025, 3694.9808246963107, 4290.272278589144, 4497.856967223395, 5608.239015452093, 5909.253738347273, 5890.56903730675, 7458.414757038099, 6113.264264574333, 7827.131551353381, 8971.770344226623, 11291.622579057115, 14132.601710642339, 19186.169610256275, 13652.628406286824, 13337.513232213194, 16516.38596170831, 13678.34344394982, 11894.038151210543, 11673.754262195793, 8718.772985557165, 8187.7584321186805, 10737.516565552482, 9594.672009343749, 11241.467414556733, 9059.7413486486, 7678.897274336678, 8535.27998779133, 6796.601292610656, 6988.220222870914, 8215.062462895481, 8888.486728819395, 9355.907476675324, 9615.743948307036, 8550.046166780056, 8362.053475615578, 7316.551009348536, 7690.58057537641, 7132.902355224252, 6508.827389822967, 6023.8896670909435, 6349.980904651709, 6738.8721180935745, 6318.013231735982, 7447.723313695186, 8202.498761161012, 6995.192839452979, 6305.226968673242, 6401.7003608656405, 6670.069420563303, 7240.745144965029, 6295.955871608836, 6481.711958450328, 6707.643346377803, 6578.164624514121, 6533.448685133508, 6226.1260207690675, 6434.035994542509, 6402.290679530039, 6369.730653024255, 6337.526091595159, 5534.734346708526, 3756.9321726632147, 4120.589503435377, 3471.6984966057476, 3217.320694474901, 3978.056280943766, 3787.8872244049644, 3885.3312363064815, 3575.310055370954, 3600.5671484172353, 3544.653609846713, 3424.824032234868, 3607.855117072525, 3585.2871700518717, 3985.1708804270693, 3800.987502450217, 3892.6368754301884, 3963.4112159366673, 3968.46245122984, 4088.4294700084174, 5128.484710430335, 5078.929244976857, 5287.273093444004, 5169.575513691476, 5722.166836310573, 7154.9551372121105, 7933.9268158052155, 8128.546958223451, 8670.265812880712, 7798.498155120784, 9095.289101530452, 10746.900511013211, 11542.5519109653, 11311.47674802796, 10857.026633891062, 10577.614454422597, 9484.914105643693, 10820.892324169692, 11378.232876254126, 10292.527044551465, 10100.656939299763, 9626.724277129402, 10460.721158303631, 10316.665172788826, 9978.878329965732, 8073.95375222317, 7980.2613741350415, 8358.546977063057, 8020.297620718581, 9413.283675192675, 9217.614908547763, 8896.594757823774, 8514.029198381439, 7146.012933634438, 7353.310525060708, 7495.626457542383, 7089.723106689306, 7228.238391081989, 7345.635970926209, 7430.027209611784, 8111.715362809299, 8847.166821810986, 8430.129199500645, 9377.036114146784, 10080.72238297771, 9905.53388478716, 9870.245958296517, 8557.198634572247, 8569.848185239654, 5300.8230481772, 6132.192548689882, 6104.824055534396, 6796.675729856801, 6954.061312250376, 7166.968470350743, 7603.793608820947, 8979.892588601406, 8687.485435756498, 9626.880262499786, 9119.084263966222, 9546.667359008288, 9618.2132603281, 9403.238615212738, 9348.204026697782, 9056.25733932299, 9062.05921703053, 9249.438246949527, 9154.807427888656, 9834.34345093738, 11333.746837542161, 11672.131345720929, 11850.765200290209, 11623.091878436793, 11609.048559349349, 10201.799719070545, 10393.662602084078, 10915.45825408122, 10717.587523472932, 10604.973839338634, 11360.626362271318, 11424.963448037344, 13056.228187102959, 13769.800513425602, 15202.594518399836, 15995.998189848071, 18432.242585682645, 17991.419820260784, 19145.148466569415, 19113.047104531674, 23594.411731075204, 27043.386470000005, 33467.36252562915, 39727.27752555421, 35650.76418554722, 32225.07011977885, 33450.93785876327, 38711.77455524941, 48600.49151849026, 57040.825943830474, 44818.44755210362, 50218.21680438112, 60455.84483148646, 57312.59853645818, 55832.958823907036]}],                        {\"legend\": {\"traceorder\": \"reversed\"}, \"showlegend\": true, \"template\": {\"data\": {\"bar\": [{\"error_x\": {\"color\": \"#2a3f5f\"}, \"error_y\": {\"color\": \"#2a3f5f\"}, \"marker\": {\"line\": {\"color\": \"#E5ECF6\", \"width\": 0.5}}, \"type\": \"bar\"}], \"barpolar\": [{\"marker\": {\"line\": {\"color\": \"#E5ECF6\", \"width\": 0.5}}, \"type\": \"barpolar\"}], \"carpet\": [{\"aaxis\": {\"endlinecolor\": \"#2a3f5f\", \"gridcolor\": \"white\", \"linecolor\": \"white\", \"minorgridcolor\": \"white\", \"startlinecolor\": \"#2a3f5f\"}, \"baxis\": {\"endlinecolor\": \"#2a3f5f\", \"gridcolor\": \"white\", \"linecolor\": \"white\", \"minorgridcolor\": \"white\", \"startlinecolor\": \"#2a3f5f\"}, \"type\": \"carpet\"}], \"choropleth\": [{\"colorbar\": {\"outlinewidth\": 0, \"ticks\": \"\"}, \"type\": \"choropleth\"}], \"contour\": [{\"colorbar\": {\"outlinewidth\": 0, \"ticks\": \"\"}, \"colorscale\": [[0.0, \"#0d0887\"], [0.1111111111111111, \"#46039f\"], [0.2222222222222222, \"#7201a8\"], [0.3333333333333333, \"#9c179e\"], [0.4444444444444444, \"#bd3786\"], [0.5555555555555556, \"#d8576b\"], [0.6666666666666666, \"#ed7953\"], [0.7777777777777778, \"#fb9f3a\"], [0.8888888888888888, \"#fdca26\"], [1.0, \"#f0f921\"]], \"type\": \"contour\"}], \"contourcarpet\": [{\"colorbar\": {\"outlinewidth\": 0, \"ticks\": \"\"}, \"type\": \"contourcarpet\"}], \"heatmap\": [{\"colorbar\": {\"outlinewidth\": 0, \"ticks\": \"\"}, \"colorscale\": [[0.0, \"#0d0887\"], [0.1111111111111111, \"#46039f\"], [0.2222222222222222, \"#7201a8\"], [0.3333333333333333, \"#9c179e\"], [0.4444444444444444, \"#bd3786\"], [0.5555555555555556, \"#d8576b\"], [0.6666666666666666, \"#ed7953\"], [0.7777777777777778, \"#fb9f3a\"], [0.8888888888888888, \"#fdca26\"], [1.0, \"#f0f921\"]], \"type\": \"heatmap\"}], \"heatmapgl\": [{\"colorbar\": {\"outlinewidth\": 0, \"ticks\": \"\"}, \"colorscale\": [[0.0, \"#0d0887\"], [0.1111111111111111, \"#46039f\"], [0.2222222222222222, \"#7201a8\"], [0.3333333333333333, \"#9c179e\"], [0.4444444444444444, \"#bd3786\"], [0.5555555555555556, \"#d8576b\"], [0.6666666666666666, \"#ed7953\"], [0.7777777777777778, \"#fb9f3a\"], [0.8888888888888888, \"#fdca26\"], [1.0, \"#f0f921\"]], \"type\": \"heatmapgl\"}], \"histogram\": [{\"marker\": {\"colorbar\": {\"outlinewidth\": 0, \"ticks\": \"\"}}, \"type\": \"histogram\"}], \"histogram2d\": [{\"colorbar\": {\"outlinewidth\": 0, \"ticks\": \"\"}, \"colorscale\": [[0.0, \"#0d0887\"], [0.1111111111111111, \"#46039f\"], [0.2222222222222222, \"#7201a8\"], [0.3333333333333333, \"#9c179e\"], [0.4444444444444444, \"#bd3786\"], [0.5555555555555556, \"#d8576b\"], [0.6666666666666666, \"#ed7953\"], [0.7777777777777778, \"#fb9f3a\"], [0.8888888888888888, \"#fdca26\"], [1.0, \"#f0f921\"]], \"type\": \"histogram2d\"}], \"histogram2dcontour\": [{\"colorbar\": {\"outlinewidth\": 0, \"ticks\": \"\"}, \"colorscale\": [[0.0, \"#0d0887\"], [0.1111111111111111, \"#46039f\"], [0.2222222222222222, \"#7201a8\"], [0.3333333333333333, \"#9c179e\"], [0.4444444444444444, \"#bd3786\"], [0.5555555555555556, \"#d8576b\"], [0.6666666666666666, \"#ed7953\"], [0.7777777777777778, \"#fb9f3a\"], [0.8888888888888888, \"#fdca26\"], [1.0, \"#f0f921\"]], \"type\": \"histogram2dcontour\"}], \"mesh3d\": [{\"colorbar\": {\"outlinewidth\": 0, \"ticks\": \"\"}, \"type\": \"mesh3d\"}], \"parcoords\": [{\"line\": {\"colorbar\": {\"outlinewidth\": 0, \"ticks\": \"\"}}, \"type\": \"parcoords\"}], \"pie\": [{\"automargin\": true, \"type\": \"pie\"}], \"scatter\": [{\"marker\": {\"colorbar\": {\"outlinewidth\": 0, \"ticks\": \"\"}}, \"type\": \"scatter\"}], \"scatter3d\": [{\"line\": {\"colorbar\": {\"outlinewidth\": 0, \"ticks\": \"\"}}, \"marker\": {\"colorbar\": {\"outlinewidth\": 0, \"ticks\": \"\"}}, \"type\": \"scatter3d\"}], \"scattercarpet\": [{\"marker\": {\"colorbar\": {\"outlinewidth\": 0, \"ticks\": \"\"}}, \"type\": \"scattercarpet\"}], \"scattergeo\": [{\"marker\": {\"colorbar\": {\"outlinewidth\": 0, \"ticks\": \"\"}}, \"type\": \"scattergeo\"}], \"scattergl\": [{\"marker\": {\"colorbar\": {\"outlinewidth\": 0, \"ticks\": \"\"}}, \"type\": \"scattergl\"}], \"scattermapbox\": [{\"marker\": {\"colorbar\": {\"outlinewidth\": 0, \"ticks\": \"\"}}, \"type\": \"scattermapbox\"}], \"scatterpolar\": [{\"marker\": {\"colorbar\": {\"outlinewidth\": 0, \"ticks\": \"\"}}, \"type\": \"scatterpolar\"}], \"scatterpolargl\": [{\"marker\": {\"colorbar\": {\"outlinewidth\": 0, \"ticks\": \"\"}}, \"type\": \"scatterpolargl\"}], \"scatterternary\": [{\"marker\": {\"colorbar\": {\"outlinewidth\": 0, \"ticks\": \"\"}}, \"type\": \"scatterternary\"}], \"surface\": [{\"colorbar\": {\"outlinewidth\": 0, \"ticks\": \"\"}, \"colorscale\": [[0.0, \"#0d0887\"], [0.1111111111111111, \"#46039f\"], [0.2222222222222222, \"#7201a8\"], [0.3333333333333333, \"#9c179e\"], [0.4444444444444444, \"#bd3786\"], [0.5555555555555556, \"#d8576b\"], [0.6666666666666666, \"#ed7953\"], [0.7777777777777778, \"#fb9f3a\"], [0.8888888888888888, \"#fdca26\"], [1.0, \"#f0f921\"]], \"type\": \"surface\"}], \"table\": [{\"cells\": {\"fill\": {\"color\": \"#EBF0F8\"}, \"line\": {\"color\": \"white\"}}, \"header\": {\"fill\": {\"color\": \"#C8D4E3\"}, \"line\": {\"color\": \"white\"}}, \"type\": \"table\"}]}, \"layout\": {\"annotationdefaults\": {\"arrowcolor\": \"#2a3f5f\", \"arrowhead\": 0, \"arrowwidth\": 1}, \"autotypenumbers\": \"strict\", \"coloraxis\": {\"colorbar\": {\"outlinewidth\": 0, \"ticks\": \"\"}}, \"colorscale\": {\"diverging\": [[0, \"#8e0152\"], [0.1, \"#c51b7d\"], [0.2, \"#de77ae\"], [0.3, \"#f1b6da\"], [0.4, \"#fde0ef\"], [0.5, \"#f7f7f7\"], [0.6, \"#e6f5d0\"], [0.7, \"#b8e186\"], [0.8, \"#7fbc41\"], [0.9, \"#4d9221\"], [1, \"#276419\"]], \"sequential\": [[0.0, \"#0d0887\"], [0.1111111111111111, \"#46039f\"], [0.2222222222222222, \"#7201a8\"], [0.3333333333333333, \"#9c179e\"], [0.4444444444444444, \"#bd3786\"], [0.5555555555555556, \"#d8576b\"], [0.6666666666666666, \"#ed7953\"], [0.7777777777777778, \"#fb9f3a\"], [0.8888888888888888, \"#fdca26\"], [1.0, \"#f0f921\"]], \"sequentialminus\": [[0.0, \"#0d0887\"], [0.1111111111111111, \"#46039f\"], [0.2222222222222222, \"#7201a8\"], [0.3333333333333333, \"#9c179e\"], [0.4444444444444444, \"#bd3786\"], [0.5555555555555556, \"#d8576b\"], [0.6666666666666666, \"#ed7953\"], [0.7777777777777778, \"#fb9f3a\"], [0.8888888888888888, \"#fdca26\"], [1.0, \"#f0f921\"]]}, \"colorway\": [\"#636efa\", \"#EF553B\", \"#00cc96\", \"#ab63fa\", \"#FFA15A\", \"#19d3f3\", \"#FF6692\", \"#B6E880\", \"#FF97FF\", \"#FECB52\"], \"font\": {\"color\": \"#2a3f5f\"}, \"geo\": {\"bgcolor\": \"white\", \"lakecolor\": \"white\", \"landcolor\": \"#E5ECF6\", \"showlakes\": true, \"showland\": true, \"subunitcolor\": \"white\"}, \"hoverlabel\": {\"align\": \"left\"}, \"hovermode\": \"closest\", \"mapbox\": {\"style\": \"light\"}, \"paper_bgcolor\": \"white\", \"plot_bgcolor\": \"#E5ECF6\", \"polar\": {\"angularaxis\": {\"gridcolor\": \"white\", \"linecolor\": \"white\", \"ticks\": \"\"}, \"bgcolor\": \"#E5ECF6\", \"radialaxis\": {\"gridcolor\": \"white\", \"linecolor\": \"white\", \"ticks\": \"\"}}, \"scene\": {\"xaxis\": {\"backgroundcolor\": \"#E5ECF6\", \"gridcolor\": \"white\", \"gridwidth\": 2, \"linecolor\": \"white\", \"showbackground\": true, \"ticks\": \"\", \"zerolinecolor\": \"white\"}, \"yaxis\": {\"backgroundcolor\": \"#E5ECF6\", \"gridcolor\": \"white\", \"gridwidth\": 2, \"linecolor\": \"white\", \"showbackground\": true, \"ticks\": \"\", \"zerolinecolor\": \"white\"}, \"zaxis\": {\"backgroundcolor\": \"#E5ECF6\", \"gridcolor\": \"white\", \"gridwidth\": 2, \"linecolor\": \"white\", \"showbackground\": true, \"ticks\": \"\", \"zerolinecolor\": \"white\"}}, \"shapedefaults\": {\"line\": {\"color\": \"#2a3f5f\"}}, \"ternary\": {\"aaxis\": {\"gridcolor\": \"white\", \"linecolor\": \"white\", \"ticks\": \"\"}, \"baxis\": {\"gridcolor\": \"white\", \"linecolor\": \"white\", \"ticks\": \"\"}, \"bgcolor\": \"#E5ECF6\", \"caxis\": {\"gridcolor\": \"white\", \"linecolor\": \"white\", \"ticks\": \"\"}}, \"title\": {\"x\": 0.05}, \"xaxis\": {\"automargin\": true, \"gridcolor\": \"white\", \"linecolor\": \"white\", \"ticks\": \"\", \"title\": {\"standoff\": 15}, \"zerolinecolor\": \"white\", \"zerolinewidth\": 2}, \"yaxis\": {\"automargin\": true, \"gridcolor\": \"white\", \"linecolor\": \"white\", \"ticks\": \"\", \"title\": {\"standoff\": 15}, \"zerolinecolor\": \"white\", \"zerolinewidth\": 2}}}, \"title\": {\"text\": \"Weighted_Price vs Timestamp\", \"x\": 0.5}, \"xaxis\": {\"title\": {\"text\": \"Timestamp\"}}, \"yaxis\": {\"title\": {\"text\": \"Weighted_Price\"}}},                        {\"responsive\": true}                    ).then(function(){\n",
       "                            \n",
       "var gd = document.getElementById('fb57a7ab-0edc-4f9e-91d4-64608b36d04f');\n",
       "var x = new MutationObserver(function (mutations, observer) {{\n",
       "        var display = window.getComputedStyle(gd).display;\n",
       "        if (!display || display === 'none') {{\n",
       "            console.log([gd, 'removed!']);\n",
       "            Plotly.purge(gd);\n",
       "            observer.disconnect();\n",
       "        }}\n",
       "}});\n",
       "\n",
       "// Listen for the removal of the full notebook cells\n",
       "var notebookContainer = gd.closest('#notebook-container');\n",
       "if (notebookContainer) {{\n",
       "    x.observe(notebookContainer, {childList: true});\n",
       "}}\n",
       "\n",
       "// Listen for the clearing of the current output cell\n",
       "var outputEl = gd.closest('.output');\n",
       "if (outputEl) {{\n",
       "    x.observe(outputEl, {childList: true});\n",
       "}}\n",
       "\n",
       "                        })                };                });            </script>        </div>"
      ]
     },
     "metadata": {},
     "output_type": "display_data"
    }
   ],
   "source": [
    "fig = result.timeseries.plot()\n",
    "fig.show()"
   ]
  },
  {
   "cell_type": "markdown",
   "id": "posted-comparison",
   "metadata": {
    "papermill": {
     "duration": 0.075223,
     "end_time": "2022-05-21T20:59:44.986305",
     "exception": false,
     "start_time": "2022-05-21T20:59:44.911082",
     "status": "completed"
    },
    "tags": []
   },
   "source": [
    "<h1 style=\"background-color:#FF85A3;font-size:20px;color:#00033E;font-weight : bold\">Cross-Validation :</h1>"
   ]
  },
  {
   "cell_type": "markdown",
   "id": "combined-finding",
   "metadata": {
    "papermill": {
     "duration": 0.074105,
     "end_time": "2022-05-21T20:59:45.135436",
     "exception": false,
     "start_time": "2022-05-21T20:59:45.061331",
     "status": "completed"
    },
    "tags": []
   },
   "source": [
    "<p style=\"font-size:15px;color:#1C37A6;\">As a matter of course, run_forecast_config gives chronicled assessment, so you can perceive how the conjecture performs on past information. This is put away in grid_search (cross-approval parts) and backtest (holdout test set).</p>"
   ]
  },
  {
   "cell_type": "code",
   "execution_count": 15,
   "id": "organic-moisture",
   "metadata": {
    "execution": {
     "iopub.execute_input": "2022-05-21T20:59:45.304051Z",
     "iopub.status.busy": "2022-05-21T20:59:45.290112Z",
     "iopub.status.idle": "2022-05-21T20:59:45.323630Z",
     "shell.execute_reply": "2022-05-21T20:59:45.322992Z",
     "shell.execute_reply.started": "2021-06-08T22:28:43.791029Z"
    },
    "papermill": {
     "duration": 0.114035,
     "end_time": "2022-05-21T20:59:45.323804",
     "exception": false,
     "start_time": "2022-05-21T20:59:45.209769",
     "status": "completed"
    },
    "tags": []
   },
   "outputs": [
    {
     "data": {
      "text/html": [
       "<div>\n",
       "<style scoped>\n",
       "    .dataframe tbody tr th:only-of-type {\n",
       "        vertical-align: middle;\n",
       "    }\n",
       "\n",
       "    .dataframe tbody tr th {\n",
       "        vertical-align: top;\n",
       "    }\n",
       "\n",
       "    .dataframe thead th {\n",
       "        text-align: right;\n",
       "    }\n",
       "</style>\n",
       "<table border=\"1\" class=\"dataframe\">\n",
       "  <thead>\n",
       "    <tr style=\"text-align: right;\">\n",
       "      <th>params</th>\n",
       "      <th>[]</th>\n",
       "    </tr>\n",
       "  </thead>\n",
       "  <tbody>\n",
       "    <tr>\n",
       "      <th>rank_test_MAPE</th>\n",
       "      <td>1</td>\n",
       "    </tr>\n",
       "    <tr>\n",
       "      <th>mean_test_MAPE</th>\n",
       "      <td>60.13</td>\n",
       "    </tr>\n",
       "    <tr>\n",
       "      <th>split_test_MAPE</th>\n",
       "      <td>(116.93, 34.5, 28.96)</td>\n",
       "    </tr>\n",
       "    <tr>\n",
       "      <th>mean_train_MAPE</th>\n",
       "      <td>73.62</td>\n",
       "    </tr>\n",
       "    <tr>\n",
       "      <th>split_train_MAPE</th>\n",
       "      <td>(23.55, 101.05, 96.27)</td>\n",
       "    </tr>\n",
       "    <tr>\n",
       "      <th>mean_fit_time</th>\n",
       "      <td>12.56</td>\n",
       "    </tr>\n",
       "    <tr>\n",
       "      <th>mean_score_time</th>\n",
       "      <td>0.86</td>\n",
       "    </tr>\n",
       "  </tbody>\n",
       "</table>\n",
       "</div>"
      ],
      "text/plain": [
       "params                                []\n",
       "rank_test_MAPE                         1\n",
       "mean_test_MAPE                     60.13\n",
       "split_test_MAPE    (116.93, 34.5, 28.96)\n",
       "mean_train_MAPE                    73.62\n",
       "split_train_MAPE  (23.55, 101.05, 96.27)\n",
       "mean_fit_time                      12.56\n",
       "mean_score_time                     0.86"
      ]
     },
     "execution_count": 15,
     "metadata": {},
     "output_type": "execute_result"
    }
   ],
   "source": [
    "grid_search = result.grid_search\n",
    "cv_results = summarize_grid_search_results(\n",
    "     grid_search=grid_search,\n",
    "     decimals=2,\n",
    "     # The below saves space in the printed output. Remove to show all available metrics and columns.\n",
    "     cv_report_metrics=None,\n",
    "     column_order=[\"rank\", \"mean_test\", \"split_test\", \"mean_train\", \"split_train\", \"mean_fit_time\", \"mean_score_time\", \"params\"])\n",
    " # Transposes to save space in the printed output\n",
    "cv_results[\"params\"] = cv_results[\"params\"].astype(str)\n",
    "cv_results.set_index(\"params\", drop=True, inplace=True)\n",
    "cv_results.transpose()"
   ]
  },
  {
   "cell_type": "markdown",
   "id": "destroyed-creator",
   "metadata": {
    "papermill": {
     "duration": 0.07684,
     "end_time": "2022-05-21T20:59:45.475346",
     "exception": false,
     "start_time": "2022-05-21T20:59:45.398506",
     "status": "completed"
    },
    "tags": []
   },
   "source": [
    "<h1 style=\"background-color:#FF85A3;font-size:20px;color:#00033E;font-weight : bold\">Backtest :</h1>"
   ]
  },
  {
   "cell_type": "code",
   "execution_count": 16,
   "id": "declared-textbook",
   "metadata": {
    "execution": {
     "iopub.execute_input": "2022-05-21T20:59:45.632281Z",
     "iopub.status.busy": "2022-05-21T20:59:45.631572Z",
     "iopub.status.idle": "2022-05-21T20:59:45.745646Z",
     "shell.execute_reply": "2022-05-21T20:59:45.746191Z",
     "shell.execute_reply.started": "2021-06-08T22:28:48.785184Z"
    },
    "papermill": {
     "duration": 0.195746,
     "end_time": "2022-05-21T20:59:45.746360",
     "exception": false,
     "start_time": "2022-05-21T20:59:45.550614",
     "status": "completed"
    },
    "tags": []
   },
   "outputs": [
    {
     "data": {
      "application/vnd.plotly.v1+json": {
       "config": {
        "plotlyServerURL": "https://plot.ly"
       },
       "data": [
        {
         "legendgroup": "interval",
         "line": {
          "color": "rgba(0, 90, 181, 0.5)",
          "width": 0
         },
         "mode": "lines",
         "name": "Lower Bound",
         "type": "scatter",
         "x": [
          "2017-01-01T00:00:00",
          "2017-01-08T00:00:00",
          "2017-01-15T00:00:00",
          "2017-01-22T00:00:00",
          "2017-01-29T00:00:00",
          "2017-02-05T00:00:00",
          "2017-02-12T00:00:00",
          "2017-02-19T00:00:00",
          "2017-02-26T00:00:00",
          "2017-03-05T00:00:00",
          "2017-03-12T00:00:00",
          "2017-03-19T00:00:00",
          "2017-03-26T00:00:00",
          "2017-04-02T00:00:00",
          "2017-04-09T00:00:00",
          "2017-04-16T00:00:00",
          "2017-04-23T00:00:00",
          "2017-04-30T00:00:00",
          "2017-05-07T00:00:00",
          "2017-05-14T00:00:00",
          "2017-05-21T00:00:00",
          "2017-05-28T00:00:00",
          "2017-06-04T00:00:00",
          "2017-06-11T00:00:00",
          "2017-06-18T00:00:00",
          "2017-06-25T00:00:00",
          "2017-07-02T00:00:00",
          "2017-07-09T00:00:00",
          "2017-07-16T00:00:00",
          "2017-07-23T00:00:00",
          "2017-07-30T00:00:00",
          "2017-08-06T00:00:00",
          "2017-08-13T00:00:00",
          "2017-08-20T00:00:00",
          "2017-08-27T00:00:00",
          "2017-09-03T00:00:00",
          "2017-09-10T00:00:00",
          "2017-09-17T00:00:00",
          "2017-09-24T00:00:00",
          "2017-10-01T00:00:00",
          "2017-10-08T00:00:00",
          "2017-10-15T00:00:00",
          "2017-10-22T00:00:00",
          "2017-10-29T00:00:00",
          "2017-11-05T00:00:00",
          "2017-11-12T00:00:00",
          "2017-11-19T00:00:00",
          "2017-11-26T00:00:00",
          "2017-12-03T00:00:00",
          "2017-12-10T00:00:00",
          "2017-12-17T00:00:00",
          "2017-12-24T00:00:00",
          "2017-12-31T00:00:00",
          "2018-01-07T00:00:00",
          "2018-01-14T00:00:00",
          "2018-01-21T00:00:00",
          "2018-01-28T00:00:00",
          "2018-02-04T00:00:00",
          "2018-02-11T00:00:00",
          "2018-02-18T00:00:00",
          "2018-02-25T00:00:00",
          "2018-03-04T00:00:00",
          "2018-03-11T00:00:00",
          "2018-03-18T00:00:00",
          "2018-03-25T00:00:00",
          "2018-04-01T00:00:00",
          "2018-04-08T00:00:00",
          "2018-04-15T00:00:00",
          "2018-04-22T00:00:00",
          "2018-04-29T00:00:00",
          "2018-05-06T00:00:00",
          "2018-05-13T00:00:00",
          "2018-05-20T00:00:00",
          "2018-05-27T00:00:00",
          "2018-06-03T00:00:00",
          "2018-06-10T00:00:00",
          "2018-06-17T00:00:00",
          "2018-06-24T00:00:00",
          "2018-07-01T00:00:00",
          "2018-07-08T00:00:00",
          "2018-07-15T00:00:00",
          "2018-07-22T00:00:00",
          "2018-07-29T00:00:00",
          "2018-08-05T00:00:00",
          "2018-08-12T00:00:00",
          "2018-08-19T00:00:00",
          "2018-08-26T00:00:00",
          "2018-09-02T00:00:00",
          "2018-09-09T00:00:00",
          "2018-09-16T00:00:00",
          "2018-09-23T00:00:00",
          "2018-09-30T00:00:00",
          "2018-10-07T00:00:00",
          "2018-10-14T00:00:00",
          "2018-10-21T00:00:00",
          "2018-10-28T00:00:00",
          "2018-11-04T00:00:00",
          "2018-11-11T00:00:00",
          "2018-11-18T00:00:00",
          "2018-11-25T00:00:00",
          "2018-12-02T00:00:00",
          "2018-12-09T00:00:00",
          "2018-12-16T00:00:00",
          "2018-12-23T00:00:00",
          "2018-12-30T00:00:00",
          "2019-01-06T00:00:00",
          "2019-01-13T00:00:00",
          "2019-01-20T00:00:00",
          "2019-01-27T00:00:00",
          "2019-02-03T00:00:00",
          "2019-02-10T00:00:00",
          "2019-02-17T00:00:00",
          "2019-02-24T00:00:00",
          "2019-03-03T00:00:00",
          "2019-03-10T00:00:00",
          "2019-03-17T00:00:00",
          "2019-03-24T00:00:00",
          "2019-03-31T00:00:00",
          "2019-04-07T00:00:00",
          "2019-04-14T00:00:00",
          "2019-04-21T00:00:00",
          "2019-04-28T00:00:00",
          "2019-05-05T00:00:00",
          "2019-05-12T00:00:00",
          "2019-05-19T00:00:00",
          "2019-05-26T00:00:00",
          "2019-06-02T00:00:00",
          "2019-06-09T00:00:00",
          "2019-06-16T00:00:00",
          "2019-06-23T00:00:00",
          "2019-06-30T00:00:00",
          "2019-07-07T00:00:00",
          "2019-07-14T00:00:00",
          "2019-07-21T00:00:00",
          "2019-07-28T00:00:00",
          "2019-08-04T00:00:00",
          "2019-08-11T00:00:00",
          "2019-08-18T00:00:00",
          "2019-08-25T00:00:00",
          "2019-09-01T00:00:00",
          "2019-09-08T00:00:00",
          "2019-09-15T00:00:00",
          "2019-09-22T00:00:00",
          "2019-09-29T00:00:00",
          "2019-10-06T00:00:00",
          "2019-10-13T00:00:00",
          "2019-10-20T00:00:00",
          "2019-10-27T00:00:00",
          "2019-11-03T00:00:00",
          "2019-11-10T00:00:00",
          "2019-11-17T00:00:00",
          "2019-11-24T00:00:00",
          "2019-12-01T00:00:00",
          "2019-12-08T00:00:00",
          "2019-12-15T00:00:00",
          "2019-12-22T00:00:00",
          "2019-12-29T00:00:00",
          "2020-01-05T00:00:00",
          "2020-01-12T00:00:00",
          "2020-01-19T00:00:00",
          "2020-01-26T00:00:00",
          "2020-02-02T00:00:00",
          "2020-02-09T00:00:00",
          "2020-02-16T00:00:00",
          "2020-02-23T00:00:00",
          "2020-03-01T00:00:00",
          "2020-03-08T00:00:00",
          "2020-03-15T00:00:00",
          "2020-03-22T00:00:00",
          "2020-03-29T00:00:00",
          "2020-04-05T00:00:00",
          "2020-04-12T00:00:00",
          "2020-04-19T00:00:00",
          "2020-04-26T00:00:00",
          "2020-05-03T00:00:00",
          "2020-05-10T00:00:00",
          "2020-05-17T00:00:00",
          "2020-05-24T00:00:00",
          "2020-05-31T00:00:00",
          "2020-06-07T00:00:00",
          "2020-06-14T00:00:00",
          "2020-06-21T00:00:00",
          "2020-06-28T00:00:00",
          "2020-07-05T00:00:00",
          "2020-07-12T00:00:00",
          "2020-07-19T00:00:00",
          "2020-07-26T00:00:00",
          "2020-08-02T00:00:00",
          "2020-08-09T00:00:00",
          "2020-08-16T00:00:00",
          "2020-08-23T00:00:00",
          "2020-08-30T00:00:00",
          "2020-09-06T00:00:00",
          "2020-09-13T00:00:00",
          "2020-09-20T00:00:00",
          "2020-09-27T00:00:00",
          "2020-10-04T00:00:00",
          "2020-10-11T00:00:00",
          "2020-10-18T00:00:00",
          "2020-10-25T00:00:00",
          "2020-11-01T00:00:00",
          "2020-11-08T00:00:00",
          "2020-11-15T00:00:00",
          "2020-11-22T00:00:00",
          "2020-11-29T00:00:00",
          "2020-12-06T00:00:00",
          "2020-12-13T00:00:00",
          "2020-12-20T00:00:00",
          "2020-12-27T00:00:00",
          "2021-01-03T00:00:00",
          "2021-01-10T00:00:00",
          "2021-01-17T00:00:00",
          "2021-01-24T00:00:00",
          "2021-01-31T00:00:00",
          "2021-02-07T00:00:00",
          "2021-02-14T00:00:00",
          "2021-02-21T00:00:00",
          "2021-02-28T00:00:00",
          "2021-03-07T00:00:00",
          "2021-03-14T00:00:00",
          "2021-03-21T00:00:00",
          "2021-03-28T00:00:00"
         ],
         "y": [
          -702.743025600178,
          -538.9119100923099,
          -584.8098357209547,
          -765.4716147553636,
          -890.6156965752343,
          -869.4105121545554,
          -864.9863536794701,
          -719.6277805423724,
          -688.1336459652839,
          -667.701750292329,
          -1154.3583256017282,
          -1198.460345214432,
          -1363.777984453699,
          -1355.0539343183682,
          -1121.3024082241018,
          -1060.97774889851,
          -851.3791194371206,
          -683.60003901042,
          -474.0945297064018,
          -332.37834454608037,
          -255.79757388059716,
          -329.8184549210491,
          -145.2684918099576,
          -289.0130071964604,
          -171.26466001985318,
          -177.7873767453466,
          -148.60155549229057,
          -40.65904698779195,
          -131.09285151420136,
          -17.606315879344947,
          236.14473068584903,
          388.71915245579294,
          366.6328191428538,
          468.8780065351066,
          353.5451342919541,
          376.6273118467607,
          160.89028252017852,
          68.82650581788403,
          -40.006049016353245,
          -201.2775982592584,
          -65.09927829225035,
          -47.94334370084016,
          156.61461305158537,
          308.90932229603914,
          381.38847299331064,
          422.38110476009933,
          306.6948167440114,
          108.14813617355685,
          514.1421656983821,
          884.6833047488371,
          1143.7457404122433,
          851.8781823936461,
          363.9767721132648,
          449.62789609137417,
          418.7164942192112,
          264.9262616552551,
          176.20380685451255,
          137.57968413445633,
          129.42085148600108,
          331.24725236211725,
          304.40336622673567,
          423.69929235155814,
          -78.30239904654718,
          -218.936805006937,
          -317.99735793048785,
          -398.1294889838591,
          -134.59422905669544,
          -51.93164626856105,
          133.41246634713934,
          331.37285506862645,
          509.5074890301212,
          650.0600450394859,
          763.9251282381447,
          675.122156003451,
          848.7060547598076,
          740.5941523366428,
          885.0936408209818,
          859.6776267590067,
          863.3993063089474,
          983.9143371250075,
          863.7838968689148,
          956.2068960189945,
          1207.5170562117228,
          1390.282118004542,
          1406.3820947663835,
          1480.560533218324,
          1372.0893674058925,
          1362.8730864361833,
          1197.1288007362791,
          1060.8659014607174,
          1058.3596975496039,
          790.3802007815748,
          934.4997772260294,
          948.2215511556005,
          1132.9985140061053,
          1299.6695648126906,
          1439.6895311744365,
          1345.841116582912,
          1335.1238209181074,
          1124.4489837483852,
          1444.1149177938996,
          1848.33926549046,
          2130.08549573455,
          1888.4259953669562,
          1303.393130295156,
          1429.94535207046,
          1442.1235442606703,
          1290.7142895830884,
          1179.9604248824635,
          1118.7073540077608,
          1130.7395023825193,
          1269.0630735677687,
          1303.2929574109394,
          1398.0424720833316,
          1003.9155393465699,
          754.6591225556022,
          714.2138701660533,
          608.3149951843516,
          902.5966733206988,
          944.3666666870549,
          1093.1127827773826,
          1291.175672292742,
          1504.2002288497706,
          1634.0646131115109,
          1771.209074935815,
          1682.3718086483268,
          1835.3867010278982,
          1829.7590626150495,
          1779.7688085749587,
          1884.467302586424,
          1845.7747795314244,
          1999.197027570598,
          1907.3157948154003,
          1931.438195213842,
          2178.41016169076,
          2386.3661039596436,
          2405.3707514144853,
          2485.730920892558,
          2395.958017418271,
          2368.3867353652904,
          2219.7706289121297,
          2105.2224375717187,
          2057.1013257153127,
          1803.583248801744,
          1931.5866489024766,
          1946.89707173046,
          2107.5071792529207,
          2296.2434927321665,
          2476.7548894986467,
          2369.013210589884,
          2355.5208472588047,
          2154.3430056652887,
          2360.1440058956987,
          2808.557260922714,
          3106.484891356312,
          3012.2133509742225,
          2375.6231150719223,
          2403.6010763824397,
          2467.3915959895176,
          2320.7187190215636,
          2172.925284449192,
          2144.764556490868,
          2137.5984525694957,
          2246.988936870831,
          2320.2537540208023,
          2387.8312155492495,
          2122.2446852865987,
          1737.4413985262227,
          1771.2711811687714,
          1610.291358378644,
          1847.1717315481064,
          1914.7301709462681,
          2084.6669802202205,
          2253.983749584915,
          2535.3134006057826,
          2665.3800836519395,
          2764.0825984443973,
          2720.07768010336,
          2790.581728923101,
          2843.0625493454418,
          2737.107153517977,
          2917.558918973039,
          2838.413670218505,
          3057.7825184339226,
          2897.6697837478505,
          2889.9424701475373,
          3126.021750003699,
          3359.4212184749167,
          3417.5585692297254,
          3528.077746624519,
          3447.135145930456,
          3408.993840889888,
          3318.57070142917,
          3053.065344103782,
          3107.5724735707836,
          2858.1134501563383,
          2978.038120041022,
          2959.4265865290845,
          3053.849372962438,
          3294.9578064431853,
          3382.448034411281,
          3384.7149979659,
          3401.0829237700373,
          3228.974055832613,
          3207.1442387886646,
          3709.5749404132066,
          4037.880520239233,
          4136.3484472066,
          3616.4234102093787,
          3425.6002421078183,
          3503.7560579161136,
          3369.4075320648617,
          3213.7860910913705,
          3139.6115890238607,
          3155.3262379624366,
          3261.6337256718316,
          3319.696608797288,
          3386.579333061759,
          3252.252486927223,
          2794.91532854038,
          2785.9449884596934,
          2626.1126553221684
         ]
        },
        {
         "fill": "tonexty",
         "fillcolor": "rgba(0, 90, 181, 0.15)",
         "legendgroup": "interval",
         "line": {
          "color": "rgba(0, 90, 181, 0.5)",
          "width": 0
         },
         "mode": "lines",
         "name": "Upper Bound",
         "type": "scatter",
         "x": [
          "2017-01-01T00:00:00",
          "2017-01-08T00:00:00",
          "2017-01-15T00:00:00",
          "2017-01-22T00:00:00",
          "2017-01-29T00:00:00",
          "2017-02-05T00:00:00",
          "2017-02-12T00:00:00",
          "2017-02-19T00:00:00",
          "2017-02-26T00:00:00",
          "2017-03-05T00:00:00",
          "2017-03-12T00:00:00",
          "2017-03-19T00:00:00",
          "2017-03-26T00:00:00",
          "2017-04-02T00:00:00",
          "2017-04-09T00:00:00",
          "2017-04-16T00:00:00",
          "2017-04-23T00:00:00",
          "2017-04-30T00:00:00",
          "2017-05-07T00:00:00",
          "2017-05-14T00:00:00",
          "2017-05-21T00:00:00",
          "2017-05-28T00:00:00",
          "2017-06-04T00:00:00",
          "2017-06-11T00:00:00",
          "2017-06-18T00:00:00",
          "2017-06-25T00:00:00",
          "2017-07-02T00:00:00",
          "2017-07-09T00:00:00",
          "2017-07-16T00:00:00",
          "2017-07-23T00:00:00",
          "2017-07-30T00:00:00",
          "2017-08-06T00:00:00",
          "2017-08-13T00:00:00",
          "2017-08-20T00:00:00",
          "2017-08-27T00:00:00",
          "2017-09-03T00:00:00",
          "2017-09-10T00:00:00",
          "2017-09-17T00:00:00",
          "2017-09-24T00:00:00",
          "2017-10-01T00:00:00",
          "2017-10-08T00:00:00",
          "2017-10-15T00:00:00",
          "2017-10-22T00:00:00",
          "2017-10-29T00:00:00",
          "2017-11-05T00:00:00",
          "2017-11-12T00:00:00",
          "2017-11-19T00:00:00",
          "2017-11-26T00:00:00",
          "2017-12-03T00:00:00",
          "2017-12-10T00:00:00",
          "2017-12-17T00:00:00",
          "2017-12-24T00:00:00",
          "2017-12-31T00:00:00",
          "2018-01-07T00:00:00",
          "2018-01-14T00:00:00",
          "2018-01-21T00:00:00",
          "2018-01-28T00:00:00",
          "2018-02-04T00:00:00",
          "2018-02-11T00:00:00",
          "2018-02-18T00:00:00",
          "2018-02-25T00:00:00",
          "2018-03-04T00:00:00",
          "2018-03-11T00:00:00",
          "2018-03-18T00:00:00",
          "2018-03-25T00:00:00",
          "2018-04-01T00:00:00",
          "2018-04-08T00:00:00",
          "2018-04-15T00:00:00",
          "2018-04-22T00:00:00",
          "2018-04-29T00:00:00",
          "2018-05-06T00:00:00",
          "2018-05-13T00:00:00",
          "2018-05-20T00:00:00",
          "2018-05-27T00:00:00",
          "2018-06-03T00:00:00",
          "2018-06-10T00:00:00",
          "2018-06-17T00:00:00",
          "2018-06-24T00:00:00",
          "2018-07-01T00:00:00",
          "2018-07-08T00:00:00",
          "2018-07-15T00:00:00",
          "2018-07-22T00:00:00",
          "2018-07-29T00:00:00",
          "2018-08-05T00:00:00",
          "2018-08-12T00:00:00",
          "2018-08-19T00:00:00",
          "2018-08-26T00:00:00",
          "2018-09-02T00:00:00",
          "2018-09-09T00:00:00",
          "2018-09-16T00:00:00",
          "2018-09-23T00:00:00",
          "2018-09-30T00:00:00",
          "2018-10-07T00:00:00",
          "2018-10-14T00:00:00",
          "2018-10-21T00:00:00",
          "2018-10-28T00:00:00",
          "2018-11-04T00:00:00",
          "2018-11-11T00:00:00",
          "2018-11-18T00:00:00",
          "2018-11-25T00:00:00",
          "2018-12-02T00:00:00",
          "2018-12-09T00:00:00",
          "2018-12-16T00:00:00",
          "2018-12-23T00:00:00",
          "2018-12-30T00:00:00",
          "2019-01-06T00:00:00",
          "2019-01-13T00:00:00",
          "2019-01-20T00:00:00",
          "2019-01-27T00:00:00",
          "2019-02-03T00:00:00",
          "2019-02-10T00:00:00",
          "2019-02-17T00:00:00",
          "2019-02-24T00:00:00",
          "2019-03-03T00:00:00",
          "2019-03-10T00:00:00",
          "2019-03-17T00:00:00",
          "2019-03-24T00:00:00",
          "2019-03-31T00:00:00",
          "2019-04-07T00:00:00",
          "2019-04-14T00:00:00",
          "2019-04-21T00:00:00",
          "2019-04-28T00:00:00",
          "2019-05-05T00:00:00",
          "2019-05-12T00:00:00",
          "2019-05-19T00:00:00",
          "2019-05-26T00:00:00",
          "2019-06-02T00:00:00",
          "2019-06-09T00:00:00",
          "2019-06-16T00:00:00",
          "2019-06-23T00:00:00",
          "2019-06-30T00:00:00",
          "2019-07-07T00:00:00",
          "2019-07-14T00:00:00",
          "2019-07-21T00:00:00",
          "2019-07-28T00:00:00",
          "2019-08-04T00:00:00",
          "2019-08-11T00:00:00",
          "2019-08-18T00:00:00",
          "2019-08-25T00:00:00",
          "2019-09-01T00:00:00",
          "2019-09-08T00:00:00",
          "2019-09-15T00:00:00",
          "2019-09-22T00:00:00",
          "2019-09-29T00:00:00",
          "2019-10-06T00:00:00",
          "2019-10-13T00:00:00",
          "2019-10-20T00:00:00",
          "2019-10-27T00:00:00",
          "2019-11-03T00:00:00",
          "2019-11-10T00:00:00",
          "2019-11-17T00:00:00",
          "2019-11-24T00:00:00",
          "2019-12-01T00:00:00",
          "2019-12-08T00:00:00",
          "2019-12-15T00:00:00",
          "2019-12-22T00:00:00",
          "2019-12-29T00:00:00",
          "2020-01-05T00:00:00",
          "2020-01-12T00:00:00",
          "2020-01-19T00:00:00",
          "2020-01-26T00:00:00",
          "2020-02-02T00:00:00",
          "2020-02-09T00:00:00",
          "2020-02-16T00:00:00",
          "2020-02-23T00:00:00",
          "2020-03-01T00:00:00",
          "2020-03-08T00:00:00",
          "2020-03-15T00:00:00",
          "2020-03-22T00:00:00",
          "2020-03-29T00:00:00",
          "2020-04-05T00:00:00",
          "2020-04-12T00:00:00",
          "2020-04-19T00:00:00",
          "2020-04-26T00:00:00",
          "2020-05-03T00:00:00",
          "2020-05-10T00:00:00",
          "2020-05-17T00:00:00",
          "2020-05-24T00:00:00",
          "2020-05-31T00:00:00",
          "2020-06-07T00:00:00",
          "2020-06-14T00:00:00",
          "2020-06-21T00:00:00",
          "2020-06-28T00:00:00",
          "2020-07-05T00:00:00",
          "2020-07-12T00:00:00",
          "2020-07-19T00:00:00",
          "2020-07-26T00:00:00",
          "2020-08-02T00:00:00",
          "2020-08-09T00:00:00",
          "2020-08-16T00:00:00",
          "2020-08-23T00:00:00",
          "2020-08-30T00:00:00",
          "2020-09-06T00:00:00",
          "2020-09-13T00:00:00",
          "2020-09-20T00:00:00",
          "2020-09-27T00:00:00",
          "2020-10-04T00:00:00",
          "2020-10-11T00:00:00",
          "2020-10-18T00:00:00",
          "2020-10-25T00:00:00",
          "2020-11-01T00:00:00",
          "2020-11-08T00:00:00",
          "2020-11-15T00:00:00",
          "2020-11-22T00:00:00",
          "2020-11-29T00:00:00",
          "2020-12-06T00:00:00",
          "2020-12-13T00:00:00",
          "2020-12-20T00:00:00",
          "2020-12-27T00:00:00",
          "2021-01-03T00:00:00",
          "2021-01-10T00:00:00",
          "2021-01-17T00:00:00",
          "2021-01-24T00:00:00",
          "2021-01-31T00:00:00",
          "2021-02-07T00:00:00",
          "2021-02-14T00:00:00",
          "2021-02-21T00:00:00",
          "2021-02-28T00:00:00",
          "2021-03-07T00:00:00",
          "2021-03-14T00:00:00",
          "2021-03-21T00:00:00",
          "2021-03-28T00:00:00"
         ],
         "y": [
          10570.246639701021,
          10734.077755208888,
          10688.179829580244,
          10507.518050545834,
          10382.373968725964,
          10403.579153146642,
          10408.003311621727,
          10553.361884758826,
          10584.856019335915,
          10605.28791500887,
          10118.63133969947,
          10074.529320086767,
          9909.2116808475,
          9917.93573098283,
          10151.687257077097,
          10212.011916402687,
          10421.610545864078,
          10589.389626290778,
          10798.895135594797,
          10940.611320755117,
          11017.192091420602,
          10943.17121038015,
          11127.721173491242,
          10983.976658104737,
          11101.725005281345,
          11095.20228855585,
          11124.388109808908,
          11232.330618313406,
          11141.896813786996,
          11255.383349421852,
          11509.134395987046,
          11661.708817756991,
          11639.622484444051,
          11741.867671836306,
          11626.534799593152,
          11649.616977147958,
          11433.879947821377,
          11341.816171119082,
          11232.983616284844,
          11071.712067041939,
          11207.890387008949,
          11225.046321600359,
          11429.604278352785,
          11581.898987597237,
          11654.378138294509,
          11695.370770061298,
          11579.68448204521,
          11381.137801474755,
          11787.13183099958,
          12157.672970050036,
          12416.735405713442,
          12124.867847694844,
          11636.966437414463,
          11722.617561392573,
          11691.70615952041,
          11537.915926956453,
          11449.193472155712,
          11410.569349435655,
          11402.4105167872,
          11604.236917663315,
          11577.393031527934,
          11696.688957652757,
          11194.687266254652,
          11054.052860294261,
          10954.99230737071,
          10874.86017631734,
          11138.395436244504,
          11221.058019032636,
          11406.402131648338,
          11604.362520369825,
          11782.497154331319,
          11923.049710340685,
          12036.914793539343,
          11948.11182130465,
          12121.695720061005,
          12013.583817637842,
          12158.08330612218,
          12132.667292060205,
          12136.388971610146,
          12256.904002426207,
          12136.773562170114,
          12229.196561320194,
          12480.50672151292,
          12663.27178330574,
          12679.37176006758,
          12753.550198519522,
          12645.07903270709,
          12635.862751737382,
          12470.118466037478,
          12333.855566761915,
          12331.349362850802,
          12063.369866082772,
          12207.489442527229,
          12221.211216456799,
          12405.988179307304,
          12572.659230113888,
          12712.679196475634,
          12618.83078188411,
          12608.113486219307,
          12397.438649049584,
          12717.104583095097,
          13121.328930791658,
          13403.075161035747,
          13161.415660668154,
          12576.382795596353,
          12702.93501737166,
          12715.113209561869,
          12563.703954884288,
          12452.950090183662,
          12391.697019308958,
          12403.729167683718,
          12542.052738868966,
          12576.282622712137,
          12671.032137384529,
          12276.905204647768,
          12027.6487878568,
          11987.203535467252,
          11881.30466048555,
          12175.586338621897,
          12217.356331988252,
          12366.102448078582,
          12564.16533759394,
          12777.189894150968,
          12907.05427841271,
          13044.198740237014,
          12955.361473949524,
          13108.376366329096,
          13102.748727916249,
          13052.758473876158,
          13157.456967887621,
          13118.764444832623,
          13272.186692871797,
          13180.305460116599,
          13204.42786051504,
          13451.399826991958,
          13659.355769260841,
          13678.360416715685,
          13758.720586193756,
          13668.94768271947,
          13641.37640066649,
          13492.760294213327,
          13378.212102872916,
          13330.09099101651,
          13076.572914102942,
          13204.576314203674,
          13219.886737031658,
          13380.49684455412,
          13569.233158033365,
          13749.744554799845,
          13642.002875891081,
          13628.510512560002,
          13427.332670966487,
          13633.133671196898,
          14081.546926223913,
          14379.474556657511,
          14285.20301627542,
          13648.612780373121,
          13676.590741683638,
          13740.381261290717,
          13593.708384322763,
          13445.91494975039,
          13417.754221792067,
          13410.588117870695,
          13519.978602172028,
          13593.243419322,
          13660.820880850448,
          13395.234350587798,
          13010.431063827422,
          13044.26084646997,
          12883.281023679843,
          13120.161396849304,
          13187.719836247466,
          13357.65664552142,
          13526.973414886113,
          13808.303065906981,
          13938.369748953137,
          14037.072263745595,
          13993.067345404557,
          14063.571394224298,
          14116.05221464664,
          14010.096818819176,
          14190.548584274238,
          14111.403335519703,
          14330.77218373512,
          14170.65944904905,
          14162.932135448737,
          14399.011415304896,
          14632.410883776116,
          14690.548234530925,
          14801.067411925716,
          14720.124811231653,
          14681.983506191085,
          14591.56036673037,
          14326.05500940498,
          14380.562138871981,
          14131.103115457536,
          14251.02778534222,
          14232.416251830284,
          14326.839038263635,
          14567.947471744385,
          14655.437699712478,
          14657.704663267097,
          14674.072589071235,
          14501.963721133812,
          14480.133904089864,
          14982.564605714404,
          15310.870185540432,
          15409.338112507798,
          14889.413075510576,
          14698.589907409016,
          14776.745723217311,
          14642.39719736606,
          14486.77575639257,
          14412.601254325058,
          14428.315903263636,
          14534.623390973029,
          14592.686274098487,
          14659.568998362956,
          14525.24215222842,
          14067.904993841577,
          14058.93465376089,
          13899.102320623366
         ]
        },
        {
         "line": {
          "color": "rgba(250, 43, 20, 0.7)"
         },
         "marker": {
          "color": "rgba(250, 43, 20, 0.7)",
          "size": 2
         },
         "mode": "lines+markers",
         "name": "Actual",
         "opacity": 1,
         "type": "scatter",
         "x": [
          "2017-01-01T00:00:00",
          "2017-01-08T00:00:00",
          "2017-01-15T00:00:00",
          "2017-01-22T00:00:00",
          "2017-01-29T00:00:00",
          "2017-02-05T00:00:00",
          "2017-02-12T00:00:00",
          "2017-02-19T00:00:00",
          "2017-02-26T00:00:00",
          "2017-03-05T00:00:00",
          "2017-03-12T00:00:00",
          "2017-03-19T00:00:00",
          "2017-03-26T00:00:00",
          "2017-04-02T00:00:00",
          "2017-04-09T00:00:00",
          "2017-04-16T00:00:00",
          "2017-04-23T00:00:00",
          "2017-04-30T00:00:00",
          "2017-05-07T00:00:00",
          "2017-05-14T00:00:00",
          "2017-05-21T00:00:00",
          "2017-05-28T00:00:00",
          "2017-06-04T00:00:00",
          "2017-06-11T00:00:00",
          "2017-06-18T00:00:00",
          "2017-06-25T00:00:00",
          "2017-07-02T00:00:00",
          "2017-07-09T00:00:00",
          "2017-07-16T00:00:00",
          "2017-07-23T00:00:00",
          "2017-07-30T00:00:00",
          "2017-08-06T00:00:00",
          "2017-08-13T00:00:00",
          "2017-08-20T00:00:00",
          "2017-08-27T00:00:00",
          "2017-09-03T00:00:00",
          "2017-09-10T00:00:00",
          "2017-09-17T00:00:00",
          "2017-09-24T00:00:00",
          "2017-10-01T00:00:00",
          "2017-10-08T00:00:00",
          "2017-10-15T00:00:00",
          "2017-10-22T00:00:00",
          "2017-10-29T00:00:00",
          "2017-11-05T00:00:00",
          "2017-11-12T00:00:00",
          "2017-11-19T00:00:00",
          "2017-11-26T00:00:00",
          "2017-12-03T00:00:00",
          "2017-12-10T00:00:00",
          "2017-12-17T00:00:00",
          "2017-12-24T00:00:00",
          "2017-12-31T00:00:00",
          "2018-01-07T00:00:00",
          "2018-01-14T00:00:00",
          "2018-01-21T00:00:00",
          "2018-01-28T00:00:00",
          "2018-02-04T00:00:00",
          "2018-02-11T00:00:00",
          "2018-02-18T00:00:00",
          "2018-02-25T00:00:00",
          "2018-03-04T00:00:00",
          "2018-03-11T00:00:00",
          "2018-03-18T00:00:00",
          "2018-03-25T00:00:00",
          "2018-04-01T00:00:00",
          "2018-04-08T00:00:00",
          "2018-04-15T00:00:00",
          "2018-04-22T00:00:00",
          "2018-04-29T00:00:00",
          "2018-05-06T00:00:00",
          "2018-05-13T00:00:00",
          "2018-05-20T00:00:00",
          "2018-05-27T00:00:00",
          "2018-06-03T00:00:00",
          "2018-06-10T00:00:00",
          "2018-06-17T00:00:00",
          "2018-06-24T00:00:00",
          "2018-07-01T00:00:00",
          "2018-07-08T00:00:00",
          "2018-07-15T00:00:00",
          "2018-07-22T00:00:00",
          "2018-07-29T00:00:00",
          "2018-08-05T00:00:00",
          "2018-08-12T00:00:00",
          "2018-08-19T00:00:00",
          "2018-08-26T00:00:00",
          "2018-09-02T00:00:00",
          "2018-09-09T00:00:00",
          "2018-09-16T00:00:00",
          "2018-09-23T00:00:00",
          "2018-09-30T00:00:00",
          "2018-10-07T00:00:00",
          "2018-10-14T00:00:00",
          "2018-10-21T00:00:00",
          "2018-10-28T00:00:00",
          "2018-11-04T00:00:00",
          "2018-11-11T00:00:00",
          "2018-11-18T00:00:00",
          "2018-11-25T00:00:00",
          "2018-12-02T00:00:00",
          "2018-12-09T00:00:00",
          "2018-12-16T00:00:00",
          "2018-12-23T00:00:00",
          "2018-12-30T00:00:00",
          "2019-01-06T00:00:00",
          "2019-01-13T00:00:00",
          "2019-01-20T00:00:00",
          "2019-01-27T00:00:00",
          "2019-02-03T00:00:00",
          "2019-02-10T00:00:00",
          "2019-02-17T00:00:00",
          "2019-02-24T00:00:00",
          "2019-03-03T00:00:00",
          "2019-03-10T00:00:00",
          "2019-03-17T00:00:00",
          "2019-03-24T00:00:00",
          "2019-03-31T00:00:00",
          "2019-04-07T00:00:00",
          "2019-04-14T00:00:00",
          "2019-04-21T00:00:00",
          "2019-04-28T00:00:00",
          "2019-05-05T00:00:00",
          "2019-05-12T00:00:00",
          "2019-05-19T00:00:00",
          "2019-05-26T00:00:00",
          "2019-06-02T00:00:00",
          "2019-06-09T00:00:00",
          "2019-06-16T00:00:00",
          "2019-06-23T00:00:00",
          "2019-06-30T00:00:00",
          "2019-07-07T00:00:00",
          "2019-07-14T00:00:00",
          "2019-07-21T00:00:00",
          "2019-07-28T00:00:00",
          "2019-08-04T00:00:00",
          "2019-08-11T00:00:00",
          "2019-08-18T00:00:00",
          "2019-08-25T00:00:00",
          "2019-09-01T00:00:00",
          "2019-09-08T00:00:00",
          "2019-09-15T00:00:00",
          "2019-09-22T00:00:00",
          "2019-09-29T00:00:00",
          "2019-10-06T00:00:00",
          "2019-10-13T00:00:00",
          "2019-10-20T00:00:00",
          "2019-10-27T00:00:00",
          "2019-11-03T00:00:00",
          "2019-11-10T00:00:00",
          "2019-11-17T00:00:00",
          "2019-11-24T00:00:00",
          "2019-12-01T00:00:00",
          "2019-12-08T00:00:00",
          "2019-12-15T00:00:00",
          "2019-12-22T00:00:00",
          "2019-12-29T00:00:00",
          "2020-01-05T00:00:00",
          "2020-01-12T00:00:00",
          "2020-01-19T00:00:00",
          "2020-01-26T00:00:00",
          "2020-02-02T00:00:00",
          "2020-02-09T00:00:00",
          "2020-02-16T00:00:00",
          "2020-02-23T00:00:00",
          "2020-03-01T00:00:00",
          "2020-03-08T00:00:00",
          "2020-03-15T00:00:00",
          "2020-03-22T00:00:00",
          "2020-03-29T00:00:00",
          "2020-04-05T00:00:00",
          "2020-04-12T00:00:00",
          "2020-04-19T00:00:00",
          "2020-04-26T00:00:00",
          "2020-05-03T00:00:00",
          "2020-05-10T00:00:00",
          "2020-05-17T00:00:00",
          "2020-05-24T00:00:00",
          "2020-05-31T00:00:00",
          "2020-06-07T00:00:00",
          "2020-06-14T00:00:00",
          "2020-06-21T00:00:00",
          "2020-06-28T00:00:00",
          "2020-07-05T00:00:00",
          "2020-07-12T00:00:00",
          "2020-07-19T00:00:00",
          "2020-07-26T00:00:00",
          "2020-08-02T00:00:00",
          "2020-08-09T00:00:00",
          "2020-08-16T00:00:00",
          "2020-08-23T00:00:00",
          "2020-08-30T00:00:00",
          "2020-09-06T00:00:00",
          "2020-09-13T00:00:00",
          "2020-09-20T00:00:00",
          "2020-09-27T00:00:00",
          "2020-10-04T00:00:00",
          "2020-10-11T00:00:00",
          "2020-10-18T00:00:00",
          "2020-10-25T00:00:00",
          "2020-11-01T00:00:00",
          "2020-11-08T00:00:00",
          "2020-11-15T00:00:00",
          "2020-11-22T00:00:00",
          "2020-11-29T00:00:00",
          "2020-12-06T00:00:00",
          "2020-12-13T00:00:00",
          "2020-12-20T00:00:00",
          "2020-12-27T00:00:00",
          "2021-01-03T00:00:00",
          "2021-01-10T00:00:00",
          "2021-01-17T00:00:00",
          "2021-01-24T00:00:00",
          "2021-01-31T00:00:00",
          "2021-02-07T00:00:00",
          "2021-02-14T00:00:00",
          "2021-02-21T00:00:00",
          "2021-02-28T00:00:00",
          "2021-03-07T00:00:00",
          "2021-03-14T00:00:00",
          "2021-03-21T00:00:00",
          "2021-03-28T00:00:00"
         ],
         "y": [
          981.6376879920928,
          915.2058142519436,
          817.0549635712492,
          921.0022294154238,
          916.4743844403482,
          1018.327562124935,
          1002.9858857063558,
          1052.5456970824382,
          1165.8244162493393,
          1258.6520904332842,
          1198.4495991848353,
          1009.8453678806043,
          965.6647718384512,
          1080.593671156791,
          1195.2263193941758,
          1168.5849291604588,
          1235.959071154503,
          1331.428636861853,
          1541.9670501659964,
          1781.992960291066,
          2022.2277678510666,
          2188.8339780159095,
          2524.769903107526,
          2907.1849046281804,
          2564.159564217592,
          2557.9534132747376,
          2445.2220216764304,
          2538.7765526156186,
          1938.9989240757789,
          2766.018589895212,
          2674.9081195927315,
          3236.1315535456533,
          4022.9411932688417,
          4059.5180476308906,
          4340.433891081189,
          4575.300758474094,
          4178.9680422029805,
          3634.043061056025,
          3694.9808246963107,
          4290.272278589144,
          4497.856967223395,
          5608.239015452093,
          5909.253738347273,
          5890.56903730675,
          7458.414757038099,
          6113.264264574333,
          7827.131551353381,
          8971.770344226623,
          11291.622579057115,
          14132.601710642339,
          19186.169610256275,
          13652.628406286824,
          13337.513232213194,
          16516.38596170831,
          13678.34344394982,
          11894.038151210543,
          11673.754262195793,
          8718.772985557165,
          8187.7584321186805,
          10737.516565552482,
          9594.672009343749,
          11241.467414556733,
          9059.7413486486,
          7678.897274336678,
          8535.27998779133,
          6796.601292610656,
          6988.220222870914,
          8215.062462895481,
          8888.486728819395,
          9355.907476675324,
          9615.743948307036,
          8550.046166780056,
          8362.053475615578,
          7316.551009348536,
          7690.58057537641,
          7132.902355224252,
          6508.827389822967,
          6023.8896670909435,
          6349.980904651709,
          6738.8721180935745,
          6318.013231735982,
          7447.723313695186,
          8202.498761161012,
          6995.192839452979,
          6305.226968673242,
          6401.7003608656405,
          6670.069420563303,
          7240.745144965029,
          6295.955871608836,
          6481.711958450328,
          6707.643346377803,
          6578.164624514121,
          6533.448685133508,
          6226.1260207690675,
          6434.035994542509,
          6402.290679530039,
          6369.730653024255,
          6337.526091595159,
          5534.734346708526,
          3756.9321726632147,
          4120.589503435377,
          3471.6984966057476,
          3217.320694474901,
          3978.056280943766,
          3787.8872244049644,
          3885.3312363064815,
          3575.310055370954,
          3600.5671484172353,
          3544.653609846713,
          3424.824032234868,
          3607.855117072525,
          3585.2871700518717,
          3985.1708804270693,
          3800.987502450217,
          3892.6368754301884,
          3963.4112159366673,
          3968.46245122984,
          4088.4294700084174,
          5128.484710430335,
          5078.929244976857,
          5287.273093444004,
          5169.575513691476,
          5722.166836310573,
          7154.9551372121105,
          7933.9268158052155,
          8128.546958223451,
          8670.265812880712,
          7798.498155120784,
          9095.289101530452,
          10746.900511013211,
          11542.5519109653,
          11311.47674802796,
          10857.026633891062,
          10577.614454422597,
          9484.914105643693,
          10820.892324169692,
          11378.232876254126,
          10292.527044551465,
          10100.656939299763,
          9626.724277129402,
          10460.721158303631,
          10316.665172788826,
          9978.878329965732,
          8073.95375222317,
          7980.2613741350415,
          8358.546977063057,
          8020.297620718581,
          9413.283675192675,
          9217.614908547763,
          8896.594757823774,
          8514.029198381439,
          7146.012933634438,
          7353.310525060708,
          7495.626457542383,
          7089.723106689306,
          7228.238391081989,
          7345.635970926209,
          7430.027209611784,
          8111.715362809299,
          8847.166821810986,
          8430.129199500645,
          9377.036114146784,
          10080.72238297771,
          9905.53388478716,
          9870.245958296517,
          8557.198634572247,
          8569.848185239654,
          5300.8230481772,
          6132.192548689882,
          6104.824055534396,
          6796.675729856801,
          6954.061312250376,
          7166.968470350743,
          7603.793608820947,
          8979.892588601406,
          8687.485435756498,
          9626.880262499786,
          9119.084263966222,
          9546.667359008288,
          9618.2132603281,
          9403.238615212738,
          9348.204026697782,
          9056.25733932299,
          9062.05921703053,
          9249.438246949527,
          9154.807427888656,
          9834.34345093738,
          11333.746837542161,
          11672.131345720929,
          11850.765200290209,
          11623.091878436793,
          11609.048559349349,
          10201.799719070545,
          10393.662602084078,
          10915.45825408122,
          10717.587523472932,
          10604.973839338634,
          11360.626362271318,
          11424.963448037344,
          13056.228187102959,
          13769.800513425602,
          15202.594518399836,
          15995.998189848071,
          18432.242585682645,
          17991.419820260784,
          19145.148466569415,
          19113.047104531674,
          23594.411731075204,
          27043.386470000005,
          33467.36252562915,
          39727.27752555421,
          35650.76418554722,
          32225.07011977885,
          33450.93785876327,
          38711.77455524941,
          48600.49151849026,
          57040.825943830474,
          44818.44755210362,
          50218.21680438112,
          60455.84483148646,
          57312.59853645818,
          55832.958823907036
         ]
        },
        {
         "line": {
          "color": "rgba(0, 90, 181, 0.7)",
          "dash": "solid"
         },
         "name": "Forecast",
         "type": "scatter",
         "x": [
          "2017-01-01T00:00:00",
          "2017-01-08T00:00:00",
          "2017-01-15T00:00:00",
          "2017-01-22T00:00:00",
          "2017-01-29T00:00:00",
          "2017-02-05T00:00:00",
          "2017-02-12T00:00:00",
          "2017-02-19T00:00:00",
          "2017-02-26T00:00:00",
          "2017-03-05T00:00:00",
          "2017-03-12T00:00:00",
          "2017-03-19T00:00:00",
          "2017-03-26T00:00:00",
          "2017-04-02T00:00:00",
          "2017-04-09T00:00:00",
          "2017-04-16T00:00:00",
          "2017-04-23T00:00:00",
          "2017-04-30T00:00:00",
          "2017-05-07T00:00:00",
          "2017-05-14T00:00:00",
          "2017-05-21T00:00:00",
          "2017-05-28T00:00:00",
          "2017-06-04T00:00:00",
          "2017-06-11T00:00:00",
          "2017-06-18T00:00:00",
          "2017-06-25T00:00:00",
          "2017-07-02T00:00:00",
          "2017-07-09T00:00:00",
          "2017-07-16T00:00:00",
          "2017-07-23T00:00:00",
          "2017-07-30T00:00:00",
          "2017-08-06T00:00:00",
          "2017-08-13T00:00:00",
          "2017-08-20T00:00:00",
          "2017-08-27T00:00:00",
          "2017-09-03T00:00:00",
          "2017-09-10T00:00:00",
          "2017-09-17T00:00:00",
          "2017-09-24T00:00:00",
          "2017-10-01T00:00:00",
          "2017-10-08T00:00:00",
          "2017-10-15T00:00:00",
          "2017-10-22T00:00:00",
          "2017-10-29T00:00:00",
          "2017-11-05T00:00:00",
          "2017-11-12T00:00:00",
          "2017-11-19T00:00:00",
          "2017-11-26T00:00:00",
          "2017-12-03T00:00:00",
          "2017-12-10T00:00:00",
          "2017-12-17T00:00:00",
          "2017-12-24T00:00:00",
          "2017-12-31T00:00:00",
          "2018-01-07T00:00:00",
          "2018-01-14T00:00:00",
          "2018-01-21T00:00:00",
          "2018-01-28T00:00:00",
          "2018-02-04T00:00:00",
          "2018-02-11T00:00:00",
          "2018-02-18T00:00:00",
          "2018-02-25T00:00:00",
          "2018-03-04T00:00:00",
          "2018-03-11T00:00:00",
          "2018-03-18T00:00:00",
          "2018-03-25T00:00:00",
          "2018-04-01T00:00:00",
          "2018-04-08T00:00:00",
          "2018-04-15T00:00:00",
          "2018-04-22T00:00:00",
          "2018-04-29T00:00:00",
          "2018-05-06T00:00:00",
          "2018-05-13T00:00:00",
          "2018-05-20T00:00:00",
          "2018-05-27T00:00:00",
          "2018-06-03T00:00:00",
          "2018-06-10T00:00:00",
          "2018-06-17T00:00:00",
          "2018-06-24T00:00:00",
          "2018-07-01T00:00:00",
          "2018-07-08T00:00:00",
          "2018-07-15T00:00:00",
          "2018-07-22T00:00:00",
          "2018-07-29T00:00:00",
          "2018-08-05T00:00:00",
          "2018-08-12T00:00:00",
          "2018-08-19T00:00:00",
          "2018-08-26T00:00:00",
          "2018-09-02T00:00:00",
          "2018-09-09T00:00:00",
          "2018-09-16T00:00:00",
          "2018-09-23T00:00:00",
          "2018-09-30T00:00:00",
          "2018-10-07T00:00:00",
          "2018-10-14T00:00:00",
          "2018-10-21T00:00:00",
          "2018-10-28T00:00:00",
          "2018-11-04T00:00:00",
          "2018-11-11T00:00:00",
          "2018-11-18T00:00:00",
          "2018-11-25T00:00:00",
          "2018-12-02T00:00:00",
          "2018-12-09T00:00:00",
          "2018-12-16T00:00:00",
          "2018-12-23T00:00:00",
          "2018-12-30T00:00:00",
          "2019-01-06T00:00:00",
          "2019-01-13T00:00:00",
          "2019-01-20T00:00:00",
          "2019-01-27T00:00:00",
          "2019-02-03T00:00:00",
          "2019-02-10T00:00:00",
          "2019-02-17T00:00:00",
          "2019-02-24T00:00:00",
          "2019-03-03T00:00:00",
          "2019-03-10T00:00:00",
          "2019-03-17T00:00:00",
          "2019-03-24T00:00:00",
          "2019-03-31T00:00:00",
          "2019-04-07T00:00:00",
          "2019-04-14T00:00:00",
          "2019-04-21T00:00:00",
          "2019-04-28T00:00:00",
          "2019-05-05T00:00:00",
          "2019-05-12T00:00:00",
          "2019-05-19T00:00:00",
          "2019-05-26T00:00:00",
          "2019-06-02T00:00:00",
          "2019-06-09T00:00:00",
          "2019-06-16T00:00:00",
          "2019-06-23T00:00:00",
          "2019-06-30T00:00:00",
          "2019-07-07T00:00:00",
          "2019-07-14T00:00:00",
          "2019-07-21T00:00:00",
          "2019-07-28T00:00:00",
          "2019-08-04T00:00:00",
          "2019-08-11T00:00:00",
          "2019-08-18T00:00:00",
          "2019-08-25T00:00:00",
          "2019-09-01T00:00:00",
          "2019-09-08T00:00:00",
          "2019-09-15T00:00:00",
          "2019-09-22T00:00:00",
          "2019-09-29T00:00:00",
          "2019-10-06T00:00:00",
          "2019-10-13T00:00:00",
          "2019-10-20T00:00:00",
          "2019-10-27T00:00:00",
          "2019-11-03T00:00:00",
          "2019-11-10T00:00:00",
          "2019-11-17T00:00:00",
          "2019-11-24T00:00:00",
          "2019-12-01T00:00:00",
          "2019-12-08T00:00:00",
          "2019-12-15T00:00:00",
          "2019-12-22T00:00:00",
          "2019-12-29T00:00:00",
          "2020-01-05T00:00:00",
          "2020-01-12T00:00:00",
          "2020-01-19T00:00:00",
          "2020-01-26T00:00:00",
          "2020-02-02T00:00:00",
          "2020-02-09T00:00:00",
          "2020-02-16T00:00:00",
          "2020-02-23T00:00:00",
          "2020-03-01T00:00:00",
          "2020-03-08T00:00:00",
          "2020-03-15T00:00:00",
          "2020-03-22T00:00:00",
          "2020-03-29T00:00:00",
          "2020-04-05T00:00:00",
          "2020-04-12T00:00:00",
          "2020-04-19T00:00:00",
          "2020-04-26T00:00:00",
          "2020-05-03T00:00:00",
          "2020-05-10T00:00:00",
          "2020-05-17T00:00:00",
          "2020-05-24T00:00:00",
          "2020-05-31T00:00:00",
          "2020-06-07T00:00:00",
          "2020-06-14T00:00:00",
          "2020-06-21T00:00:00",
          "2020-06-28T00:00:00",
          "2020-07-05T00:00:00",
          "2020-07-12T00:00:00",
          "2020-07-19T00:00:00",
          "2020-07-26T00:00:00",
          "2020-08-02T00:00:00",
          "2020-08-09T00:00:00",
          "2020-08-16T00:00:00",
          "2020-08-23T00:00:00",
          "2020-08-30T00:00:00",
          "2020-09-06T00:00:00",
          "2020-09-13T00:00:00",
          "2020-09-20T00:00:00",
          "2020-09-27T00:00:00",
          "2020-10-04T00:00:00",
          "2020-10-11T00:00:00",
          "2020-10-18T00:00:00",
          "2020-10-25T00:00:00",
          "2020-11-01T00:00:00",
          "2020-11-08T00:00:00",
          "2020-11-15T00:00:00",
          "2020-11-22T00:00:00",
          "2020-11-29T00:00:00",
          "2020-12-06T00:00:00",
          "2020-12-13T00:00:00",
          "2020-12-20T00:00:00",
          "2020-12-27T00:00:00",
          "2021-01-03T00:00:00",
          "2021-01-10T00:00:00",
          "2021-01-17T00:00:00",
          "2021-01-24T00:00:00",
          "2021-01-31T00:00:00",
          "2021-02-07T00:00:00",
          "2021-02-14T00:00:00",
          "2021-02-21T00:00:00",
          "2021-02-28T00:00:00",
          "2021-03-07T00:00:00",
          "2021-03-14T00:00:00",
          "2021-03-21T00:00:00",
          "2021-03-28T00:00:00"
         ],
         "y": [
          4933.751807050421,
          5097.582922558289,
          5051.6849969296445,
          4871.023217895236,
          4745.879136075365,
          4767.084320496044,
          4771.508478971129,
          4916.867052108227,
          4948.361186685315,
          4968.79308235827,
          4482.136507048871,
          4438.034487436167,
          4272.7168481969,
          4281.440898332231,
          4515.192424426497,
          4575.517083752089,
          4785.115713213479,
          4952.894793640179,
          5162.400302944197,
          5304.116488104519,
          5380.697258770002,
          5306.67637772955,
          5491.226340840642,
          5347.481825454139,
          5465.230172630746,
          5458.707455905253,
          5487.893277158309,
          5595.835785662807,
          5505.401981136398,
          5618.888516771254,
          5872.639563336448,
          6025.213985106392,
          6003.127651793453,
          6105.372839185706,
          5990.039966942553,
          6013.12214449736,
          5797.385115170778,
          5705.321338468483,
          5596.488783634246,
          5435.217234391341,
          5571.395554358349,
          5588.551488949759,
          5793.1094457021845,
          5945.404154946638,
          6017.88330564391,
          6058.8759374106985,
          5943.189649394611,
          5744.642968824156,
          6150.636998348981,
          6521.178137399436,
          6780.2405730628425,
          6488.373015044245,
          6000.471604763864,
          6086.122728741973,
          6055.21132686981,
          5901.421094305854,
          5812.698639505112,
          5774.0745167850555,
          5765.9156841366,
          5967.742085012716,
          5940.898198877335,
          6060.194125002157,
          5558.192433604052,
          5417.558027643662,
          5318.497474720111,
          5238.36534366674,
          5501.900603593904,
          5584.563186382038,
          5769.9072989977385,
          5967.867687719226,
          6146.00232168072,
          6286.554877690085,
          6400.419960888744,
          6311.61698865405,
          6485.200887410407,
          6377.088984987242,
          6521.588473471581,
          6496.172459409606,
          6499.894138959547,
          6620.409169775607,
          6500.278729519514,
          6592.701728669594,
          6844.011888862322,
          7026.776950655141,
          7042.876927416983,
          7117.055365868923,
          7008.584200056492,
          6999.367919086782,
          6833.623633386878,
          6697.360734111317,
          6694.854530200203,
          6426.875033432174,
          6570.994609876629,
          6584.7163838062,
          6769.4933466567045,
          6936.16439746329,
          7076.184363825036,
          6982.335949233511,
          6971.618653568707,
          6760.943816398984,
          7080.609750444499,
          7484.834098141059,
          7766.580328385149,
          7524.920828017555,
          6939.887962945755,
          7066.440184721059,
          7078.6183769112695,
          6927.209122233688,
          6816.455257533063,
          6755.20218665836,
          6767.234335033118,
          6905.557906218368,
          6939.7877900615385,
          7034.537304733931,
          6640.410371997169,
          6391.153955206201,
          6350.7087028166525,
          6244.809827834951,
          6539.091505971298,
          6580.861499337654,
          6729.607615427982,
          6927.670504943341,
          7140.69506150037,
          7270.55944576211,
          7407.703907586414,
          7318.866641298926,
          7471.881533678497,
          7466.253895265649,
          7416.263641225558,
          7520.962135237023,
          7482.269612182024,
          7635.691860221197,
          7543.8106274659995,
          7567.933027864441,
          7814.904994341359,
          8022.860936610243,
          8041.8655840650845,
          8122.225753543157,
          8032.45285006887,
          8004.88156801589,
          7856.265461562729,
          7741.717270222318,
          7693.596158365912,
          7440.078081452343,
          7568.081481553076,
          7583.391904381059,
          7744.00201190352,
          7932.738325382766,
          8113.249722149246,
          8005.508043240483,
          7992.015679909404,
          7790.837838315888,
          7996.638838546298,
          8445.052093573313,
          8742.979724006911,
          8648.708183624822,
          8012.117947722521,
          8040.095909033039,
          8103.886428640117,
          7957.213551672163,
          7809.420117099791,
          7781.259389141467,
          7774.093285220095,
          7883.48376952143,
          7956.748586671401,
          8024.326048199849,
          7758.739517937198,
          7373.936231176822,
          7407.7660138193705,
          7246.786191029243,
          7483.666564198706,
          7551.225003596867,
          7721.16181287082,
          7890.478582235514,
          8171.808233256382,
          8301.874916302539,
          8400.577431094996,
          8356.572512753959,
          8427.0765615737,
          8479.557381996041,
          8373.601986168576,
          8554.053751623638,
          8474.908502869104,
          8694.277351084522,
          8534.16461639845,
          8526.437302798136,
          8762.516582654298,
          8995.916051125516,
          9054.053401880325,
          9164.572579275118,
          9083.629978581055,
          9045.488673540487,
          8955.06553407977,
          8689.560176754381,
          8744.067306221383,
          8494.608282806937,
          8614.532952691621,
          8595.921419179684,
          8690.344205613037,
          8931.452639093784,
          9018.94286706188,
          9021.209830616499,
          9037.577756420636,
          8865.468888483212,
          8843.639071439264,
          9346.069773063806,
          9674.375352889832,
          9772.8432798572,
          9252.918242859978,
          9062.095074758417,
          9140.250890566713,
          9005.90236471546,
          8850.28092374197,
          8776.10642167446,
          8791.821070613036,
          8898.12855832243,
          8956.191441447887,
          9023.074165712358,
          8888.747319577822,
          8431.41016119098,
          8422.439821110293,
          8262.607487972768
         ]
        }
       ],
       "layout": {
        "annotations": [
         {
          "arrowhead": 0,
          "ax": -60,
          "ay": 0,
          "showarrow": true,
          "text": "Train End Date",
          "x": "2020-08-30T00:00:00",
          "xref": "x",
          "y": 0.97,
          "yref": "paper"
         }
        ],
        "legend": {
         "traceorder": "reversed"
        },
        "shapes": [
         {
          "line": {
           "color": "rgba(100, 100, 100, 0.9)",
           "width": 1
          },
          "type": "line",
          "x0": "2020-08-30T00:00:00",
          "x1": "2020-08-30T00:00:00",
          "xref": "x",
          "y0": 0,
          "y1": 1,
          "yref": "paper"
         }
        ],
        "showlegend": true,
        "template": {
         "data": {
          "bar": [
           {
            "error_x": {
             "color": "#2a3f5f"
            },
            "error_y": {
             "color": "#2a3f5f"
            },
            "marker": {
             "line": {
              "color": "#E5ECF6",
              "width": 0.5
             }
            },
            "type": "bar"
           }
          ],
          "barpolar": [
           {
            "marker": {
             "line": {
              "color": "#E5ECF6",
              "width": 0.5
             }
            },
            "type": "barpolar"
           }
          ],
          "carpet": [
           {
            "aaxis": {
             "endlinecolor": "#2a3f5f",
             "gridcolor": "white",
             "linecolor": "white",
             "minorgridcolor": "white",
             "startlinecolor": "#2a3f5f"
            },
            "baxis": {
             "endlinecolor": "#2a3f5f",
             "gridcolor": "white",
             "linecolor": "white",
             "minorgridcolor": "white",
             "startlinecolor": "#2a3f5f"
            },
            "type": "carpet"
           }
          ],
          "choropleth": [
           {
            "colorbar": {
             "outlinewidth": 0,
             "ticks": ""
            },
            "type": "choropleth"
           }
          ],
          "contour": [
           {
            "colorbar": {
             "outlinewidth": 0,
             "ticks": ""
            },
            "colorscale": [
             [
              0,
              "#0d0887"
             ],
             [
              0.1111111111111111,
              "#46039f"
             ],
             [
              0.2222222222222222,
              "#7201a8"
             ],
             [
              0.3333333333333333,
              "#9c179e"
             ],
             [
              0.4444444444444444,
              "#bd3786"
             ],
             [
              0.5555555555555556,
              "#d8576b"
             ],
             [
              0.6666666666666666,
              "#ed7953"
             ],
             [
              0.7777777777777778,
              "#fb9f3a"
             ],
             [
              0.8888888888888888,
              "#fdca26"
             ],
             [
              1,
              "#f0f921"
             ]
            ],
            "type": "contour"
           }
          ],
          "contourcarpet": [
           {
            "colorbar": {
             "outlinewidth": 0,
             "ticks": ""
            },
            "type": "contourcarpet"
           }
          ],
          "heatmap": [
           {
            "colorbar": {
             "outlinewidth": 0,
             "ticks": ""
            },
            "colorscale": [
             [
              0,
              "#0d0887"
             ],
             [
              0.1111111111111111,
              "#46039f"
             ],
             [
              0.2222222222222222,
              "#7201a8"
             ],
             [
              0.3333333333333333,
              "#9c179e"
             ],
             [
              0.4444444444444444,
              "#bd3786"
             ],
             [
              0.5555555555555556,
              "#d8576b"
             ],
             [
              0.6666666666666666,
              "#ed7953"
             ],
             [
              0.7777777777777778,
              "#fb9f3a"
             ],
             [
              0.8888888888888888,
              "#fdca26"
             ],
             [
              1,
              "#f0f921"
             ]
            ],
            "type": "heatmap"
           }
          ],
          "heatmapgl": [
           {
            "colorbar": {
             "outlinewidth": 0,
             "ticks": ""
            },
            "colorscale": [
             [
              0,
              "#0d0887"
             ],
             [
              0.1111111111111111,
              "#46039f"
             ],
             [
              0.2222222222222222,
              "#7201a8"
             ],
             [
              0.3333333333333333,
              "#9c179e"
             ],
             [
              0.4444444444444444,
              "#bd3786"
             ],
             [
              0.5555555555555556,
              "#d8576b"
             ],
             [
              0.6666666666666666,
              "#ed7953"
             ],
             [
              0.7777777777777778,
              "#fb9f3a"
             ],
             [
              0.8888888888888888,
              "#fdca26"
             ],
             [
              1,
              "#f0f921"
             ]
            ],
            "type": "heatmapgl"
           }
          ],
          "histogram": [
           {
            "marker": {
             "colorbar": {
              "outlinewidth": 0,
              "ticks": ""
             }
            },
            "type": "histogram"
           }
          ],
          "histogram2d": [
           {
            "colorbar": {
             "outlinewidth": 0,
             "ticks": ""
            },
            "colorscale": [
             [
              0,
              "#0d0887"
             ],
             [
              0.1111111111111111,
              "#46039f"
             ],
             [
              0.2222222222222222,
              "#7201a8"
             ],
             [
              0.3333333333333333,
              "#9c179e"
             ],
             [
              0.4444444444444444,
              "#bd3786"
             ],
             [
              0.5555555555555556,
              "#d8576b"
             ],
             [
              0.6666666666666666,
              "#ed7953"
             ],
             [
              0.7777777777777778,
              "#fb9f3a"
             ],
             [
              0.8888888888888888,
              "#fdca26"
             ],
             [
              1,
              "#f0f921"
             ]
            ],
            "type": "histogram2d"
           }
          ],
          "histogram2dcontour": [
           {
            "colorbar": {
             "outlinewidth": 0,
             "ticks": ""
            },
            "colorscale": [
             [
              0,
              "#0d0887"
             ],
             [
              0.1111111111111111,
              "#46039f"
             ],
             [
              0.2222222222222222,
              "#7201a8"
             ],
             [
              0.3333333333333333,
              "#9c179e"
             ],
             [
              0.4444444444444444,
              "#bd3786"
             ],
             [
              0.5555555555555556,
              "#d8576b"
             ],
             [
              0.6666666666666666,
              "#ed7953"
             ],
             [
              0.7777777777777778,
              "#fb9f3a"
             ],
             [
              0.8888888888888888,
              "#fdca26"
             ],
             [
              1,
              "#f0f921"
             ]
            ],
            "type": "histogram2dcontour"
           }
          ],
          "mesh3d": [
           {
            "colorbar": {
             "outlinewidth": 0,
             "ticks": ""
            },
            "type": "mesh3d"
           }
          ],
          "parcoords": [
           {
            "line": {
             "colorbar": {
              "outlinewidth": 0,
              "ticks": ""
             }
            },
            "type": "parcoords"
           }
          ],
          "pie": [
           {
            "automargin": true,
            "type": "pie"
           }
          ],
          "scatter": [
           {
            "marker": {
             "colorbar": {
              "outlinewidth": 0,
              "ticks": ""
             }
            },
            "type": "scatter"
           }
          ],
          "scatter3d": [
           {
            "line": {
             "colorbar": {
              "outlinewidth": 0,
              "ticks": ""
             }
            },
            "marker": {
             "colorbar": {
              "outlinewidth": 0,
              "ticks": ""
             }
            },
            "type": "scatter3d"
           }
          ],
          "scattercarpet": [
           {
            "marker": {
             "colorbar": {
              "outlinewidth": 0,
              "ticks": ""
             }
            },
            "type": "scattercarpet"
           }
          ],
          "scattergeo": [
           {
            "marker": {
             "colorbar": {
              "outlinewidth": 0,
              "ticks": ""
             }
            },
            "type": "scattergeo"
           }
          ],
          "scattergl": [
           {
            "marker": {
             "colorbar": {
              "outlinewidth": 0,
              "ticks": ""
             }
            },
            "type": "scattergl"
           }
          ],
          "scattermapbox": [
           {
            "marker": {
             "colorbar": {
              "outlinewidth": 0,
              "ticks": ""
             }
            },
            "type": "scattermapbox"
           }
          ],
          "scatterpolar": [
           {
            "marker": {
             "colorbar": {
              "outlinewidth": 0,
              "ticks": ""
             }
            },
            "type": "scatterpolar"
           }
          ],
          "scatterpolargl": [
           {
            "marker": {
             "colorbar": {
              "outlinewidth": 0,
              "ticks": ""
             }
            },
            "type": "scatterpolargl"
           }
          ],
          "scatterternary": [
           {
            "marker": {
             "colorbar": {
              "outlinewidth": 0,
              "ticks": ""
             }
            },
            "type": "scatterternary"
           }
          ],
          "surface": [
           {
            "colorbar": {
             "outlinewidth": 0,
             "ticks": ""
            },
            "colorscale": [
             [
              0,
              "#0d0887"
             ],
             [
              0.1111111111111111,
              "#46039f"
             ],
             [
              0.2222222222222222,
              "#7201a8"
             ],
             [
              0.3333333333333333,
              "#9c179e"
             ],
             [
              0.4444444444444444,
              "#bd3786"
             ],
             [
              0.5555555555555556,
              "#d8576b"
             ],
             [
              0.6666666666666666,
              "#ed7953"
             ],
             [
              0.7777777777777778,
              "#fb9f3a"
             ],
             [
              0.8888888888888888,
              "#fdca26"
             ],
             [
              1,
              "#f0f921"
             ]
            ],
            "type": "surface"
           }
          ],
          "table": [
           {
            "cells": {
             "fill": {
              "color": "#EBF0F8"
             },
             "line": {
              "color": "white"
             }
            },
            "header": {
             "fill": {
              "color": "#C8D4E3"
             },
             "line": {
              "color": "white"
             }
            },
            "type": "table"
           }
          ]
         },
         "layout": {
          "annotationdefaults": {
           "arrowcolor": "#2a3f5f",
           "arrowhead": 0,
           "arrowwidth": 1
          },
          "autotypenumbers": "strict",
          "coloraxis": {
           "colorbar": {
            "outlinewidth": 0,
            "ticks": ""
           }
          },
          "colorscale": {
           "diverging": [
            [
             0,
             "#8e0152"
            ],
            [
             0.1,
             "#c51b7d"
            ],
            [
             0.2,
             "#de77ae"
            ],
            [
             0.3,
             "#f1b6da"
            ],
            [
             0.4,
             "#fde0ef"
            ],
            [
             0.5,
             "#f7f7f7"
            ],
            [
             0.6,
             "#e6f5d0"
            ],
            [
             0.7,
             "#b8e186"
            ],
            [
             0.8,
             "#7fbc41"
            ],
            [
             0.9,
             "#4d9221"
            ],
            [
             1,
             "#276419"
            ]
           ],
           "sequential": [
            [
             0,
             "#0d0887"
            ],
            [
             0.1111111111111111,
             "#46039f"
            ],
            [
             0.2222222222222222,
             "#7201a8"
            ],
            [
             0.3333333333333333,
             "#9c179e"
            ],
            [
             0.4444444444444444,
             "#bd3786"
            ],
            [
             0.5555555555555556,
             "#d8576b"
            ],
            [
             0.6666666666666666,
             "#ed7953"
            ],
            [
             0.7777777777777778,
             "#fb9f3a"
            ],
            [
             0.8888888888888888,
             "#fdca26"
            ],
            [
             1,
             "#f0f921"
            ]
           ],
           "sequentialminus": [
            [
             0,
             "#0d0887"
            ],
            [
             0.1111111111111111,
             "#46039f"
            ],
            [
             0.2222222222222222,
             "#7201a8"
            ],
            [
             0.3333333333333333,
             "#9c179e"
            ],
            [
             0.4444444444444444,
             "#bd3786"
            ],
            [
             0.5555555555555556,
             "#d8576b"
            ],
            [
             0.6666666666666666,
             "#ed7953"
            ],
            [
             0.7777777777777778,
             "#fb9f3a"
            ],
            [
             0.8888888888888888,
             "#fdca26"
            ],
            [
             1,
             "#f0f921"
            ]
           ]
          },
          "colorway": [
           "#636efa",
           "#EF553B",
           "#00cc96",
           "#ab63fa",
           "#FFA15A",
           "#19d3f3",
           "#FF6692",
           "#B6E880",
           "#FF97FF",
           "#FECB52"
          ],
          "font": {
           "color": "#2a3f5f"
          },
          "geo": {
           "bgcolor": "white",
           "lakecolor": "white",
           "landcolor": "#E5ECF6",
           "showlakes": true,
           "showland": true,
           "subunitcolor": "white"
          },
          "hoverlabel": {
           "align": "left"
          },
          "hovermode": "closest",
          "mapbox": {
           "style": "light"
          },
          "paper_bgcolor": "white",
          "plot_bgcolor": "#E5ECF6",
          "polar": {
           "angularaxis": {
            "gridcolor": "white",
            "linecolor": "white",
            "ticks": ""
           },
           "bgcolor": "#E5ECF6",
           "radialaxis": {
            "gridcolor": "white",
            "linecolor": "white",
            "ticks": ""
           }
          },
          "scene": {
           "xaxis": {
            "backgroundcolor": "#E5ECF6",
            "gridcolor": "white",
            "gridwidth": 2,
            "linecolor": "white",
            "showbackground": true,
            "ticks": "",
            "zerolinecolor": "white"
           },
           "yaxis": {
            "backgroundcolor": "#E5ECF6",
            "gridcolor": "white",
            "gridwidth": 2,
            "linecolor": "white",
            "showbackground": true,
            "ticks": "",
            "zerolinecolor": "white"
           },
           "zaxis": {
            "backgroundcolor": "#E5ECF6",
            "gridcolor": "white",
            "gridwidth": 2,
            "linecolor": "white",
            "showbackground": true,
            "ticks": "",
            "zerolinecolor": "white"
           }
          },
          "shapedefaults": {
           "line": {
            "color": "#2a3f5f"
           }
          },
          "ternary": {
           "aaxis": {
            "gridcolor": "white",
            "linecolor": "white",
            "ticks": ""
           },
           "baxis": {
            "gridcolor": "white",
            "linecolor": "white",
            "ticks": ""
           },
           "bgcolor": "#E5ECF6",
           "caxis": {
            "gridcolor": "white",
            "linecolor": "white",
            "ticks": ""
           }
          },
          "title": {
           "x": 0.05
          },
          "xaxis": {
           "automargin": true,
           "gridcolor": "white",
           "linecolor": "white",
           "ticks": "",
           "title": {
            "standoff": 15
           },
           "zerolinecolor": "white",
           "zerolinewidth": 2
          },
          "yaxis": {
           "automargin": true,
           "gridcolor": "white",
           "linecolor": "white",
           "ticks": "",
           "title": {
            "standoff": 15
           },
           "zerolinecolor": "white",
           "zerolinewidth": 2
          }
         }
        },
        "title": {
         "text": "Forecast vs Actual",
         "x": 0.5
        },
        "xaxis": {
         "title": {
          "text": "ts"
         }
        },
        "yaxis": {
         "title": {
          "text": "Weighted_Price"
         }
        }
       }
      },
      "text/html": [
       "<div>                            <div id=\"ada44fb1-422b-4660-a4b0-55f5e466a4da\" class=\"plotly-graph-div\" style=\"height:525px; width:100%;\"></div>            <script type=\"text/javascript\">                require([\"plotly\"], function(Plotly) {                    window.PLOTLYENV=window.PLOTLYENV || {};                                    if (document.getElementById(\"ada44fb1-422b-4660-a4b0-55f5e466a4da\")) {                    Plotly.newPlot(                        \"ada44fb1-422b-4660-a4b0-55f5e466a4da\",                        [{\"legendgroup\": \"interval\", \"line\": {\"color\": \"rgba(0, 90, 181, 0.5)\", \"width\": 0.0}, \"mode\": \"lines\", \"name\": \"Lower Bound\", \"type\": \"scatter\", \"x\": [\"2017-01-01T00:00:00\", \"2017-01-08T00:00:00\", \"2017-01-15T00:00:00\", \"2017-01-22T00:00:00\", \"2017-01-29T00:00:00\", \"2017-02-05T00:00:00\", \"2017-02-12T00:00:00\", \"2017-02-19T00:00:00\", \"2017-02-26T00:00:00\", \"2017-03-05T00:00:00\", \"2017-03-12T00:00:00\", \"2017-03-19T00:00:00\", \"2017-03-26T00:00:00\", \"2017-04-02T00:00:00\", \"2017-04-09T00:00:00\", \"2017-04-16T00:00:00\", \"2017-04-23T00:00:00\", \"2017-04-30T00:00:00\", \"2017-05-07T00:00:00\", \"2017-05-14T00:00:00\", \"2017-05-21T00:00:00\", \"2017-05-28T00:00:00\", \"2017-06-04T00:00:00\", \"2017-06-11T00:00:00\", \"2017-06-18T00:00:00\", \"2017-06-25T00:00:00\", \"2017-07-02T00:00:00\", \"2017-07-09T00:00:00\", \"2017-07-16T00:00:00\", \"2017-07-23T00:00:00\", \"2017-07-30T00:00:00\", \"2017-08-06T00:00:00\", \"2017-08-13T00:00:00\", \"2017-08-20T00:00:00\", \"2017-08-27T00:00:00\", \"2017-09-03T00:00:00\", \"2017-09-10T00:00:00\", \"2017-09-17T00:00:00\", \"2017-09-24T00:00:00\", \"2017-10-01T00:00:00\", \"2017-10-08T00:00:00\", \"2017-10-15T00:00:00\", \"2017-10-22T00:00:00\", \"2017-10-29T00:00:00\", \"2017-11-05T00:00:00\", \"2017-11-12T00:00:00\", \"2017-11-19T00:00:00\", \"2017-11-26T00:00:00\", \"2017-12-03T00:00:00\", \"2017-12-10T00:00:00\", \"2017-12-17T00:00:00\", \"2017-12-24T00:00:00\", \"2017-12-31T00:00:00\", \"2018-01-07T00:00:00\", \"2018-01-14T00:00:00\", \"2018-01-21T00:00:00\", \"2018-01-28T00:00:00\", \"2018-02-04T00:00:00\", \"2018-02-11T00:00:00\", \"2018-02-18T00:00:00\", \"2018-02-25T00:00:00\", \"2018-03-04T00:00:00\", \"2018-03-11T00:00:00\", \"2018-03-18T00:00:00\", \"2018-03-25T00:00:00\", \"2018-04-01T00:00:00\", \"2018-04-08T00:00:00\", \"2018-04-15T00:00:00\", \"2018-04-22T00:00:00\", \"2018-04-29T00:00:00\", \"2018-05-06T00:00:00\", \"2018-05-13T00:00:00\", \"2018-05-20T00:00:00\", \"2018-05-27T00:00:00\", \"2018-06-03T00:00:00\", \"2018-06-10T00:00:00\", \"2018-06-17T00:00:00\", \"2018-06-24T00:00:00\", \"2018-07-01T00:00:00\", \"2018-07-08T00:00:00\", \"2018-07-15T00:00:00\", \"2018-07-22T00:00:00\", \"2018-07-29T00:00:00\", \"2018-08-05T00:00:00\", \"2018-08-12T00:00:00\", \"2018-08-19T00:00:00\", \"2018-08-26T00:00:00\", \"2018-09-02T00:00:00\", \"2018-09-09T00:00:00\", \"2018-09-16T00:00:00\", \"2018-09-23T00:00:00\", \"2018-09-30T00:00:00\", \"2018-10-07T00:00:00\", \"2018-10-14T00:00:00\", \"2018-10-21T00:00:00\", \"2018-10-28T00:00:00\", \"2018-11-04T00:00:00\", \"2018-11-11T00:00:00\", \"2018-11-18T00:00:00\", \"2018-11-25T00:00:00\", \"2018-12-02T00:00:00\", \"2018-12-09T00:00:00\", \"2018-12-16T00:00:00\", \"2018-12-23T00:00:00\", \"2018-12-30T00:00:00\", \"2019-01-06T00:00:00\", \"2019-01-13T00:00:00\", \"2019-01-20T00:00:00\", \"2019-01-27T00:00:00\", \"2019-02-03T00:00:00\", \"2019-02-10T00:00:00\", \"2019-02-17T00:00:00\", \"2019-02-24T00:00:00\", \"2019-03-03T00:00:00\", \"2019-03-10T00:00:00\", \"2019-03-17T00:00:00\", \"2019-03-24T00:00:00\", \"2019-03-31T00:00:00\", \"2019-04-07T00:00:00\", \"2019-04-14T00:00:00\", \"2019-04-21T00:00:00\", \"2019-04-28T00:00:00\", \"2019-05-05T00:00:00\", \"2019-05-12T00:00:00\", \"2019-05-19T00:00:00\", \"2019-05-26T00:00:00\", \"2019-06-02T00:00:00\", \"2019-06-09T00:00:00\", \"2019-06-16T00:00:00\", \"2019-06-23T00:00:00\", \"2019-06-30T00:00:00\", \"2019-07-07T00:00:00\", \"2019-07-14T00:00:00\", \"2019-07-21T00:00:00\", \"2019-07-28T00:00:00\", \"2019-08-04T00:00:00\", \"2019-08-11T00:00:00\", \"2019-08-18T00:00:00\", \"2019-08-25T00:00:00\", \"2019-09-01T00:00:00\", \"2019-09-08T00:00:00\", \"2019-09-15T00:00:00\", \"2019-09-22T00:00:00\", \"2019-09-29T00:00:00\", \"2019-10-06T00:00:00\", \"2019-10-13T00:00:00\", \"2019-10-20T00:00:00\", \"2019-10-27T00:00:00\", \"2019-11-03T00:00:00\", \"2019-11-10T00:00:00\", \"2019-11-17T00:00:00\", \"2019-11-24T00:00:00\", \"2019-12-01T00:00:00\", \"2019-12-08T00:00:00\", \"2019-12-15T00:00:00\", \"2019-12-22T00:00:00\", \"2019-12-29T00:00:00\", \"2020-01-05T00:00:00\", \"2020-01-12T00:00:00\", \"2020-01-19T00:00:00\", \"2020-01-26T00:00:00\", \"2020-02-02T00:00:00\", \"2020-02-09T00:00:00\", \"2020-02-16T00:00:00\", \"2020-02-23T00:00:00\", \"2020-03-01T00:00:00\", \"2020-03-08T00:00:00\", \"2020-03-15T00:00:00\", \"2020-03-22T00:00:00\", \"2020-03-29T00:00:00\", \"2020-04-05T00:00:00\", \"2020-04-12T00:00:00\", \"2020-04-19T00:00:00\", \"2020-04-26T00:00:00\", \"2020-05-03T00:00:00\", \"2020-05-10T00:00:00\", \"2020-05-17T00:00:00\", \"2020-05-24T00:00:00\", \"2020-05-31T00:00:00\", \"2020-06-07T00:00:00\", \"2020-06-14T00:00:00\", \"2020-06-21T00:00:00\", \"2020-06-28T00:00:00\", \"2020-07-05T00:00:00\", \"2020-07-12T00:00:00\", \"2020-07-19T00:00:00\", \"2020-07-26T00:00:00\", \"2020-08-02T00:00:00\", \"2020-08-09T00:00:00\", \"2020-08-16T00:00:00\", \"2020-08-23T00:00:00\", \"2020-08-30T00:00:00\", \"2020-09-06T00:00:00\", \"2020-09-13T00:00:00\", \"2020-09-20T00:00:00\", \"2020-09-27T00:00:00\", \"2020-10-04T00:00:00\", \"2020-10-11T00:00:00\", \"2020-10-18T00:00:00\", \"2020-10-25T00:00:00\", \"2020-11-01T00:00:00\", \"2020-11-08T00:00:00\", \"2020-11-15T00:00:00\", \"2020-11-22T00:00:00\", \"2020-11-29T00:00:00\", \"2020-12-06T00:00:00\", \"2020-12-13T00:00:00\", \"2020-12-20T00:00:00\", \"2020-12-27T00:00:00\", \"2021-01-03T00:00:00\", \"2021-01-10T00:00:00\", \"2021-01-17T00:00:00\", \"2021-01-24T00:00:00\", \"2021-01-31T00:00:00\", \"2021-02-07T00:00:00\", \"2021-02-14T00:00:00\", \"2021-02-21T00:00:00\", \"2021-02-28T00:00:00\", \"2021-03-07T00:00:00\", \"2021-03-14T00:00:00\", \"2021-03-21T00:00:00\", \"2021-03-28T00:00:00\"], \"y\": [-702.743025600178, -538.9119100923099, -584.8098357209547, -765.4716147553636, -890.6156965752343, -869.4105121545554, -864.9863536794701, -719.6277805423724, -688.1336459652839, -667.701750292329, -1154.3583256017282, -1198.460345214432, -1363.777984453699, -1355.0539343183682, -1121.3024082241018, -1060.97774889851, -851.3791194371206, -683.60003901042, -474.0945297064018, -332.37834454608037, -255.79757388059716, -329.8184549210491, -145.2684918099576, -289.0130071964604, -171.26466001985318, -177.7873767453466, -148.60155549229057, -40.65904698779195, -131.09285151420136, -17.606315879344947, 236.14473068584903, 388.71915245579294, 366.6328191428538, 468.8780065351066, 353.5451342919541, 376.6273118467607, 160.89028252017852, 68.82650581788403, -40.006049016353245, -201.2775982592584, -65.09927829225035, -47.94334370084016, 156.61461305158537, 308.90932229603914, 381.38847299331064, 422.38110476009933, 306.6948167440114, 108.14813617355685, 514.1421656983821, 884.6833047488371, 1143.7457404122433, 851.8781823936461, 363.9767721132648, 449.62789609137417, 418.7164942192112, 264.9262616552551, 176.20380685451255, 137.57968413445633, 129.42085148600108, 331.24725236211725, 304.40336622673567, 423.69929235155814, -78.30239904654718, -218.936805006937, -317.99735793048785, -398.1294889838591, -134.59422905669544, -51.93164626856105, 133.41246634713934, 331.37285506862645, 509.5074890301212, 650.0600450394859, 763.9251282381447, 675.122156003451, 848.7060547598076, 740.5941523366428, 885.0936408209818, 859.6776267590067, 863.3993063089474, 983.9143371250075, 863.7838968689148, 956.2068960189945, 1207.5170562117228, 1390.282118004542, 1406.3820947663835, 1480.560533218324, 1372.0893674058925, 1362.8730864361833, 1197.1288007362791, 1060.8659014607174, 1058.3596975496039, 790.3802007815748, 934.4997772260294, 948.2215511556005, 1132.9985140061053, 1299.6695648126906, 1439.6895311744365, 1345.841116582912, 1335.1238209181074, 1124.4489837483852, 1444.1149177938996, 1848.33926549046, 2130.08549573455, 1888.4259953669562, 1303.393130295156, 1429.94535207046, 1442.1235442606703, 1290.7142895830884, 1179.9604248824635, 1118.7073540077608, 1130.7395023825193, 1269.0630735677687, 1303.2929574109394, 1398.0424720833316, 1003.9155393465699, 754.6591225556022, 714.2138701660533, 608.3149951843516, 902.5966733206988, 944.3666666870549, 1093.1127827773826, 1291.175672292742, 1504.2002288497706, 1634.0646131115109, 1771.209074935815, 1682.3718086483268, 1835.3867010278982, 1829.7590626150495, 1779.7688085749587, 1884.467302586424, 1845.7747795314244, 1999.197027570598, 1907.3157948154003, 1931.438195213842, 2178.41016169076, 2386.3661039596436, 2405.3707514144853, 2485.730920892558, 2395.958017418271, 2368.3867353652904, 2219.7706289121297, 2105.2224375717187, 2057.1013257153127, 1803.583248801744, 1931.5866489024766, 1946.89707173046, 2107.5071792529207, 2296.2434927321665, 2476.7548894986467, 2369.013210589884, 2355.5208472588047, 2154.3430056652887, 2360.1440058956987, 2808.557260922714, 3106.484891356312, 3012.2133509742225, 2375.6231150719223, 2403.6010763824397, 2467.3915959895176, 2320.7187190215636, 2172.925284449192, 2144.764556490868, 2137.5984525694957, 2246.988936870831, 2320.2537540208023, 2387.8312155492495, 2122.2446852865987, 1737.4413985262227, 1771.2711811687714, 1610.291358378644, 1847.1717315481064, 1914.7301709462681, 2084.6669802202205, 2253.983749584915, 2535.3134006057826, 2665.3800836519395, 2764.0825984443973, 2720.07768010336, 2790.581728923101, 2843.0625493454418, 2737.107153517977, 2917.558918973039, 2838.413670218505, 3057.7825184339226, 2897.6697837478505, 2889.9424701475373, 3126.021750003699, 3359.4212184749167, 3417.5585692297254, 3528.077746624519, 3447.135145930456, 3408.993840889888, 3318.57070142917, 3053.065344103782, 3107.5724735707836, 2858.1134501563383, 2978.038120041022, 2959.4265865290845, 3053.849372962438, 3294.9578064431853, 3382.448034411281, 3384.7149979659, 3401.0829237700373, 3228.974055832613, 3207.1442387886646, 3709.5749404132066, 4037.880520239233, 4136.3484472066, 3616.4234102093787, 3425.6002421078183, 3503.7560579161136, 3369.4075320648617, 3213.7860910913705, 3139.6115890238607, 3155.3262379624366, 3261.6337256718316, 3319.696608797288, 3386.579333061759, 3252.252486927223, 2794.91532854038, 2785.9449884596934, 2626.1126553221684]}, {\"fill\": \"tonexty\", \"fillcolor\": \"rgba(0, 90, 181, 0.15)\", \"legendgroup\": \"interval\", \"line\": {\"color\": \"rgba(0, 90, 181, 0.5)\", \"width\": 0.0}, \"mode\": \"lines\", \"name\": \"Upper Bound\", \"type\": \"scatter\", \"x\": [\"2017-01-01T00:00:00\", \"2017-01-08T00:00:00\", \"2017-01-15T00:00:00\", \"2017-01-22T00:00:00\", \"2017-01-29T00:00:00\", \"2017-02-05T00:00:00\", \"2017-02-12T00:00:00\", \"2017-02-19T00:00:00\", \"2017-02-26T00:00:00\", \"2017-03-05T00:00:00\", \"2017-03-12T00:00:00\", \"2017-03-19T00:00:00\", \"2017-03-26T00:00:00\", \"2017-04-02T00:00:00\", \"2017-04-09T00:00:00\", \"2017-04-16T00:00:00\", \"2017-04-23T00:00:00\", \"2017-04-30T00:00:00\", \"2017-05-07T00:00:00\", \"2017-05-14T00:00:00\", \"2017-05-21T00:00:00\", \"2017-05-28T00:00:00\", \"2017-06-04T00:00:00\", \"2017-06-11T00:00:00\", \"2017-06-18T00:00:00\", \"2017-06-25T00:00:00\", \"2017-07-02T00:00:00\", \"2017-07-09T00:00:00\", \"2017-07-16T00:00:00\", \"2017-07-23T00:00:00\", \"2017-07-30T00:00:00\", \"2017-08-06T00:00:00\", \"2017-08-13T00:00:00\", \"2017-08-20T00:00:00\", \"2017-08-27T00:00:00\", \"2017-09-03T00:00:00\", \"2017-09-10T00:00:00\", \"2017-09-17T00:00:00\", \"2017-09-24T00:00:00\", \"2017-10-01T00:00:00\", \"2017-10-08T00:00:00\", \"2017-10-15T00:00:00\", \"2017-10-22T00:00:00\", \"2017-10-29T00:00:00\", \"2017-11-05T00:00:00\", \"2017-11-12T00:00:00\", \"2017-11-19T00:00:00\", \"2017-11-26T00:00:00\", \"2017-12-03T00:00:00\", \"2017-12-10T00:00:00\", \"2017-12-17T00:00:00\", \"2017-12-24T00:00:00\", \"2017-12-31T00:00:00\", \"2018-01-07T00:00:00\", \"2018-01-14T00:00:00\", \"2018-01-21T00:00:00\", \"2018-01-28T00:00:00\", \"2018-02-04T00:00:00\", \"2018-02-11T00:00:00\", \"2018-02-18T00:00:00\", \"2018-02-25T00:00:00\", \"2018-03-04T00:00:00\", \"2018-03-11T00:00:00\", \"2018-03-18T00:00:00\", \"2018-03-25T00:00:00\", \"2018-04-01T00:00:00\", \"2018-04-08T00:00:00\", \"2018-04-15T00:00:00\", \"2018-04-22T00:00:00\", \"2018-04-29T00:00:00\", \"2018-05-06T00:00:00\", \"2018-05-13T00:00:00\", \"2018-05-20T00:00:00\", \"2018-05-27T00:00:00\", \"2018-06-03T00:00:00\", \"2018-06-10T00:00:00\", \"2018-06-17T00:00:00\", \"2018-06-24T00:00:00\", \"2018-07-01T00:00:00\", \"2018-07-08T00:00:00\", \"2018-07-15T00:00:00\", \"2018-07-22T00:00:00\", \"2018-07-29T00:00:00\", \"2018-08-05T00:00:00\", \"2018-08-12T00:00:00\", \"2018-08-19T00:00:00\", \"2018-08-26T00:00:00\", \"2018-09-02T00:00:00\", \"2018-09-09T00:00:00\", \"2018-09-16T00:00:00\", \"2018-09-23T00:00:00\", \"2018-09-30T00:00:00\", \"2018-10-07T00:00:00\", \"2018-10-14T00:00:00\", \"2018-10-21T00:00:00\", \"2018-10-28T00:00:00\", \"2018-11-04T00:00:00\", \"2018-11-11T00:00:00\", \"2018-11-18T00:00:00\", \"2018-11-25T00:00:00\", \"2018-12-02T00:00:00\", \"2018-12-09T00:00:00\", \"2018-12-16T00:00:00\", \"2018-12-23T00:00:00\", \"2018-12-30T00:00:00\", \"2019-01-06T00:00:00\", \"2019-01-13T00:00:00\", \"2019-01-20T00:00:00\", \"2019-01-27T00:00:00\", \"2019-02-03T00:00:00\", \"2019-02-10T00:00:00\", \"2019-02-17T00:00:00\", \"2019-02-24T00:00:00\", \"2019-03-03T00:00:00\", \"2019-03-10T00:00:00\", \"2019-03-17T00:00:00\", \"2019-03-24T00:00:00\", \"2019-03-31T00:00:00\", \"2019-04-07T00:00:00\", \"2019-04-14T00:00:00\", \"2019-04-21T00:00:00\", \"2019-04-28T00:00:00\", \"2019-05-05T00:00:00\", \"2019-05-12T00:00:00\", \"2019-05-19T00:00:00\", \"2019-05-26T00:00:00\", \"2019-06-02T00:00:00\", \"2019-06-09T00:00:00\", \"2019-06-16T00:00:00\", \"2019-06-23T00:00:00\", \"2019-06-30T00:00:00\", \"2019-07-07T00:00:00\", \"2019-07-14T00:00:00\", \"2019-07-21T00:00:00\", \"2019-07-28T00:00:00\", \"2019-08-04T00:00:00\", \"2019-08-11T00:00:00\", \"2019-08-18T00:00:00\", \"2019-08-25T00:00:00\", \"2019-09-01T00:00:00\", \"2019-09-08T00:00:00\", \"2019-09-15T00:00:00\", \"2019-09-22T00:00:00\", \"2019-09-29T00:00:00\", \"2019-10-06T00:00:00\", \"2019-10-13T00:00:00\", \"2019-10-20T00:00:00\", \"2019-10-27T00:00:00\", \"2019-11-03T00:00:00\", \"2019-11-10T00:00:00\", \"2019-11-17T00:00:00\", \"2019-11-24T00:00:00\", \"2019-12-01T00:00:00\", \"2019-12-08T00:00:00\", \"2019-12-15T00:00:00\", \"2019-12-22T00:00:00\", \"2019-12-29T00:00:00\", \"2020-01-05T00:00:00\", \"2020-01-12T00:00:00\", \"2020-01-19T00:00:00\", \"2020-01-26T00:00:00\", \"2020-02-02T00:00:00\", \"2020-02-09T00:00:00\", \"2020-02-16T00:00:00\", \"2020-02-23T00:00:00\", \"2020-03-01T00:00:00\", \"2020-03-08T00:00:00\", \"2020-03-15T00:00:00\", \"2020-03-22T00:00:00\", \"2020-03-29T00:00:00\", \"2020-04-05T00:00:00\", \"2020-04-12T00:00:00\", \"2020-04-19T00:00:00\", \"2020-04-26T00:00:00\", \"2020-05-03T00:00:00\", \"2020-05-10T00:00:00\", \"2020-05-17T00:00:00\", \"2020-05-24T00:00:00\", \"2020-05-31T00:00:00\", \"2020-06-07T00:00:00\", \"2020-06-14T00:00:00\", \"2020-06-21T00:00:00\", \"2020-06-28T00:00:00\", \"2020-07-05T00:00:00\", \"2020-07-12T00:00:00\", \"2020-07-19T00:00:00\", \"2020-07-26T00:00:00\", \"2020-08-02T00:00:00\", \"2020-08-09T00:00:00\", \"2020-08-16T00:00:00\", \"2020-08-23T00:00:00\", \"2020-08-30T00:00:00\", \"2020-09-06T00:00:00\", \"2020-09-13T00:00:00\", \"2020-09-20T00:00:00\", \"2020-09-27T00:00:00\", \"2020-10-04T00:00:00\", \"2020-10-11T00:00:00\", \"2020-10-18T00:00:00\", \"2020-10-25T00:00:00\", \"2020-11-01T00:00:00\", \"2020-11-08T00:00:00\", \"2020-11-15T00:00:00\", \"2020-11-22T00:00:00\", \"2020-11-29T00:00:00\", \"2020-12-06T00:00:00\", \"2020-12-13T00:00:00\", \"2020-12-20T00:00:00\", \"2020-12-27T00:00:00\", \"2021-01-03T00:00:00\", \"2021-01-10T00:00:00\", \"2021-01-17T00:00:00\", \"2021-01-24T00:00:00\", \"2021-01-31T00:00:00\", \"2021-02-07T00:00:00\", \"2021-02-14T00:00:00\", \"2021-02-21T00:00:00\", \"2021-02-28T00:00:00\", \"2021-03-07T00:00:00\", \"2021-03-14T00:00:00\", \"2021-03-21T00:00:00\", \"2021-03-28T00:00:00\"], \"y\": [10570.246639701021, 10734.077755208888, 10688.179829580244, 10507.518050545834, 10382.373968725964, 10403.579153146642, 10408.003311621727, 10553.361884758826, 10584.856019335915, 10605.28791500887, 10118.63133969947, 10074.529320086767, 9909.2116808475, 9917.93573098283, 10151.687257077097, 10212.011916402687, 10421.610545864078, 10589.389626290778, 10798.895135594797, 10940.611320755117, 11017.192091420602, 10943.17121038015, 11127.721173491242, 10983.976658104737, 11101.725005281345, 11095.20228855585, 11124.388109808908, 11232.330618313406, 11141.896813786996, 11255.383349421852, 11509.134395987046, 11661.708817756991, 11639.622484444051, 11741.867671836306, 11626.534799593152, 11649.616977147958, 11433.879947821377, 11341.816171119082, 11232.983616284844, 11071.712067041939, 11207.890387008949, 11225.046321600359, 11429.604278352785, 11581.898987597237, 11654.378138294509, 11695.370770061298, 11579.68448204521, 11381.137801474755, 11787.13183099958, 12157.672970050036, 12416.735405713442, 12124.867847694844, 11636.966437414463, 11722.617561392573, 11691.70615952041, 11537.915926956453, 11449.193472155712, 11410.569349435655, 11402.4105167872, 11604.236917663315, 11577.393031527934, 11696.688957652757, 11194.687266254652, 11054.052860294261, 10954.99230737071, 10874.86017631734, 11138.395436244504, 11221.058019032636, 11406.402131648338, 11604.362520369825, 11782.497154331319, 11923.049710340685, 12036.914793539343, 11948.11182130465, 12121.695720061005, 12013.583817637842, 12158.08330612218, 12132.667292060205, 12136.388971610146, 12256.904002426207, 12136.773562170114, 12229.196561320194, 12480.50672151292, 12663.27178330574, 12679.37176006758, 12753.550198519522, 12645.07903270709, 12635.862751737382, 12470.118466037478, 12333.855566761915, 12331.349362850802, 12063.369866082772, 12207.489442527229, 12221.211216456799, 12405.988179307304, 12572.659230113888, 12712.679196475634, 12618.83078188411, 12608.113486219307, 12397.438649049584, 12717.104583095097, 13121.328930791658, 13403.075161035747, 13161.415660668154, 12576.382795596353, 12702.93501737166, 12715.113209561869, 12563.703954884288, 12452.950090183662, 12391.697019308958, 12403.729167683718, 12542.052738868966, 12576.282622712137, 12671.032137384529, 12276.905204647768, 12027.6487878568, 11987.203535467252, 11881.30466048555, 12175.586338621897, 12217.356331988252, 12366.102448078582, 12564.16533759394, 12777.189894150968, 12907.05427841271, 13044.198740237014, 12955.361473949524, 13108.376366329096, 13102.748727916249, 13052.758473876158, 13157.456967887621, 13118.764444832623, 13272.186692871797, 13180.305460116599, 13204.42786051504, 13451.399826991958, 13659.355769260841, 13678.360416715685, 13758.720586193756, 13668.94768271947, 13641.37640066649, 13492.760294213327, 13378.212102872916, 13330.09099101651, 13076.572914102942, 13204.576314203674, 13219.886737031658, 13380.49684455412, 13569.233158033365, 13749.744554799845, 13642.002875891081, 13628.510512560002, 13427.332670966487, 13633.133671196898, 14081.546926223913, 14379.474556657511, 14285.20301627542, 13648.612780373121, 13676.590741683638, 13740.381261290717, 13593.708384322763, 13445.91494975039, 13417.754221792067, 13410.588117870695, 13519.978602172028, 13593.243419322, 13660.820880850448, 13395.234350587798, 13010.431063827422, 13044.26084646997, 12883.281023679843, 13120.161396849304, 13187.719836247466, 13357.65664552142, 13526.973414886113, 13808.303065906981, 13938.369748953137, 14037.072263745595, 13993.067345404557, 14063.571394224298, 14116.05221464664, 14010.096818819176, 14190.548584274238, 14111.403335519703, 14330.77218373512, 14170.65944904905, 14162.932135448737, 14399.011415304896, 14632.410883776116, 14690.548234530925, 14801.067411925716, 14720.124811231653, 14681.983506191085, 14591.56036673037, 14326.05500940498, 14380.562138871981, 14131.103115457536, 14251.02778534222, 14232.416251830284, 14326.839038263635, 14567.947471744385, 14655.437699712478, 14657.704663267097, 14674.072589071235, 14501.963721133812, 14480.133904089864, 14982.564605714404, 15310.870185540432, 15409.338112507798, 14889.413075510576, 14698.589907409016, 14776.745723217311, 14642.39719736606, 14486.77575639257, 14412.601254325058, 14428.315903263636, 14534.623390973029, 14592.686274098487, 14659.568998362956, 14525.24215222842, 14067.904993841577, 14058.93465376089, 13899.102320623366]}, {\"line\": {\"color\": \"rgba(250, 43, 20, 0.7)\"}, \"marker\": {\"color\": \"rgba(250, 43, 20, 0.7)\", \"size\": 2.0}, \"mode\": \"lines+markers\", \"name\": \"Actual\", \"opacity\": 1.0, \"type\": \"scatter\", \"x\": [\"2017-01-01T00:00:00\", \"2017-01-08T00:00:00\", \"2017-01-15T00:00:00\", \"2017-01-22T00:00:00\", \"2017-01-29T00:00:00\", \"2017-02-05T00:00:00\", \"2017-02-12T00:00:00\", \"2017-02-19T00:00:00\", \"2017-02-26T00:00:00\", \"2017-03-05T00:00:00\", \"2017-03-12T00:00:00\", \"2017-03-19T00:00:00\", \"2017-03-26T00:00:00\", \"2017-04-02T00:00:00\", \"2017-04-09T00:00:00\", \"2017-04-16T00:00:00\", \"2017-04-23T00:00:00\", \"2017-04-30T00:00:00\", \"2017-05-07T00:00:00\", \"2017-05-14T00:00:00\", \"2017-05-21T00:00:00\", \"2017-05-28T00:00:00\", \"2017-06-04T00:00:00\", \"2017-06-11T00:00:00\", \"2017-06-18T00:00:00\", \"2017-06-25T00:00:00\", \"2017-07-02T00:00:00\", \"2017-07-09T00:00:00\", \"2017-07-16T00:00:00\", \"2017-07-23T00:00:00\", \"2017-07-30T00:00:00\", \"2017-08-06T00:00:00\", \"2017-08-13T00:00:00\", \"2017-08-20T00:00:00\", \"2017-08-27T00:00:00\", \"2017-09-03T00:00:00\", \"2017-09-10T00:00:00\", \"2017-09-17T00:00:00\", \"2017-09-24T00:00:00\", \"2017-10-01T00:00:00\", \"2017-10-08T00:00:00\", \"2017-10-15T00:00:00\", \"2017-10-22T00:00:00\", \"2017-10-29T00:00:00\", \"2017-11-05T00:00:00\", \"2017-11-12T00:00:00\", \"2017-11-19T00:00:00\", \"2017-11-26T00:00:00\", \"2017-12-03T00:00:00\", \"2017-12-10T00:00:00\", \"2017-12-17T00:00:00\", \"2017-12-24T00:00:00\", \"2017-12-31T00:00:00\", \"2018-01-07T00:00:00\", \"2018-01-14T00:00:00\", \"2018-01-21T00:00:00\", \"2018-01-28T00:00:00\", \"2018-02-04T00:00:00\", \"2018-02-11T00:00:00\", \"2018-02-18T00:00:00\", \"2018-02-25T00:00:00\", \"2018-03-04T00:00:00\", \"2018-03-11T00:00:00\", \"2018-03-18T00:00:00\", \"2018-03-25T00:00:00\", \"2018-04-01T00:00:00\", \"2018-04-08T00:00:00\", \"2018-04-15T00:00:00\", \"2018-04-22T00:00:00\", \"2018-04-29T00:00:00\", \"2018-05-06T00:00:00\", \"2018-05-13T00:00:00\", \"2018-05-20T00:00:00\", \"2018-05-27T00:00:00\", \"2018-06-03T00:00:00\", \"2018-06-10T00:00:00\", \"2018-06-17T00:00:00\", \"2018-06-24T00:00:00\", \"2018-07-01T00:00:00\", \"2018-07-08T00:00:00\", \"2018-07-15T00:00:00\", \"2018-07-22T00:00:00\", \"2018-07-29T00:00:00\", \"2018-08-05T00:00:00\", \"2018-08-12T00:00:00\", \"2018-08-19T00:00:00\", \"2018-08-26T00:00:00\", \"2018-09-02T00:00:00\", \"2018-09-09T00:00:00\", \"2018-09-16T00:00:00\", \"2018-09-23T00:00:00\", \"2018-09-30T00:00:00\", \"2018-10-07T00:00:00\", \"2018-10-14T00:00:00\", \"2018-10-21T00:00:00\", \"2018-10-28T00:00:00\", \"2018-11-04T00:00:00\", \"2018-11-11T00:00:00\", \"2018-11-18T00:00:00\", \"2018-11-25T00:00:00\", \"2018-12-02T00:00:00\", \"2018-12-09T00:00:00\", \"2018-12-16T00:00:00\", \"2018-12-23T00:00:00\", \"2018-12-30T00:00:00\", \"2019-01-06T00:00:00\", \"2019-01-13T00:00:00\", \"2019-01-20T00:00:00\", \"2019-01-27T00:00:00\", \"2019-02-03T00:00:00\", \"2019-02-10T00:00:00\", \"2019-02-17T00:00:00\", \"2019-02-24T00:00:00\", \"2019-03-03T00:00:00\", \"2019-03-10T00:00:00\", \"2019-03-17T00:00:00\", \"2019-03-24T00:00:00\", \"2019-03-31T00:00:00\", \"2019-04-07T00:00:00\", \"2019-04-14T00:00:00\", \"2019-04-21T00:00:00\", \"2019-04-28T00:00:00\", \"2019-05-05T00:00:00\", \"2019-05-12T00:00:00\", \"2019-05-19T00:00:00\", \"2019-05-26T00:00:00\", \"2019-06-02T00:00:00\", \"2019-06-09T00:00:00\", \"2019-06-16T00:00:00\", \"2019-06-23T00:00:00\", \"2019-06-30T00:00:00\", \"2019-07-07T00:00:00\", \"2019-07-14T00:00:00\", \"2019-07-21T00:00:00\", \"2019-07-28T00:00:00\", \"2019-08-04T00:00:00\", \"2019-08-11T00:00:00\", \"2019-08-18T00:00:00\", \"2019-08-25T00:00:00\", \"2019-09-01T00:00:00\", \"2019-09-08T00:00:00\", \"2019-09-15T00:00:00\", \"2019-09-22T00:00:00\", \"2019-09-29T00:00:00\", \"2019-10-06T00:00:00\", \"2019-10-13T00:00:00\", \"2019-10-20T00:00:00\", \"2019-10-27T00:00:00\", \"2019-11-03T00:00:00\", \"2019-11-10T00:00:00\", \"2019-11-17T00:00:00\", \"2019-11-24T00:00:00\", \"2019-12-01T00:00:00\", \"2019-12-08T00:00:00\", \"2019-12-15T00:00:00\", \"2019-12-22T00:00:00\", \"2019-12-29T00:00:00\", \"2020-01-05T00:00:00\", \"2020-01-12T00:00:00\", \"2020-01-19T00:00:00\", \"2020-01-26T00:00:00\", \"2020-02-02T00:00:00\", \"2020-02-09T00:00:00\", \"2020-02-16T00:00:00\", \"2020-02-23T00:00:00\", \"2020-03-01T00:00:00\", \"2020-03-08T00:00:00\", \"2020-03-15T00:00:00\", \"2020-03-22T00:00:00\", \"2020-03-29T00:00:00\", \"2020-04-05T00:00:00\", \"2020-04-12T00:00:00\", \"2020-04-19T00:00:00\", \"2020-04-26T00:00:00\", \"2020-05-03T00:00:00\", \"2020-05-10T00:00:00\", \"2020-05-17T00:00:00\", \"2020-05-24T00:00:00\", \"2020-05-31T00:00:00\", \"2020-06-07T00:00:00\", \"2020-06-14T00:00:00\", \"2020-06-21T00:00:00\", \"2020-06-28T00:00:00\", \"2020-07-05T00:00:00\", \"2020-07-12T00:00:00\", \"2020-07-19T00:00:00\", \"2020-07-26T00:00:00\", \"2020-08-02T00:00:00\", \"2020-08-09T00:00:00\", \"2020-08-16T00:00:00\", \"2020-08-23T00:00:00\", \"2020-08-30T00:00:00\", \"2020-09-06T00:00:00\", \"2020-09-13T00:00:00\", \"2020-09-20T00:00:00\", \"2020-09-27T00:00:00\", \"2020-10-04T00:00:00\", \"2020-10-11T00:00:00\", \"2020-10-18T00:00:00\", \"2020-10-25T00:00:00\", \"2020-11-01T00:00:00\", \"2020-11-08T00:00:00\", \"2020-11-15T00:00:00\", \"2020-11-22T00:00:00\", \"2020-11-29T00:00:00\", \"2020-12-06T00:00:00\", \"2020-12-13T00:00:00\", \"2020-12-20T00:00:00\", \"2020-12-27T00:00:00\", \"2021-01-03T00:00:00\", \"2021-01-10T00:00:00\", \"2021-01-17T00:00:00\", \"2021-01-24T00:00:00\", \"2021-01-31T00:00:00\", \"2021-02-07T00:00:00\", \"2021-02-14T00:00:00\", \"2021-02-21T00:00:00\", \"2021-02-28T00:00:00\", \"2021-03-07T00:00:00\", \"2021-03-14T00:00:00\", \"2021-03-21T00:00:00\", \"2021-03-28T00:00:00\"], \"y\": [981.6376879920928, 915.2058142519436, 817.0549635712492, 921.0022294154238, 916.4743844403482, 1018.327562124935, 1002.9858857063558, 1052.5456970824382, 1165.8244162493393, 1258.6520904332842, 1198.4495991848353, 1009.8453678806043, 965.6647718384512, 1080.593671156791, 1195.2263193941758, 1168.5849291604588, 1235.959071154503, 1331.428636861853, 1541.9670501659964, 1781.992960291066, 2022.2277678510666, 2188.8339780159095, 2524.769903107526, 2907.1849046281804, 2564.159564217592, 2557.9534132747376, 2445.2220216764304, 2538.7765526156186, 1938.9989240757789, 2766.018589895212, 2674.9081195927315, 3236.1315535456533, 4022.9411932688417, 4059.5180476308906, 4340.433891081189, 4575.300758474094, 4178.9680422029805, 3634.043061056025, 3694.9808246963107, 4290.272278589144, 4497.856967223395, 5608.239015452093, 5909.253738347273, 5890.56903730675, 7458.414757038099, 6113.264264574333, 7827.131551353381, 8971.770344226623, 11291.622579057115, 14132.601710642339, 19186.169610256275, 13652.628406286824, 13337.513232213194, 16516.38596170831, 13678.34344394982, 11894.038151210543, 11673.754262195793, 8718.772985557165, 8187.7584321186805, 10737.516565552482, 9594.672009343749, 11241.467414556733, 9059.7413486486, 7678.897274336678, 8535.27998779133, 6796.601292610656, 6988.220222870914, 8215.062462895481, 8888.486728819395, 9355.907476675324, 9615.743948307036, 8550.046166780056, 8362.053475615578, 7316.551009348536, 7690.58057537641, 7132.902355224252, 6508.827389822967, 6023.8896670909435, 6349.980904651709, 6738.8721180935745, 6318.013231735982, 7447.723313695186, 8202.498761161012, 6995.192839452979, 6305.226968673242, 6401.7003608656405, 6670.069420563303, 7240.745144965029, 6295.955871608836, 6481.711958450328, 6707.643346377803, 6578.164624514121, 6533.448685133508, 6226.1260207690675, 6434.035994542509, 6402.290679530039, 6369.730653024255, 6337.526091595159, 5534.734346708526, 3756.9321726632147, 4120.589503435377, 3471.6984966057476, 3217.320694474901, 3978.056280943766, 3787.8872244049644, 3885.3312363064815, 3575.310055370954, 3600.5671484172353, 3544.653609846713, 3424.824032234868, 3607.855117072525, 3585.2871700518717, 3985.1708804270693, 3800.987502450217, 3892.6368754301884, 3963.4112159366673, 3968.46245122984, 4088.4294700084174, 5128.484710430335, 5078.929244976857, 5287.273093444004, 5169.575513691476, 5722.166836310573, 7154.9551372121105, 7933.9268158052155, 8128.546958223451, 8670.265812880712, 7798.498155120784, 9095.289101530452, 10746.900511013211, 11542.5519109653, 11311.47674802796, 10857.026633891062, 10577.614454422597, 9484.914105643693, 10820.892324169692, 11378.232876254126, 10292.527044551465, 10100.656939299763, 9626.724277129402, 10460.721158303631, 10316.665172788826, 9978.878329965732, 8073.95375222317, 7980.2613741350415, 8358.546977063057, 8020.297620718581, 9413.283675192675, 9217.614908547763, 8896.594757823774, 8514.029198381439, 7146.012933634438, 7353.310525060708, 7495.626457542383, 7089.723106689306, 7228.238391081989, 7345.635970926209, 7430.027209611784, 8111.715362809299, 8847.166821810986, 8430.129199500645, 9377.036114146784, 10080.72238297771, 9905.53388478716, 9870.245958296517, 8557.198634572247, 8569.848185239654, 5300.8230481772, 6132.192548689882, 6104.824055534396, 6796.675729856801, 6954.061312250376, 7166.968470350743, 7603.793608820947, 8979.892588601406, 8687.485435756498, 9626.880262499786, 9119.084263966222, 9546.667359008288, 9618.2132603281, 9403.238615212738, 9348.204026697782, 9056.25733932299, 9062.05921703053, 9249.438246949527, 9154.807427888656, 9834.34345093738, 11333.746837542161, 11672.131345720929, 11850.765200290209, 11623.091878436793, 11609.048559349349, 10201.799719070545, 10393.662602084078, 10915.45825408122, 10717.587523472932, 10604.973839338634, 11360.626362271318, 11424.963448037344, 13056.228187102959, 13769.800513425602, 15202.594518399836, 15995.998189848071, 18432.242585682645, 17991.419820260784, 19145.148466569415, 19113.047104531674, 23594.411731075204, 27043.386470000005, 33467.36252562915, 39727.27752555421, 35650.76418554722, 32225.07011977885, 33450.93785876327, 38711.77455524941, 48600.49151849026, 57040.825943830474, 44818.44755210362, 50218.21680438112, 60455.84483148646, 57312.59853645818, 55832.958823907036]}, {\"line\": {\"color\": \"rgba(0, 90, 181, 0.7)\", \"dash\": \"solid\"}, \"name\": \"Forecast\", \"type\": \"scatter\", \"x\": [\"2017-01-01T00:00:00\", \"2017-01-08T00:00:00\", \"2017-01-15T00:00:00\", \"2017-01-22T00:00:00\", \"2017-01-29T00:00:00\", \"2017-02-05T00:00:00\", \"2017-02-12T00:00:00\", \"2017-02-19T00:00:00\", \"2017-02-26T00:00:00\", \"2017-03-05T00:00:00\", \"2017-03-12T00:00:00\", \"2017-03-19T00:00:00\", \"2017-03-26T00:00:00\", \"2017-04-02T00:00:00\", \"2017-04-09T00:00:00\", \"2017-04-16T00:00:00\", \"2017-04-23T00:00:00\", \"2017-04-30T00:00:00\", \"2017-05-07T00:00:00\", \"2017-05-14T00:00:00\", \"2017-05-21T00:00:00\", \"2017-05-28T00:00:00\", \"2017-06-04T00:00:00\", \"2017-06-11T00:00:00\", \"2017-06-18T00:00:00\", \"2017-06-25T00:00:00\", \"2017-07-02T00:00:00\", \"2017-07-09T00:00:00\", \"2017-07-16T00:00:00\", \"2017-07-23T00:00:00\", \"2017-07-30T00:00:00\", \"2017-08-06T00:00:00\", \"2017-08-13T00:00:00\", \"2017-08-20T00:00:00\", \"2017-08-27T00:00:00\", \"2017-09-03T00:00:00\", \"2017-09-10T00:00:00\", \"2017-09-17T00:00:00\", \"2017-09-24T00:00:00\", \"2017-10-01T00:00:00\", \"2017-10-08T00:00:00\", \"2017-10-15T00:00:00\", \"2017-10-22T00:00:00\", \"2017-10-29T00:00:00\", \"2017-11-05T00:00:00\", \"2017-11-12T00:00:00\", \"2017-11-19T00:00:00\", \"2017-11-26T00:00:00\", \"2017-12-03T00:00:00\", \"2017-12-10T00:00:00\", \"2017-12-17T00:00:00\", \"2017-12-24T00:00:00\", \"2017-12-31T00:00:00\", \"2018-01-07T00:00:00\", \"2018-01-14T00:00:00\", \"2018-01-21T00:00:00\", \"2018-01-28T00:00:00\", \"2018-02-04T00:00:00\", \"2018-02-11T00:00:00\", \"2018-02-18T00:00:00\", \"2018-02-25T00:00:00\", \"2018-03-04T00:00:00\", \"2018-03-11T00:00:00\", \"2018-03-18T00:00:00\", \"2018-03-25T00:00:00\", \"2018-04-01T00:00:00\", \"2018-04-08T00:00:00\", \"2018-04-15T00:00:00\", \"2018-04-22T00:00:00\", \"2018-04-29T00:00:00\", \"2018-05-06T00:00:00\", \"2018-05-13T00:00:00\", \"2018-05-20T00:00:00\", \"2018-05-27T00:00:00\", \"2018-06-03T00:00:00\", \"2018-06-10T00:00:00\", \"2018-06-17T00:00:00\", \"2018-06-24T00:00:00\", \"2018-07-01T00:00:00\", \"2018-07-08T00:00:00\", \"2018-07-15T00:00:00\", \"2018-07-22T00:00:00\", \"2018-07-29T00:00:00\", \"2018-08-05T00:00:00\", \"2018-08-12T00:00:00\", \"2018-08-19T00:00:00\", \"2018-08-26T00:00:00\", \"2018-09-02T00:00:00\", \"2018-09-09T00:00:00\", \"2018-09-16T00:00:00\", \"2018-09-23T00:00:00\", \"2018-09-30T00:00:00\", \"2018-10-07T00:00:00\", \"2018-10-14T00:00:00\", \"2018-10-21T00:00:00\", \"2018-10-28T00:00:00\", \"2018-11-04T00:00:00\", \"2018-11-11T00:00:00\", \"2018-11-18T00:00:00\", \"2018-11-25T00:00:00\", \"2018-12-02T00:00:00\", \"2018-12-09T00:00:00\", \"2018-12-16T00:00:00\", \"2018-12-23T00:00:00\", \"2018-12-30T00:00:00\", \"2019-01-06T00:00:00\", \"2019-01-13T00:00:00\", \"2019-01-20T00:00:00\", \"2019-01-27T00:00:00\", \"2019-02-03T00:00:00\", \"2019-02-10T00:00:00\", \"2019-02-17T00:00:00\", \"2019-02-24T00:00:00\", \"2019-03-03T00:00:00\", \"2019-03-10T00:00:00\", \"2019-03-17T00:00:00\", \"2019-03-24T00:00:00\", \"2019-03-31T00:00:00\", \"2019-04-07T00:00:00\", \"2019-04-14T00:00:00\", \"2019-04-21T00:00:00\", \"2019-04-28T00:00:00\", \"2019-05-05T00:00:00\", \"2019-05-12T00:00:00\", \"2019-05-19T00:00:00\", \"2019-05-26T00:00:00\", \"2019-06-02T00:00:00\", \"2019-06-09T00:00:00\", \"2019-06-16T00:00:00\", \"2019-06-23T00:00:00\", \"2019-06-30T00:00:00\", \"2019-07-07T00:00:00\", \"2019-07-14T00:00:00\", \"2019-07-21T00:00:00\", \"2019-07-28T00:00:00\", \"2019-08-04T00:00:00\", \"2019-08-11T00:00:00\", \"2019-08-18T00:00:00\", \"2019-08-25T00:00:00\", \"2019-09-01T00:00:00\", \"2019-09-08T00:00:00\", \"2019-09-15T00:00:00\", \"2019-09-22T00:00:00\", \"2019-09-29T00:00:00\", \"2019-10-06T00:00:00\", \"2019-10-13T00:00:00\", \"2019-10-20T00:00:00\", \"2019-10-27T00:00:00\", \"2019-11-03T00:00:00\", \"2019-11-10T00:00:00\", \"2019-11-17T00:00:00\", \"2019-11-24T00:00:00\", \"2019-12-01T00:00:00\", \"2019-12-08T00:00:00\", \"2019-12-15T00:00:00\", \"2019-12-22T00:00:00\", \"2019-12-29T00:00:00\", \"2020-01-05T00:00:00\", \"2020-01-12T00:00:00\", \"2020-01-19T00:00:00\", \"2020-01-26T00:00:00\", \"2020-02-02T00:00:00\", \"2020-02-09T00:00:00\", \"2020-02-16T00:00:00\", \"2020-02-23T00:00:00\", \"2020-03-01T00:00:00\", \"2020-03-08T00:00:00\", \"2020-03-15T00:00:00\", \"2020-03-22T00:00:00\", \"2020-03-29T00:00:00\", \"2020-04-05T00:00:00\", \"2020-04-12T00:00:00\", \"2020-04-19T00:00:00\", \"2020-04-26T00:00:00\", \"2020-05-03T00:00:00\", \"2020-05-10T00:00:00\", \"2020-05-17T00:00:00\", \"2020-05-24T00:00:00\", \"2020-05-31T00:00:00\", \"2020-06-07T00:00:00\", \"2020-06-14T00:00:00\", \"2020-06-21T00:00:00\", \"2020-06-28T00:00:00\", \"2020-07-05T00:00:00\", \"2020-07-12T00:00:00\", \"2020-07-19T00:00:00\", \"2020-07-26T00:00:00\", \"2020-08-02T00:00:00\", \"2020-08-09T00:00:00\", \"2020-08-16T00:00:00\", \"2020-08-23T00:00:00\", \"2020-08-30T00:00:00\", \"2020-09-06T00:00:00\", \"2020-09-13T00:00:00\", \"2020-09-20T00:00:00\", \"2020-09-27T00:00:00\", \"2020-10-04T00:00:00\", \"2020-10-11T00:00:00\", \"2020-10-18T00:00:00\", \"2020-10-25T00:00:00\", \"2020-11-01T00:00:00\", \"2020-11-08T00:00:00\", \"2020-11-15T00:00:00\", \"2020-11-22T00:00:00\", \"2020-11-29T00:00:00\", \"2020-12-06T00:00:00\", \"2020-12-13T00:00:00\", \"2020-12-20T00:00:00\", \"2020-12-27T00:00:00\", \"2021-01-03T00:00:00\", \"2021-01-10T00:00:00\", \"2021-01-17T00:00:00\", \"2021-01-24T00:00:00\", \"2021-01-31T00:00:00\", \"2021-02-07T00:00:00\", \"2021-02-14T00:00:00\", \"2021-02-21T00:00:00\", \"2021-02-28T00:00:00\", \"2021-03-07T00:00:00\", \"2021-03-14T00:00:00\", \"2021-03-21T00:00:00\", \"2021-03-28T00:00:00\"], \"y\": [4933.751807050421, 5097.582922558289, 5051.6849969296445, 4871.023217895236, 4745.879136075365, 4767.084320496044, 4771.508478971129, 4916.867052108227, 4948.361186685315, 4968.79308235827, 4482.136507048871, 4438.034487436167, 4272.7168481969, 4281.440898332231, 4515.192424426497, 4575.517083752089, 4785.115713213479, 4952.894793640179, 5162.400302944197, 5304.116488104519, 5380.697258770002, 5306.67637772955, 5491.226340840642, 5347.481825454139, 5465.230172630746, 5458.707455905253, 5487.893277158309, 5595.835785662807, 5505.401981136398, 5618.888516771254, 5872.639563336448, 6025.213985106392, 6003.127651793453, 6105.372839185706, 5990.039966942553, 6013.12214449736, 5797.385115170778, 5705.321338468483, 5596.488783634246, 5435.217234391341, 5571.395554358349, 5588.551488949759, 5793.1094457021845, 5945.404154946638, 6017.88330564391, 6058.8759374106985, 5943.189649394611, 5744.642968824156, 6150.636998348981, 6521.178137399436, 6780.2405730628425, 6488.373015044245, 6000.471604763864, 6086.122728741973, 6055.21132686981, 5901.421094305854, 5812.698639505112, 5774.0745167850555, 5765.9156841366, 5967.742085012716, 5940.898198877335, 6060.194125002157, 5558.192433604052, 5417.558027643662, 5318.497474720111, 5238.36534366674, 5501.900603593904, 5584.563186382038, 5769.9072989977385, 5967.867687719226, 6146.00232168072, 6286.554877690085, 6400.419960888744, 6311.61698865405, 6485.200887410407, 6377.088984987242, 6521.588473471581, 6496.172459409606, 6499.894138959547, 6620.409169775607, 6500.278729519514, 6592.701728669594, 6844.011888862322, 7026.776950655141, 7042.876927416983, 7117.055365868923, 7008.584200056492, 6999.367919086782, 6833.623633386878, 6697.360734111317, 6694.854530200203, 6426.875033432174, 6570.994609876629, 6584.7163838062, 6769.4933466567045, 6936.16439746329, 7076.184363825036, 6982.335949233511, 6971.618653568707, 6760.943816398984, 7080.609750444499, 7484.834098141059, 7766.580328385149, 7524.920828017555, 6939.887962945755, 7066.440184721059, 7078.6183769112695, 6927.209122233688, 6816.455257533063, 6755.20218665836, 6767.234335033118, 6905.557906218368, 6939.7877900615385, 7034.537304733931, 6640.410371997169, 6391.153955206201, 6350.7087028166525, 6244.809827834951, 6539.091505971298, 6580.861499337654, 6729.607615427982, 6927.670504943341, 7140.69506150037, 7270.55944576211, 7407.703907586414, 7318.866641298926, 7471.881533678497, 7466.253895265649, 7416.263641225558, 7520.962135237023, 7482.269612182024, 7635.691860221197, 7543.8106274659995, 7567.933027864441, 7814.904994341359, 8022.860936610243, 8041.8655840650845, 8122.225753543157, 8032.45285006887, 8004.88156801589, 7856.265461562729, 7741.717270222318, 7693.596158365912, 7440.078081452343, 7568.081481553076, 7583.391904381059, 7744.00201190352, 7932.738325382766, 8113.249722149246, 8005.508043240483, 7992.015679909404, 7790.837838315888, 7996.638838546298, 8445.052093573313, 8742.979724006911, 8648.708183624822, 8012.117947722521, 8040.095909033039, 8103.886428640117, 7957.213551672163, 7809.420117099791, 7781.259389141467, 7774.093285220095, 7883.48376952143, 7956.748586671401, 8024.326048199849, 7758.739517937198, 7373.936231176822, 7407.7660138193705, 7246.786191029243, 7483.666564198706, 7551.225003596867, 7721.16181287082, 7890.478582235514, 8171.808233256382, 8301.874916302539, 8400.577431094996, 8356.572512753959, 8427.0765615737, 8479.557381996041, 8373.601986168576, 8554.053751623638, 8474.908502869104, 8694.277351084522, 8534.16461639845, 8526.437302798136, 8762.516582654298, 8995.916051125516, 9054.053401880325, 9164.572579275118, 9083.629978581055, 9045.488673540487, 8955.06553407977, 8689.560176754381, 8744.067306221383, 8494.608282806937, 8614.532952691621, 8595.921419179684, 8690.344205613037, 8931.452639093784, 9018.94286706188, 9021.209830616499, 9037.577756420636, 8865.468888483212, 8843.639071439264, 9346.069773063806, 9674.375352889832, 9772.8432798572, 9252.918242859978, 9062.095074758417, 9140.250890566713, 9005.90236471546, 8850.28092374197, 8776.10642167446, 8791.821070613036, 8898.12855832243, 8956.191441447887, 9023.074165712358, 8888.747319577822, 8431.41016119098, 8422.439821110293, 8262.607487972768]}],                        {\"annotations\": [{\"arrowhead\": 0, \"ax\": -60, \"ay\": 0, \"showarrow\": true, \"text\": \"Train End Date\", \"x\": \"2020-08-30T00:00:00\", \"xref\": \"x\", \"y\": 0.97, \"yref\": \"paper\"}], \"legend\": {\"traceorder\": \"reversed\"}, \"shapes\": [{\"line\": {\"color\": \"rgba(100, 100, 100, 0.9)\", \"width\": 1.0}, \"type\": \"line\", \"x0\": \"2020-08-30T00:00:00\", \"x1\": \"2020-08-30T00:00:00\", \"xref\": \"x\", \"y0\": 0, \"y1\": 1, \"yref\": \"paper\"}], \"showlegend\": true, \"template\": {\"data\": {\"bar\": [{\"error_x\": {\"color\": \"#2a3f5f\"}, \"error_y\": {\"color\": \"#2a3f5f\"}, \"marker\": {\"line\": {\"color\": \"#E5ECF6\", \"width\": 0.5}}, \"type\": \"bar\"}], \"barpolar\": [{\"marker\": {\"line\": {\"color\": \"#E5ECF6\", \"width\": 0.5}}, \"type\": \"barpolar\"}], \"carpet\": [{\"aaxis\": {\"endlinecolor\": \"#2a3f5f\", \"gridcolor\": \"white\", \"linecolor\": \"white\", \"minorgridcolor\": \"white\", \"startlinecolor\": \"#2a3f5f\"}, \"baxis\": {\"endlinecolor\": \"#2a3f5f\", \"gridcolor\": \"white\", \"linecolor\": \"white\", \"minorgridcolor\": \"white\", \"startlinecolor\": \"#2a3f5f\"}, \"type\": \"carpet\"}], \"choropleth\": [{\"colorbar\": {\"outlinewidth\": 0, \"ticks\": \"\"}, \"type\": \"choropleth\"}], \"contour\": [{\"colorbar\": {\"outlinewidth\": 0, \"ticks\": \"\"}, \"colorscale\": [[0.0, \"#0d0887\"], [0.1111111111111111, \"#46039f\"], [0.2222222222222222, \"#7201a8\"], [0.3333333333333333, \"#9c179e\"], [0.4444444444444444, \"#bd3786\"], [0.5555555555555556, \"#d8576b\"], [0.6666666666666666, \"#ed7953\"], [0.7777777777777778, \"#fb9f3a\"], [0.8888888888888888, \"#fdca26\"], [1.0, \"#f0f921\"]], \"type\": \"contour\"}], \"contourcarpet\": [{\"colorbar\": {\"outlinewidth\": 0, \"ticks\": \"\"}, \"type\": \"contourcarpet\"}], \"heatmap\": [{\"colorbar\": {\"outlinewidth\": 0, \"ticks\": \"\"}, \"colorscale\": [[0.0, \"#0d0887\"], [0.1111111111111111, \"#46039f\"], [0.2222222222222222, \"#7201a8\"], [0.3333333333333333, \"#9c179e\"], [0.4444444444444444, \"#bd3786\"], [0.5555555555555556, \"#d8576b\"], [0.6666666666666666, \"#ed7953\"], [0.7777777777777778, \"#fb9f3a\"], [0.8888888888888888, \"#fdca26\"], [1.0, \"#f0f921\"]], \"type\": \"heatmap\"}], \"heatmapgl\": [{\"colorbar\": {\"outlinewidth\": 0, \"ticks\": \"\"}, \"colorscale\": [[0.0, \"#0d0887\"], [0.1111111111111111, \"#46039f\"], [0.2222222222222222, \"#7201a8\"], [0.3333333333333333, \"#9c179e\"], [0.4444444444444444, \"#bd3786\"], [0.5555555555555556, \"#d8576b\"], [0.6666666666666666, \"#ed7953\"], [0.7777777777777778, \"#fb9f3a\"], [0.8888888888888888, \"#fdca26\"], [1.0, \"#f0f921\"]], \"type\": \"heatmapgl\"}], \"histogram\": [{\"marker\": {\"colorbar\": {\"outlinewidth\": 0, \"ticks\": \"\"}}, \"type\": \"histogram\"}], \"histogram2d\": [{\"colorbar\": {\"outlinewidth\": 0, \"ticks\": \"\"}, \"colorscale\": [[0.0, \"#0d0887\"], [0.1111111111111111, \"#46039f\"], [0.2222222222222222, \"#7201a8\"], [0.3333333333333333, \"#9c179e\"], [0.4444444444444444, \"#bd3786\"], [0.5555555555555556, \"#d8576b\"], [0.6666666666666666, \"#ed7953\"], [0.7777777777777778, \"#fb9f3a\"], [0.8888888888888888, \"#fdca26\"], [1.0, \"#f0f921\"]], \"type\": \"histogram2d\"}], \"histogram2dcontour\": [{\"colorbar\": {\"outlinewidth\": 0, \"ticks\": \"\"}, \"colorscale\": [[0.0, \"#0d0887\"], [0.1111111111111111, \"#46039f\"], [0.2222222222222222, \"#7201a8\"], [0.3333333333333333, \"#9c179e\"], [0.4444444444444444, \"#bd3786\"], [0.5555555555555556, \"#d8576b\"], [0.6666666666666666, \"#ed7953\"], [0.7777777777777778, \"#fb9f3a\"], [0.8888888888888888, \"#fdca26\"], [1.0, \"#f0f921\"]], \"type\": \"histogram2dcontour\"}], \"mesh3d\": [{\"colorbar\": {\"outlinewidth\": 0, \"ticks\": \"\"}, \"type\": \"mesh3d\"}], \"parcoords\": [{\"line\": {\"colorbar\": {\"outlinewidth\": 0, \"ticks\": \"\"}}, \"type\": \"parcoords\"}], \"pie\": [{\"automargin\": true, \"type\": \"pie\"}], \"scatter\": [{\"marker\": {\"colorbar\": {\"outlinewidth\": 0, \"ticks\": \"\"}}, \"type\": \"scatter\"}], \"scatter3d\": [{\"line\": {\"colorbar\": {\"outlinewidth\": 0, \"ticks\": \"\"}}, \"marker\": {\"colorbar\": {\"outlinewidth\": 0, \"ticks\": \"\"}}, \"type\": \"scatter3d\"}], \"scattercarpet\": [{\"marker\": {\"colorbar\": {\"outlinewidth\": 0, \"ticks\": \"\"}}, \"type\": \"scattercarpet\"}], \"scattergeo\": [{\"marker\": {\"colorbar\": {\"outlinewidth\": 0, \"ticks\": \"\"}}, \"type\": \"scattergeo\"}], \"scattergl\": [{\"marker\": {\"colorbar\": {\"outlinewidth\": 0, \"ticks\": \"\"}}, \"type\": \"scattergl\"}], \"scattermapbox\": [{\"marker\": {\"colorbar\": {\"outlinewidth\": 0, \"ticks\": \"\"}}, \"type\": \"scattermapbox\"}], \"scatterpolar\": [{\"marker\": {\"colorbar\": {\"outlinewidth\": 0, \"ticks\": \"\"}}, \"type\": \"scatterpolar\"}], \"scatterpolargl\": [{\"marker\": {\"colorbar\": {\"outlinewidth\": 0, \"ticks\": \"\"}}, \"type\": \"scatterpolargl\"}], \"scatterternary\": [{\"marker\": {\"colorbar\": {\"outlinewidth\": 0, \"ticks\": \"\"}}, \"type\": \"scatterternary\"}], \"surface\": [{\"colorbar\": {\"outlinewidth\": 0, \"ticks\": \"\"}, \"colorscale\": [[0.0, \"#0d0887\"], [0.1111111111111111, \"#46039f\"], [0.2222222222222222, \"#7201a8\"], [0.3333333333333333, \"#9c179e\"], [0.4444444444444444, \"#bd3786\"], [0.5555555555555556, \"#d8576b\"], [0.6666666666666666, \"#ed7953\"], [0.7777777777777778, \"#fb9f3a\"], [0.8888888888888888, \"#fdca26\"], [1.0, \"#f0f921\"]], \"type\": \"surface\"}], \"table\": [{\"cells\": {\"fill\": {\"color\": \"#EBF0F8\"}, \"line\": {\"color\": \"white\"}}, \"header\": {\"fill\": {\"color\": \"#C8D4E3\"}, \"line\": {\"color\": \"white\"}}, \"type\": \"table\"}]}, \"layout\": {\"annotationdefaults\": {\"arrowcolor\": \"#2a3f5f\", \"arrowhead\": 0, \"arrowwidth\": 1}, \"autotypenumbers\": \"strict\", \"coloraxis\": {\"colorbar\": {\"outlinewidth\": 0, \"ticks\": \"\"}}, \"colorscale\": {\"diverging\": [[0, \"#8e0152\"], [0.1, \"#c51b7d\"], [0.2, \"#de77ae\"], [0.3, \"#f1b6da\"], [0.4, \"#fde0ef\"], [0.5, \"#f7f7f7\"], [0.6, \"#e6f5d0\"], [0.7, \"#b8e186\"], [0.8, \"#7fbc41\"], [0.9, \"#4d9221\"], [1, \"#276419\"]], \"sequential\": [[0.0, \"#0d0887\"], [0.1111111111111111, \"#46039f\"], [0.2222222222222222, \"#7201a8\"], [0.3333333333333333, \"#9c179e\"], [0.4444444444444444, \"#bd3786\"], [0.5555555555555556, \"#d8576b\"], [0.6666666666666666, \"#ed7953\"], [0.7777777777777778, \"#fb9f3a\"], [0.8888888888888888, \"#fdca26\"], [1.0, \"#f0f921\"]], \"sequentialminus\": [[0.0, \"#0d0887\"], [0.1111111111111111, \"#46039f\"], [0.2222222222222222, \"#7201a8\"], [0.3333333333333333, \"#9c179e\"], [0.4444444444444444, \"#bd3786\"], [0.5555555555555556, \"#d8576b\"], [0.6666666666666666, \"#ed7953\"], [0.7777777777777778, \"#fb9f3a\"], [0.8888888888888888, \"#fdca26\"], [1.0, \"#f0f921\"]]}, \"colorway\": [\"#636efa\", \"#EF553B\", \"#00cc96\", \"#ab63fa\", \"#FFA15A\", \"#19d3f3\", \"#FF6692\", \"#B6E880\", \"#FF97FF\", \"#FECB52\"], \"font\": {\"color\": \"#2a3f5f\"}, \"geo\": {\"bgcolor\": \"white\", \"lakecolor\": \"white\", \"landcolor\": \"#E5ECF6\", \"showlakes\": true, \"showland\": true, \"subunitcolor\": \"white\"}, \"hoverlabel\": {\"align\": \"left\"}, \"hovermode\": \"closest\", \"mapbox\": {\"style\": \"light\"}, \"paper_bgcolor\": \"white\", \"plot_bgcolor\": \"#E5ECF6\", \"polar\": {\"angularaxis\": {\"gridcolor\": \"white\", \"linecolor\": \"white\", \"ticks\": \"\"}, \"bgcolor\": \"#E5ECF6\", \"radialaxis\": {\"gridcolor\": \"white\", \"linecolor\": \"white\", \"ticks\": \"\"}}, \"scene\": {\"xaxis\": {\"backgroundcolor\": \"#E5ECF6\", \"gridcolor\": \"white\", \"gridwidth\": 2, \"linecolor\": \"white\", \"showbackground\": true, \"ticks\": \"\", \"zerolinecolor\": \"white\"}, \"yaxis\": {\"backgroundcolor\": \"#E5ECF6\", \"gridcolor\": \"white\", \"gridwidth\": 2, \"linecolor\": \"white\", \"showbackground\": true, \"ticks\": \"\", \"zerolinecolor\": \"white\"}, \"zaxis\": {\"backgroundcolor\": \"#E5ECF6\", \"gridcolor\": \"white\", \"gridwidth\": 2, \"linecolor\": \"white\", \"showbackground\": true, \"ticks\": \"\", \"zerolinecolor\": \"white\"}}, \"shapedefaults\": {\"line\": {\"color\": \"#2a3f5f\"}}, \"ternary\": {\"aaxis\": {\"gridcolor\": \"white\", \"linecolor\": \"white\", \"ticks\": \"\"}, \"baxis\": {\"gridcolor\": \"white\", \"linecolor\": \"white\", \"ticks\": \"\"}, \"bgcolor\": \"#E5ECF6\", \"caxis\": {\"gridcolor\": \"white\", \"linecolor\": \"white\", \"ticks\": \"\"}}, \"title\": {\"x\": 0.05}, \"xaxis\": {\"automargin\": true, \"gridcolor\": \"white\", \"linecolor\": \"white\", \"ticks\": \"\", \"title\": {\"standoff\": 15}, \"zerolinecolor\": \"white\", \"zerolinewidth\": 2}, \"yaxis\": {\"automargin\": true, \"gridcolor\": \"white\", \"linecolor\": \"white\", \"ticks\": \"\", \"title\": {\"standoff\": 15}, \"zerolinecolor\": \"white\", \"zerolinewidth\": 2}}}, \"title\": {\"text\": \"Forecast vs Actual\", \"x\": 0.5}, \"xaxis\": {\"title\": {\"text\": \"ts\"}}, \"yaxis\": {\"title\": {\"text\": \"Weighted_Price\"}}},                        {\"responsive\": true}                    ).then(function(){\n",
       "                            \n",
       "var gd = document.getElementById('ada44fb1-422b-4660-a4b0-55f5e466a4da');\n",
       "var x = new MutationObserver(function (mutations, observer) {{\n",
       "        var display = window.getComputedStyle(gd).display;\n",
       "        if (!display || display === 'none') {{\n",
       "            console.log([gd, 'removed!']);\n",
       "            Plotly.purge(gd);\n",
       "            observer.disconnect();\n",
       "        }}\n",
       "}});\n",
       "\n",
       "// Listen for the removal of the full notebook cells\n",
       "var notebookContainer = gd.closest('#notebook-container');\n",
       "if (notebookContainer) {{\n",
       "    x.observe(notebookContainer, {childList: true});\n",
       "}}\n",
       "\n",
       "// Listen for the clearing of the current output cell\n",
       "var outputEl = gd.closest('.output');\n",
       "if (outputEl) {{\n",
       "    x.observe(outputEl, {childList: true});\n",
       "}}\n",
       "\n",
       "                        })                };                });            </script>        </div>"
      ]
     },
     "metadata": {},
     "output_type": "display_data"
    }
   ],
   "source": [
    "backtest = result.backtest\n",
    "fig = backtest.plot().show()"
   ]
  },
  {
   "cell_type": "code",
   "execution_count": 17,
   "id": "fabulous-essay",
   "metadata": {
    "execution": {
     "iopub.execute_input": "2022-05-21T20:59:45.930193Z",
     "iopub.status.busy": "2022-05-21T20:59:45.929503Z",
     "iopub.status.idle": "2022-05-21T20:59:45.941584Z",
     "shell.execute_reply": "2022-05-21T20:59:45.942049Z",
     "shell.execute_reply.started": "2021-06-08T22:29:06.326381Z"
    },
    "papermill": {
     "duration": 0.107761,
     "end_time": "2022-05-21T20:59:45.942221",
     "exception": false,
     "start_time": "2022-05-21T20:59:45.834460",
     "status": "completed"
    },
    "tags": []
   },
   "outputs": [
    {
     "data": {
      "text/html": [
       "<div>\n",
       "<style scoped>\n",
       "    .dataframe tbody tr th:only-of-type {\n",
       "        vertical-align: middle;\n",
       "    }\n",
       "\n",
       "    .dataframe tbody tr th {\n",
       "        vertical-align: top;\n",
       "    }\n",
       "\n",
       "    .dataframe thead th {\n",
       "        text-align: right;\n",
       "    }\n",
       "</style>\n",
       "<table border=\"1\" class=\"dataframe\">\n",
       "  <thead>\n",
       "    <tr style=\"text-align: right;\">\n",
       "      <th></th>\n",
       "      <th>train</th>\n",
       "      <th>test</th>\n",
       "    </tr>\n",
       "  </thead>\n",
       "  <tbody>\n",
       "    <tr>\n",
       "      <th>CORR</th>\n",
       "      <td>0.594112</td>\n",
       "      <td>-0.213172</td>\n",
       "    </tr>\n",
       "    <tr>\n",
       "      <th>R2</th>\n",
       "      <td>0.289701</td>\n",
       "      <td>-1.358174</td>\n",
       "    </tr>\n",
       "    <tr>\n",
       "      <th>MSE</th>\n",
       "      <td>8227240.311111</td>\n",
       "      <td>651879964.932465</td>\n",
       "    </tr>\n",
       "    <tr>\n",
       "      <th>RMSE</th>\n",
       "      <td>2868.316634</td>\n",
       "      <td>25531.940093</td>\n",
       "    </tr>\n",
       "    <tr>\n",
       "      <th>MAE</th>\n",
       "      <td>2218.435046</td>\n",
       "      <td>19313.942228</td>\n",
       "    </tr>\n",
       "    <tr>\n",
       "      <th>MedAE</th>\n",
       "      <td>2001.118287</td>\n",
       "      <td>11810.323572</td>\n",
       "    </tr>\n",
       "    <tr>\n",
       "      <th>MAPE</th>\n",
       "      <td>66.153838</td>\n",
       "      <td>54.906148</td>\n",
       "    </tr>\n",
       "    <tr>\n",
       "      <th>MedAPE</th>\n",
       "      <td>24.928294</td>\n",
       "      <td>55.241113</td>\n",
       "    </tr>\n",
       "    <tr>\n",
       "      <th>sMAPE</th>\n",
       "      <td>19.924326</td>\n",
       "      <td>41.864244</td>\n",
       "    </tr>\n",
       "    <tr>\n",
       "      <th>Q80</th>\n",
       "      <td>1109.217523</td>\n",
       "      <td>15451.153782</td>\n",
       "    </tr>\n",
       "    <tr>\n",
       "      <th>Q95</th>\n",
       "      <td>1109.217523</td>\n",
       "      <td>18348.245116</td>\n",
       "    </tr>\n",
       "    <tr>\n",
       "      <th>Q99</th>\n",
       "      <td>1109.217523</td>\n",
       "      <td>19120.802806</td>\n",
       "    </tr>\n",
       "    <tr>\n",
       "      <th>OutsideTolerance1p</th>\n",
       "      <td>0.958333</td>\n",
       "      <td>1.0</td>\n",
       "    </tr>\n",
       "    <tr>\n",
       "      <th>OutsideTolerance2p</th>\n",
       "      <td>0.942708</td>\n",
       "      <td>1.0</td>\n",
       "    </tr>\n",
       "    <tr>\n",
       "      <th>OutsideTolerance3p</th>\n",
       "      <td>0.927083</td>\n",
       "      <td>1.0</td>\n",
       "    </tr>\n",
       "    <tr>\n",
       "      <th>OutsideTolerance4p</th>\n",
       "      <td>0.90625</td>\n",
       "      <td>1.0</td>\n",
       "    </tr>\n",
       "    <tr>\n",
       "      <th>OutsideTolerance5p</th>\n",
       "      <td>0.890625</td>\n",
       "      <td>1.0</td>\n",
       "    </tr>\n",
       "    <tr>\n",
       "      <th>Outside Tolerance (fraction)</th>\n",
       "      <td>None</td>\n",
       "      <td>None</td>\n",
       "    </tr>\n",
       "    <tr>\n",
       "      <th>R2_null_model_score</th>\n",
       "      <td>None</td>\n",
       "      <td>None</td>\n",
       "    </tr>\n",
       "    <tr>\n",
       "      <th>Prediction Band Width (%)</th>\n",
       "      <td>274.634786</td>\n",
       "      <td>57.20467</td>\n",
       "    </tr>\n",
       "    <tr>\n",
       "      <th>Prediction Band Coverage (fraction)</th>\n",
       "      <td>0.958333</td>\n",
       "      <td>0.3</td>\n",
       "    </tr>\n",
       "    <tr>\n",
       "      <th>Coverage: Lower Band</th>\n",
       "      <td>0.510417</td>\n",
       "      <td>0.0</td>\n",
       "    </tr>\n",
       "    <tr>\n",
       "      <th>Coverage: Upper Band</th>\n",
       "      <td>0.447917</td>\n",
       "      <td>0.3</td>\n",
       "    </tr>\n",
       "    <tr>\n",
       "      <th>Coverage Diff: Actual_Coverage - Intended_Coverage</th>\n",
       "      <td>0.008333</td>\n",
       "      <td>-0.65</td>\n",
       "    </tr>\n",
       "  </tbody>\n",
       "</table>\n",
       "</div>"
      ],
      "text/plain": [
       "                                                             train  \\\n",
       "CORR                                                      0.594112   \n",
       "R2                                                        0.289701   \n",
       "MSE                                                 8227240.311111   \n",
       "RMSE                                                   2868.316634   \n",
       "MAE                                                    2218.435046   \n",
       "MedAE                                                  2001.118287   \n",
       "MAPE                                                     66.153838   \n",
       "MedAPE                                                   24.928294   \n",
       "sMAPE                                                    19.924326   \n",
       "Q80                                                    1109.217523   \n",
       "Q95                                                    1109.217523   \n",
       "Q99                                                    1109.217523   \n",
       "OutsideTolerance1p                                        0.958333   \n",
       "OutsideTolerance2p                                        0.942708   \n",
       "OutsideTolerance3p                                        0.927083   \n",
       "OutsideTolerance4p                                         0.90625   \n",
       "OutsideTolerance5p                                        0.890625   \n",
       "Outside Tolerance (fraction)                                  None   \n",
       "R2_null_model_score                                           None   \n",
       "Prediction Band Width (%)                               274.634786   \n",
       "Prediction Band Coverage (fraction)                       0.958333   \n",
       "Coverage: Lower Band                                      0.510417   \n",
       "Coverage: Upper Band                                      0.447917   \n",
       "Coverage Diff: Actual_Coverage - Intended_Coverage        0.008333   \n",
       "\n",
       "                                                                test  \n",
       "CORR                                                       -0.213172  \n",
       "R2                                                         -1.358174  \n",
       "MSE                                                 651879964.932465  \n",
       "RMSE                                                    25531.940093  \n",
       "MAE                                                     19313.942228  \n",
       "MedAE                                                   11810.323572  \n",
       "MAPE                                                       54.906148  \n",
       "MedAPE                                                     55.241113  \n",
       "sMAPE                                                      41.864244  \n",
       "Q80                                                     15451.153782  \n",
       "Q95                                                     18348.245116  \n",
       "Q99                                                     19120.802806  \n",
       "OutsideTolerance1p                                               1.0  \n",
       "OutsideTolerance2p                                               1.0  \n",
       "OutsideTolerance3p                                               1.0  \n",
       "OutsideTolerance4p                                               1.0  \n",
       "OutsideTolerance5p                                               1.0  \n",
       "Outside Tolerance (fraction)                                    None  \n",
       "R2_null_model_score                                             None  \n",
       "Prediction Band Width (%)                                   57.20467  \n",
       "Prediction Band Coverage (fraction)                              0.3  \n",
       "Coverage: Lower Band                                             0.0  \n",
       "Coverage: Upper Band                                             0.3  \n",
       "Coverage Diff: Actual_Coverage - Intended_Coverage             -0.65  "
      ]
     },
     "execution_count": 17,
     "metadata": {},
     "output_type": "execute_result"
    }
   ],
   "source": [
    "backtest_eval = defaultdict(list)\n",
    "for metric, value in backtest.train_evaluation.items():\n",
    "    backtest_eval[metric].append(value)\n",
    "    backtest_eval[metric].append(backtest.test_evaluation[metric])\n",
    "metrics = pd.DataFrame(backtest_eval, index=[\"train\", \"test\"]).T\n",
    "metrics"
   ]
  },
  {
   "cell_type": "markdown",
   "id": "impressed-bruce",
   "metadata": {
    "papermill": {
     "duration": 0.092147,
     "end_time": "2022-05-21T20:59:46.124307",
     "exception": false,
     "start_time": "2022-05-21T20:59:46.032160",
     "status": "completed"
    },
    "tags": []
   },
   "source": [
    "<h1 style=\"background-color:#FF85A3;font-size:20px;color:#00033E;font-weight : bold\">Forecast :</h1>"
   ]
  },
  {
   "cell_type": "code",
   "execution_count": 18,
   "id": "realistic-fleet",
   "metadata": {
    "execution": {
     "iopub.execute_input": "2022-05-21T20:59:46.366413Z",
     "iopub.status.busy": "2022-05-21T20:59:46.365766Z",
     "iopub.status.idle": "2022-05-21T20:59:46.386338Z",
     "shell.execute_reply": "2022-05-21T20:59:46.386860Z"
    },
    "papermill": {
     "duration": 0.173831,
     "end_time": "2022-05-21T20:59:46.387033",
     "exception": false,
     "start_time": "2022-05-21T20:59:46.213202",
     "status": "completed"
    },
    "tags": []
   },
   "outputs": [
    {
     "data": {
      "application/vnd.plotly.v1+json": {
       "config": {
        "plotlyServerURL": "https://plot.ly"
       },
       "data": [
        {
         "legendgroup": "interval",
         "line": {
          "color": "rgba(0, 90, 181, 0.5)",
          "width": 0
         },
         "mode": "lines",
         "name": "Lower Bound",
         "type": "scatter",
         "x": [
          "2017-01-01T00:00:00",
          "2017-01-08T00:00:00",
          "2017-01-15T00:00:00",
          "2017-01-22T00:00:00",
          "2017-01-29T00:00:00",
          "2017-02-05T00:00:00",
          "2017-02-12T00:00:00",
          "2017-02-19T00:00:00",
          "2017-02-26T00:00:00",
          "2017-03-05T00:00:00",
          "2017-03-12T00:00:00",
          "2017-03-19T00:00:00",
          "2017-03-26T00:00:00",
          "2017-04-02T00:00:00",
          "2017-04-09T00:00:00",
          "2017-04-16T00:00:00",
          "2017-04-23T00:00:00",
          "2017-04-30T00:00:00",
          "2017-05-07T00:00:00",
          "2017-05-14T00:00:00",
          "2017-05-21T00:00:00",
          "2017-05-28T00:00:00",
          "2017-06-04T00:00:00",
          "2017-06-11T00:00:00",
          "2017-06-18T00:00:00",
          "2017-06-25T00:00:00",
          "2017-07-02T00:00:00",
          "2017-07-09T00:00:00",
          "2017-07-16T00:00:00",
          "2017-07-23T00:00:00",
          "2017-07-30T00:00:00",
          "2017-08-06T00:00:00",
          "2017-08-13T00:00:00",
          "2017-08-20T00:00:00",
          "2017-08-27T00:00:00",
          "2017-09-03T00:00:00",
          "2017-09-10T00:00:00",
          "2017-09-17T00:00:00",
          "2017-09-24T00:00:00",
          "2017-10-01T00:00:00",
          "2017-10-08T00:00:00",
          "2017-10-15T00:00:00",
          "2017-10-22T00:00:00",
          "2017-10-29T00:00:00",
          "2017-11-05T00:00:00",
          "2017-11-12T00:00:00",
          "2017-11-19T00:00:00",
          "2017-11-26T00:00:00",
          "2017-12-03T00:00:00",
          "2017-12-10T00:00:00",
          "2017-12-17T00:00:00",
          "2017-12-24T00:00:00",
          "2017-12-31T00:00:00",
          "2018-01-07T00:00:00",
          "2018-01-14T00:00:00",
          "2018-01-21T00:00:00",
          "2018-01-28T00:00:00",
          "2018-02-04T00:00:00",
          "2018-02-11T00:00:00",
          "2018-02-18T00:00:00",
          "2018-02-25T00:00:00",
          "2018-03-04T00:00:00",
          "2018-03-11T00:00:00",
          "2018-03-18T00:00:00",
          "2018-03-25T00:00:00",
          "2018-04-01T00:00:00",
          "2018-04-08T00:00:00",
          "2018-04-15T00:00:00",
          "2018-04-22T00:00:00",
          "2018-04-29T00:00:00",
          "2018-05-06T00:00:00",
          "2018-05-13T00:00:00",
          "2018-05-20T00:00:00",
          "2018-05-27T00:00:00",
          "2018-06-03T00:00:00",
          "2018-06-10T00:00:00",
          "2018-06-17T00:00:00",
          "2018-06-24T00:00:00",
          "2018-07-01T00:00:00",
          "2018-07-08T00:00:00",
          "2018-07-15T00:00:00",
          "2018-07-22T00:00:00",
          "2018-07-29T00:00:00",
          "2018-08-05T00:00:00",
          "2018-08-12T00:00:00",
          "2018-08-19T00:00:00",
          "2018-08-26T00:00:00",
          "2018-09-02T00:00:00",
          "2018-09-09T00:00:00",
          "2018-09-16T00:00:00",
          "2018-09-23T00:00:00",
          "2018-09-30T00:00:00",
          "2018-10-07T00:00:00",
          "2018-10-14T00:00:00",
          "2018-10-21T00:00:00",
          "2018-10-28T00:00:00",
          "2018-11-04T00:00:00",
          "2018-11-11T00:00:00",
          "2018-11-18T00:00:00",
          "2018-11-25T00:00:00",
          "2018-12-02T00:00:00",
          "2018-12-09T00:00:00",
          "2018-12-16T00:00:00",
          "2018-12-23T00:00:00",
          "2018-12-30T00:00:00",
          "2019-01-06T00:00:00",
          "2019-01-13T00:00:00",
          "2019-01-20T00:00:00",
          "2019-01-27T00:00:00",
          "2019-02-03T00:00:00",
          "2019-02-10T00:00:00",
          "2019-02-17T00:00:00",
          "2019-02-24T00:00:00",
          "2019-03-03T00:00:00",
          "2019-03-10T00:00:00",
          "2019-03-17T00:00:00",
          "2019-03-24T00:00:00",
          "2019-03-31T00:00:00",
          "2019-04-07T00:00:00",
          "2019-04-14T00:00:00",
          "2019-04-21T00:00:00",
          "2019-04-28T00:00:00",
          "2019-05-05T00:00:00",
          "2019-05-12T00:00:00",
          "2019-05-19T00:00:00",
          "2019-05-26T00:00:00",
          "2019-06-02T00:00:00",
          "2019-06-09T00:00:00",
          "2019-06-16T00:00:00",
          "2019-06-23T00:00:00",
          "2019-06-30T00:00:00",
          "2019-07-07T00:00:00",
          "2019-07-14T00:00:00",
          "2019-07-21T00:00:00",
          "2019-07-28T00:00:00",
          "2019-08-04T00:00:00",
          "2019-08-11T00:00:00",
          "2019-08-18T00:00:00",
          "2019-08-25T00:00:00",
          "2019-09-01T00:00:00",
          "2019-09-08T00:00:00",
          "2019-09-15T00:00:00",
          "2019-09-22T00:00:00",
          "2019-09-29T00:00:00",
          "2019-10-06T00:00:00",
          "2019-10-13T00:00:00",
          "2019-10-20T00:00:00",
          "2019-10-27T00:00:00",
          "2019-11-03T00:00:00",
          "2019-11-10T00:00:00",
          "2019-11-17T00:00:00",
          "2019-11-24T00:00:00",
          "2019-12-01T00:00:00",
          "2019-12-08T00:00:00",
          "2019-12-15T00:00:00",
          "2019-12-22T00:00:00",
          "2019-12-29T00:00:00",
          "2020-01-05T00:00:00",
          "2020-01-12T00:00:00",
          "2020-01-19T00:00:00",
          "2020-01-26T00:00:00",
          "2020-02-02T00:00:00",
          "2020-02-09T00:00:00",
          "2020-02-16T00:00:00",
          "2020-02-23T00:00:00",
          "2020-03-01T00:00:00",
          "2020-03-08T00:00:00",
          "2020-03-15T00:00:00",
          "2020-03-22T00:00:00",
          "2020-03-29T00:00:00",
          "2020-04-05T00:00:00",
          "2020-04-12T00:00:00",
          "2020-04-19T00:00:00",
          "2020-04-26T00:00:00",
          "2020-05-03T00:00:00",
          "2020-05-10T00:00:00",
          "2020-05-17T00:00:00",
          "2020-05-24T00:00:00",
          "2020-05-31T00:00:00",
          "2020-06-07T00:00:00",
          "2020-06-14T00:00:00",
          "2020-06-21T00:00:00",
          "2020-06-28T00:00:00",
          "2020-07-05T00:00:00",
          "2020-07-12T00:00:00",
          "2020-07-19T00:00:00",
          "2020-07-26T00:00:00",
          "2020-08-02T00:00:00",
          "2020-08-09T00:00:00",
          "2020-08-16T00:00:00",
          "2020-08-23T00:00:00",
          "2020-08-30T00:00:00",
          "2020-09-06T00:00:00",
          "2020-09-13T00:00:00",
          "2020-09-20T00:00:00",
          "2020-09-27T00:00:00",
          "2020-10-04T00:00:00",
          "2020-10-11T00:00:00",
          "2020-10-18T00:00:00",
          "2020-10-25T00:00:00",
          "2020-11-01T00:00:00",
          "2020-11-08T00:00:00",
          "2020-11-15T00:00:00",
          "2020-11-22T00:00:00",
          "2020-11-29T00:00:00",
          "2020-12-06T00:00:00",
          "2020-12-13T00:00:00",
          "2020-12-20T00:00:00",
          "2020-12-27T00:00:00",
          "2021-01-03T00:00:00",
          "2021-01-10T00:00:00",
          "2021-01-17T00:00:00",
          "2021-01-24T00:00:00",
          "2021-01-31T00:00:00",
          "2021-02-07T00:00:00",
          "2021-02-14T00:00:00",
          "2021-02-21T00:00:00",
          "2021-02-28T00:00:00",
          "2021-03-07T00:00:00",
          "2021-03-14T00:00:00",
          "2021-03-21T00:00:00",
          "2021-03-28T00:00:00",
          "2021-04-04T00:00:00",
          "2021-04-11T00:00:00",
          "2021-04-18T00:00:00",
          "2021-04-25T00:00:00",
          "2021-05-02T00:00:00",
          "2021-05-09T00:00:00",
          "2021-05-16T00:00:00",
          "2021-05-23T00:00:00",
          "2021-05-30T00:00:00",
          "2021-06-06T00:00:00",
          "2021-06-13T00:00:00",
          "2021-06-20T00:00:00",
          "2021-06-27T00:00:00",
          "2021-07-04T00:00:00",
          "2021-07-11T00:00:00",
          "2021-07-18T00:00:00",
          "2021-07-25T00:00:00",
          "2021-08-01T00:00:00",
          "2021-08-08T00:00:00",
          "2021-08-15T00:00:00",
          "2021-08-22T00:00:00",
          "2021-08-29T00:00:00",
          "2021-09-05T00:00:00",
          "2021-09-12T00:00:00",
          "2021-09-19T00:00:00",
          "2021-09-26T00:00:00",
          "2021-10-03T00:00:00",
          "2021-10-10T00:00:00",
          "2021-10-17T00:00:00",
          "2021-10-24T00:00:00"
         ],
         "y": [
          -11442.445792446444,
          -11012.519134907747,
          -10938.245776457457,
          -11277.172584452765,
          -11226.738820908977,
          -11088.391998168143,
          -10413.227760030637,
          -9876.480692546811,
          -10041.608259793633,
          -10250.089519458756,
          -9903.184847710658,
          -9468.201936354184,
          -9869.080071062986,
          -11603.754379689428,
          -12330.85387869368,
          -12215.65489389588,
          -11877.191218060547,
          -11897.34836349805,
          -11762.560715351028,
          -11432.623480535876,
          -11239.102919906738,
          -11495.042670411513,
          -11395.748975438142,
          -11134.01835262961,
          -11146.944356946407,
          -11051.414863548805,
          -11268.03002722648,
          -11237.439945540596,
          -11201.117086641663,
          -11156.913074976477,
          -10966.837732719443,
          -10925.034389030876,
          -10763.251465839428,
          -10518.133112001567,
          -10665.905812722283,
          -10718.083250041738,
          -10490.090300630065,
          -10534.732296611648,
          -10402.438849962786,
          -10888.750507686798,
          -10822.366361363947,
          -10602.66256872657,
          -10520.730791454684,
          -10300.514404462561,
          -10215.418339623002,
          -10029.454000605847,
          -9785.617099887402,
          -9832.207692933953,
          -9795.862010871066,
          -9288.896839118519,
          -9084.692507143569,
          -8939.047593254216,
          -9054.096267705685,
          -8792.957244352092,
          -8671.241180886165,
          -8950.307337932485,
          -9069.692740998038,
          -8870.213107313368,
          -8231.855527992006,
          -7408.733651460221,
          -7681.295847046651,
          -7990.855091631407,
          -7631.706873706304,
          -7258.823343580996,
          -7466.197579221702,
          -9159.772956468301,
          -9987.32935600445,
          -9838.915922507382,
          -9615.455964832006,
          -9582.24716990107,
          -9556.659041221996,
          -9188.334505974392,
          -9054.998644472827,
          -9132.890053445344,
          -9056.382611391062,
          -8843.379811931487,
          -8926.1680552685,
          -8667.65468372216,
          -8925.986345070236,
          -8977.079187698211,
          -8890.920743949264,
          -8896.23891500439,
          -8698.960397703635,
          -8654.946850364648,
          -8445.512046535763,
          -8247.431731000434,
          -8349.518825037896,
          -8415.893225371132,
          -8193.888873080987,
          -8256.430376810817,
          -8166.9705944411435,
          -8497.93523544138,
          -8569.757097617157,
          -8323.070614528002,
          -8261.915568250686,
          -8036.863437760949,
          -7947.265027086365,
          -7881.023345036714,
          -7528.057367961923,
          -7517.08136821263,
          -7560.955275440201,
          -7061.032572062668,
          -6824.06479224211,
          -6656.90692126955,
          -6781.08692952849,
          -6571.771713917877,
          -6319.557430108089,
          -6662.325593057503,
          -6773.070160005638,
          -6657.3938682702865,
          -6050.4621322085695,
          -5419.468788913866,
          -5327.383169762514,
          -5706.1258529562,
          -5408.827375114401,
          -5079.650304556299,
          -5009.723752628004,
          -6495.4420105332665,
          -7668.95039638492,
          -7633.727037929673,
          -7482.2131956228295,
          -7252.9881858744575,
          -7247.493678929781,
          -6944.688585206954,
          -6692.2203293589155,
          -6817.236678769079,
          -6803.464032277732,
          -6660.356921095488,
          -6609.798500934823,
          -6396.685405070812,
          -6587.415408075427,
          -6714.499265965627,
          -6656.479628940797,
          -6629.448288921667,
          -6435.200219328104,
          -6382.433488769484,
          -6236.028488657543,
          -5982.68006260244,
          -6034.997430176594,
          -6143.7139215848765,
          -6025.612231102714,
          -5972.833637091699,
          -5841.9336450731735,
          -6099.691911565864,
          -6261.350464481166,
          -6096.868913701142,
          -5996.971845474429,
          -5824.080830560557,
          -5662.891863567102,
          -5625.408255702681,
          -5275.754268949795,
          -5205.60812060532,
          -5296.448252592008,
          -4843.3618842060205,
          -4559.991344880931,
          -4335.139419987307,
          -4400.7818342927385,
          -4343.0906847336155,
          -4035.637411796757,
          -4312.671308338071,
          -4428.237152434867,
          -4402.809490533651,
          -3884.197321379772,
          -3235.080707818568,
          -2966.3605399055014,
          -3398.3183069552615,
          -3263.288040726442,
          -2816.2242540945663,
          -2637.3690684353205,
          -3825.1019359624224,
          -5330.859338849819,
          -5477.939835106816,
          -5103.277304732586,
          -4973.073727609775,
          -4955.136989933333,
          -4733.024154458582,
          -4459.420555038727,
          -4523.018960145086,
          -4636.339104640152,
          -4319.976754116949,
          -4320.328060646951,
          -4166.770377458699,
          -4178.474461657939,
          -4467.000997747931,
          -4420.836352238108,
          -4352.899076392841,
          -4195.837068534867,
          -4114.314088827841,
          -3953.9700295797993,
          -3752.00413413941,
          -3660.0512933368136,
          -3866.101380593973,
          -3760.4942527873827,
          -3662.539352553613,
          -3606.277591731283,
          -3637.7883889543045,
          -3979.455772537469,
          -3855.2657498129047,
          -3729.5234728259493,
          -3544.4149008073327,
          -3492.3432496378155,
          -3294.6487321575332,
          -3054.2970950135023,
          -2892.0219376081295,
          -3083.9591694849223,
          -2710.6810848034,
          -2316.291240314331,
          -2123.0120705729787,
          -2020.203391854513,
          -2123.2900054228194,
          -1754.301044426138,
          -1910.5144755155707,
          -2235.7412665599077,
          -2169.360685879503,
          -1777.0167799099072,
          -881.4125449545136,
          -647.9668020275967,
          -1036.101269637249,
          -1018.5215222405059,
          -589.2479456941874,
          -283.3481401939862,
          -1196.0793595220894,
          -2914.3240651010674,
          -3112.582538268998,
          -2879.2754975017633,
          -2697.721238111364,
          -2711.888570210067,
          -2487.6675626286815,
          -2213.445489034835,
          -2198.8681447532435,
          -2333.606105973762,
          -2072.0612499728995,
          -2064.0463903852906,
          -1930.5229855646794,
          -1860.632204839585,
          -2209.722550927032,
          -2097.197388880275,
          -2120.3541764932015,
          -1950.9194913770334,
          -1843.3216338310922,
          -1692.9730746859314,
          -1541.2514387784104,
          -1365.7269545722484,
          -1574.6911598475526,
          -1514.724639912347,
          -1358.9742588944428,
          -1398.1089900102597,
          -1307.9998040231112,
          -1723.5513847777038,
          -1603.7385910170087,
          -1501.8969661695664,
          -1308.817502110749
         ]
        },
        {
         "fill": "tonexty",
         "fillcolor": "rgba(0, 90, 181, 0.15)",
         "legendgroup": "interval",
         "line": {
          "color": "rgba(0, 90, 181, 0.5)",
          "width": 0
         },
         "mode": "lines",
         "name": "Upper Bound",
         "type": "scatter",
         "x": [
          "2017-01-01T00:00:00",
          "2017-01-08T00:00:00",
          "2017-01-15T00:00:00",
          "2017-01-22T00:00:00",
          "2017-01-29T00:00:00",
          "2017-02-05T00:00:00",
          "2017-02-12T00:00:00",
          "2017-02-19T00:00:00",
          "2017-02-26T00:00:00",
          "2017-03-05T00:00:00",
          "2017-03-12T00:00:00",
          "2017-03-19T00:00:00",
          "2017-03-26T00:00:00",
          "2017-04-02T00:00:00",
          "2017-04-09T00:00:00",
          "2017-04-16T00:00:00",
          "2017-04-23T00:00:00",
          "2017-04-30T00:00:00",
          "2017-05-07T00:00:00",
          "2017-05-14T00:00:00",
          "2017-05-21T00:00:00",
          "2017-05-28T00:00:00",
          "2017-06-04T00:00:00",
          "2017-06-11T00:00:00",
          "2017-06-18T00:00:00",
          "2017-06-25T00:00:00",
          "2017-07-02T00:00:00",
          "2017-07-09T00:00:00",
          "2017-07-16T00:00:00",
          "2017-07-23T00:00:00",
          "2017-07-30T00:00:00",
          "2017-08-06T00:00:00",
          "2017-08-13T00:00:00",
          "2017-08-20T00:00:00",
          "2017-08-27T00:00:00",
          "2017-09-03T00:00:00",
          "2017-09-10T00:00:00",
          "2017-09-17T00:00:00",
          "2017-09-24T00:00:00",
          "2017-10-01T00:00:00",
          "2017-10-08T00:00:00",
          "2017-10-15T00:00:00",
          "2017-10-22T00:00:00",
          "2017-10-29T00:00:00",
          "2017-11-05T00:00:00",
          "2017-11-12T00:00:00",
          "2017-11-19T00:00:00",
          "2017-11-26T00:00:00",
          "2017-12-03T00:00:00",
          "2017-12-10T00:00:00",
          "2017-12-17T00:00:00",
          "2017-12-24T00:00:00",
          "2017-12-31T00:00:00",
          "2018-01-07T00:00:00",
          "2018-01-14T00:00:00",
          "2018-01-21T00:00:00",
          "2018-01-28T00:00:00",
          "2018-02-04T00:00:00",
          "2018-02-11T00:00:00",
          "2018-02-18T00:00:00",
          "2018-02-25T00:00:00",
          "2018-03-04T00:00:00",
          "2018-03-11T00:00:00",
          "2018-03-18T00:00:00",
          "2018-03-25T00:00:00",
          "2018-04-01T00:00:00",
          "2018-04-08T00:00:00",
          "2018-04-15T00:00:00",
          "2018-04-22T00:00:00",
          "2018-04-29T00:00:00",
          "2018-05-06T00:00:00",
          "2018-05-13T00:00:00",
          "2018-05-20T00:00:00",
          "2018-05-27T00:00:00",
          "2018-06-03T00:00:00",
          "2018-06-10T00:00:00",
          "2018-06-17T00:00:00",
          "2018-06-24T00:00:00",
          "2018-07-01T00:00:00",
          "2018-07-08T00:00:00",
          "2018-07-15T00:00:00",
          "2018-07-22T00:00:00",
          "2018-07-29T00:00:00",
          "2018-08-05T00:00:00",
          "2018-08-12T00:00:00",
          "2018-08-19T00:00:00",
          "2018-08-26T00:00:00",
          "2018-09-02T00:00:00",
          "2018-09-09T00:00:00",
          "2018-09-16T00:00:00",
          "2018-09-23T00:00:00",
          "2018-09-30T00:00:00",
          "2018-10-07T00:00:00",
          "2018-10-14T00:00:00",
          "2018-10-21T00:00:00",
          "2018-10-28T00:00:00",
          "2018-11-04T00:00:00",
          "2018-11-11T00:00:00",
          "2018-11-18T00:00:00",
          "2018-11-25T00:00:00",
          "2018-12-02T00:00:00",
          "2018-12-09T00:00:00",
          "2018-12-16T00:00:00",
          "2018-12-23T00:00:00",
          "2018-12-30T00:00:00",
          "2019-01-06T00:00:00",
          "2019-01-13T00:00:00",
          "2019-01-20T00:00:00",
          "2019-01-27T00:00:00",
          "2019-02-03T00:00:00",
          "2019-02-10T00:00:00",
          "2019-02-17T00:00:00",
          "2019-02-24T00:00:00",
          "2019-03-03T00:00:00",
          "2019-03-10T00:00:00",
          "2019-03-17T00:00:00",
          "2019-03-24T00:00:00",
          "2019-03-31T00:00:00",
          "2019-04-07T00:00:00",
          "2019-04-14T00:00:00",
          "2019-04-21T00:00:00",
          "2019-04-28T00:00:00",
          "2019-05-05T00:00:00",
          "2019-05-12T00:00:00",
          "2019-05-19T00:00:00",
          "2019-05-26T00:00:00",
          "2019-06-02T00:00:00",
          "2019-06-09T00:00:00",
          "2019-06-16T00:00:00",
          "2019-06-23T00:00:00",
          "2019-06-30T00:00:00",
          "2019-07-07T00:00:00",
          "2019-07-14T00:00:00",
          "2019-07-21T00:00:00",
          "2019-07-28T00:00:00",
          "2019-08-04T00:00:00",
          "2019-08-11T00:00:00",
          "2019-08-18T00:00:00",
          "2019-08-25T00:00:00",
          "2019-09-01T00:00:00",
          "2019-09-08T00:00:00",
          "2019-09-15T00:00:00",
          "2019-09-22T00:00:00",
          "2019-09-29T00:00:00",
          "2019-10-06T00:00:00",
          "2019-10-13T00:00:00",
          "2019-10-20T00:00:00",
          "2019-10-27T00:00:00",
          "2019-11-03T00:00:00",
          "2019-11-10T00:00:00",
          "2019-11-17T00:00:00",
          "2019-11-24T00:00:00",
          "2019-12-01T00:00:00",
          "2019-12-08T00:00:00",
          "2019-12-15T00:00:00",
          "2019-12-22T00:00:00",
          "2019-12-29T00:00:00",
          "2020-01-05T00:00:00",
          "2020-01-12T00:00:00",
          "2020-01-19T00:00:00",
          "2020-01-26T00:00:00",
          "2020-02-02T00:00:00",
          "2020-02-09T00:00:00",
          "2020-02-16T00:00:00",
          "2020-02-23T00:00:00",
          "2020-03-01T00:00:00",
          "2020-03-08T00:00:00",
          "2020-03-15T00:00:00",
          "2020-03-22T00:00:00",
          "2020-03-29T00:00:00",
          "2020-04-05T00:00:00",
          "2020-04-12T00:00:00",
          "2020-04-19T00:00:00",
          "2020-04-26T00:00:00",
          "2020-05-03T00:00:00",
          "2020-05-10T00:00:00",
          "2020-05-17T00:00:00",
          "2020-05-24T00:00:00",
          "2020-05-31T00:00:00",
          "2020-06-07T00:00:00",
          "2020-06-14T00:00:00",
          "2020-06-21T00:00:00",
          "2020-06-28T00:00:00",
          "2020-07-05T00:00:00",
          "2020-07-12T00:00:00",
          "2020-07-19T00:00:00",
          "2020-07-26T00:00:00",
          "2020-08-02T00:00:00",
          "2020-08-09T00:00:00",
          "2020-08-16T00:00:00",
          "2020-08-23T00:00:00",
          "2020-08-30T00:00:00",
          "2020-09-06T00:00:00",
          "2020-09-13T00:00:00",
          "2020-09-20T00:00:00",
          "2020-09-27T00:00:00",
          "2020-10-04T00:00:00",
          "2020-10-11T00:00:00",
          "2020-10-18T00:00:00",
          "2020-10-25T00:00:00",
          "2020-11-01T00:00:00",
          "2020-11-08T00:00:00",
          "2020-11-15T00:00:00",
          "2020-11-22T00:00:00",
          "2020-11-29T00:00:00",
          "2020-12-06T00:00:00",
          "2020-12-13T00:00:00",
          "2020-12-20T00:00:00",
          "2020-12-27T00:00:00",
          "2021-01-03T00:00:00",
          "2021-01-10T00:00:00",
          "2021-01-17T00:00:00",
          "2021-01-24T00:00:00",
          "2021-01-31T00:00:00",
          "2021-02-07T00:00:00",
          "2021-02-14T00:00:00",
          "2021-02-21T00:00:00",
          "2021-02-28T00:00:00",
          "2021-03-07T00:00:00",
          "2021-03-14T00:00:00",
          "2021-03-21T00:00:00",
          "2021-03-28T00:00:00",
          "2021-04-04T00:00:00",
          "2021-04-11T00:00:00",
          "2021-04-18T00:00:00",
          "2021-04-25T00:00:00",
          "2021-05-02T00:00:00",
          "2021-05-09T00:00:00",
          "2021-05-16T00:00:00",
          "2021-05-23T00:00:00",
          "2021-05-30T00:00:00",
          "2021-06-06T00:00:00",
          "2021-06-13T00:00:00",
          "2021-06-20T00:00:00",
          "2021-06-27T00:00:00",
          "2021-07-04T00:00:00",
          "2021-07-11T00:00:00",
          "2021-07-18T00:00:00",
          "2021-07-25T00:00:00",
          "2021-08-01T00:00:00",
          "2021-08-08T00:00:00",
          "2021-08-15T00:00:00",
          "2021-08-22T00:00:00",
          "2021-08-29T00:00:00",
          "2021-09-05T00:00:00",
          "2021-09-12T00:00:00",
          "2021-09-19T00:00:00",
          "2021-09-26T00:00:00",
          "2021-10-03T00:00:00",
          "2021-10-10T00:00:00",
          "2021-10-17T00:00:00",
          "2021-10-24T00:00:00"
         ],
         "y": [
          21755.62725636692,
          22185.553913905616,
          22259.827272355906,
          21920.9004643606,
          21971.334227904386,
          22109.68105064522,
          22784.845288782726,
          23321.592356266552,
          23156.46478901973,
          22947.983529354606,
          23294.888201102705,
          23729.87111245918,
          23328.99297775038,
          21594.318669123935,
          20867.219170119683,
          20982.418154917483,
          21320.881830752816,
          21300.724685315312,
          21435.512333462335,
          21765.449568277487,
          21958.970128906625,
          21703.03037840185,
          21802.32407337522,
          22064.054696183754,
          22051.128691866958,
          22146.658185264558,
          21930.043021586884,
          21960.63310327277,
          21996.955962171698,
          22041.159973836886,
          22231.23531609392,
          22273.038659782487,
          22434.821582973935,
          22679.939936811796,
          22532.16723609108,
          22479.989798771625,
          22707.982748183298,
          22663.340752201715,
          22795.634198850577,
          22309.322541126567,
          22375.706687449416,
          22595.410480086794,
          22677.34225735868,
          22897.5586443508,
          22982.654709190363,
          23168.619048207518,
          23412.455948925963,
          23365.86535587941,
          23402.211037942296,
          23909.176209694844,
          24113.380541669794,
          24259.025455559145,
          24143.976781107678,
          24405.11580446127,
          24526.831867927198,
          24247.765710880878,
          24128.380307815325,
          24327.859941499995,
          24966.21752082136,
          25789.339397353142,
          25516.777201766712,
          25207.217957181958,
          25566.36617510706,
          25939.249705232367,
          25731.87546959166,
          24038.30009234506,
          23210.743692808916,
          23359.15712630598,
          23582.617083981357,
          23615.825878912292,
          23641.414007591367,
          24009.73854283897,
          24143.074404340536,
          24065.18299536802,
          24141.6904374223,
          24354.693236881874,
          24271.904993544864,
          24530.418365091202,
          24272.086703743127,
          24220.993861115152,
          24307.1523048641,
          24301.834133808974,
          24499.112651109728,
          24543.126198448714,
          24752.5610022776,
          24950.64131781293,
          24848.554223775467,
          24782.17982344223,
          25004.18417573238,
          24941.64267200255,
          25031.10245437222,
          24700.137813371985,
          24628.315951196208,
          24875.00243428536,
          24936.157480562677,
          25161.209611052414,
          25250.808021726996,
          25317.049703776647,
          25670.01568085144,
          25680.99168060073,
          25637.11777337316,
          26137.040476750695,
          26374.00825657125,
          26541.166127543813,
          26416.986119284873,
          26626.301334895485,
          26878.515618705274,
          26535.74745575586,
          26425.002888807725,
          26540.679180543077,
          27147.610916604794,
          27778.604259899497,
          27870.68987905085,
          27491.947195857163,
          27789.245673698962,
          28118.422744257063,
          28188.34929618536,
          26702.631038280095,
          25529.122652428443,
          25564.346010883688,
          25715.859853190534,
          25945.084862938907,
          25950.579369883584,
          26253.38446360641,
          26505.852719454448,
          26380.836370044286,
          26394.60901653563,
          26537.716127717875,
          26588.27454787854,
          26801.38764374255,
          26610.657640737936,
          26483.573782847736,
          26541.593419872566,
          26568.624759891696,
          26762.87282948526,
          26815.639560043877,
          26962.04456015582,
          27215.39298621092,
          27163.07561863677,
          27054.359127228487,
          27172.46081771065,
          27225.239411721665,
          27356.13940374019,
          27098.3811372475,
          26936.722584332198,
          27101.20413511222,
          27201.101203338934,
          27373.992218252806,
          27535.181185246263,
          27572.66479311068,
          27922.31877986357,
          27992.464928208043,
          27901.624796221353,
          28354.711164607343,
          28638.081703932432,
          28862.933628826057,
          28797.291214520625,
          28854.982364079748,
          29162.435637016606,
          28885.401740475292,
          28769.835896378496,
          28795.263558279712,
          29313.87572743359,
          29962.992340994795,
          30231.71250890786,
          29799.7547418581,
          29934.78500808692,
          30381.848794718797,
          30560.703980378043,
          29372.97111285094,
          27867.213709963544,
          27720.133213706547,
          28094.795744080777,
          28224.999321203588,
          28242.93605888003,
          28465.048894354783,
          28738.652493774636,
          28675.05408866828,
          28561.73394417321,
          28878.096294696414,
          28877.744988166414,
          29031.302671354664,
          29019.598587155422,
          28731.072051065432,
          28777.236696575255,
          28845.17397242052,
          29002.235980278496,
          29083.75895998552,
          29244.103019233564,
          29446.068914673953,
          29538.021755476548,
          29331.97166821939,
          29437.57879602598,
          29535.53369625975,
          29591.79545708208,
          29560.28465985906,
          29218.617276275894,
          29342.80729900046,
          29468.549575987414,
          29653.65814800603,
          29705.729799175548,
          29903.42431665583,
          30143.77595379986,
          30306.051111205234,
          30114.11387932844,
          30487.391964009963,
          30881.781808499032,
          31075.060978240384,
          31177.86965695885,
          31074.783043390544,
          31443.772004387225,
          31287.558573297792,
          30962.331782253455,
          31028.71236293386,
          31421.056268903456,
          32316.66050385885,
          32550.106246785766,
          32161.971779176114,
          32179.551526572857,
          32608.825103119176,
          32914.72490861938,
          32001.993689291274,
          30283.748983712296,
          30085.490510544365,
          30318.7975513116,
          30500.351810702,
          30486.184478603296,
          30710.40548618468,
          30984.627559778528,
          30999.20490406012,
          30864.4669428396,
          31126.011798840464,
          31134.026658428073,
          31267.550063248684,
          31337.440843973778,
          30988.35049788633,
          31100.875659933088,
          31077.71887232016,
          31247.15355743633,
          31354.75141498227,
          31505.09997412743,
          31656.821610034953,
          31832.346094241115,
          31623.38188896581,
          31683.348408901016,
          31839.09878991892,
          31799.964058803103,
          31890.073244790252,
          31474.52166403566,
          31594.334457796354,
          31696.176082643797,
          31889.255546702614
         ]
        },
        {
         "line": {
          "color": "rgba(250, 43, 20, 0.7)"
         },
         "marker": {
          "color": "rgba(250, 43, 20, 0.7)",
          "size": 2
         },
         "mode": "lines+markers",
         "name": "Actual",
         "opacity": 1,
         "type": "scatter",
         "x": [
          "2017-01-01T00:00:00",
          "2017-01-08T00:00:00",
          "2017-01-15T00:00:00",
          "2017-01-22T00:00:00",
          "2017-01-29T00:00:00",
          "2017-02-05T00:00:00",
          "2017-02-12T00:00:00",
          "2017-02-19T00:00:00",
          "2017-02-26T00:00:00",
          "2017-03-05T00:00:00",
          "2017-03-12T00:00:00",
          "2017-03-19T00:00:00",
          "2017-03-26T00:00:00",
          "2017-04-02T00:00:00",
          "2017-04-09T00:00:00",
          "2017-04-16T00:00:00",
          "2017-04-23T00:00:00",
          "2017-04-30T00:00:00",
          "2017-05-07T00:00:00",
          "2017-05-14T00:00:00",
          "2017-05-21T00:00:00",
          "2017-05-28T00:00:00",
          "2017-06-04T00:00:00",
          "2017-06-11T00:00:00",
          "2017-06-18T00:00:00",
          "2017-06-25T00:00:00",
          "2017-07-02T00:00:00",
          "2017-07-09T00:00:00",
          "2017-07-16T00:00:00",
          "2017-07-23T00:00:00",
          "2017-07-30T00:00:00",
          "2017-08-06T00:00:00",
          "2017-08-13T00:00:00",
          "2017-08-20T00:00:00",
          "2017-08-27T00:00:00",
          "2017-09-03T00:00:00",
          "2017-09-10T00:00:00",
          "2017-09-17T00:00:00",
          "2017-09-24T00:00:00",
          "2017-10-01T00:00:00",
          "2017-10-08T00:00:00",
          "2017-10-15T00:00:00",
          "2017-10-22T00:00:00",
          "2017-10-29T00:00:00",
          "2017-11-05T00:00:00",
          "2017-11-12T00:00:00",
          "2017-11-19T00:00:00",
          "2017-11-26T00:00:00",
          "2017-12-03T00:00:00",
          "2017-12-10T00:00:00",
          "2017-12-17T00:00:00",
          "2017-12-24T00:00:00",
          "2017-12-31T00:00:00",
          "2018-01-07T00:00:00",
          "2018-01-14T00:00:00",
          "2018-01-21T00:00:00",
          "2018-01-28T00:00:00",
          "2018-02-04T00:00:00",
          "2018-02-11T00:00:00",
          "2018-02-18T00:00:00",
          "2018-02-25T00:00:00",
          "2018-03-04T00:00:00",
          "2018-03-11T00:00:00",
          "2018-03-18T00:00:00",
          "2018-03-25T00:00:00",
          "2018-04-01T00:00:00",
          "2018-04-08T00:00:00",
          "2018-04-15T00:00:00",
          "2018-04-22T00:00:00",
          "2018-04-29T00:00:00",
          "2018-05-06T00:00:00",
          "2018-05-13T00:00:00",
          "2018-05-20T00:00:00",
          "2018-05-27T00:00:00",
          "2018-06-03T00:00:00",
          "2018-06-10T00:00:00",
          "2018-06-17T00:00:00",
          "2018-06-24T00:00:00",
          "2018-07-01T00:00:00",
          "2018-07-08T00:00:00",
          "2018-07-15T00:00:00",
          "2018-07-22T00:00:00",
          "2018-07-29T00:00:00",
          "2018-08-05T00:00:00",
          "2018-08-12T00:00:00",
          "2018-08-19T00:00:00",
          "2018-08-26T00:00:00",
          "2018-09-02T00:00:00",
          "2018-09-09T00:00:00",
          "2018-09-16T00:00:00",
          "2018-09-23T00:00:00",
          "2018-09-30T00:00:00",
          "2018-10-07T00:00:00",
          "2018-10-14T00:00:00",
          "2018-10-21T00:00:00",
          "2018-10-28T00:00:00",
          "2018-11-04T00:00:00",
          "2018-11-11T00:00:00",
          "2018-11-18T00:00:00",
          "2018-11-25T00:00:00",
          "2018-12-02T00:00:00",
          "2018-12-09T00:00:00",
          "2018-12-16T00:00:00",
          "2018-12-23T00:00:00",
          "2018-12-30T00:00:00",
          "2019-01-06T00:00:00",
          "2019-01-13T00:00:00",
          "2019-01-20T00:00:00",
          "2019-01-27T00:00:00",
          "2019-02-03T00:00:00",
          "2019-02-10T00:00:00",
          "2019-02-17T00:00:00",
          "2019-02-24T00:00:00",
          "2019-03-03T00:00:00",
          "2019-03-10T00:00:00",
          "2019-03-17T00:00:00",
          "2019-03-24T00:00:00",
          "2019-03-31T00:00:00",
          "2019-04-07T00:00:00",
          "2019-04-14T00:00:00",
          "2019-04-21T00:00:00",
          "2019-04-28T00:00:00",
          "2019-05-05T00:00:00",
          "2019-05-12T00:00:00",
          "2019-05-19T00:00:00",
          "2019-05-26T00:00:00",
          "2019-06-02T00:00:00",
          "2019-06-09T00:00:00",
          "2019-06-16T00:00:00",
          "2019-06-23T00:00:00",
          "2019-06-30T00:00:00",
          "2019-07-07T00:00:00",
          "2019-07-14T00:00:00",
          "2019-07-21T00:00:00",
          "2019-07-28T00:00:00",
          "2019-08-04T00:00:00",
          "2019-08-11T00:00:00",
          "2019-08-18T00:00:00",
          "2019-08-25T00:00:00",
          "2019-09-01T00:00:00",
          "2019-09-08T00:00:00",
          "2019-09-15T00:00:00",
          "2019-09-22T00:00:00",
          "2019-09-29T00:00:00",
          "2019-10-06T00:00:00",
          "2019-10-13T00:00:00",
          "2019-10-20T00:00:00",
          "2019-10-27T00:00:00",
          "2019-11-03T00:00:00",
          "2019-11-10T00:00:00",
          "2019-11-17T00:00:00",
          "2019-11-24T00:00:00",
          "2019-12-01T00:00:00",
          "2019-12-08T00:00:00",
          "2019-12-15T00:00:00",
          "2019-12-22T00:00:00",
          "2019-12-29T00:00:00",
          "2020-01-05T00:00:00",
          "2020-01-12T00:00:00",
          "2020-01-19T00:00:00",
          "2020-01-26T00:00:00",
          "2020-02-02T00:00:00",
          "2020-02-09T00:00:00",
          "2020-02-16T00:00:00",
          "2020-02-23T00:00:00",
          "2020-03-01T00:00:00",
          "2020-03-08T00:00:00",
          "2020-03-15T00:00:00",
          "2020-03-22T00:00:00",
          "2020-03-29T00:00:00",
          "2020-04-05T00:00:00",
          "2020-04-12T00:00:00",
          "2020-04-19T00:00:00",
          "2020-04-26T00:00:00",
          "2020-05-03T00:00:00",
          "2020-05-10T00:00:00",
          "2020-05-17T00:00:00",
          "2020-05-24T00:00:00",
          "2020-05-31T00:00:00",
          "2020-06-07T00:00:00",
          "2020-06-14T00:00:00",
          "2020-06-21T00:00:00",
          "2020-06-28T00:00:00",
          "2020-07-05T00:00:00",
          "2020-07-12T00:00:00",
          "2020-07-19T00:00:00",
          "2020-07-26T00:00:00",
          "2020-08-02T00:00:00",
          "2020-08-09T00:00:00",
          "2020-08-16T00:00:00",
          "2020-08-23T00:00:00",
          "2020-08-30T00:00:00",
          "2020-09-06T00:00:00",
          "2020-09-13T00:00:00",
          "2020-09-20T00:00:00",
          "2020-09-27T00:00:00",
          "2020-10-04T00:00:00",
          "2020-10-11T00:00:00",
          "2020-10-18T00:00:00",
          "2020-10-25T00:00:00",
          "2020-11-01T00:00:00",
          "2020-11-08T00:00:00",
          "2020-11-15T00:00:00",
          "2020-11-22T00:00:00",
          "2020-11-29T00:00:00",
          "2020-12-06T00:00:00",
          "2020-12-13T00:00:00",
          "2020-12-20T00:00:00",
          "2020-12-27T00:00:00",
          "2021-01-03T00:00:00",
          "2021-01-10T00:00:00",
          "2021-01-17T00:00:00",
          "2021-01-24T00:00:00",
          "2021-01-31T00:00:00",
          "2021-02-07T00:00:00",
          "2021-02-14T00:00:00",
          "2021-02-21T00:00:00",
          "2021-02-28T00:00:00",
          "2021-03-07T00:00:00",
          "2021-03-14T00:00:00",
          "2021-03-21T00:00:00",
          "2021-03-28T00:00:00",
          "2021-04-04T00:00:00",
          "2021-04-11T00:00:00",
          "2021-04-18T00:00:00",
          "2021-04-25T00:00:00",
          "2021-05-02T00:00:00",
          "2021-05-09T00:00:00",
          "2021-05-16T00:00:00",
          "2021-05-23T00:00:00",
          "2021-05-30T00:00:00",
          "2021-06-06T00:00:00",
          "2021-06-13T00:00:00",
          "2021-06-20T00:00:00",
          "2021-06-27T00:00:00",
          "2021-07-04T00:00:00",
          "2021-07-11T00:00:00",
          "2021-07-18T00:00:00",
          "2021-07-25T00:00:00",
          "2021-08-01T00:00:00",
          "2021-08-08T00:00:00",
          "2021-08-15T00:00:00",
          "2021-08-22T00:00:00",
          "2021-08-29T00:00:00",
          "2021-09-05T00:00:00",
          "2021-09-12T00:00:00",
          "2021-09-19T00:00:00",
          "2021-09-26T00:00:00",
          "2021-10-03T00:00:00",
          "2021-10-10T00:00:00",
          "2021-10-17T00:00:00",
          "2021-10-24T00:00:00"
         ],
         "y": [
          981.6376879920928,
          915.2058142519436,
          817.0549635712492,
          921.0022294154238,
          916.4743844403482,
          1018.327562124935,
          1002.9858857063558,
          1052.5456970824382,
          1165.8244162493393,
          1258.6520904332842,
          1198.4495991848353,
          1009.8453678806043,
          965.6647718384512,
          1080.593671156791,
          1195.2263193941758,
          1168.5849291604588,
          1235.959071154503,
          1331.428636861853,
          1541.9670501659964,
          1781.992960291066,
          2022.2277678510666,
          2188.8339780159095,
          2524.769903107526,
          2907.1849046281804,
          2564.159564217592,
          2557.9534132747376,
          2445.2220216764304,
          2538.7765526156186,
          1938.9989240757789,
          2766.018589895212,
          2674.9081195927315,
          3236.1315535456533,
          4022.9411932688417,
          4059.5180476308906,
          4340.433891081189,
          4575.300758474094,
          4178.9680422029805,
          3634.043061056025,
          3694.9808246963107,
          4290.272278589144,
          4497.856967223395,
          5608.239015452093,
          5909.253738347273,
          5890.56903730675,
          7458.414757038099,
          6113.264264574333,
          7827.131551353381,
          8971.770344226623,
          11291.622579057115,
          14132.601710642339,
          19186.169610256275,
          13652.628406286824,
          13337.513232213194,
          16516.38596170831,
          13678.34344394982,
          11894.038151210543,
          11673.754262195793,
          8718.772985557165,
          8187.7584321186805,
          10737.516565552482,
          9594.672009343749,
          11241.467414556733,
          9059.7413486486,
          7678.897274336678,
          8535.27998779133,
          6796.601292610656,
          6988.220222870914,
          8215.062462895481,
          8888.486728819395,
          9355.907476675324,
          9615.743948307036,
          8550.046166780056,
          8362.053475615578,
          7316.551009348536,
          7690.58057537641,
          7132.902355224252,
          6508.827389822967,
          6023.8896670909435,
          6349.980904651709,
          6738.8721180935745,
          6318.013231735982,
          7447.723313695186,
          8202.498761161012,
          6995.192839452979,
          6305.226968673242,
          6401.7003608656405,
          6670.069420563303,
          7240.745144965029,
          6295.955871608836,
          6481.711958450328,
          6707.643346377803,
          6578.164624514121,
          6533.448685133508,
          6226.1260207690675,
          6434.035994542509,
          6402.290679530039,
          6369.730653024255,
          6337.526091595159,
          5534.734346708526,
          3756.9321726632147,
          4120.589503435377,
          3471.6984966057476,
          3217.320694474901,
          3978.056280943766,
          3787.8872244049644,
          3885.3312363064815,
          3575.310055370954,
          3600.5671484172353,
          3544.653609846713,
          3424.824032234868,
          3607.855117072525,
          3585.2871700518717,
          3985.1708804270693,
          3800.987502450217,
          3892.6368754301884,
          3963.4112159366673,
          3968.46245122984,
          4088.4294700084174,
          5128.484710430335,
          5078.929244976857,
          5287.273093444004,
          5169.575513691476,
          5722.166836310573,
          7154.9551372121105,
          7933.9268158052155,
          8128.546958223451,
          8670.265812880712,
          7798.498155120784,
          9095.289101530452,
          10746.900511013211,
          11542.5519109653,
          11311.47674802796,
          10857.026633891062,
          10577.614454422597,
          9484.914105643693,
          10820.892324169692,
          11378.232876254126,
          10292.527044551465,
          10100.656939299763,
          9626.724277129402,
          10460.721158303631,
          10316.665172788826,
          9978.878329965732,
          8073.95375222317,
          7980.2613741350415,
          8358.546977063057,
          8020.297620718581,
          9413.283675192675,
          9217.614908547763,
          8896.594757823774,
          8514.029198381439,
          7146.012933634438,
          7353.310525060708,
          7495.626457542383,
          7089.723106689306,
          7228.238391081989,
          7345.635970926209,
          7430.027209611784,
          8111.715362809299,
          8847.166821810986,
          8430.129199500645,
          9377.036114146784,
          10080.72238297771,
          9905.53388478716,
          9870.245958296517,
          8557.198634572247,
          8569.848185239654,
          5300.8230481772,
          6132.192548689882,
          6104.824055534396,
          6796.675729856801,
          6954.061312250376,
          7166.968470350743,
          7603.793608820947,
          8979.892588601406,
          8687.485435756498,
          9626.880262499786,
          9119.084263966222,
          9546.667359008288,
          9618.2132603281,
          9403.238615212738,
          9348.204026697782,
          9056.25733932299,
          9062.05921703053,
          9249.438246949527,
          9154.807427888656,
          9834.34345093738,
          11333.746837542161,
          11672.131345720929,
          11850.765200290209,
          11623.091878436793,
          11609.048559349349,
          10201.799719070545,
          10393.662602084078,
          10915.45825408122,
          10717.587523472932,
          10604.973839338634,
          11360.626362271318,
          11424.963448037344,
          13056.228187102959,
          13769.800513425602,
          15202.594518399836,
          15995.998189848071,
          18432.242585682645,
          17991.419820260784,
          19145.148466569415,
          19113.047104531674,
          23594.411731075204,
          27043.386470000005,
          33467.36252562915,
          39727.27752555421,
          35650.76418554722,
          32225.07011977885,
          33450.93785876327,
          38711.77455524941,
          48600.49151849026,
          57040.825943830474,
          44818.44755210362,
          50218.21680438112,
          60455.84483148646,
          57312.59853645818,
          55832.958823907036,
          null,
          null,
          null,
          null,
          null,
          null,
          null,
          null,
          null,
          null,
          null,
          null,
          null,
          null,
          null,
          null,
          null,
          null,
          null,
          null,
          null,
          null,
          null,
          null,
          null,
          null,
          null,
          null,
          null,
          null
         ]
        },
        {
         "line": {
          "color": "rgba(0, 90, 181, 0.7)",
          "dash": "solid"
         },
         "name": "Forecast",
         "type": "scatter",
         "x": [
          "2017-01-01T00:00:00",
          "2017-01-08T00:00:00",
          "2017-01-15T00:00:00",
          "2017-01-22T00:00:00",
          "2017-01-29T00:00:00",
          "2017-02-05T00:00:00",
          "2017-02-12T00:00:00",
          "2017-02-19T00:00:00",
          "2017-02-26T00:00:00",
          "2017-03-05T00:00:00",
          "2017-03-12T00:00:00",
          "2017-03-19T00:00:00",
          "2017-03-26T00:00:00",
          "2017-04-02T00:00:00",
          "2017-04-09T00:00:00",
          "2017-04-16T00:00:00",
          "2017-04-23T00:00:00",
          "2017-04-30T00:00:00",
          "2017-05-07T00:00:00",
          "2017-05-14T00:00:00",
          "2017-05-21T00:00:00",
          "2017-05-28T00:00:00",
          "2017-06-04T00:00:00",
          "2017-06-11T00:00:00",
          "2017-06-18T00:00:00",
          "2017-06-25T00:00:00",
          "2017-07-02T00:00:00",
          "2017-07-09T00:00:00",
          "2017-07-16T00:00:00",
          "2017-07-23T00:00:00",
          "2017-07-30T00:00:00",
          "2017-08-06T00:00:00",
          "2017-08-13T00:00:00",
          "2017-08-20T00:00:00",
          "2017-08-27T00:00:00",
          "2017-09-03T00:00:00",
          "2017-09-10T00:00:00",
          "2017-09-17T00:00:00",
          "2017-09-24T00:00:00",
          "2017-10-01T00:00:00",
          "2017-10-08T00:00:00",
          "2017-10-15T00:00:00",
          "2017-10-22T00:00:00",
          "2017-10-29T00:00:00",
          "2017-11-05T00:00:00",
          "2017-11-12T00:00:00",
          "2017-11-19T00:00:00",
          "2017-11-26T00:00:00",
          "2017-12-03T00:00:00",
          "2017-12-10T00:00:00",
          "2017-12-17T00:00:00",
          "2017-12-24T00:00:00",
          "2017-12-31T00:00:00",
          "2018-01-07T00:00:00",
          "2018-01-14T00:00:00",
          "2018-01-21T00:00:00",
          "2018-01-28T00:00:00",
          "2018-02-04T00:00:00",
          "2018-02-11T00:00:00",
          "2018-02-18T00:00:00",
          "2018-02-25T00:00:00",
          "2018-03-04T00:00:00",
          "2018-03-11T00:00:00",
          "2018-03-18T00:00:00",
          "2018-03-25T00:00:00",
          "2018-04-01T00:00:00",
          "2018-04-08T00:00:00",
          "2018-04-15T00:00:00",
          "2018-04-22T00:00:00",
          "2018-04-29T00:00:00",
          "2018-05-06T00:00:00",
          "2018-05-13T00:00:00",
          "2018-05-20T00:00:00",
          "2018-05-27T00:00:00",
          "2018-06-03T00:00:00",
          "2018-06-10T00:00:00",
          "2018-06-17T00:00:00",
          "2018-06-24T00:00:00",
          "2018-07-01T00:00:00",
          "2018-07-08T00:00:00",
          "2018-07-15T00:00:00",
          "2018-07-22T00:00:00",
          "2018-07-29T00:00:00",
          "2018-08-05T00:00:00",
          "2018-08-12T00:00:00",
          "2018-08-19T00:00:00",
          "2018-08-26T00:00:00",
          "2018-09-02T00:00:00",
          "2018-09-09T00:00:00",
          "2018-09-16T00:00:00",
          "2018-09-23T00:00:00",
          "2018-09-30T00:00:00",
          "2018-10-07T00:00:00",
          "2018-10-14T00:00:00",
          "2018-10-21T00:00:00",
          "2018-10-28T00:00:00",
          "2018-11-04T00:00:00",
          "2018-11-11T00:00:00",
          "2018-11-18T00:00:00",
          "2018-11-25T00:00:00",
          "2018-12-02T00:00:00",
          "2018-12-09T00:00:00",
          "2018-12-16T00:00:00",
          "2018-12-23T00:00:00",
          "2018-12-30T00:00:00",
          "2019-01-06T00:00:00",
          "2019-01-13T00:00:00",
          "2019-01-20T00:00:00",
          "2019-01-27T00:00:00",
          "2019-02-03T00:00:00",
          "2019-02-10T00:00:00",
          "2019-02-17T00:00:00",
          "2019-02-24T00:00:00",
          "2019-03-03T00:00:00",
          "2019-03-10T00:00:00",
          "2019-03-17T00:00:00",
          "2019-03-24T00:00:00",
          "2019-03-31T00:00:00",
          "2019-04-07T00:00:00",
          "2019-04-14T00:00:00",
          "2019-04-21T00:00:00",
          "2019-04-28T00:00:00",
          "2019-05-05T00:00:00",
          "2019-05-12T00:00:00",
          "2019-05-19T00:00:00",
          "2019-05-26T00:00:00",
          "2019-06-02T00:00:00",
          "2019-06-09T00:00:00",
          "2019-06-16T00:00:00",
          "2019-06-23T00:00:00",
          "2019-06-30T00:00:00",
          "2019-07-07T00:00:00",
          "2019-07-14T00:00:00",
          "2019-07-21T00:00:00",
          "2019-07-28T00:00:00",
          "2019-08-04T00:00:00",
          "2019-08-11T00:00:00",
          "2019-08-18T00:00:00",
          "2019-08-25T00:00:00",
          "2019-09-01T00:00:00",
          "2019-09-08T00:00:00",
          "2019-09-15T00:00:00",
          "2019-09-22T00:00:00",
          "2019-09-29T00:00:00",
          "2019-10-06T00:00:00",
          "2019-10-13T00:00:00",
          "2019-10-20T00:00:00",
          "2019-10-27T00:00:00",
          "2019-11-03T00:00:00",
          "2019-11-10T00:00:00",
          "2019-11-17T00:00:00",
          "2019-11-24T00:00:00",
          "2019-12-01T00:00:00",
          "2019-12-08T00:00:00",
          "2019-12-15T00:00:00",
          "2019-12-22T00:00:00",
          "2019-12-29T00:00:00",
          "2020-01-05T00:00:00",
          "2020-01-12T00:00:00",
          "2020-01-19T00:00:00",
          "2020-01-26T00:00:00",
          "2020-02-02T00:00:00",
          "2020-02-09T00:00:00",
          "2020-02-16T00:00:00",
          "2020-02-23T00:00:00",
          "2020-03-01T00:00:00",
          "2020-03-08T00:00:00",
          "2020-03-15T00:00:00",
          "2020-03-22T00:00:00",
          "2020-03-29T00:00:00",
          "2020-04-05T00:00:00",
          "2020-04-12T00:00:00",
          "2020-04-19T00:00:00",
          "2020-04-26T00:00:00",
          "2020-05-03T00:00:00",
          "2020-05-10T00:00:00",
          "2020-05-17T00:00:00",
          "2020-05-24T00:00:00",
          "2020-05-31T00:00:00",
          "2020-06-07T00:00:00",
          "2020-06-14T00:00:00",
          "2020-06-21T00:00:00",
          "2020-06-28T00:00:00",
          "2020-07-05T00:00:00",
          "2020-07-12T00:00:00",
          "2020-07-19T00:00:00",
          "2020-07-26T00:00:00",
          "2020-08-02T00:00:00",
          "2020-08-09T00:00:00",
          "2020-08-16T00:00:00",
          "2020-08-23T00:00:00",
          "2020-08-30T00:00:00",
          "2020-09-06T00:00:00",
          "2020-09-13T00:00:00",
          "2020-09-20T00:00:00",
          "2020-09-27T00:00:00",
          "2020-10-04T00:00:00",
          "2020-10-11T00:00:00",
          "2020-10-18T00:00:00",
          "2020-10-25T00:00:00",
          "2020-11-01T00:00:00",
          "2020-11-08T00:00:00",
          "2020-11-15T00:00:00",
          "2020-11-22T00:00:00",
          "2020-11-29T00:00:00",
          "2020-12-06T00:00:00",
          "2020-12-13T00:00:00",
          "2020-12-20T00:00:00",
          "2020-12-27T00:00:00",
          "2021-01-03T00:00:00",
          "2021-01-10T00:00:00",
          "2021-01-17T00:00:00",
          "2021-01-24T00:00:00",
          "2021-01-31T00:00:00",
          "2021-02-07T00:00:00",
          "2021-02-14T00:00:00",
          "2021-02-21T00:00:00",
          "2021-02-28T00:00:00",
          "2021-03-07T00:00:00",
          "2021-03-14T00:00:00",
          "2021-03-21T00:00:00",
          "2021-03-28T00:00:00",
          "2021-04-04T00:00:00",
          "2021-04-11T00:00:00",
          "2021-04-18T00:00:00",
          "2021-04-25T00:00:00",
          "2021-05-02T00:00:00",
          "2021-05-09T00:00:00",
          "2021-05-16T00:00:00",
          "2021-05-23T00:00:00",
          "2021-05-30T00:00:00",
          "2021-06-06T00:00:00",
          "2021-06-13T00:00:00",
          "2021-06-20T00:00:00",
          "2021-06-27T00:00:00",
          "2021-07-04T00:00:00",
          "2021-07-11T00:00:00",
          "2021-07-18T00:00:00",
          "2021-07-25T00:00:00",
          "2021-08-01T00:00:00",
          "2021-08-08T00:00:00",
          "2021-08-15T00:00:00",
          "2021-08-22T00:00:00",
          "2021-08-29T00:00:00",
          "2021-09-05T00:00:00",
          "2021-09-12T00:00:00",
          "2021-09-19T00:00:00",
          "2021-09-26T00:00:00",
          "2021-10-03T00:00:00",
          "2021-10-10T00:00:00",
          "2021-10-17T00:00:00",
          "2021-10-24T00:00:00"
         ],
         "y": [
          5156.590731960237,
          5586.517389498935,
          5660.790747949223,
          5321.863939953918,
          5372.297703497705,
          5510.644526238538,
          6185.808764376045,
          6722.55583185987,
          6557.428264613049,
          6348.947004947926,
          6695.851676696025,
          7130.834588052498,
          6729.956453343695,
          4995.282144717253,
          4268.182645713001,
          4383.381630510801,
          4721.845306346136,
          4701.688160908632,
          4836.475809055654,
          5166.413043870804,
          5359.933604499944,
          5103.993853995168,
          5203.287548968539,
          5465.018171777071,
          5452.092167460274,
          5547.621660857876,
          5331.006497180201,
          5361.596578866085,
          5397.919437765018,
          5442.123449430203,
          5632.1987916872395,
          5674.002135375807,
          5835.785058567253,
          6080.903412405114,
          5933.130711684398,
          5880.953274364944,
          6108.9462237766165,
          6064.3042277950335,
          6196.597674443896,
          5710.286016719883,
          5776.670163042735,
          5996.373955680113,
          6078.305732951999,
          6298.52211994412,
          6383.61818478368,
          6569.582523800835,
          6813.419424519279,
          6766.828831472729,
          6803.174513535616,
          7310.139685288163,
          7514.344017263113,
          7659.988931152466,
          7544.940256700997,
          7806.07928005459,
          7927.795343520516,
          7648.729186474197,
          7529.3437834086435,
          7728.823417093314,
          8367.180996414676,
          9190.30287294646,
          8917.74067736003,
          8608.181432775275,
          8967.329650700378,
          9340.213180825685,
          9132.83894518498,
          7439.26356793838,
          6611.707168402232,
          6760.120601899299,
          6983.580559574675,
          7016.789354505612,
          7042.377483184686,
          7410.702018432291,
          7544.037879933854,
          7466.146470961337,
          7542.65391301562,
          7755.656712475195,
          7672.868469138182,
          7931.381840684522,
          7673.050179336445,
          7621.9573367084695,
          7708.115780457418,
          7702.797609402292,
          7900.0761267030475,
          7944.089674042034,
          8153.524477870918,
          8351.604793406248,
          8249.517699368786,
          8183.143299035551,
          8405.147651325695,
          8342.606147595865,
          8432.065929965538,
          8101.101288965301,
          8029.279426789524,
          8275.96590987868,
          8337.120956155995,
          8562.173086645733,
          8651.771497320316,
          8718.013179369967,
          9070.979156444759,
          9081.955156194052,
          9038.08124896648,
          9538.003952344014,
          9774.971732164571,
          9942.129603137131,
          9817.949594878191,
          10027.264810488805,
          10279.479094298593,
          9936.710931349178,
          9825.966364401043,
          9941.642656136395,
          10548.574392198112,
          11179.567735492816,
          11271.653354644168,
          10892.910671450481,
          11190.209149292281,
          11519.386219850383,
          11589.312771778677,
          10103.594513873415,
          8930.086128021761,
          8965.309486477008,
          9116.823328783852,
          9346.048338532224,
          9351.5428454769,
          9654.347939199728,
          9906.816195047766,
          9781.799845637603,
          9795.57249212895,
          9938.679603311193,
          9989.238023471858,
          10202.35111933587,
          10011.621116331255,
          9884.537258441054,
          9942.556895465885,
          9969.588235485015,
          10163.836305078577,
          10216.603035637198,
          10363.008035749139,
          10616.356461804242,
          10564.039094230087,
          10455.322602821805,
          10573.424293303968,
          10626.202887314983,
          10757.102879333508,
          10499.344612840818,
          10337.686059925516,
          10502.16761070554,
          10602.064678932253,
          10774.955693846125,
          10936.14466083958,
          10973.628268704,
          11323.282255456887,
          11393.428403801361,
          11302.588271814673,
          11755.674640200661,
          12039.04517952575,
          12263.897104419375,
          12198.254690113943,
          12255.945839673066,
          12563.399112609924,
          12286.36521606861,
          12170.799371971814,
          12196.22703387303,
          12714.83920302691,
          13363.955816588114,
          13632.67598450118,
          13200.71821745142,
          13335.74848368024,
          13782.812270312115,
          13961.667455971361,
          12773.93458844426,
          11268.177185556862,
          11121.096689299866,
          11495.759219674095,
          11625.962796796906,
          11643.899534473348,
          11866.0123699481,
          12139.615969367955,
          12076.017564261596,
          11962.69741976653,
          12279.059770289732,
          12278.70846375973,
          12432.266146947983,
          12420.562062748742,
          12132.03552665875,
          12178.200172168574,
          12246.13744801384,
          12403.199455871814,
          12484.72243557884,
          12645.066494826882,
          12847.032390267272,
          12938.985231069868,
          12732.935143812709,
          12838.542271619299,
          12936.497171853069,
          12992.758932675399,
          12961.248135452377,
          12619.580751869213,
          12743.770774593777,
          12869.513051580732,
          13054.621623599349,
          13106.693274768866,
          13304.387792249148,
          13544.73942939318,
          13707.014586798552,
          13515.07735492176,
          13888.355439603281,
          14282.74528409235,
          14476.024453833703,
          14578.833132552169,
          14475.746518983862,
          14844.735479980543,
          14688.52204889111,
          14363.295257846774,
          14429.675838527179,
          14822.019744496774,
          15717.623979452168,
          15951.069722379085,
          15562.935254769433,
          15580.515002166176,
          16009.788578712494,
          16315.688384212695,
          15402.957164884592,
          13684.712459305614,
          13486.453986137683,
          13719.761026904918,
          13901.315286295317,
          13887.147954196615,
          14111.368961778,
          14385.591035371846,
          14400.168379653438,
          14265.43041843292,
          14526.975274433782,
          14534.990134021391,
          14668.513538842002,
          14738.404319567097,
          14389.31397347965,
          14501.839135526407,
          14478.68234791348,
          14648.117033029648,
          14755.71489057559,
          14906.06344972075,
          15057.785085628271,
          15233.309569834433,
          15024.345364559129,
          15084.311884494335,
          15240.062265512239,
          15200.927534396422,
          15291.03672038357,
          14875.485139628978,
          14995.297933389673,
          15097.139558237115,
          15290.219022295933
         ]
        }
       ],
       "layout": {
        "annotations": [
         {
          "arrowhead": 0,
          "ax": -60,
          "ay": 0,
          "showarrow": true,
          "text": "Train End Date",
          "x": "2021-03-28T00:00:00",
          "xref": "x",
          "y": 0.97,
          "yref": "paper"
         }
        ],
        "legend": {
         "traceorder": "reversed"
        },
        "shapes": [
         {
          "line": {
           "color": "rgba(100, 100, 100, 0.9)",
           "width": 1
          },
          "type": "line",
          "x0": "2021-03-28T00:00:00",
          "x1": "2021-03-28T00:00:00",
          "xref": "x",
          "y0": 0,
          "y1": 1,
          "yref": "paper"
         }
        ],
        "showlegend": true,
        "template": {
         "data": {
          "bar": [
           {
            "error_x": {
             "color": "#2a3f5f"
            },
            "error_y": {
             "color": "#2a3f5f"
            },
            "marker": {
             "line": {
              "color": "#E5ECF6",
              "width": 0.5
             }
            },
            "type": "bar"
           }
          ],
          "barpolar": [
           {
            "marker": {
             "line": {
              "color": "#E5ECF6",
              "width": 0.5
             }
            },
            "type": "barpolar"
           }
          ],
          "carpet": [
           {
            "aaxis": {
             "endlinecolor": "#2a3f5f",
             "gridcolor": "white",
             "linecolor": "white",
             "minorgridcolor": "white",
             "startlinecolor": "#2a3f5f"
            },
            "baxis": {
             "endlinecolor": "#2a3f5f",
             "gridcolor": "white",
             "linecolor": "white",
             "minorgridcolor": "white",
             "startlinecolor": "#2a3f5f"
            },
            "type": "carpet"
           }
          ],
          "choropleth": [
           {
            "colorbar": {
             "outlinewidth": 0,
             "ticks": ""
            },
            "type": "choropleth"
           }
          ],
          "contour": [
           {
            "colorbar": {
             "outlinewidth": 0,
             "ticks": ""
            },
            "colorscale": [
             [
              0,
              "#0d0887"
             ],
             [
              0.1111111111111111,
              "#46039f"
             ],
             [
              0.2222222222222222,
              "#7201a8"
             ],
             [
              0.3333333333333333,
              "#9c179e"
             ],
             [
              0.4444444444444444,
              "#bd3786"
             ],
             [
              0.5555555555555556,
              "#d8576b"
             ],
             [
              0.6666666666666666,
              "#ed7953"
             ],
             [
              0.7777777777777778,
              "#fb9f3a"
             ],
             [
              0.8888888888888888,
              "#fdca26"
             ],
             [
              1,
              "#f0f921"
             ]
            ],
            "type": "contour"
           }
          ],
          "contourcarpet": [
           {
            "colorbar": {
             "outlinewidth": 0,
             "ticks": ""
            },
            "type": "contourcarpet"
           }
          ],
          "heatmap": [
           {
            "colorbar": {
             "outlinewidth": 0,
             "ticks": ""
            },
            "colorscale": [
             [
              0,
              "#0d0887"
             ],
             [
              0.1111111111111111,
              "#46039f"
             ],
             [
              0.2222222222222222,
              "#7201a8"
             ],
             [
              0.3333333333333333,
              "#9c179e"
             ],
             [
              0.4444444444444444,
              "#bd3786"
             ],
             [
              0.5555555555555556,
              "#d8576b"
             ],
             [
              0.6666666666666666,
              "#ed7953"
             ],
             [
              0.7777777777777778,
              "#fb9f3a"
             ],
             [
              0.8888888888888888,
              "#fdca26"
             ],
             [
              1,
              "#f0f921"
             ]
            ],
            "type": "heatmap"
           }
          ],
          "heatmapgl": [
           {
            "colorbar": {
             "outlinewidth": 0,
             "ticks": ""
            },
            "colorscale": [
             [
              0,
              "#0d0887"
             ],
             [
              0.1111111111111111,
              "#46039f"
             ],
             [
              0.2222222222222222,
              "#7201a8"
             ],
             [
              0.3333333333333333,
              "#9c179e"
             ],
             [
              0.4444444444444444,
              "#bd3786"
             ],
             [
              0.5555555555555556,
              "#d8576b"
             ],
             [
              0.6666666666666666,
              "#ed7953"
             ],
             [
              0.7777777777777778,
              "#fb9f3a"
             ],
             [
              0.8888888888888888,
              "#fdca26"
             ],
             [
              1,
              "#f0f921"
             ]
            ],
            "type": "heatmapgl"
           }
          ],
          "histogram": [
           {
            "marker": {
             "colorbar": {
              "outlinewidth": 0,
              "ticks": ""
             }
            },
            "type": "histogram"
           }
          ],
          "histogram2d": [
           {
            "colorbar": {
             "outlinewidth": 0,
             "ticks": ""
            },
            "colorscale": [
             [
              0,
              "#0d0887"
             ],
             [
              0.1111111111111111,
              "#46039f"
             ],
             [
              0.2222222222222222,
              "#7201a8"
             ],
             [
              0.3333333333333333,
              "#9c179e"
             ],
             [
              0.4444444444444444,
              "#bd3786"
             ],
             [
              0.5555555555555556,
              "#d8576b"
             ],
             [
              0.6666666666666666,
              "#ed7953"
             ],
             [
              0.7777777777777778,
              "#fb9f3a"
             ],
             [
              0.8888888888888888,
              "#fdca26"
             ],
             [
              1,
              "#f0f921"
             ]
            ],
            "type": "histogram2d"
           }
          ],
          "histogram2dcontour": [
           {
            "colorbar": {
             "outlinewidth": 0,
             "ticks": ""
            },
            "colorscale": [
             [
              0,
              "#0d0887"
             ],
             [
              0.1111111111111111,
              "#46039f"
             ],
             [
              0.2222222222222222,
              "#7201a8"
             ],
             [
              0.3333333333333333,
              "#9c179e"
             ],
             [
              0.4444444444444444,
              "#bd3786"
             ],
             [
              0.5555555555555556,
              "#d8576b"
             ],
             [
              0.6666666666666666,
              "#ed7953"
             ],
             [
              0.7777777777777778,
              "#fb9f3a"
             ],
             [
              0.8888888888888888,
              "#fdca26"
             ],
             [
              1,
              "#f0f921"
             ]
            ],
            "type": "histogram2dcontour"
           }
          ],
          "mesh3d": [
           {
            "colorbar": {
             "outlinewidth": 0,
             "ticks": ""
            },
            "type": "mesh3d"
           }
          ],
          "parcoords": [
           {
            "line": {
             "colorbar": {
              "outlinewidth": 0,
              "ticks": ""
             }
            },
            "type": "parcoords"
           }
          ],
          "pie": [
           {
            "automargin": true,
            "type": "pie"
           }
          ],
          "scatter": [
           {
            "marker": {
             "colorbar": {
              "outlinewidth": 0,
              "ticks": ""
             }
            },
            "type": "scatter"
           }
          ],
          "scatter3d": [
           {
            "line": {
             "colorbar": {
              "outlinewidth": 0,
              "ticks": ""
             }
            },
            "marker": {
             "colorbar": {
              "outlinewidth": 0,
              "ticks": ""
             }
            },
            "type": "scatter3d"
           }
          ],
          "scattercarpet": [
           {
            "marker": {
             "colorbar": {
              "outlinewidth": 0,
              "ticks": ""
             }
            },
            "type": "scattercarpet"
           }
          ],
          "scattergeo": [
           {
            "marker": {
             "colorbar": {
              "outlinewidth": 0,
              "ticks": ""
             }
            },
            "type": "scattergeo"
           }
          ],
          "scattergl": [
           {
            "marker": {
             "colorbar": {
              "outlinewidth": 0,
              "ticks": ""
             }
            },
            "type": "scattergl"
           }
          ],
          "scattermapbox": [
           {
            "marker": {
             "colorbar": {
              "outlinewidth": 0,
              "ticks": ""
             }
            },
            "type": "scattermapbox"
           }
          ],
          "scatterpolar": [
           {
            "marker": {
             "colorbar": {
              "outlinewidth": 0,
              "ticks": ""
             }
            },
            "type": "scatterpolar"
           }
          ],
          "scatterpolargl": [
           {
            "marker": {
             "colorbar": {
              "outlinewidth": 0,
              "ticks": ""
             }
            },
            "type": "scatterpolargl"
           }
          ],
          "scatterternary": [
           {
            "marker": {
             "colorbar": {
              "outlinewidth": 0,
              "ticks": ""
             }
            },
            "type": "scatterternary"
           }
          ],
          "surface": [
           {
            "colorbar": {
             "outlinewidth": 0,
             "ticks": ""
            },
            "colorscale": [
             [
              0,
              "#0d0887"
             ],
             [
              0.1111111111111111,
              "#46039f"
             ],
             [
              0.2222222222222222,
              "#7201a8"
             ],
             [
              0.3333333333333333,
              "#9c179e"
             ],
             [
              0.4444444444444444,
              "#bd3786"
             ],
             [
              0.5555555555555556,
              "#d8576b"
             ],
             [
              0.6666666666666666,
              "#ed7953"
             ],
             [
              0.7777777777777778,
              "#fb9f3a"
             ],
             [
              0.8888888888888888,
              "#fdca26"
             ],
             [
              1,
              "#f0f921"
             ]
            ],
            "type": "surface"
           }
          ],
          "table": [
           {
            "cells": {
             "fill": {
              "color": "#EBF0F8"
             },
             "line": {
              "color": "white"
             }
            },
            "header": {
             "fill": {
              "color": "#C8D4E3"
             },
             "line": {
              "color": "white"
             }
            },
            "type": "table"
           }
          ]
         },
         "layout": {
          "annotationdefaults": {
           "arrowcolor": "#2a3f5f",
           "arrowhead": 0,
           "arrowwidth": 1
          },
          "autotypenumbers": "strict",
          "coloraxis": {
           "colorbar": {
            "outlinewidth": 0,
            "ticks": ""
           }
          },
          "colorscale": {
           "diverging": [
            [
             0,
             "#8e0152"
            ],
            [
             0.1,
             "#c51b7d"
            ],
            [
             0.2,
             "#de77ae"
            ],
            [
             0.3,
             "#f1b6da"
            ],
            [
             0.4,
             "#fde0ef"
            ],
            [
             0.5,
             "#f7f7f7"
            ],
            [
             0.6,
             "#e6f5d0"
            ],
            [
             0.7,
             "#b8e186"
            ],
            [
             0.8,
             "#7fbc41"
            ],
            [
             0.9,
             "#4d9221"
            ],
            [
             1,
             "#276419"
            ]
           ],
           "sequential": [
            [
             0,
             "#0d0887"
            ],
            [
             0.1111111111111111,
             "#46039f"
            ],
            [
             0.2222222222222222,
             "#7201a8"
            ],
            [
             0.3333333333333333,
             "#9c179e"
            ],
            [
             0.4444444444444444,
             "#bd3786"
            ],
            [
             0.5555555555555556,
             "#d8576b"
            ],
            [
             0.6666666666666666,
             "#ed7953"
            ],
            [
             0.7777777777777778,
             "#fb9f3a"
            ],
            [
             0.8888888888888888,
             "#fdca26"
            ],
            [
             1,
             "#f0f921"
            ]
           ],
           "sequentialminus": [
            [
             0,
             "#0d0887"
            ],
            [
             0.1111111111111111,
             "#46039f"
            ],
            [
             0.2222222222222222,
             "#7201a8"
            ],
            [
             0.3333333333333333,
             "#9c179e"
            ],
            [
             0.4444444444444444,
             "#bd3786"
            ],
            [
             0.5555555555555556,
             "#d8576b"
            ],
            [
             0.6666666666666666,
             "#ed7953"
            ],
            [
             0.7777777777777778,
             "#fb9f3a"
            ],
            [
             0.8888888888888888,
             "#fdca26"
            ],
            [
             1,
             "#f0f921"
            ]
           ]
          },
          "colorway": [
           "#636efa",
           "#EF553B",
           "#00cc96",
           "#ab63fa",
           "#FFA15A",
           "#19d3f3",
           "#FF6692",
           "#B6E880",
           "#FF97FF",
           "#FECB52"
          ],
          "font": {
           "color": "#2a3f5f"
          },
          "geo": {
           "bgcolor": "white",
           "lakecolor": "white",
           "landcolor": "#E5ECF6",
           "showlakes": true,
           "showland": true,
           "subunitcolor": "white"
          },
          "hoverlabel": {
           "align": "left"
          },
          "hovermode": "closest",
          "mapbox": {
           "style": "light"
          },
          "paper_bgcolor": "white",
          "plot_bgcolor": "#E5ECF6",
          "polar": {
           "angularaxis": {
            "gridcolor": "white",
            "linecolor": "white",
            "ticks": ""
           },
           "bgcolor": "#E5ECF6",
           "radialaxis": {
            "gridcolor": "white",
            "linecolor": "white",
            "ticks": ""
           }
          },
          "scene": {
           "xaxis": {
            "backgroundcolor": "#E5ECF6",
            "gridcolor": "white",
            "gridwidth": 2,
            "linecolor": "white",
            "showbackground": true,
            "ticks": "",
            "zerolinecolor": "white"
           },
           "yaxis": {
            "backgroundcolor": "#E5ECF6",
            "gridcolor": "white",
            "gridwidth": 2,
            "linecolor": "white",
            "showbackground": true,
            "ticks": "",
            "zerolinecolor": "white"
           },
           "zaxis": {
            "backgroundcolor": "#E5ECF6",
            "gridcolor": "white",
            "gridwidth": 2,
            "linecolor": "white",
            "showbackground": true,
            "ticks": "",
            "zerolinecolor": "white"
           }
          },
          "shapedefaults": {
           "line": {
            "color": "#2a3f5f"
           }
          },
          "ternary": {
           "aaxis": {
            "gridcolor": "white",
            "linecolor": "white",
            "ticks": ""
           },
           "baxis": {
            "gridcolor": "white",
            "linecolor": "white",
            "ticks": ""
           },
           "bgcolor": "#E5ECF6",
           "caxis": {
            "gridcolor": "white",
            "linecolor": "white",
            "ticks": ""
           }
          },
          "title": {
           "x": 0.05
          },
          "xaxis": {
           "automargin": true,
           "gridcolor": "white",
           "linecolor": "white",
           "ticks": "",
           "title": {
            "standoff": 15
           },
           "zerolinecolor": "white",
           "zerolinewidth": 2
          },
          "yaxis": {
           "automargin": true,
           "gridcolor": "white",
           "linecolor": "white",
           "ticks": "",
           "title": {
            "standoff": 15
           },
           "zerolinecolor": "white",
           "zerolinewidth": 2
          }
         }
        },
        "title": {
         "text": "Forecast vs Actual",
         "x": 0.5
        },
        "xaxis": {
         "title": {
          "text": "ts"
         }
        },
        "yaxis": {
         "title": {
          "text": "Weighted_Price"
         }
        }
       }
      },
      "text/html": [
       "<div>                            <div id=\"a545c3b5-f53b-400a-b80e-1713aef6336f\" class=\"plotly-graph-div\" style=\"height:525px; width:100%;\"></div>            <script type=\"text/javascript\">                require([\"plotly\"], function(Plotly) {                    window.PLOTLYENV=window.PLOTLYENV || {};                                    if (document.getElementById(\"a545c3b5-f53b-400a-b80e-1713aef6336f\")) {                    Plotly.newPlot(                        \"a545c3b5-f53b-400a-b80e-1713aef6336f\",                        [{\"legendgroup\": \"interval\", \"line\": {\"color\": \"rgba(0, 90, 181, 0.5)\", \"width\": 0.0}, \"mode\": \"lines\", \"name\": \"Lower Bound\", \"type\": \"scatter\", \"x\": [\"2017-01-01T00:00:00\", \"2017-01-08T00:00:00\", \"2017-01-15T00:00:00\", \"2017-01-22T00:00:00\", \"2017-01-29T00:00:00\", \"2017-02-05T00:00:00\", \"2017-02-12T00:00:00\", \"2017-02-19T00:00:00\", \"2017-02-26T00:00:00\", \"2017-03-05T00:00:00\", \"2017-03-12T00:00:00\", \"2017-03-19T00:00:00\", \"2017-03-26T00:00:00\", \"2017-04-02T00:00:00\", \"2017-04-09T00:00:00\", \"2017-04-16T00:00:00\", \"2017-04-23T00:00:00\", \"2017-04-30T00:00:00\", \"2017-05-07T00:00:00\", \"2017-05-14T00:00:00\", \"2017-05-21T00:00:00\", \"2017-05-28T00:00:00\", \"2017-06-04T00:00:00\", \"2017-06-11T00:00:00\", \"2017-06-18T00:00:00\", \"2017-06-25T00:00:00\", \"2017-07-02T00:00:00\", \"2017-07-09T00:00:00\", \"2017-07-16T00:00:00\", \"2017-07-23T00:00:00\", \"2017-07-30T00:00:00\", \"2017-08-06T00:00:00\", \"2017-08-13T00:00:00\", \"2017-08-20T00:00:00\", \"2017-08-27T00:00:00\", \"2017-09-03T00:00:00\", \"2017-09-10T00:00:00\", \"2017-09-17T00:00:00\", \"2017-09-24T00:00:00\", \"2017-10-01T00:00:00\", \"2017-10-08T00:00:00\", \"2017-10-15T00:00:00\", \"2017-10-22T00:00:00\", \"2017-10-29T00:00:00\", \"2017-11-05T00:00:00\", \"2017-11-12T00:00:00\", \"2017-11-19T00:00:00\", \"2017-11-26T00:00:00\", \"2017-12-03T00:00:00\", \"2017-12-10T00:00:00\", \"2017-12-17T00:00:00\", \"2017-12-24T00:00:00\", \"2017-12-31T00:00:00\", \"2018-01-07T00:00:00\", \"2018-01-14T00:00:00\", \"2018-01-21T00:00:00\", \"2018-01-28T00:00:00\", \"2018-02-04T00:00:00\", \"2018-02-11T00:00:00\", \"2018-02-18T00:00:00\", \"2018-02-25T00:00:00\", \"2018-03-04T00:00:00\", \"2018-03-11T00:00:00\", \"2018-03-18T00:00:00\", \"2018-03-25T00:00:00\", \"2018-04-01T00:00:00\", \"2018-04-08T00:00:00\", \"2018-04-15T00:00:00\", \"2018-04-22T00:00:00\", \"2018-04-29T00:00:00\", \"2018-05-06T00:00:00\", \"2018-05-13T00:00:00\", \"2018-05-20T00:00:00\", \"2018-05-27T00:00:00\", \"2018-06-03T00:00:00\", \"2018-06-10T00:00:00\", \"2018-06-17T00:00:00\", \"2018-06-24T00:00:00\", \"2018-07-01T00:00:00\", \"2018-07-08T00:00:00\", \"2018-07-15T00:00:00\", \"2018-07-22T00:00:00\", \"2018-07-29T00:00:00\", \"2018-08-05T00:00:00\", \"2018-08-12T00:00:00\", \"2018-08-19T00:00:00\", \"2018-08-26T00:00:00\", \"2018-09-02T00:00:00\", \"2018-09-09T00:00:00\", \"2018-09-16T00:00:00\", \"2018-09-23T00:00:00\", \"2018-09-30T00:00:00\", \"2018-10-07T00:00:00\", \"2018-10-14T00:00:00\", \"2018-10-21T00:00:00\", \"2018-10-28T00:00:00\", \"2018-11-04T00:00:00\", \"2018-11-11T00:00:00\", \"2018-11-18T00:00:00\", \"2018-11-25T00:00:00\", \"2018-12-02T00:00:00\", \"2018-12-09T00:00:00\", \"2018-12-16T00:00:00\", \"2018-12-23T00:00:00\", \"2018-12-30T00:00:00\", \"2019-01-06T00:00:00\", \"2019-01-13T00:00:00\", \"2019-01-20T00:00:00\", \"2019-01-27T00:00:00\", \"2019-02-03T00:00:00\", \"2019-02-10T00:00:00\", \"2019-02-17T00:00:00\", \"2019-02-24T00:00:00\", \"2019-03-03T00:00:00\", \"2019-03-10T00:00:00\", \"2019-03-17T00:00:00\", \"2019-03-24T00:00:00\", \"2019-03-31T00:00:00\", \"2019-04-07T00:00:00\", \"2019-04-14T00:00:00\", \"2019-04-21T00:00:00\", \"2019-04-28T00:00:00\", \"2019-05-05T00:00:00\", \"2019-05-12T00:00:00\", \"2019-05-19T00:00:00\", \"2019-05-26T00:00:00\", \"2019-06-02T00:00:00\", \"2019-06-09T00:00:00\", \"2019-06-16T00:00:00\", \"2019-06-23T00:00:00\", \"2019-06-30T00:00:00\", \"2019-07-07T00:00:00\", \"2019-07-14T00:00:00\", \"2019-07-21T00:00:00\", \"2019-07-28T00:00:00\", \"2019-08-04T00:00:00\", \"2019-08-11T00:00:00\", \"2019-08-18T00:00:00\", \"2019-08-25T00:00:00\", \"2019-09-01T00:00:00\", \"2019-09-08T00:00:00\", \"2019-09-15T00:00:00\", \"2019-09-22T00:00:00\", \"2019-09-29T00:00:00\", \"2019-10-06T00:00:00\", \"2019-10-13T00:00:00\", \"2019-10-20T00:00:00\", \"2019-10-27T00:00:00\", \"2019-11-03T00:00:00\", \"2019-11-10T00:00:00\", \"2019-11-17T00:00:00\", \"2019-11-24T00:00:00\", \"2019-12-01T00:00:00\", \"2019-12-08T00:00:00\", \"2019-12-15T00:00:00\", \"2019-12-22T00:00:00\", \"2019-12-29T00:00:00\", \"2020-01-05T00:00:00\", \"2020-01-12T00:00:00\", \"2020-01-19T00:00:00\", \"2020-01-26T00:00:00\", \"2020-02-02T00:00:00\", \"2020-02-09T00:00:00\", \"2020-02-16T00:00:00\", \"2020-02-23T00:00:00\", \"2020-03-01T00:00:00\", \"2020-03-08T00:00:00\", \"2020-03-15T00:00:00\", \"2020-03-22T00:00:00\", \"2020-03-29T00:00:00\", \"2020-04-05T00:00:00\", \"2020-04-12T00:00:00\", \"2020-04-19T00:00:00\", \"2020-04-26T00:00:00\", \"2020-05-03T00:00:00\", \"2020-05-10T00:00:00\", \"2020-05-17T00:00:00\", \"2020-05-24T00:00:00\", \"2020-05-31T00:00:00\", \"2020-06-07T00:00:00\", \"2020-06-14T00:00:00\", \"2020-06-21T00:00:00\", \"2020-06-28T00:00:00\", \"2020-07-05T00:00:00\", \"2020-07-12T00:00:00\", \"2020-07-19T00:00:00\", \"2020-07-26T00:00:00\", \"2020-08-02T00:00:00\", \"2020-08-09T00:00:00\", \"2020-08-16T00:00:00\", \"2020-08-23T00:00:00\", \"2020-08-30T00:00:00\", \"2020-09-06T00:00:00\", \"2020-09-13T00:00:00\", \"2020-09-20T00:00:00\", \"2020-09-27T00:00:00\", \"2020-10-04T00:00:00\", \"2020-10-11T00:00:00\", \"2020-10-18T00:00:00\", \"2020-10-25T00:00:00\", \"2020-11-01T00:00:00\", \"2020-11-08T00:00:00\", \"2020-11-15T00:00:00\", \"2020-11-22T00:00:00\", \"2020-11-29T00:00:00\", \"2020-12-06T00:00:00\", \"2020-12-13T00:00:00\", \"2020-12-20T00:00:00\", \"2020-12-27T00:00:00\", \"2021-01-03T00:00:00\", \"2021-01-10T00:00:00\", \"2021-01-17T00:00:00\", \"2021-01-24T00:00:00\", \"2021-01-31T00:00:00\", \"2021-02-07T00:00:00\", \"2021-02-14T00:00:00\", \"2021-02-21T00:00:00\", \"2021-02-28T00:00:00\", \"2021-03-07T00:00:00\", \"2021-03-14T00:00:00\", \"2021-03-21T00:00:00\", \"2021-03-28T00:00:00\", \"2021-04-04T00:00:00\", \"2021-04-11T00:00:00\", \"2021-04-18T00:00:00\", \"2021-04-25T00:00:00\", \"2021-05-02T00:00:00\", \"2021-05-09T00:00:00\", \"2021-05-16T00:00:00\", \"2021-05-23T00:00:00\", \"2021-05-30T00:00:00\", \"2021-06-06T00:00:00\", \"2021-06-13T00:00:00\", \"2021-06-20T00:00:00\", \"2021-06-27T00:00:00\", \"2021-07-04T00:00:00\", \"2021-07-11T00:00:00\", \"2021-07-18T00:00:00\", \"2021-07-25T00:00:00\", \"2021-08-01T00:00:00\", \"2021-08-08T00:00:00\", \"2021-08-15T00:00:00\", \"2021-08-22T00:00:00\", \"2021-08-29T00:00:00\", \"2021-09-05T00:00:00\", \"2021-09-12T00:00:00\", \"2021-09-19T00:00:00\", \"2021-09-26T00:00:00\", \"2021-10-03T00:00:00\", \"2021-10-10T00:00:00\", \"2021-10-17T00:00:00\", \"2021-10-24T00:00:00\"], \"y\": [-11442.445792446444, -11012.519134907747, -10938.245776457457, -11277.172584452765, -11226.738820908977, -11088.391998168143, -10413.227760030637, -9876.480692546811, -10041.608259793633, -10250.089519458756, -9903.184847710658, -9468.201936354184, -9869.080071062986, -11603.754379689428, -12330.85387869368, -12215.65489389588, -11877.191218060547, -11897.34836349805, -11762.560715351028, -11432.623480535876, -11239.102919906738, -11495.042670411513, -11395.748975438142, -11134.01835262961, -11146.944356946407, -11051.414863548805, -11268.03002722648, -11237.439945540596, -11201.117086641663, -11156.913074976477, -10966.837732719443, -10925.034389030876, -10763.251465839428, -10518.133112001567, -10665.905812722283, -10718.083250041738, -10490.090300630065, -10534.732296611648, -10402.438849962786, -10888.750507686798, -10822.366361363947, -10602.66256872657, -10520.730791454684, -10300.514404462561, -10215.418339623002, -10029.454000605847, -9785.617099887402, -9832.207692933953, -9795.862010871066, -9288.896839118519, -9084.692507143569, -8939.047593254216, -9054.096267705685, -8792.957244352092, -8671.241180886165, -8950.307337932485, -9069.692740998038, -8870.213107313368, -8231.855527992006, -7408.733651460221, -7681.295847046651, -7990.855091631407, -7631.706873706304, -7258.823343580996, -7466.197579221702, -9159.772956468301, -9987.32935600445, -9838.915922507382, -9615.455964832006, -9582.24716990107, -9556.659041221996, -9188.334505974392, -9054.998644472827, -9132.890053445344, -9056.382611391062, -8843.379811931487, -8926.1680552685, -8667.65468372216, -8925.986345070236, -8977.079187698211, -8890.920743949264, -8896.23891500439, -8698.960397703635, -8654.946850364648, -8445.512046535763, -8247.431731000434, -8349.518825037896, -8415.893225371132, -8193.888873080987, -8256.430376810817, -8166.9705944411435, -8497.93523544138, -8569.757097617157, -8323.070614528002, -8261.915568250686, -8036.863437760949, -7947.265027086365, -7881.023345036714, -7528.057367961923, -7517.08136821263, -7560.955275440201, -7061.032572062668, -6824.06479224211, -6656.90692126955, -6781.08692952849, -6571.771713917877, -6319.557430108089, -6662.325593057503, -6773.070160005638, -6657.3938682702865, -6050.4621322085695, -5419.468788913866, -5327.383169762514, -5706.1258529562, -5408.827375114401, -5079.650304556299, -5009.723752628004, -6495.4420105332665, -7668.95039638492, -7633.727037929673, -7482.2131956228295, -7252.9881858744575, -7247.493678929781, -6944.688585206954, -6692.2203293589155, -6817.236678769079, -6803.464032277732, -6660.356921095488, -6609.798500934823, -6396.685405070812, -6587.415408075427, -6714.499265965627, -6656.479628940797, -6629.448288921667, -6435.200219328104, -6382.433488769484, -6236.028488657543, -5982.68006260244, -6034.997430176594, -6143.7139215848765, -6025.612231102714, -5972.833637091699, -5841.9336450731735, -6099.691911565864, -6261.350464481166, -6096.868913701142, -5996.971845474429, -5824.080830560557, -5662.891863567102, -5625.408255702681, -5275.754268949795, -5205.60812060532, -5296.448252592008, -4843.3618842060205, -4559.991344880931, -4335.139419987307, -4400.7818342927385, -4343.0906847336155, -4035.637411796757, -4312.671308338071, -4428.237152434867, -4402.809490533651, -3884.197321379772, -3235.080707818568, -2966.3605399055014, -3398.3183069552615, -3263.288040726442, -2816.2242540945663, -2637.3690684353205, -3825.1019359624224, -5330.859338849819, -5477.939835106816, -5103.277304732586, -4973.073727609775, -4955.136989933333, -4733.024154458582, -4459.420555038727, -4523.018960145086, -4636.339104640152, -4319.976754116949, -4320.328060646951, -4166.770377458699, -4178.474461657939, -4467.000997747931, -4420.836352238108, -4352.899076392841, -4195.837068534867, -4114.314088827841, -3953.9700295797993, -3752.00413413941, -3660.0512933368136, -3866.101380593973, -3760.4942527873827, -3662.539352553613, -3606.277591731283, -3637.7883889543045, -3979.455772537469, -3855.2657498129047, -3729.5234728259493, -3544.4149008073327, -3492.3432496378155, -3294.6487321575332, -3054.2970950135023, -2892.0219376081295, -3083.9591694849223, -2710.6810848034, -2316.291240314331, -2123.0120705729787, -2020.203391854513, -2123.2900054228194, -1754.301044426138, -1910.5144755155707, -2235.7412665599077, -2169.360685879503, -1777.0167799099072, -881.4125449545136, -647.9668020275967, -1036.101269637249, -1018.5215222405059, -589.2479456941874, -283.3481401939862, -1196.0793595220894, -2914.3240651010674, -3112.582538268998, -2879.2754975017633, -2697.721238111364, -2711.888570210067, -2487.6675626286815, -2213.445489034835, -2198.8681447532435, -2333.606105973762, -2072.0612499728995, -2064.0463903852906, -1930.5229855646794, -1860.632204839585, -2209.722550927032, -2097.197388880275, -2120.3541764932015, -1950.9194913770334, -1843.3216338310922, -1692.9730746859314, -1541.2514387784104, -1365.7269545722484, -1574.6911598475526, -1514.724639912347, -1358.9742588944428, -1398.1089900102597, -1307.9998040231112, -1723.5513847777038, -1603.7385910170087, -1501.8969661695664, -1308.817502110749]}, {\"fill\": \"tonexty\", \"fillcolor\": \"rgba(0, 90, 181, 0.15)\", \"legendgroup\": \"interval\", \"line\": {\"color\": \"rgba(0, 90, 181, 0.5)\", \"width\": 0.0}, \"mode\": \"lines\", \"name\": \"Upper Bound\", \"type\": \"scatter\", \"x\": [\"2017-01-01T00:00:00\", \"2017-01-08T00:00:00\", \"2017-01-15T00:00:00\", \"2017-01-22T00:00:00\", \"2017-01-29T00:00:00\", \"2017-02-05T00:00:00\", \"2017-02-12T00:00:00\", \"2017-02-19T00:00:00\", \"2017-02-26T00:00:00\", \"2017-03-05T00:00:00\", \"2017-03-12T00:00:00\", \"2017-03-19T00:00:00\", \"2017-03-26T00:00:00\", \"2017-04-02T00:00:00\", \"2017-04-09T00:00:00\", \"2017-04-16T00:00:00\", \"2017-04-23T00:00:00\", \"2017-04-30T00:00:00\", \"2017-05-07T00:00:00\", \"2017-05-14T00:00:00\", \"2017-05-21T00:00:00\", \"2017-05-28T00:00:00\", \"2017-06-04T00:00:00\", \"2017-06-11T00:00:00\", \"2017-06-18T00:00:00\", \"2017-06-25T00:00:00\", \"2017-07-02T00:00:00\", \"2017-07-09T00:00:00\", \"2017-07-16T00:00:00\", \"2017-07-23T00:00:00\", \"2017-07-30T00:00:00\", \"2017-08-06T00:00:00\", \"2017-08-13T00:00:00\", \"2017-08-20T00:00:00\", \"2017-08-27T00:00:00\", \"2017-09-03T00:00:00\", \"2017-09-10T00:00:00\", \"2017-09-17T00:00:00\", \"2017-09-24T00:00:00\", \"2017-10-01T00:00:00\", \"2017-10-08T00:00:00\", \"2017-10-15T00:00:00\", \"2017-10-22T00:00:00\", \"2017-10-29T00:00:00\", \"2017-11-05T00:00:00\", \"2017-11-12T00:00:00\", \"2017-11-19T00:00:00\", \"2017-11-26T00:00:00\", \"2017-12-03T00:00:00\", \"2017-12-10T00:00:00\", \"2017-12-17T00:00:00\", \"2017-12-24T00:00:00\", \"2017-12-31T00:00:00\", \"2018-01-07T00:00:00\", \"2018-01-14T00:00:00\", \"2018-01-21T00:00:00\", \"2018-01-28T00:00:00\", \"2018-02-04T00:00:00\", \"2018-02-11T00:00:00\", \"2018-02-18T00:00:00\", \"2018-02-25T00:00:00\", \"2018-03-04T00:00:00\", \"2018-03-11T00:00:00\", \"2018-03-18T00:00:00\", \"2018-03-25T00:00:00\", \"2018-04-01T00:00:00\", \"2018-04-08T00:00:00\", \"2018-04-15T00:00:00\", \"2018-04-22T00:00:00\", \"2018-04-29T00:00:00\", \"2018-05-06T00:00:00\", \"2018-05-13T00:00:00\", \"2018-05-20T00:00:00\", \"2018-05-27T00:00:00\", \"2018-06-03T00:00:00\", \"2018-06-10T00:00:00\", \"2018-06-17T00:00:00\", \"2018-06-24T00:00:00\", \"2018-07-01T00:00:00\", \"2018-07-08T00:00:00\", \"2018-07-15T00:00:00\", \"2018-07-22T00:00:00\", \"2018-07-29T00:00:00\", \"2018-08-05T00:00:00\", \"2018-08-12T00:00:00\", \"2018-08-19T00:00:00\", \"2018-08-26T00:00:00\", \"2018-09-02T00:00:00\", \"2018-09-09T00:00:00\", \"2018-09-16T00:00:00\", \"2018-09-23T00:00:00\", \"2018-09-30T00:00:00\", \"2018-10-07T00:00:00\", \"2018-10-14T00:00:00\", \"2018-10-21T00:00:00\", \"2018-10-28T00:00:00\", \"2018-11-04T00:00:00\", \"2018-11-11T00:00:00\", \"2018-11-18T00:00:00\", \"2018-11-25T00:00:00\", \"2018-12-02T00:00:00\", \"2018-12-09T00:00:00\", \"2018-12-16T00:00:00\", \"2018-12-23T00:00:00\", \"2018-12-30T00:00:00\", \"2019-01-06T00:00:00\", \"2019-01-13T00:00:00\", \"2019-01-20T00:00:00\", \"2019-01-27T00:00:00\", \"2019-02-03T00:00:00\", \"2019-02-10T00:00:00\", \"2019-02-17T00:00:00\", \"2019-02-24T00:00:00\", \"2019-03-03T00:00:00\", \"2019-03-10T00:00:00\", \"2019-03-17T00:00:00\", \"2019-03-24T00:00:00\", \"2019-03-31T00:00:00\", \"2019-04-07T00:00:00\", \"2019-04-14T00:00:00\", \"2019-04-21T00:00:00\", \"2019-04-28T00:00:00\", \"2019-05-05T00:00:00\", \"2019-05-12T00:00:00\", \"2019-05-19T00:00:00\", \"2019-05-26T00:00:00\", \"2019-06-02T00:00:00\", \"2019-06-09T00:00:00\", \"2019-06-16T00:00:00\", \"2019-06-23T00:00:00\", \"2019-06-30T00:00:00\", \"2019-07-07T00:00:00\", \"2019-07-14T00:00:00\", \"2019-07-21T00:00:00\", \"2019-07-28T00:00:00\", \"2019-08-04T00:00:00\", \"2019-08-11T00:00:00\", \"2019-08-18T00:00:00\", \"2019-08-25T00:00:00\", \"2019-09-01T00:00:00\", \"2019-09-08T00:00:00\", \"2019-09-15T00:00:00\", \"2019-09-22T00:00:00\", \"2019-09-29T00:00:00\", \"2019-10-06T00:00:00\", \"2019-10-13T00:00:00\", \"2019-10-20T00:00:00\", \"2019-10-27T00:00:00\", \"2019-11-03T00:00:00\", \"2019-11-10T00:00:00\", \"2019-11-17T00:00:00\", \"2019-11-24T00:00:00\", \"2019-12-01T00:00:00\", \"2019-12-08T00:00:00\", \"2019-12-15T00:00:00\", \"2019-12-22T00:00:00\", \"2019-12-29T00:00:00\", \"2020-01-05T00:00:00\", \"2020-01-12T00:00:00\", \"2020-01-19T00:00:00\", \"2020-01-26T00:00:00\", \"2020-02-02T00:00:00\", \"2020-02-09T00:00:00\", \"2020-02-16T00:00:00\", \"2020-02-23T00:00:00\", \"2020-03-01T00:00:00\", \"2020-03-08T00:00:00\", \"2020-03-15T00:00:00\", \"2020-03-22T00:00:00\", \"2020-03-29T00:00:00\", \"2020-04-05T00:00:00\", \"2020-04-12T00:00:00\", \"2020-04-19T00:00:00\", \"2020-04-26T00:00:00\", \"2020-05-03T00:00:00\", \"2020-05-10T00:00:00\", \"2020-05-17T00:00:00\", \"2020-05-24T00:00:00\", \"2020-05-31T00:00:00\", \"2020-06-07T00:00:00\", \"2020-06-14T00:00:00\", \"2020-06-21T00:00:00\", \"2020-06-28T00:00:00\", \"2020-07-05T00:00:00\", \"2020-07-12T00:00:00\", \"2020-07-19T00:00:00\", \"2020-07-26T00:00:00\", \"2020-08-02T00:00:00\", \"2020-08-09T00:00:00\", \"2020-08-16T00:00:00\", \"2020-08-23T00:00:00\", \"2020-08-30T00:00:00\", \"2020-09-06T00:00:00\", \"2020-09-13T00:00:00\", \"2020-09-20T00:00:00\", \"2020-09-27T00:00:00\", \"2020-10-04T00:00:00\", \"2020-10-11T00:00:00\", \"2020-10-18T00:00:00\", \"2020-10-25T00:00:00\", \"2020-11-01T00:00:00\", \"2020-11-08T00:00:00\", \"2020-11-15T00:00:00\", \"2020-11-22T00:00:00\", \"2020-11-29T00:00:00\", \"2020-12-06T00:00:00\", \"2020-12-13T00:00:00\", \"2020-12-20T00:00:00\", \"2020-12-27T00:00:00\", \"2021-01-03T00:00:00\", \"2021-01-10T00:00:00\", \"2021-01-17T00:00:00\", \"2021-01-24T00:00:00\", \"2021-01-31T00:00:00\", \"2021-02-07T00:00:00\", \"2021-02-14T00:00:00\", \"2021-02-21T00:00:00\", \"2021-02-28T00:00:00\", \"2021-03-07T00:00:00\", \"2021-03-14T00:00:00\", \"2021-03-21T00:00:00\", \"2021-03-28T00:00:00\", \"2021-04-04T00:00:00\", \"2021-04-11T00:00:00\", \"2021-04-18T00:00:00\", \"2021-04-25T00:00:00\", \"2021-05-02T00:00:00\", \"2021-05-09T00:00:00\", \"2021-05-16T00:00:00\", \"2021-05-23T00:00:00\", \"2021-05-30T00:00:00\", \"2021-06-06T00:00:00\", \"2021-06-13T00:00:00\", \"2021-06-20T00:00:00\", \"2021-06-27T00:00:00\", \"2021-07-04T00:00:00\", \"2021-07-11T00:00:00\", \"2021-07-18T00:00:00\", \"2021-07-25T00:00:00\", \"2021-08-01T00:00:00\", \"2021-08-08T00:00:00\", \"2021-08-15T00:00:00\", \"2021-08-22T00:00:00\", \"2021-08-29T00:00:00\", \"2021-09-05T00:00:00\", \"2021-09-12T00:00:00\", \"2021-09-19T00:00:00\", \"2021-09-26T00:00:00\", \"2021-10-03T00:00:00\", \"2021-10-10T00:00:00\", \"2021-10-17T00:00:00\", \"2021-10-24T00:00:00\"], \"y\": [21755.62725636692, 22185.553913905616, 22259.827272355906, 21920.9004643606, 21971.334227904386, 22109.68105064522, 22784.845288782726, 23321.592356266552, 23156.46478901973, 22947.983529354606, 23294.888201102705, 23729.87111245918, 23328.99297775038, 21594.318669123935, 20867.219170119683, 20982.418154917483, 21320.881830752816, 21300.724685315312, 21435.512333462335, 21765.449568277487, 21958.970128906625, 21703.03037840185, 21802.32407337522, 22064.054696183754, 22051.128691866958, 22146.658185264558, 21930.043021586884, 21960.63310327277, 21996.955962171698, 22041.159973836886, 22231.23531609392, 22273.038659782487, 22434.821582973935, 22679.939936811796, 22532.16723609108, 22479.989798771625, 22707.982748183298, 22663.340752201715, 22795.634198850577, 22309.322541126567, 22375.706687449416, 22595.410480086794, 22677.34225735868, 22897.5586443508, 22982.654709190363, 23168.619048207518, 23412.455948925963, 23365.86535587941, 23402.211037942296, 23909.176209694844, 24113.380541669794, 24259.025455559145, 24143.976781107678, 24405.11580446127, 24526.831867927198, 24247.765710880878, 24128.380307815325, 24327.859941499995, 24966.21752082136, 25789.339397353142, 25516.777201766712, 25207.217957181958, 25566.36617510706, 25939.249705232367, 25731.87546959166, 24038.30009234506, 23210.743692808916, 23359.15712630598, 23582.617083981357, 23615.825878912292, 23641.414007591367, 24009.73854283897, 24143.074404340536, 24065.18299536802, 24141.6904374223, 24354.693236881874, 24271.904993544864, 24530.418365091202, 24272.086703743127, 24220.993861115152, 24307.1523048641, 24301.834133808974, 24499.112651109728, 24543.126198448714, 24752.5610022776, 24950.64131781293, 24848.554223775467, 24782.17982344223, 25004.18417573238, 24941.64267200255, 25031.10245437222, 24700.137813371985, 24628.315951196208, 24875.00243428536, 24936.157480562677, 25161.209611052414, 25250.808021726996, 25317.049703776647, 25670.01568085144, 25680.99168060073, 25637.11777337316, 26137.040476750695, 26374.00825657125, 26541.166127543813, 26416.986119284873, 26626.301334895485, 26878.515618705274, 26535.74745575586, 26425.002888807725, 26540.679180543077, 27147.610916604794, 27778.604259899497, 27870.68987905085, 27491.947195857163, 27789.245673698962, 28118.422744257063, 28188.34929618536, 26702.631038280095, 25529.122652428443, 25564.346010883688, 25715.859853190534, 25945.084862938907, 25950.579369883584, 26253.38446360641, 26505.852719454448, 26380.836370044286, 26394.60901653563, 26537.716127717875, 26588.27454787854, 26801.38764374255, 26610.657640737936, 26483.573782847736, 26541.593419872566, 26568.624759891696, 26762.87282948526, 26815.639560043877, 26962.04456015582, 27215.39298621092, 27163.07561863677, 27054.359127228487, 27172.46081771065, 27225.239411721665, 27356.13940374019, 27098.3811372475, 26936.722584332198, 27101.20413511222, 27201.101203338934, 27373.992218252806, 27535.181185246263, 27572.66479311068, 27922.31877986357, 27992.464928208043, 27901.624796221353, 28354.711164607343, 28638.081703932432, 28862.933628826057, 28797.291214520625, 28854.982364079748, 29162.435637016606, 28885.401740475292, 28769.835896378496, 28795.263558279712, 29313.87572743359, 29962.992340994795, 30231.71250890786, 29799.7547418581, 29934.78500808692, 30381.848794718797, 30560.703980378043, 29372.97111285094, 27867.213709963544, 27720.133213706547, 28094.795744080777, 28224.999321203588, 28242.93605888003, 28465.048894354783, 28738.652493774636, 28675.05408866828, 28561.73394417321, 28878.096294696414, 28877.744988166414, 29031.302671354664, 29019.598587155422, 28731.072051065432, 28777.236696575255, 28845.17397242052, 29002.235980278496, 29083.75895998552, 29244.103019233564, 29446.068914673953, 29538.021755476548, 29331.97166821939, 29437.57879602598, 29535.53369625975, 29591.79545708208, 29560.28465985906, 29218.617276275894, 29342.80729900046, 29468.549575987414, 29653.65814800603, 29705.729799175548, 29903.42431665583, 30143.77595379986, 30306.051111205234, 30114.11387932844, 30487.391964009963, 30881.781808499032, 31075.060978240384, 31177.86965695885, 31074.783043390544, 31443.772004387225, 31287.558573297792, 30962.331782253455, 31028.71236293386, 31421.056268903456, 32316.66050385885, 32550.106246785766, 32161.971779176114, 32179.551526572857, 32608.825103119176, 32914.72490861938, 32001.993689291274, 30283.748983712296, 30085.490510544365, 30318.7975513116, 30500.351810702, 30486.184478603296, 30710.40548618468, 30984.627559778528, 30999.20490406012, 30864.4669428396, 31126.011798840464, 31134.026658428073, 31267.550063248684, 31337.440843973778, 30988.35049788633, 31100.875659933088, 31077.71887232016, 31247.15355743633, 31354.75141498227, 31505.09997412743, 31656.821610034953, 31832.346094241115, 31623.38188896581, 31683.348408901016, 31839.09878991892, 31799.964058803103, 31890.073244790252, 31474.52166403566, 31594.334457796354, 31696.176082643797, 31889.255546702614]}, {\"line\": {\"color\": \"rgba(250, 43, 20, 0.7)\"}, \"marker\": {\"color\": \"rgba(250, 43, 20, 0.7)\", \"size\": 2.0}, \"mode\": \"lines+markers\", \"name\": \"Actual\", \"opacity\": 1.0, \"type\": \"scatter\", \"x\": [\"2017-01-01T00:00:00\", \"2017-01-08T00:00:00\", \"2017-01-15T00:00:00\", \"2017-01-22T00:00:00\", \"2017-01-29T00:00:00\", \"2017-02-05T00:00:00\", \"2017-02-12T00:00:00\", \"2017-02-19T00:00:00\", \"2017-02-26T00:00:00\", \"2017-03-05T00:00:00\", \"2017-03-12T00:00:00\", \"2017-03-19T00:00:00\", \"2017-03-26T00:00:00\", \"2017-04-02T00:00:00\", \"2017-04-09T00:00:00\", \"2017-04-16T00:00:00\", \"2017-04-23T00:00:00\", \"2017-04-30T00:00:00\", \"2017-05-07T00:00:00\", \"2017-05-14T00:00:00\", \"2017-05-21T00:00:00\", \"2017-05-28T00:00:00\", \"2017-06-04T00:00:00\", \"2017-06-11T00:00:00\", \"2017-06-18T00:00:00\", \"2017-06-25T00:00:00\", \"2017-07-02T00:00:00\", \"2017-07-09T00:00:00\", \"2017-07-16T00:00:00\", \"2017-07-23T00:00:00\", \"2017-07-30T00:00:00\", \"2017-08-06T00:00:00\", \"2017-08-13T00:00:00\", \"2017-08-20T00:00:00\", \"2017-08-27T00:00:00\", \"2017-09-03T00:00:00\", \"2017-09-10T00:00:00\", \"2017-09-17T00:00:00\", \"2017-09-24T00:00:00\", \"2017-10-01T00:00:00\", \"2017-10-08T00:00:00\", \"2017-10-15T00:00:00\", \"2017-10-22T00:00:00\", \"2017-10-29T00:00:00\", \"2017-11-05T00:00:00\", \"2017-11-12T00:00:00\", \"2017-11-19T00:00:00\", \"2017-11-26T00:00:00\", \"2017-12-03T00:00:00\", \"2017-12-10T00:00:00\", \"2017-12-17T00:00:00\", \"2017-12-24T00:00:00\", \"2017-12-31T00:00:00\", \"2018-01-07T00:00:00\", \"2018-01-14T00:00:00\", \"2018-01-21T00:00:00\", \"2018-01-28T00:00:00\", \"2018-02-04T00:00:00\", \"2018-02-11T00:00:00\", \"2018-02-18T00:00:00\", \"2018-02-25T00:00:00\", \"2018-03-04T00:00:00\", \"2018-03-11T00:00:00\", \"2018-03-18T00:00:00\", \"2018-03-25T00:00:00\", \"2018-04-01T00:00:00\", \"2018-04-08T00:00:00\", \"2018-04-15T00:00:00\", \"2018-04-22T00:00:00\", \"2018-04-29T00:00:00\", \"2018-05-06T00:00:00\", \"2018-05-13T00:00:00\", \"2018-05-20T00:00:00\", \"2018-05-27T00:00:00\", \"2018-06-03T00:00:00\", \"2018-06-10T00:00:00\", \"2018-06-17T00:00:00\", \"2018-06-24T00:00:00\", \"2018-07-01T00:00:00\", \"2018-07-08T00:00:00\", \"2018-07-15T00:00:00\", \"2018-07-22T00:00:00\", \"2018-07-29T00:00:00\", \"2018-08-05T00:00:00\", \"2018-08-12T00:00:00\", \"2018-08-19T00:00:00\", \"2018-08-26T00:00:00\", \"2018-09-02T00:00:00\", \"2018-09-09T00:00:00\", \"2018-09-16T00:00:00\", \"2018-09-23T00:00:00\", \"2018-09-30T00:00:00\", \"2018-10-07T00:00:00\", \"2018-10-14T00:00:00\", \"2018-10-21T00:00:00\", \"2018-10-28T00:00:00\", \"2018-11-04T00:00:00\", \"2018-11-11T00:00:00\", \"2018-11-18T00:00:00\", \"2018-11-25T00:00:00\", \"2018-12-02T00:00:00\", \"2018-12-09T00:00:00\", \"2018-12-16T00:00:00\", \"2018-12-23T00:00:00\", \"2018-12-30T00:00:00\", \"2019-01-06T00:00:00\", \"2019-01-13T00:00:00\", \"2019-01-20T00:00:00\", \"2019-01-27T00:00:00\", \"2019-02-03T00:00:00\", \"2019-02-10T00:00:00\", \"2019-02-17T00:00:00\", \"2019-02-24T00:00:00\", \"2019-03-03T00:00:00\", \"2019-03-10T00:00:00\", \"2019-03-17T00:00:00\", \"2019-03-24T00:00:00\", \"2019-03-31T00:00:00\", \"2019-04-07T00:00:00\", \"2019-04-14T00:00:00\", \"2019-04-21T00:00:00\", \"2019-04-28T00:00:00\", \"2019-05-05T00:00:00\", \"2019-05-12T00:00:00\", \"2019-05-19T00:00:00\", \"2019-05-26T00:00:00\", \"2019-06-02T00:00:00\", \"2019-06-09T00:00:00\", \"2019-06-16T00:00:00\", \"2019-06-23T00:00:00\", \"2019-06-30T00:00:00\", \"2019-07-07T00:00:00\", \"2019-07-14T00:00:00\", \"2019-07-21T00:00:00\", \"2019-07-28T00:00:00\", \"2019-08-04T00:00:00\", \"2019-08-11T00:00:00\", \"2019-08-18T00:00:00\", \"2019-08-25T00:00:00\", \"2019-09-01T00:00:00\", \"2019-09-08T00:00:00\", \"2019-09-15T00:00:00\", \"2019-09-22T00:00:00\", \"2019-09-29T00:00:00\", \"2019-10-06T00:00:00\", \"2019-10-13T00:00:00\", \"2019-10-20T00:00:00\", \"2019-10-27T00:00:00\", \"2019-11-03T00:00:00\", \"2019-11-10T00:00:00\", \"2019-11-17T00:00:00\", \"2019-11-24T00:00:00\", \"2019-12-01T00:00:00\", \"2019-12-08T00:00:00\", \"2019-12-15T00:00:00\", \"2019-12-22T00:00:00\", \"2019-12-29T00:00:00\", \"2020-01-05T00:00:00\", \"2020-01-12T00:00:00\", \"2020-01-19T00:00:00\", \"2020-01-26T00:00:00\", \"2020-02-02T00:00:00\", \"2020-02-09T00:00:00\", \"2020-02-16T00:00:00\", \"2020-02-23T00:00:00\", \"2020-03-01T00:00:00\", \"2020-03-08T00:00:00\", \"2020-03-15T00:00:00\", \"2020-03-22T00:00:00\", \"2020-03-29T00:00:00\", \"2020-04-05T00:00:00\", \"2020-04-12T00:00:00\", \"2020-04-19T00:00:00\", \"2020-04-26T00:00:00\", \"2020-05-03T00:00:00\", \"2020-05-10T00:00:00\", \"2020-05-17T00:00:00\", \"2020-05-24T00:00:00\", \"2020-05-31T00:00:00\", \"2020-06-07T00:00:00\", \"2020-06-14T00:00:00\", \"2020-06-21T00:00:00\", \"2020-06-28T00:00:00\", \"2020-07-05T00:00:00\", \"2020-07-12T00:00:00\", \"2020-07-19T00:00:00\", \"2020-07-26T00:00:00\", \"2020-08-02T00:00:00\", \"2020-08-09T00:00:00\", \"2020-08-16T00:00:00\", \"2020-08-23T00:00:00\", \"2020-08-30T00:00:00\", \"2020-09-06T00:00:00\", \"2020-09-13T00:00:00\", \"2020-09-20T00:00:00\", \"2020-09-27T00:00:00\", \"2020-10-04T00:00:00\", \"2020-10-11T00:00:00\", \"2020-10-18T00:00:00\", \"2020-10-25T00:00:00\", \"2020-11-01T00:00:00\", \"2020-11-08T00:00:00\", \"2020-11-15T00:00:00\", \"2020-11-22T00:00:00\", \"2020-11-29T00:00:00\", \"2020-12-06T00:00:00\", \"2020-12-13T00:00:00\", \"2020-12-20T00:00:00\", \"2020-12-27T00:00:00\", \"2021-01-03T00:00:00\", \"2021-01-10T00:00:00\", \"2021-01-17T00:00:00\", \"2021-01-24T00:00:00\", \"2021-01-31T00:00:00\", \"2021-02-07T00:00:00\", \"2021-02-14T00:00:00\", \"2021-02-21T00:00:00\", \"2021-02-28T00:00:00\", \"2021-03-07T00:00:00\", \"2021-03-14T00:00:00\", \"2021-03-21T00:00:00\", \"2021-03-28T00:00:00\", \"2021-04-04T00:00:00\", \"2021-04-11T00:00:00\", \"2021-04-18T00:00:00\", \"2021-04-25T00:00:00\", \"2021-05-02T00:00:00\", \"2021-05-09T00:00:00\", \"2021-05-16T00:00:00\", \"2021-05-23T00:00:00\", \"2021-05-30T00:00:00\", \"2021-06-06T00:00:00\", \"2021-06-13T00:00:00\", \"2021-06-20T00:00:00\", \"2021-06-27T00:00:00\", \"2021-07-04T00:00:00\", \"2021-07-11T00:00:00\", \"2021-07-18T00:00:00\", \"2021-07-25T00:00:00\", \"2021-08-01T00:00:00\", \"2021-08-08T00:00:00\", \"2021-08-15T00:00:00\", \"2021-08-22T00:00:00\", \"2021-08-29T00:00:00\", \"2021-09-05T00:00:00\", \"2021-09-12T00:00:00\", \"2021-09-19T00:00:00\", \"2021-09-26T00:00:00\", \"2021-10-03T00:00:00\", \"2021-10-10T00:00:00\", \"2021-10-17T00:00:00\", \"2021-10-24T00:00:00\"], \"y\": [981.6376879920928, 915.2058142519436, 817.0549635712492, 921.0022294154238, 916.4743844403482, 1018.327562124935, 1002.9858857063558, 1052.5456970824382, 1165.8244162493393, 1258.6520904332842, 1198.4495991848353, 1009.8453678806043, 965.6647718384512, 1080.593671156791, 1195.2263193941758, 1168.5849291604588, 1235.959071154503, 1331.428636861853, 1541.9670501659964, 1781.992960291066, 2022.2277678510666, 2188.8339780159095, 2524.769903107526, 2907.1849046281804, 2564.159564217592, 2557.9534132747376, 2445.2220216764304, 2538.7765526156186, 1938.9989240757789, 2766.018589895212, 2674.9081195927315, 3236.1315535456533, 4022.9411932688417, 4059.5180476308906, 4340.433891081189, 4575.300758474094, 4178.9680422029805, 3634.043061056025, 3694.9808246963107, 4290.272278589144, 4497.856967223395, 5608.239015452093, 5909.253738347273, 5890.56903730675, 7458.414757038099, 6113.264264574333, 7827.131551353381, 8971.770344226623, 11291.622579057115, 14132.601710642339, 19186.169610256275, 13652.628406286824, 13337.513232213194, 16516.38596170831, 13678.34344394982, 11894.038151210543, 11673.754262195793, 8718.772985557165, 8187.7584321186805, 10737.516565552482, 9594.672009343749, 11241.467414556733, 9059.7413486486, 7678.897274336678, 8535.27998779133, 6796.601292610656, 6988.220222870914, 8215.062462895481, 8888.486728819395, 9355.907476675324, 9615.743948307036, 8550.046166780056, 8362.053475615578, 7316.551009348536, 7690.58057537641, 7132.902355224252, 6508.827389822967, 6023.8896670909435, 6349.980904651709, 6738.8721180935745, 6318.013231735982, 7447.723313695186, 8202.498761161012, 6995.192839452979, 6305.226968673242, 6401.7003608656405, 6670.069420563303, 7240.745144965029, 6295.955871608836, 6481.711958450328, 6707.643346377803, 6578.164624514121, 6533.448685133508, 6226.1260207690675, 6434.035994542509, 6402.290679530039, 6369.730653024255, 6337.526091595159, 5534.734346708526, 3756.9321726632147, 4120.589503435377, 3471.6984966057476, 3217.320694474901, 3978.056280943766, 3787.8872244049644, 3885.3312363064815, 3575.310055370954, 3600.5671484172353, 3544.653609846713, 3424.824032234868, 3607.855117072525, 3585.2871700518717, 3985.1708804270693, 3800.987502450217, 3892.6368754301884, 3963.4112159366673, 3968.46245122984, 4088.4294700084174, 5128.484710430335, 5078.929244976857, 5287.273093444004, 5169.575513691476, 5722.166836310573, 7154.9551372121105, 7933.9268158052155, 8128.546958223451, 8670.265812880712, 7798.498155120784, 9095.289101530452, 10746.900511013211, 11542.5519109653, 11311.47674802796, 10857.026633891062, 10577.614454422597, 9484.914105643693, 10820.892324169692, 11378.232876254126, 10292.527044551465, 10100.656939299763, 9626.724277129402, 10460.721158303631, 10316.665172788826, 9978.878329965732, 8073.95375222317, 7980.2613741350415, 8358.546977063057, 8020.297620718581, 9413.283675192675, 9217.614908547763, 8896.594757823774, 8514.029198381439, 7146.012933634438, 7353.310525060708, 7495.626457542383, 7089.723106689306, 7228.238391081989, 7345.635970926209, 7430.027209611784, 8111.715362809299, 8847.166821810986, 8430.129199500645, 9377.036114146784, 10080.72238297771, 9905.53388478716, 9870.245958296517, 8557.198634572247, 8569.848185239654, 5300.8230481772, 6132.192548689882, 6104.824055534396, 6796.675729856801, 6954.061312250376, 7166.968470350743, 7603.793608820947, 8979.892588601406, 8687.485435756498, 9626.880262499786, 9119.084263966222, 9546.667359008288, 9618.2132603281, 9403.238615212738, 9348.204026697782, 9056.25733932299, 9062.05921703053, 9249.438246949527, 9154.807427888656, 9834.34345093738, 11333.746837542161, 11672.131345720929, 11850.765200290209, 11623.091878436793, 11609.048559349349, 10201.799719070545, 10393.662602084078, 10915.45825408122, 10717.587523472932, 10604.973839338634, 11360.626362271318, 11424.963448037344, 13056.228187102959, 13769.800513425602, 15202.594518399836, 15995.998189848071, 18432.242585682645, 17991.419820260784, 19145.148466569415, 19113.047104531674, 23594.411731075204, 27043.386470000005, 33467.36252562915, 39727.27752555421, 35650.76418554722, 32225.07011977885, 33450.93785876327, 38711.77455524941, 48600.49151849026, 57040.825943830474, 44818.44755210362, 50218.21680438112, 60455.84483148646, 57312.59853645818, 55832.958823907036, null, null, null, null, null, null, null, null, null, null, null, null, null, null, null, null, null, null, null, null, null, null, null, null, null, null, null, null, null, null]}, {\"line\": {\"color\": \"rgba(0, 90, 181, 0.7)\", \"dash\": \"solid\"}, \"name\": \"Forecast\", \"type\": \"scatter\", \"x\": [\"2017-01-01T00:00:00\", \"2017-01-08T00:00:00\", \"2017-01-15T00:00:00\", \"2017-01-22T00:00:00\", \"2017-01-29T00:00:00\", \"2017-02-05T00:00:00\", \"2017-02-12T00:00:00\", \"2017-02-19T00:00:00\", \"2017-02-26T00:00:00\", \"2017-03-05T00:00:00\", \"2017-03-12T00:00:00\", \"2017-03-19T00:00:00\", \"2017-03-26T00:00:00\", \"2017-04-02T00:00:00\", \"2017-04-09T00:00:00\", \"2017-04-16T00:00:00\", \"2017-04-23T00:00:00\", \"2017-04-30T00:00:00\", \"2017-05-07T00:00:00\", \"2017-05-14T00:00:00\", \"2017-05-21T00:00:00\", \"2017-05-28T00:00:00\", \"2017-06-04T00:00:00\", \"2017-06-11T00:00:00\", \"2017-06-18T00:00:00\", \"2017-06-25T00:00:00\", \"2017-07-02T00:00:00\", \"2017-07-09T00:00:00\", \"2017-07-16T00:00:00\", \"2017-07-23T00:00:00\", \"2017-07-30T00:00:00\", \"2017-08-06T00:00:00\", \"2017-08-13T00:00:00\", \"2017-08-20T00:00:00\", \"2017-08-27T00:00:00\", \"2017-09-03T00:00:00\", \"2017-09-10T00:00:00\", \"2017-09-17T00:00:00\", \"2017-09-24T00:00:00\", \"2017-10-01T00:00:00\", \"2017-10-08T00:00:00\", \"2017-10-15T00:00:00\", \"2017-10-22T00:00:00\", \"2017-10-29T00:00:00\", \"2017-11-05T00:00:00\", \"2017-11-12T00:00:00\", \"2017-11-19T00:00:00\", \"2017-11-26T00:00:00\", \"2017-12-03T00:00:00\", \"2017-12-10T00:00:00\", \"2017-12-17T00:00:00\", \"2017-12-24T00:00:00\", \"2017-12-31T00:00:00\", \"2018-01-07T00:00:00\", \"2018-01-14T00:00:00\", \"2018-01-21T00:00:00\", \"2018-01-28T00:00:00\", \"2018-02-04T00:00:00\", \"2018-02-11T00:00:00\", \"2018-02-18T00:00:00\", \"2018-02-25T00:00:00\", \"2018-03-04T00:00:00\", \"2018-03-11T00:00:00\", \"2018-03-18T00:00:00\", \"2018-03-25T00:00:00\", \"2018-04-01T00:00:00\", \"2018-04-08T00:00:00\", \"2018-04-15T00:00:00\", \"2018-04-22T00:00:00\", \"2018-04-29T00:00:00\", \"2018-05-06T00:00:00\", \"2018-05-13T00:00:00\", \"2018-05-20T00:00:00\", \"2018-05-27T00:00:00\", \"2018-06-03T00:00:00\", \"2018-06-10T00:00:00\", \"2018-06-17T00:00:00\", \"2018-06-24T00:00:00\", \"2018-07-01T00:00:00\", \"2018-07-08T00:00:00\", \"2018-07-15T00:00:00\", \"2018-07-22T00:00:00\", \"2018-07-29T00:00:00\", \"2018-08-05T00:00:00\", \"2018-08-12T00:00:00\", \"2018-08-19T00:00:00\", \"2018-08-26T00:00:00\", \"2018-09-02T00:00:00\", \"2018-09-09T00:00:00\", \"2018-09-16T00:00:00\", \"2018-09-23T00:00:00\", \"2018-09-30T00:00:00\", \"2018-10-07T00:00:00\", \"2018-10-14T00:00:00\", \"2018-10-21T00:00:00\", \"2018-10-28T00:00:00\", \"2018-11-04T00:00:00\", \"2018-11-11T00:00:00\", \"2018-11-18T00:00:00\", \"2018-11-25T00:00:00\", \"2018-12-02T00:00:00\", \"2018-12-09T00:00:00\", \"2018-12-16T00:00:00\", \"2018-12-23T00:00:00\", \"2018-12-30T00:00:00\", \"2019-01-06T00:00:00\", \"2019-01-13T00:00:00\", \"2019-01-20T00:00:00\", \"2019-01-27T00:00:00\", \"2019-02-03T00:00:00\", \"2019-02-10T00:00:00\", \"2019-02-17T00:00:00\", \"2019-02-24T00:00:00\", \"2019-03-03T00:00:00\", \"2019-03-10T00:00:00\", \"2019-03-17T00:00:00\", \"2019-03-24T00:00:00\", \"2019-03-31T00:00:00\", \"2019-04-07T00:00:00\", \"2019-04-14T00:00:00\", \"2019-04-21T00:00:00\", \"2019-04-28T00:00:00\", \"2019-05-05T00:00:00\", \"2019-05-12T00:00:00\", \"2019-05-19T00:00:00\", \"2019-05-26T00:00:00\", \"2019-06-02T00:00:00\", \"2019-06-09T00:00:00\", \"2019-06-16T00:00:00\", \"2019-06-23T00:00:00\", \"2019-06-30T00:00:00\", \"2019-07-07T00:00:00\", \"2019-07-14T00:00:00\", \"2019-07-21T00:00:00\", \"2019-07-28T00:00:00\", \"2019-08-04T00:00:00\", \"2019-08-11T00:00:00\", \"2019-08-18T00:00:00\", \"2019-08-25T00:00:00\", \"2019-09-01T00:00:00\", \"2019-09-08T00:00:00\", \"2019-09-15T00:00:00\", \"2019-09-22T00:00:00\", \"2019-09-29T00:00:00\", \"2019-10-06T00:00:00\", \"2019-10-13T00:00:00\", \"2019-10-20T00:00:00\", \"2019-10-27T00:00:00\", \"2019-11-03T00:00:00\", \"2019-11-10T00:00:00\", \"2019-11-17T00:00:00\", \"2019-11-24T00:00:00\", \"2019-12-01T00:00:00\", \"2019-12-08T00:00:00\", \"2019-12-15T00:00:00\", \"2019-12-22T00:00:00\", \"2019-12-29T00:00:00\", \"2020-01-05T00:00:00\", \"2020-01-12T00:00:00\", \"2020-01-19T00:00:00\", \"2020-01-26T00:00:00\", \"2020-02-02T00:00:00\", \"2020-02-09T00:00:00\", \"2020-02-16T00:00:00\", \"2020-02-23T00:00:00\", \"2020-03-01T00:00:00\", \"2020-03-08T00:00:00\", \"2020-03-15T00:00:00\", \"2020-03-22T00:00:00\", \"2020-03-29T00:00:00\", \"2020-04-05T00:00:00\", \"2020-04-12T00:00:00\", \"2020-04-19T00:00:00\", \"2020-04-26T00:00:00\", \"2020-05-03T00:00:00\", \"2020-05-10T00:00:00\", \"2020-05-17T00:00:00\", \"2020-05-24T00:00:00\", \"2020-05-31T00:00:00\", \"2020-06-07T00:00:00\", \"2020-06-14T00:00:00\", \"2020-06-21T00:00:00\", \"2020-06-28T00:00:00\", \"2020-07-05T00:00:00\", \"2020-07-12T00:00:00\", \"2020-07-19T00:00:00\", \"2020-07-26T00:00:00\", \"2020-08-02T00:00:00\", \"2020-08-09T00:00:00\", \"2020-08-16T00:00:00\", \"2020-08-23T00:00:00\", \"2020-08-30T00:00:00\", \"2020-09-06T00:00:00\", \"2020-09-13T00:00:00\", \"2020-09-20T00:00:00\", \"2020-09-27T00:00:00\", \"2020-10-04T00:00:00\", \"2020-10-11T00:00:00\", \"2020-10-18T00:00:00\", \"2020-10-25T00:00:00\", \"2020-11-01T00:00:00\", \"2020-11-08T00:00:00\", \"2020-11-15T00:00:00\", \"2020-11-22T00:00:00\", \"2020-11-29T00:00:00\", \"2020-12-06T00:00:00\", \"2020-12-13T00:00:00\", \"2020-12-20T00:00:00\", \"2020-12-27T00:00:00\", \"2021-01-03T00:00:00\", \"2021-01-10T00:00:00\", \"2021-01-17T00:00:00\", \"2021-01-24T00:00:00\", \"2021-01-31T00:00:00\", \"2021-02-07T00:00:00\", \"2021-02-14T00:00:00\", \"2021-02-21T00:00:00\", \"2021-02-28T00:00:00\", \"2021-03-07T00:00:00\", \"2021-03-14T00:00:00\", \"2021-03-21T00:00:00\", \"2021-03-28T00:00:00\", \"2021-04-04T00:00:00\", \"2021-04-11T00:00:00\", \"2021-04-18T00:00:00\", \"2021-04-25T00:00:00\", \"2021-05-02T00:00:00\", \"2021-05-09T00:00:00\", \"2021-05-16T00:00:00\", \"2021-05-23T00:00:00\", \"2021-05-30T00:00:00\", \"2021-06-06T00:00:00\", \"2021-06-13T00:00:00\", \"2021-06-20T00:00:00\", \"2021-06-27T00:00:00\", \"2021-07-04T00:00:00\", \"2021-07-11T00:00:00\", \"2021-07-18T00:00:00\", \"2021-07-25T00:00:00\", \"2021-08-01T00:00:00\", \"2021-08-08T00:00:00\", \"2021-08-15T00:00:00\", \"2021-08-22T00:00:00\", \"2021-08-29T00:00:00\", \"2021-09-05T00:00:00\", \"2021-09-12T00:00:00\", \"2021-09-19T00:00:00\", \"2021-09-26T00:00:00\", \"2021-10-03T00:00:00\", \"2021-10-10T00:00:00\", \"2021-10-17T00:00:00\", \"2021-10-24T00:00:00\"], \"y\": [5156.590731960237, 5586.517389498935, 5660.790747949223, 5321.863939953918, 5372.297703497705, 5510.644526238538, 6185.808764376045, 6722.55583185987, 6557.428264613049, 6348.947004947926, 6695.851676696025, 7130.834588052498, 6729.956453343695, 4995.282144717253, 4268.182645713001, 4383.381630510801, 4721.845306346136, 4701.688160908632, 4836.475809055654, 5166.413043870804, 5359.933604499944, 5103.993853995168, 5203.287548968539, 5465.018171777071, 5452.092167460274, 5547.621660857876, 5331.006497180201, 5361.596578866085, 5397.919437765018, 5442.123449430203, 5632.1987916872395, 5674.002135375807, 5835.785058567253, 6080.903412405114, 5933.130711684398, 5880.953274364944, 6108.9462237766165, 6064.3042277950335, 6196.597674443896, 5710.286016719883, 5776.670163042735, 5996.373955680113, 6078.305732951999, 6298.52211994412, 6383.61818478368, 6569.582523800835, 6813.419424519279, 6766.828831472729, 6803.174513535616, 7310.139685288163, 7514.344017263113, 7659.988931152466, 7544.940256700997, 7806.07928005459, 7927.795343520516, 7648.729186474197, 7529.3437834086435, 7728.823417093314, 8367.180996414676, 9190.30287294646, 8917.74067736003, 8608.181432775275, 8967.329650700378, 9340.213180825685, 9132.83894518498, 7439.26356793838, 6611.707168402232, 6760.120601899299, 6983.580559574675, 7016.789354505612, 7042.377483184686, 7410.702018432291, 7544.037879933854, 7466.146470961337, 7542.65391301562, 7755.656712475195, 7672.868469138182, 7931.381840684522, 7673.050179336445, 7621.9573367084695, 7708.115780457418, 7702.797609402292, 7900.0761267030475, 7944.089674042034, 8153.524477870918, 8351.604793406248, 8249.517699368786, 8183.143299035551, 8405.147651325695, 8342.606147595865, 8432.065929965538, 8101.101288965301, 8029.279426789524, 8275.96590987868, 8337.120956155995, 8562.173086645733, 8651.771497320316, 8718.013179369967, 9070.979156444759, 9081.955156194052, 9038.08124896648, 9538.003952344014, 9774.971732164571, 9942.129603137131, 9817.949594878191, 10027.264810488805, 10279.479094298593, 9936.710931349178, 9825.966364401043, 9941.642656136395, 10548.574392198112, 11179.567735492816, 11271.653354644168, 10892.910671450481, 11190.209149292281, 11519.386219850383, 11589.312771778677, 10103.594513873415, 8930.086128021761, 8965.309486477008, 9116.823328783852, 9346.048338532224, 9351.5428454769, 9654.347939199728, 9906.816195047766, 9781.799845637603, 9795.57249212895, 9938.679603311193, 9989.238023471858, 10202.35111933587, 10011.621116331255, 9884.537258441054, 9942.556895465885, 9969.588235485015, 10163.836305078577, 10216.603035637198, 10363.008035749139, 10616.356461804242, 10564.039094230087, 10455.322602821805, 10573.424293303968, 10626.202887314983, 10757.102879333508, 10499.344612840818, 10337.686059925516, 10502.16761070554, 10602.064678932253, 10774.955693846125, 10936.14466083958, 10973.628268704, 11323.282255456887, 11393.428403801361, 11302.588271814673, 11755.674640200661, 12039.04517952575, 12263.897104419375, 12198.254690113943, 12255.945839673066, 12563.399112609924, 12286.36521606861, 12170.799371971814, 12196.22703387303, 12714.83920302691, 13363.955816588114, 13632.67598450118, 13200.71821745142, 13335.74848368024, 13782.812270312115, 13961.667455971361, 12773.93458844426, 11268.177185556862, 11121.096689299866, 11495.759219674095, 11625.962796796906, 11643.899534473348, 11866.0123699481, 12139.615969367955, 12076.017564261596, 11962.69741976653, 12279.059770289732, 12278.70846375973, 12432.266146947983, 12420.562062748742, 12132.03552665875, 12178.200172168574, 12246.13744801384, 12403.199455871814, 12484.72243557884, 12645.066494826882, 12847.032390267272, 12938.985231069868, 12732.935143812709, 12838.542271619299, 12936.497171853069, 12992.758932675399, 12961.248135452377, 12619.580751869213, 12743.770774593777, 12869.513051580732, 13054.621623599349, 13106.693274768866, 13304.387792249148, 13544.73942939318, 13707.014586798552, 13515.07735492176, 13888.355439603281, 14282.74528409235, 14476.024453833703, 14578.833132552169, 14475.746518983862, 14844.735479980543, 14688.52204889111, 14363.295257846774, 14429.675838527179, 14822.019744496774, 15717.623979452168, 15951.069722379085, 15562.935254769433, 15580.515002166176, 16009.788578712494, 16315.688384212695, 15402.957164884592, 13684.712459305614, 13486.453986137683, 13719.761026904918, 13901.315286295317, 13887.147954196615, 14111.368961778, 14385.591035371846, 14400.168379653438, 14265.43041843292, 14526.975274433782, 14534.990134021391, 14668.513538842002, 14738.404319567097, 14389.31397347965, 14501.839135526407, 14478.68234791348, 14648.117033029648, 14755.71489057559, 14906.06344972075, 15057.785085628271, 15233.309569834433, 15024.345364559129, 15084.311884494335, 15240.062265512239, 15200.927534396422, 15291.03672038357, 14875.485139628978, 14995.297933389673, 15097.139558237115, 15290.219022295933]}],                        {\"annotations\": [{\"arrowhead\": 0, \"ax\": -60, \"ay\": 0, \"showarrow\": true, \"text\": \"Train End Date\", \"x\": \"2021-03-28T00:00:00\", \"xref\": \"x\", \"y\": 0.97, \"yref\": \"paper\"}], \"legend\": {\"traceorder\": \"reversed\"}, \"shapes\": [{\"line\": {\"color\": \"rgba(100, 100, 100, 0.9)\", \"width\": 1.0}, \"type\": \"line\", \"x0\": \"2021-03-28T00:00:00\", \"x1\": \"2021-03-28T00:00:00\", \"xref\": \"x\", \"y0\": 0, \"y1\": 1, \"yref\": \"paper\"}], \"showlegend\": true, \"template\": {\"data\": {\"bar\": [{\"error_x\": {\"color\": \"#2a3f5f\"}, \"error_y\": {\"color\": \"#2a3f5f\"}, \"marker\": {\"line\": {\"color\": \"#E5ECF6\", \"width\": 0.5}}, \"type\": \"bar\"}], \"barpolar\": [{\"marker\": {\"line\": {\"color\": \"#E5ECF6\", \"width\": 0.5}}, \"type\": \"barpolar\"}], \"carpet\": [{\"aaxis\": {\"endlinecolor\": \"#2a3f5f\", \"gridcolor\": \"white\", \"linecolor\": \"white\", \"minorgridcolor\": \"white\", \"startlinecolor\": \"#2a3f5f\"}, \"baxis\": {\"endlinecolor\": \"#2a3f5f\", \"gridcolor\": \"white\", \"linecolor\": \"white\", \"minorgridcolor\": \"white\", \"startlinecolor\": \"#2a3f5f\"}, \"type\": \"carpet\"}], \"choropleth\": [{\"colorbar\": {\"outlinewidth\": 0, \"ticks\": \"\"}, \"type\": \"choropleth\"}], \"contour\": [{\"colorbar\": {\"outlinewidth\": 0, \"ticks\": \"\"}, \"colorscale\": [[0.0, \"#0d0887\"], [0.1111111111111111, \"#46039f\"], [0.2222222222222222, \"#7201a8\"], [0.3333333333333333, \"#9c179e\"], [0.4444444444444444, \"#bd3786\"], [0.5555555555555556, \"#d8576b\"], [0.6666666666666666, \"#ed7953\"], [0.7777777777777778, \"#fb9f3a\"], [0.8888888888888888, \"#fdca26\"], [1.0, \"#f0f921\"]], \"type\": \"contour\"}], \"contourcarpet\": [{\"colorbar\": {\"outlinewidth\": 0, \"ticks\": \"\"}, \"type\": \"contourcarpet\"}], \"heatmap\": [{\"colorbar\": {\"outlinewidth\": 0, \"ticks\": \"\"}, \"colorscale\": [[0.0, \"#0d0887\"], [0.1111111111111111, \"#46039f\"], [0.2222222222222222, \"#7201a8\"], [0.3333333333333333, \"#9c179e\"], [0.4444444444444444, \"#bd3786\"], [0.5555555555555556, \"#d8576b\"], [0.6666666666666666, \"#ed7953\"], [0.7777777777777778, \"#fb9f3a\"], [0.8888888888888888, \"#fdca26\"], [1.0, \"#f0f921\"]], \"type\": \"heatmap\"}], \"heatmapgl\": [{\"colorbar\": {\"outlinewidth\": 0, \"ticks\": \"\"}, \"colorscale\": [[0.0, \"#0d0887\"], [0.1111111111111111, \"#46039f\"], [0.2222222222222222, \"#7201a8\"], [0.3333333333333333, \"#9c179e\"], [0.4444444444444444, \"#bd3786\"], [0.5555555555555556, \"#d8576b\"], [0.6666666666666666, \"#ed7953\"], [0.7777777777777778, \"#fb9f3a\"], [0.8888888888888888, \"#fdca26\"], [1.0, \"#f0f921\"]], \"type\": \"heatmapgl\"}], \"histogram\": [{\"marker\": {\"colorbar\": {\"outlinewidth\": 0, \"ticks\": \"\"}}, \"type\": \"histogram\"}], \"histogram2d\": [{\"colorbar\": {\"outlinewidth\": 0, \"ticks\": \"\"}, \"colorscale\": [[0.0, \"#0d0887\"], [0.1111111111111111, \"#46039f\"], [0.2222222222222222, \"#7201a8\"], [0.3333333333333333, \"#9c179e\"], [0.4444444444444444, \"#bd3786\"], [0.5555555555555556, \"#d8576b\"], [0.6666666666666666, \"#ed7953\"], [0.7777777777777778, \"#fb9f3a\"], [0.8888888888888888, \"#fdca26\"], [1.0, \"#f0f921\"]], \"type\": \"histogram2d\"}], \"histogram2dcontour\": [{\"colorbar\": {\"outlinewidth\": 0, \"ticks\": \"\"}, \"colorscale\": [[0.0, \"#0d0887\"], [0.1111111111111111, \"#46039f\"], [0.2222222222222222, \"#7201a8\"], [0.3333333333333333, \"#9c179e\"], [0.4444444444444444, \"#bd3786\"], [0.5555555555555556, \"#d8576b\"], [0.6666666666666666, \"#ed7953\"], [0.7777777777777778, \"#fb9f3a\"], [0.8888888888888888, \"#fdca26\"], [1.0, \"#f0f921\"]], \"type\": \"histogram2dcontour\"}], \"mesh3d\": [{\"colorbar\": {\"outlinewidth\": 0, \"ticks\": \"\"}, \"type\": \"mesh3d\"}], \"parcoords\": [{\"line\": {\"colorbar\": {\"outlinewidth\": 0, \"ticks\": \"\"}}, \"type\": \"parcoords\"}], \"pie\": [{\"automargin\": true, \"type\": \"pie\"}], \"scatter\": [{\"marker\": {\"colorbar\": {\"outlinewidth\": 0, \"ticks\": \"\"}}, \"type\": \"scatter\"}], \"scatter3d\": [{\"line\": {\"colorbar\": {\"outlinewidth\": 0, \"ticks\": \"\"}}, \"marker\": {\"colorbar\": {\"outlinewidth\": 0, \"ticks\": \"\"}}, \"type\": \"scatter3d\"}], \"scattercarpet\": [{\"marker\": {\"colorbar\": {\"outlinewidth\": 0, \"ticks\": \"\"}}, \"type\": \"scattercarpet\"}], \"scattergeo\": [{\"marker\": {\"colorbar\": {\"outlinewidth\": 0, \"ticks\": \"\"}}, \"type\": \"scattergeo\"}], \"scattergl\": [{\"marker\": {\"colorbar\": {\"outlinewidth\": 0, \"ticks\": \"\"}}, \"type\": \"scattergl\"}], \"scattermapbox\": [{\"marker\": {\"colorbar\": {\"outlinewidth\": 0, \"ticks\": \"\"}}, \"type\": \"scattermapbox\"}], \"scatterpolar\": [{\"marker\": {\"colorbar\": {\"outlinewidth\": 0, \"ticks\": \"\"}}, \"type\": \"scatterpolar\"}], \"scatterpolargl\": [{\"marker\": {\"colorbar\": {\"outlinewidth\": 0, \"ticks\": \"\"}}, \"type\": \"scatterpolargl\"}], \"scatterternary\": [{\"marker\": {\"colorbar\": {\"outlinewidth\": 0, \"ticks\": \"\"}}, \"type\": \"scatterternary\"}], \"surface\": [{\"colorbar\": {\"outlinewidth\": 0, \"ticks\": \"\"}, \"colorscale\": [[0.0, \"#0d0887\"], [0.1111111111111111, \"#46039f\"], [0.2222222222222222, \"#7201a8\"], [0.3333333333333333, \"#9c179e\"], [0.4444444444444444, \"#bd3786\"], [0.5555555555555556, \"#d8576b\"], [0.6666666666666666, \"#ed7953\"], [0.7777777777777778, \"#fb9f3a\"], [0.8888888888888888, \"#fdca26\"], [1.0, \"#f0f921\"]], \"type\": \"surface\"}], \"table\": [{\"cells\": {\"fill\": {\"color\": \"#EBF0F8\"}, \"line\": {\"color\": \"white\"}}, \"header\": {\"fill\": {\"color\": \"#C8D4E3\"}, \"line\": {\"color\": \"white\"}}, \"type\": \"table\"}]}, \"layout\": {\"annotationdefaults\": {\"arrowcolor\": \"#2a3f5f\", \"arrowhead\": 0, \"arrowwidth\": 1}, \"autotypenumbers\": \"strict\", \"coloraxis\": {\"colorbar\": {\"outlinewidth\": 0, \"ticks\": \"\"}}, \"colorscale\": {\"diverging\": [[0, \"#8e0152\"], [0.1, \"#c51b7d\"], [0.2, \"#de77ae\"], [0.3, \"#f1b6da\"], [0.4, \"#fde0ef\"], [0.5, \"#f7f7f7\"], [0.6, \"#e6f5d0\"], [0.7, \"#b8e186\"], [0.8, \"#7fbc41\"], [0.9, \"#4d9221\"], [1, \"#276419\"]], \"sequential\": [[0.0, \"#0d0887\"], [0.1111111111111111, \"#46039f\"], [0.2222222222222222, \"#7201a8\"], [0.3333333333333333, \"#9c179e\"], [0.4444444444444444, \"#bd3786\"], [0.5555555555555556, \"#d8576b\"], [0.6666666666666666, \"#ed7953\"], [0.7777777777777778, \"#fb9f3a\"], [0.8888888888888888, \"#fdca26\"], [1.0, \"#f0f921\"]], \"sequentialminus\": [[0.0, \"#0d0887\"], [0.1111111111111111, \"#46039f\"], [0.2222222222222222, \"#7201a8\"], [0.3333333333333333, \"#9c179e\"], [0.4444444444444444, \"#bd3786\"], [0.5555555555555556, \"#d8576b\"], [0.6666666666666666, \"#ed7953\"], [0.7777777777777778, \"#fb9f3a\"], [0.8888888888888888, \"#fdca26\"], [1.0, \"#f0f921\"]]}, \"colorway\": [\"#636efa\", \"#EF553B\", \"#00cc96\", \"#ab63fa\", \"#FFA15A\", \"#19d3f3\", \"#FF6692\", \"#B6E880\", \"#FF97FF\", \"#FECB52\"], \"font\": {\"color\": \"#2a3f5f\"}, \"geo\": {\"bgcolor\": \"white\", \"lakecolor\": \"white\", \"landcolor\": \"#E5ECF6\", \"showlakes\": true, \"showland\": true, \"subunitcolor\": \"white\"}, \"hoverlabel\": {\"align\": \"left\"}, \"hovermode\": \"closest\", \"mapbox\": {\"style\": \"light\"}, \"paper_bgcolor\": \"white\", \"plot_bgcolor\": \"#E5ECF6\", \"polar\": {\"angularaxis\": {\"gridcolor\": \"white\", \"linecolor\": \"white\", \"ticks\": \"\"}, \"bgcolor\": \"#E5ECF6\", \"radialaxis\": {\"gridcolor\": \"white\", \"linecolor\": \"white\", \"ticks\": \"\"}}, \"scene\": {\"xaxis\": {\"backgroundcolor\": \"#E5ECF6\", \"gridcolor\": \"white\", \"gridwidth\": 2, \"linecolor\": \"white\", \"showbackground\": true, \"ticks\": \"\", \"zerolinecolor\": \"white\"}, \"yaxis\": {\"backgroundcolor\": \"#E5ECF6\", \"gridcolor\": \"white\", \"gridwidth\": 2, \"linecolor\": \"white\", \"showbackground\": true, \"ticks\": \"\", \"zerolinecolor\": \"white\"}, \"zaxis\": {\"backgroundcolor\": \"#E5ECF6\", \"gridcolor\": \"white\", \"gridwidth\": 2, \"linecolor\": \"white\", \"showbackground\": true, \"ticks\": \"\", \"zerolinecolor\": \"white\"}}, \"shapedefaults\": {\"line\": {\"color\": \"#2a3f5f\"}}, \"ternary\": {\"aaxis\": {\"gridcolor\": \"white\", \"linecolor\": \"white\", \"ticks\": \"\"}, \"baxis\": {\"gridcolor\": \"white\", \"linecolor\": \"white\", \"ticks\": \"\"}, \"bgcolor\": \"#E5ECF6\", \"caxis\": {\"gridcolor\": \"white\", \"linecolor\": \"white\", \"ticks\": \"\"}}, \"title\": {\"x\": 0.05}, \"xaxis\": {\"automargin\": true, \"gridcolor\": \"white\", \"linecolor\": \"white\", \"ticks\": \"\", \"title\": {\"standoff\": 15}, \"zerolinecolor\": \"white\", \"zerolinewidth\": 2}, \"yaxis\": {\"automargin\": true, \"gridcolor\": \"white\", \"linecolor\": \"white\", \"ticks\": \"\", \"title\": {\"standoff\": 15}, \"zerolinecolor\": \"white\", \"zerolinewidth\": 2}}}, \"title\": {\"text\": \"Forecast vs Actual\", \"x\": 0.5}, \"xaxis\": {\"title\": {\"text\": \"ts\"}}, \"yaxis\": {\"title\": {\"text\": \"Weighted_Price\"}}},                        {\"responsive\": true}                    ).then(function(){\n",
       "                            \n",
       "var gd = document.getElementById('a545c3b5-f53b-400a-b80e-1713aef6336f');\n",
       "var x = new MutationObserver(function (mutations, observer) {{\n",
       "        var display = window.getComputedStyle(gd).display;\n",
       "        if (!display || display === 'none') {{\n",
       "            console.log([gd, 'removed!']);\n",
       "            Plotly.purge(gd);\n",
       "            observer.disconnect();\n",
       "        }}\n",
       "}});\n",
       "\n",
       "// Listen for the removal of the full notebook cells\n",
       "var notebookContainer = gd.closest('#notebook-container');\n",
       "if (notebookContainer) {{\n",
       "    x.observe(notebookContainer, {childList: true});\n",
       "}}\n",
       "\n",
       "// Listen for the clearing of the current output cell\n",
       "var outputEl = gd.closest('.output');\n",
       "if (outputEl) {{\n",
       "    x.observe(outputEl, {childList: true});\n",
       "}}\n",
       "\n",
       "                        })                };                });            </script>        </div>"
      ]
     },
     "metadata": {},
     "output_type": "display_data"
    }
   ],
   "source": [
    "forecast = result.forecast\n",
    "fig = forecast.plot().show()\n"
   ]
  },
  {
   "cell_type": "code",
   "execution_count": 19,
   "id": "bizarre-steel",
   "metadata": {
    "execution": {
     "iopub.execute_input": "2022-05-21T20:59:46.613197Z",
     "iopub.status.busy": "2022-05-21T20:59:46.612246Z",
     "iopub.status.idle": "2022-05-21T20:59:46.616896Z",
     "shell.execute_reply": "2022-05-21T20:59:46.616267Z"
    },
    "papermill": {
     "duration": 0.121903,
     "end_time": "2022-05-21T20:59:46.617035",
     "exception": false,
     "start_time": "2022-05-21T20:59:46.495132",
     "status": "completed"
    },
    "tags": []
   },
   "outputs": [
    {
     "data": {
      "text/html": [
       "<div>\n",
       "<style scoped>\n",
       "    .dataframe tbody tr th:only-of-type {\n",
       "        vertical-align: middle;\n",
       "    }\n",
       "\n",
       "    .dataframe tbody tr th {\n",
       "        vertical-align: top;\n",
       "    }\n",
       "\n",
       "    .dataframe thead th {\n",
       "        text-align: right;\n",
       "    }\n",
       "</style>\n",
       "<table border=\"1\" class=\"dataframe\">\n",
       "  <thead>\n",
       "    <tr style=\"text-align: right;\">\n",
       "      <th></th>\n",
       "      <th>Timestamp</th>\n",
       "      <th>actual</th>\n",
       "      <th>forecast</th>\n",
       "      <th>forecast_lower</th>\n",
       "      <th>forecast_upper</th>\n",
       "    </tr>\n",
       "  </thead>\n",
       "  <tbody>\n",
       "    <tr>\n",
       "      <th>0</th>\n",
       "      <td>2017-01-01</td>\n",
       "      <td>981.64</td>\n",
       "      <td>5156.59</td>\n",
       "      <td>-11442.45</td>\n",
       "      <td>21755.63</td>\n",
       "    </tr>\n",
       "    <tr>\n",
       "      <th>1</th>\n",
       "      <td>2017-01-08</td>\n",
       "      <td>915.21</td>\n",
       "      <td>5586.52</td>\n",
       "      <td>-11012.52</td>\n",
       "      <td>22185.55</td>\n",
       "    </tr>\n",
       "    <tr>\n",
       "      <th>2</th>\n",
       "      <td>2017-01-15</td>\n",
       "      <td>817.05</td>\n",
       "      <td>5660.79</td>\n",
       "      <td>-10938.25</td>\n",
       "      <td>22259.83</td>\n",
       "    </tr>\n",
       "    <tr>\n",
       "      <th>3</th>\n",
       "      <td>2017-01-22</td>\n",
       "      <td>921.00</td>\n",
       "      <td>5321.86</td>\n",
       "      <td>-11277.17</td>\n",
       "      <td>21920.90</td>\n",
       "    </tr>\n",
       "    <tr>\n",
       "      <th>4</th>\n",
       "      <td>2017-01-29</td>\n",
       "      <td>916.47</td>\n",
       "      <td>5372.30</td>\n",
       "      <td>-11226.74</td>\n",
       "      <td>21971.33</td>\n",
       "    </tr>\n",
       "  </tbody>\n",
       "</table>\n",
       "</div>"
      ],
      "text/plain": [
       "   Timestamp  actual  forecast  forecast_lower  forecast_upper\n",
       "0 2017-01-01  981.64   5156.59       -11442.45        21755.63\n",
       "1 2017-01-08  915.21   5586.52       -11012.52        22185.55\n",
       "2 2017-01-15  817.05   5660.79       -10938.25        22259.83\n",
       "3 2017-01-22  921.00   5321.86       -11277.17        21920.90\n",
       "4 2017-01-29  916.47   5372.30       -11226.74        21971.33"
      ]
     },
     "execution_count": 19,
     "metadata": {},
     "output_type": "execute_result"
    }
   ],
   "source": [
    "forecast.df.head().round(2)"
   ]
  },
  {
   "cell_type": "markdown",
   "id": "eastern-nutrition",
   "metadata": {
    "papermill": {
     "duration": 0.105161,
     "end_time": "2022-05-21T20:59:46.826626",
     "exception": false,
     "start_time": "2022-05-21T20:59:46.721465",
     "status": "completed"
    },
    "tags": []
   },
   "source": [
    "<h1 style=\"background-color:#FF85A3;font-size:20px;color:#00033E;font-weight : bold\">Model Diagnostics :</h1>"
   ]
  },
  {
   "cell_type": "markdown",
   "id": "united-point",
   "metadata": {
    "papermill": {
     "duration": 0.106375,
     "end_time": "2022-05-21T20:59:47.037593",
     "exception": false,
     "start_time": "2022-05-21T20:59:46.931218",
     "status": "completed"
    },
    "tags": []
   },
   "source": [
    " <p style=\"font-size:15px;color:#1C37A6;\"> This plot shows how your dataset’s trend, event/holiday, seasonality patterns are handled in the model.</p>"
   ]
  },
  {
   "cell_type": "code",
   "execution_count": 20,
   "id": "swedish-muscle",
   "metadata": {
    "execution": {
     "iopub.execute_input": "2022-05-21T20:59:47.268163Z",
     "iopub.status.busy": "2022-05-21T20:59:47.267116Z",
     "iopub.status.idle": "2022-05-21T20:59:47.775800Z",
     "shell.execute_reply": "2022-05-21T20:59:47.776328Z"
    },
    "papermill": {
     "duration": 0.631358,
     "end_time": "2022-05-21T20:59:47.776508",
     "exception": false,
     "start_time": "2022-05-21T20:59:47.145150",
     "status": "completed"
    },
    "tags": []
   },
   "outputs": [
    {
     "data": {
      "application/vnd.plotly.v1+json": {
       "config": {
        "plotlyServerURL": "https://plot.ly"
       },
       "data": [
        {
         "mode": "lines",
         "name": "y",
         "opacity": 0.8,
         "showlegend": false,
         "type": "scatter",
         "x": [
          "2017-01-01T00:00:00",
          "2017-01-08T00:00:00",
          "2017-01-15T00:00:00",
          "2017-01-22T00:00:00",
          "2017-01-29T00:00:00",
          "2017-02-05T00:00:00",
          "2017-02-12T00:00:00",
          "2017-02-19T00:00:00",
          "2017-02-26T00:00:00",
          "2017-03-05T00:00:00",
          "2017-03-12T00:00:00",
          "2017-03-19T00:00:00",
          "2017-03-26T00:00:00",
          "2017-04-02T00:00:00",
          "2017-04-09T00:00:00",
          "2017-04-16T00:00:00",
          "2017-04-23T00:00:00",
          "2017-04-30T00:00:00",
          "2017-05-07T00:00:00",
          "2017-05-14T00:00:00",
          "2017-05-21T00:00:00",
          "2017-05-28T00:00:00",
          "2017-06-04T00:00:00",
          "2017-06-11T00:00:00",
          "2017-06-18T00:00:00",
          "2017-06-25T00:00:00",
          "2017-07-02T00:00:00",
          "2017-07-09T00:00:00",
          "2017-07-16T00:00:00",
          "2017-07-23T00:00:00",
          "2017-07-30T00:00:00",
          "2017-08-06T00:00:00",
          "2017-08-13T00:00:00",
          "2017-08-20T00:00:00",
          "2017-08-27T00:00:00",
          "2017-09-03T00:00:00",
          "2017-09-10T00:00:00",
          "2017-09-17T00:00:00",
          "2017-09-24T00:00:00",
          "2017-10-01T00:00:00",
          "2017-10-08T00:00:00",
          "2017-10-15T00:00:00",
          "2017-10-22T00:00:00",
          "2017-10-29T00:00:00",
          "2017-11-05T00:00:00",
          "2017-11-12T00:00:00",
          "2017-11-19T00:00:00",
          "2017-11-26T00:00:00",
          "2017-12-03T00:00:00",
          "2017-12-10T00:00:00",
          "2017-12-17T00:00:00",
          "2017-12-24T00:00:00",
          "2017-12-31T00:00:00",
          "2018-01-07T00:00:00",
          "2018-01-14T00:00:00",
          "2018-01-21T00:00:00",
          "2018-01-28T00:00:00",
          "2018-02-04T00:00:00",
          "2018-02-11T00:00:00",
          "2018-02-18T00:00:00",
          "2018-02-25T00:00:00",
          "2018-03-04T00:00:00",
          "2018-03-11T00:00:00",
          "2018-03-18T00:00:00",
          "2018-03-25T00:00:00",
          "2018-04-01T00:00:00",
          "2018-04-08T00:00:00",
          "2018-04-15T00:00:00",
          "2018-04-22T00:00:00",
          "2018-04-29T00:00:00",
          "2018-05-06T00:00:00",
          "2018-05-13T00:00:00",
          "2018-05-20T00:00:00",
          "2018-05-27T00:00:00",
          "2018-06-03T00:00:00",
          "2018-06-10T00:00:00",
          "2018-06-17T00:00:00",
          "2018-06-24T00:00:00",
          "2018-07-01T00:00:00",
          "2018-07-08T00:00:00",
          "2018-07-15T00:00:00",
          "2018-07-22T00:00:00",
          "2018-07-29T00:00:00",
          "2018-08-05T00:00:00",
          "2018-08-12T00:00:00",
          "2018-08-19T00:00:00",
          "2018-08-26T00:00:00",
          "2018-09-02T00:00:00",
          "2018-09-09T00:00:00",
          "2018-09-16T00:00:00",
          "2018-09-23T00:00:00",
          "2018-09-30T00:00:00",
          "2018-10-07T00:00:00",
          "2018-10-14T00:00:00",
          "2018-10-21T00:00:00",
          "2018-10-28T00:00:00",
          "2018-11-04T00:00:00",
          "2018-11-11T00:00:00",
          "2018-11-18T00:00:00",
          "2018-11-25T00:00:00",
          "2018-12-02T00:00:00",
          "2018-12-09T00:00:00",
          "2018-12-16T00:00:00",
          "2018-12-23T00:00:00",
          "2018-12-30T00:00:00",
          "2019-01-06T00:00:00",
          "2019-01-13T00:00:00",
          "2019-01-20T00:00:00",
          "2019-01-27T00:00:00",
          "2019-02-03T00:00:00",
          "2019-02-10T00:00:00",
          "2019-02-17T00:00:00",
          "2019-02-24T00:00:00",
          "2019-03-03T00:00:00",
          "2019-03-10T00:00:00",
          "2019-03-17T00:00:00",
          "2019-03-24T00:00:00",
          "2019-03-31T00:00:00",
          "2019-04-07T00:00:00",
          "2019-04-14T00:00:00",
          "2019-04-21T00:00:00",
          "2019-04-28T00:00:00",
          "2019-05-05T00:00:00",
          "2019-05-12T00:00:00",
          "2019-05-19T00:00:00",
          "2019-05-26T00:00:00",
          "2019-06-02T00:00:00",
          "2019-06-09T00:00:00",
          "2019-06-16T00:00:00",
          "2019-06-23T00:00:00",
          "2019-06-30T00:00:00",
          "2019-07-07T00:00:00",
          "2019-07-14T00:00:00",
          "2019-07-21T00:00:00",
          "2019-07-28T00:00:00",
          "2019-08-04T00:00:00",
          "2019-08-11T00:00:00",
          "2019-08-18T00:00:00",
          "2019-08-25T00:00:00",
          "2019-09-01T00:00:00",
          "2019-09-08T00:00:00",
          "2019-09-15T00:00:00",
          "2019-09-22T00:00:00",
          "2019-09-29T00:00:00",
          "2019-10-06T00:00:00",
          "2019-10-13T00:00:00",
          "2019-10-20T00:00:00",
          "2019-10-27T00:00:00",
          "2019-11-03T00:00:00",
          "2019-11-10T00:00:00",
          "2019-11-17T00:00:00",
          "2019-11-24T00:00:00",
          "2019-12-01T00:00:00",
          "2019-12-08T00:00:00",
          "2019-12-15T00:00:00",
          "2019-12-22T00:00:00",
          "2019-12-29T00:00:00",
          "2020-01-05T00:00:00",
          "2020-01-12T00:00:00",
          "2020-01-19T00:00:00",
          "2020-01-26T00:00:00",
          "2020-02-02T00:00:00",
          "2020-02-09T00:00:00",
          "2020-02-16T00:00:00",
          "2020-02-23T00:00:00",
          "2020-03-01T00:00:00",
          "2020-03-08T00:00:00",
          "2020-03-15T00:00:00",
          "2020-03-22T00:00:00",
          "2020-03-29T00:00:00",
          "2020-04-05T00:00:00",
          "2020-04-12T00:00:00",
          "2020-04-19T00:00:00",
          "2020-04-26T00:00:00",
          "2020-05-03T00:00:00",
          "2020-05-10T00:00:00",
          "2020-05-17T00:00:00",
          "2020-05-24T00:00:00",
          "2020-05-31T00:00:00",
          "2020-06-07T00:00:00",
          "2020-06-14T00:00:00",
          "2020-06-21T00:00:00",
          "2020-06-28T00:00:00",
          "2020-07-05T00:00:00",
          "2020-07-12T00:00:00",
          "2020-07-19T00:00:00",
          "2020-07-26T00:00:00",
          "2020-08-02T00:00:00",
          "2020-08-09T00:00:00",
          "2020-08-16T00:00:00",
          "2020-08-23T00:00:00",
          "2020-08-30T00:00:00",
          "2020-09-06T00:00:00",
          "2020-09-13T00:00:00",
          "2020-09-20T00:00:00",
          "2020-09-27T00:00:00",
          "2020-10-04T00:00:00",
          "2020-10-11T00:00:00",
          "2020-10-18T00:00:00",
          "2020-10-25T00:00:00",
          "2020-11-01T00:00:00",
          "2020-11-08T00:00:00",
          "2020-11-15T00:00:00",
          "2020-11-22T00:00:00",
          "2020-11-29T00:00:00",
          "2020-12-06T00:00:00",
          "2020-12-13T00:00:00",
          "2020-12-20T00:00:00",
          "2020-12-27T00:00:00",
          "2021-01-03T00:00:00",
          "2021-01-10T00:00:00",
          "2021-01-17T00:00:00",
          "2021-01-24T00:00:00",
          "2021-01-31T00:00:00",
          "2021-02-07T00:00:00",
          "2021-02-14T00:00:00",
          "2021-02-21T00:00:00",
          "2021-02-28T00:00:00",
          "2021-03-07T00:00:00",
          "2021-03-14T00:00:00",
          "2021-03-21T00:00:00",
          "2021-03-28T00:00:00"
         ],
         "xaxis": "x",
         "y": [
          981.6376879920928,
          915.2058142519436,
          817.0549635712492,
          921.0022294154238,
          916.4743844403482,
          1018.327562124935,
          1002.9858857063558,
          1052.5456970824382,
          1165.8244162493393,
          1258.6520904332842,
          1198.4495991848353,
          1009.8453678806043,
          965.6647718384512,
          1080.593671156791,
          1195.2263193941758,
          1168.5849291604588,
          1235.959071154503,
          1331.428636861853,
          1541.9670501659964,
          1781.992960291066,
          2022.2277678510666,
          2188.8339780159095,
          2524.769903107526,
          2907.1849046281804,
          2564.159564217592,
          2557.9534132747376,
          2445.2220216764304,
          2538.7765526156186,
          1938.9989240757789,
          2766.018589895212,
          2674.9081195927315,
          3236.1315535456533,
          4022.9411932688417,
          4059.5180476308906,
          4340.433891081189,
          4575.300758474094,
          4178.9680422029805,
          3634.043061056025,
          3694.9808246963107,
          4290.272278589144,
          4497.856967223395,
          5608.239015452093,
          5909.253738347273,
          5890.56903730675,
          7458.414757038099,
          6113.264264574333,
          7827.131551353381,
          8971.770344226623,
          11291.622579057115,
          14132.601710642339,
          19186.169610256275,
          13652.628406286824,
          13337.513232213194,
          16516.38596170831,
          13678.34344394982,
          11894.038151210543,
          11673.754262195793,
          8718.772985557165,
          8187.7584321186805,
          10737.516565552482,
          9594.672009343749,
          11241.467414556733,
          9059.7413486486,
          7678.897274336678,
          8535.27998779133,
          6796.601292610656,
          6988.220222870914,
          8215.062462895481,
          8888.486728819395,
          9355.907476675324,
          9615.743948307036,
          8550.046166780056,
          8362.053475615578,
          7316.551009348536,
          7690.58057537641,
          7132.902355224252,
          6508.827389822967,
          6023.8896670909435,
          6349.980904651709,
          6738.8721180935745,
          6318.013231735982,
          7447.723313695186,
          8202.498761161012,
          6995.192839452979,
          6305.226968673242,
          6401.7003608656405,
          6670.069420563303,
          7240.745144965029,
          6295.955871608836,
          6481.711958450328,
          6707.643346377803,
          6578.164624514121,
          6533.448685133508,
          6226.1260207690675,
          6434.035994542509,
          6402.290679530039,
          6369.730653024255,
          6337.526091595159,
          5534.734346708526,
          3756.9321726632147,
          4120.589503435377,
          3471.6984966057476,
          3217.320694474901,
          3978.056280943766,
          3787.8872244049644,
          3885.3312363064815,
          3575.310055370954,
          3600.5671484172353,
          3544.653609846713,
          3424.824032234868,
          3607.855117072525,
          3585.2871700518717,
          3985.1708804270693,
          3800.987502450217,
          3892.6368754301884,
          3963.4112159366673,
          3968.46245122984,
          4088.4294700084174,
          5128.484710430335,
          5078.929244976857,
          5287.273093444004,
          5169.575513691476,
          5722.166836310573,
          7154.9551372121105,
          7933.9268158052155,
          8128.546958223451,
          8670.265812880712,
          7798.498155120784,
          9095.289101530452,
          10746.900511013211,
          11542.5519109653,
          11311.47674802796,
          10857.026633891062,
          10577.614454422597,
          9484.914105643693,
          10820.892324169692,
          11378.232876254126,
          10292.527044551465,
          10100.656939299763,
          9626.724277129402,
          10460.721158303631,
          10316.665172788826,
          9978.878329965732,
          8073.95375222317,
          7980.2613741350415,
          8358.546977063057,
          8020.297620718581,
          9413.283675192675,
          9217.614908547763,
          8896.594757823774,
          8514.029198381439,
          7146.012933634438,
          7353.310525060708,
          7495.626457542383,
          7089.723106689306,
          7228.238391081989,
          7345.635970926209,
          7430.027209611784,
          8111.715362809299,
          8847.166821810986,
          8430.129199500645,
          9377.036114146784,
          10080.72238297771,
          9905.53388478716,
          9870.245958296517,
          8557.198634572247,
          8569.848185239654,
          5300.8230481772,
          6132.192548689882,
          6104.824055534396,
          6796.675729856801,
          6954.061312250376,
          7166.968470350743,
          7603.793608820947,
          8979.892588601406,
          8687.485435756498,
          9626.880262499786,
          9119.084263966222,
          9546.667359008288,
          9618.2132603281,
          9403.238615212738,
          9348.204026697782,
          9056.25733932299,
          9062.05921703053,
          9249.438246949527,
          9154.807427888656,
          9834.34345093738,
          11333.746837542161,
          11672.131345720929,
          11850.765200290209,
          11623.091878436793,
          11609.048559349349,
          10201.799719070545,
          10393.662602084078,
          10915.45825408122,
          10717.587523472932,
          10604.973839338634,
          11360.626362271318,
          11424.963448037344,
          13056.228187102959,
          13769.800513425602,
          15202.594518399836,
          15995.998189848071,
          18432.242585682645,
          17991.419820260784,
          19145.148466569415,
          19113.047104531674,
          23594.411731075204,
          27043.386470000005,
          33467.36252562915,
          39727.27752555421,
          35650.76418554722,
          32225.07011977885,
          33450.93785876327,
          38711.77455524941,
          48600.49151849026,
          57040.825943830474,
          44818.44755210362,
          50218.21680438112,
          60455.84483148646,
          57312.59853645818,
          55832.958823907036
         ],
         "yaxis": "y"
        },
        {
         "mode": "lines",
         "name": "trend",
         "opacity": 0.8,
         "showlegend": false,
         "type": "scatter",
         "x": [
          "2017-01-01T00:00:00",
          "2017-01-08T00:00:00",
          "2017-01-15T00:00:00",
          "2017-01-22T00:00:00",
          "2017-01-29T00:00:00",
          "2017-02-05T00:00:00",
          "2017-02-12T00:00:00",
          "2017-02-19T00:00:00",
          "2017-02-26T00:00:00",
          "2017-03-05T00:00:00",
          "2017-03-12T00:00:00",
          "2017-03-19T00:00:00",
          "2017-03-26T00:00:00",
          "2017-04-02T00:00:00",
          "2017-04-09T00:00:00",
          "2017-04-16T00:00:00",
          "2017-04-23T00:00:00",
          "2017-04-30T00:00:00",
          "2017-05-07T00:00:00",
          "2017-05-14T00:00:00",
          "2017-05-21T00:00:00",
          "2017-05-28T00:00:00",
          "2017-06-04T00:00:00",
          "2017-06-11T00:00:00",
          "2017-06-18T00:00:00",
          "2017-06-25T00:00:00",
          "2017-07-02T00:00:00",
          "2017-07-09T00:00:00",
          "2017-07-16T00:00:00",
          "2017-07-23T00:00:00",
          "2017-07-30T00:00:00",
          "2017-08-06T00:00:00",
          "2017-08-13T00:00:00",
          "2017-08-20T00:00:00",
          "2017-08-27T00:00:00",
          "2017-09-03T00:00:00",
          "2017-09-10T00:00:00",
          "2017-09-17T00:00:00",
          "2017-09-24T00:00:00",
          "2017-10-01T00:00:00",
          "2017-10-08T00:00:00",
          "2017-10-15T00:00:00",
          "2017-10-22T00:00:00",
          "2017-10-29T00:00:00",
          "2017-11-05T00:00:00",
          "2017-11-12T00:00:00",
          "2017-11-19T00:00:00",
          "2017-11-26T00:00:00",
          "2017-12-03T00:00:00",
          "2017-12-10T00:00:00",
          "2017-12-17T00:00:00",
          "2017-12-24T00:00:00",
          "2017-12-31T00:00:00",
          "2018-01-07T00:00:00",
          "2018-01-14T00:00:00",
          "2018-01-21T00:00:00",
          "2018-01-28T00:00:00",
          "2018-02-04T00:00:00",
          "2018-02-11T00:00:00",
          "2018-02-18T00:00:00",
          "2018-02-25T00:00:00",
          "2018-03-04T00:00:00",
          "2018-03-11T00:00:00",
          "2018-03-18T00:00:00",
          "2018-03-25T00:00:00",
          "2018-04-01T00:00:00",
          "2018-04-08T00:00:00",
          "2018-04-15T00:00:00",
          "2018-04-22T00:00:00",
          "2018-04-29T00:00:00",
          "2018-05-06T00:00:00",
          "2018-05-13T00:00:00",
          "2018-05-20T00:00:00",
          "2018-05-27T00:00:00",
          "2018-06-03T00:00:00",
          "2018-06-10T00:00:00",
          "2018-06-17T00:00:00",
          "2018-06-24T00:00:00",
          "2018-07-01T00:00:00",
          "2018-07-08T00:00:00",
          "2018-07-15T00:00:00",
          "2018-07-22T00:00:00",
          "2018-07-29T00:00:00",
          "2018-08-05T00:00:00",
          "2018-08-12T00:00:00",
          "2018-08-19T00:00:00",
          "2018-08-26T00:00:00",
          "2018-09-02T00:00:00",
          "2018-09-09T00:00:00",
          "2018-09-16T00:00:00",
          "2018-09-23T00:00:00",
          "2018-09-30T00:00:00",
          "2018-10-07T00:00:00",
          "2018-10-14T00:00:00",
          "2018-10-21T00:00:00",
          "2018-10-28T00:00:00",
          "2018-11-04T00:00:00",
          "2018-11-11T00:00:00",
          "2018-11-18T00:00:00",
          "2018-11-25T00:00:00",
          "2018-12-02T00:00:00",
          "2018-12-09T00:00:00",
          "2018-12-16T00:00:00",
          "2018-12-23T00:00:00",
          "2018-12-30T00:00:00",
          "2019-01-06T00:00:00",
          "2019-01-13T00:00:00",
          "2019-01-20T00:00:00",
          "2019-01-27T00:00:00",
          "2019-02-03T00:00:00",
          "2019-02-10T00:00:00",
          "2019-02-17T00:00:00",
          "2019-02-24T00:00:00",
          "2019-03-03T00:00:00",
          "2019-03-10T00:00:00",
          "2019-03-17T00:00:00",
          "2019-03-24T00:00:00",
          "2019-03-31T00:00:00",
          "2019-04-07T00:00:00",
          "2019-04-14T00:00:00",
          "2019-04-21T00:00:00",
          "2019-04-28T00:00:00",
          "2019-05-05T00:00:00",
          "2019-05-12T00:00:00",
          "2019-05-19T00:00:00",
          "2019-05-26T00:00:00",
          "2019-06-02T00:00:00",
          "2019-06-09T00:00:00",
          "2019-06-16T00:00:00",
          "2019-06-23T00:00:00",
          "2019-06-30T00:00:00",
          "2019-07-07T00:00:00",
          "2019-07-14T00:00:00",
          "2019-07-21T00:00:00",
          "2019-07-28T00:00:00",
          "2019-08-04T00:00:00",
          "2019-08-11T00:00:00",
          "2019-08-18T00:00:00",
          "2019-08-25T00:00:00",
          "2019-09-01T00:00:00",
          "2019-09-08T00:00:00",
          "2019-09-15T00:00:00",
          "2019-09-22T00:00:00",
          "2019-09-29T00:00:00",
          "2019-10-06T00:00:00",
          "2019-10-13T00:00:00",
          "2019-10-20T00:00:00",
          "2019-10-27T00:00:00",
          "2019-11-03T00:00:00",
          "2019-11-10T00:00:00",
          "2019-11-17T00:00:00",
          "2019-11-24T00:00:00",
          "2019-12-01T00:00:00",
          "2019-12-08T00:00:00",
          "2019-12-15T00:00:00",
          "2019-12-22T00:00:00",
          "2019-12-29T00:00:00",
          "2020-01-05T00:00:00",
          "2020-01-12T00:00:00",
          "2020-01-19T00:00:00",
          "2020-01-26T00:00:00",
          "2020-02-02T00:00:00",
          "2020-02-09T00:00:00",
          "2020-02-16T00:00:00",
          "2020-02-23T00:00:00",
          "2020-03-01T00:00:00",
          "2020-03-08T00:00:00",
          "2020-03-15T00:00:00",
          "2020-03-22T00:00:00",
          "2020-03-29T00:00:00",
          "2020-04-05T00:00:00",
          "2020-04-12T00:00:00",
          "2020-04-19T00:00:00",
          "2020-04-26T00:00:00",
          "2020-05-03T00:00:00",
          "2020-05-10T00:00:00",
          "2020-05-17T00:00:00",
          "2020-05-24T00:00:00",
          "2020-05-31T00:00:00",
          "2020-06-07T00:00:00",
          "2020-06-14T00:00:00",
          "2020-06-21T00:00:00",
          "2020-06-28T00:00:00",
          "2020-07-05T00:00:00",
          "2020-07-12T00:00:00",
          "2020-07-19T00:00:00",
          "2020-07-26T00:00:00",
          "2020-08-02T00:00:00",
          "2020-08-09T00:00:00",
          "2020-08-16T00:00:00",
          "2020-08-23T00:00:00",
          "2020-08-30T00:00:00",
          "2020-09-06T00:00:00",
          "2020-09-13T00:00:00",
          "2020-09-20T00:00:00",
          "2020-09-27T00:00:00",
          "2020-10-04T00:00:00",
          "2020-10-11T00:00:00",
          "2020-10-18T00:00:00",
          "2020-10-25T00:00:00",
          "2020-11-01T00:00:00",
          "2020-11-08T00:00:00",
          "2020-11-15T00:00:00",
          "2020-11-22T00:00:00",
          "2020-11-29T00:00:00",
          "2020-12-06T00:00:00",
          "2020-12-13T00:00:00",
          "2020-12-20T00:00:00",
          "2020-12-27T00:00:00",
          "2021-01-03T00:00:00",
          "2021-01-10T00:00:00",
          "2021-01-17T00:00:00",
          "2021-01-24T00:00:00",
          "2021-01-31T00:00:00",
          "2021-02-07T00:00:00",
          "2021-02-14T00:00:00",
          "2021-02-21T00:00:00",
          "2021-02-28T00:00:00",
          "2021-03-07T00:00:00",
          "2021-03-14T00:00:00",
          "2021-03-21T00:00:00",
          "2021-03-28T00:00:00"
         ],
         "xaxis": "x2",
         "y": [
          0,
          43.84323699555422,
          87.68647399110844,
          131.52971098718248,
          175.3729479827367,
          219.21618497829093,
          263.05942197384513,
          306.9026589699192,
          350.7458959654734,
          394.5891329610276,
          438.43236995658185,
          482.27560695265583,
          526.11884394821,
          569.9620809437644,
          613.8053179393186,
          657.6485549348728,
          701.4917919309468,
          745.335028926501,
          789.1782659220552,
          833.0215029176095,
          876.8647399136835,
          920.7079769092377,
          964.5512139047919,
          1008.3944509003461,
          1052.2376878959003,
          1096.0809248919743,
          1139.9241618875287,
          1183.767398883083,
          1227.6106358786371,
          1271.4538728747111,
          1315.2971098702653,
          1359.1403468658195,
          1402.9835838613737,
          1446.8268208574477,
          1490.670057853002,
          1534.5132948485561,
          1578.3565318441103,
          1622.1997688396648,
          1666.0430058357388,
          1709.886242831293,
          1753.7294798268472,
          1797.5727168224014,
          1841.4159538184754,
          1885.2591908140296,
          1929.1024278095838,
          1972.945664805138,
          2016.7889018006922,
          2060.6321387967664,
          2104.4753757923204,
          2148.318612787875,
          2192.161849783429,
          2236.005086779503,
          2279.8483237750575,
          2323.6915607706114,
          2367.534797766166,
          2411.3780347622396,
          2455.221271757794,
          2499.064508753348,
          2542.9077457489025,
          2586.7509827444565,
          2630.5942197405307,
          2674.4374567360846,
          2718.280693731639,
          2762.1239307271935,
          2805.9671677232673,
          2849.8104047188217,
          2893.6536417143757,
          2937.49687870993,
          2981.340115705484,
          3025.1833527015583,
          3069.0265896971123,
          3112.8698266926667,
          3156.7130636882207,
          3200.556300684295,
          3244.3995376798493,
          3288.2427746754033,
          3332.0860116709578,
          3375.9292486670315,
          3419.772485662586,
          3463.61572265814,
          3507.4589596536944,
          3551.3021966492483,
          3595.1454336453226,
          3638.9886706408765,
          3682.831907636431,
          3726.6751446319854,
          3770.518381628059,
          3814.3616186236136,
          3858.2048556191676,
          3902.048092614722,
          3945.891329610276,
          3989.73456660635,
          4033.577803601904,
          4077.4210405974586,
          4121.264277593013,
          4165.107514589087,
          4208.950751584641,
          4252.793988580195,
          4296.63722557575,
          4340.480462571823,
          4384.323699567378,
          4428.166936562932,
          4472.010173558486,
          4515.85341055404,
          4559.696647550115,
          4603.539884545668,
          4647.383121541223,
          4691.226358536777,
          4735.069595532851,
          4778.9128325284055,
          4822.75606952396,
          4866.599306519513,
          4910.442543515068,
          4954.285780511142,
          4998.129017506696,
          5041.9722545022505,
          5085.815491497805,
          5129.658728493879,
          5173.501965489433,
          5217.345202484988,
          5261.188439480541,
          5305.031676476616,
          5348.874913472169,
          5392.718150467724,
          5436.561387463278,
          5480.404624458833,
          5524.247861454906,
          5568.091098450461,
          5611.934335446015,
          5655.777572441569,
          5699.620809437643,
          5743.464046433197,
          5787.307283428751,
          5831.150520424306,
          5874.99375741986,
          5918.836994415934,
          5962.680231411488,
          6006.523468407043,
          6050.366705402596,
          6094.209942398671,
          6138.053179394225,
          6181.896416389779,
          6225.739653385333,
          6269.582890381407,
          6313.426127376962,
          6357.269364372516,
          6401.11260136807,
          6444.955838363624,
          6488.799075359699,
          6532.642312355252,
          6576.485549350807,
          6620.328786346361,
          6664.172023342435,
          6708.015260337989,
          6751.858497333544,
          6795.701734329097,
          6839.544971324652,
          6883.319756740786,
          6927.043203471446,
          6970.766650202106,
          7014.4900969327655,
          7058.213543663425,
          7101.936990394085,
          7145.660437124745,
          7189.383883855405,
          7233.107330586065,
          7276.830777316724,
          7320.554224047384,
          7364.277670778044,
          7408.001117508704,
          7451.724564238843,
          7495.448010969503,
          7539.171457700163,
          7582.894904430823,
          7626.618351161483,
          7670.3417978921425,
          7714.065244622802,
          7757.788691353462,
          7801.512138084122,
          7845.235584814781,
          7888.959031545441,
          7932.6824782761005,
          7976.40592500676,
          8020.12937173742,
          8063.85281846808,
          8107.57626519874,
          8151.2997119294,
          8195.02315866006,
          8238.74660539072,
          8282.470052121378,
          8326.193498852039,
          8369.916945582698,
          8413.640392313358,
          8457.363839044017,
          8501.087285774678,
          8544.810732505337,
          8588.534179235998,
          8632.257625966657,
          8675.981072697317,
          8719.704519427976,
          8763.427966158637,
          8807.151412889296,
          8850.874859619957,
          8894.598306350616,
          8938.321753081276,
          8982.045199811935,
          9025.768646542594,
          9069.492093273255,
          9113.215540003914,
          9156.973212524545,
          9200.816449520618,
          9244.659686516172,
          9288.502923511727,
          9332.34616050728,
          9376.189397502834,
          9420.03263449891,
          9463.875871494463,
          9507.719108490017,
          9551.562345485572,
          9595.405582481646,
          9639.2488194772,
          9683.092056472755
         ],
         "yaxis": "y2"
        },
        {
         "mode": "lines",
         "name": "MONTHLY_SEASONALITY",
         "opacity": 0.8,
         "showlegend": false,
         "type": "scatter",
         "x": [
          0,
          0.03225806451612903,
          0.03333333333333333,
          0.034482758620689655,
          0.06451612903225806,
          0.06666666666666667,
          0.07142857142857142,
          0.0967741935483871,
          0.1,
          0.10714285714285714,
          0.12903225806451613,
          0.13333333333333333,
          0.14285714285714285,
          0.16129032258064516,
          0.16666666666666666,
          0.1935483870967742,
          0.2,
          0.21428571428571427,
          0.22580645161290322,
          0.23333333333333334,
          0.25806451612903225,
          0.26666666666666666,
          0.27586206896551724,
          0.2903225806451613,
          0.3,
          0.32142857142857145,
          0.3225806451612903,
          0.3333333333333333,
          0.3548387096774194,
          0.35714285714285715,
          0.36666666666666664,
          0.3870967741935484,
          0.39285714285714285,
          0.4,
          0.41935483870967744,
          0.43333333333333335,
          0.45161290322580644,
          0.4642857142857143,
          0.4666666666666667,
          0.4838709677419355,
          0.5,
          0.5161290322580645,
          0.5172413793103449,
          0.5333333333333333,
          0.5483870967741935,
          0.5666666666666667,
          0.5714285714285714,
          0.5806451612903226,
          0.6,
          0.6071428571428571,
          0.6129032258064516,
          0.6333333333333333,
          0.6428571428571429,
          0.6451612903225806,
          0.6666666666666666,
          0.6774193548387096,
          0.7,
          0.7096774193548387,
          0.7142857142857143,
          0.7333333333333333,
          0.7419354838709677,
          0.7586206896551724,
          0.7666666666666667,
          0.7741935483870968,
          0.8,
          0.8064516129032258,
          0.8214285714285714,
          0.8333333333333334,
          0.8387096774193549,
          0.8571428571428571,
          0.8666666666666667,
          0.8709677419354839,
          0.8928571428571429,
          0.9,
          0.9032258064516129,
          0.9333333333333333,
          0.9354838709677419,
          0.9642857142857143,
          0.9666666666666667,
          0.967741935483871
         ],
         "xaxis": "x3",
         "y": [
          -67.56400815827338,
          -78.9338967852787,
          -79.18817210385413,
          -79.45074430054493,
          -82.88602744367641,
          -82.87878194699562,
          -82.74406986872768,
          -79.36947461221166,
          -78.63455594893249,
          -76.77881632726461,
          -69.29962721711051,
          -67.54669660788478,
          -63.38170550583995,
          -54.39567723579491,
          -51.594594480652404,
          -36.89840263951814,
          -33.30085518071158,
          -25.404695557548816,
          -19.21413351620316,
          -15.305417325617555,
          -3.5423157212266254,
          0.06804982249011715,
          3.6076107117090785,
          8.453682055541066,
          11.179494634259582,
          15.696526023000505,
          15.880278558089612,
          17.31156443953659,
          18.715496363468446,
          18.759051573222443,
          18.741025367455443,
          17.764142773761375,
          17.29907311768934,
          16.63247117438317,
          14.47560041433567,
          12.775253693593854,
          10.655880007190252,
          9.414205137845176,
          9.211818638929376,
          8.122777913740421,
          7.824432332933128,
          8.362165670671867,
          8.432573484701276,
          9.954385413872231,
          12.243130713579554,
          16.12193508027645,
          17.319501070586206,
          19.83994182176431,
          25.897514195646387,
          28.34867686569468,
          30.39121760978623,
          37.948173588158525,
          41.5381784578876,
          42.40409503282091,
          50.252443718736764,
          53.88730148683895,
          60.44714673639868,
          62.67571742941465,
          63.59083165364288,
          66.24631077261246,
          66.79374895322806,
          66.58662096816838,
          65.85930225533862,
          64.7981039787282,
          58.334877968955404,
          56.043489656841835,
          49.72804277514098,
          43.77016214771926,
          40.82686523128445,
          29.67108788834747,
          23.346469766839302,
          20.385245500293973,
          4.544453930263029,
          -0.8165177546588769,
          -3.2544697194630494,
          -25.96556401813653,
          -27.55136035485773,
          -47.60034123393921,
          -49.12766822241807,
          -49.80948776776546
         ],
         "yaxis": "y3"
        },
        {
         "mode": "lines",
         "name": "QUARTERLY_SEASONALITY",
         "opacity": 0.8,
         "showlegend": false,
         "type": "scatter",
         "x": [
          0,
          0.010869565217391304,
          0.01098901098901099,
          0.022222222222222223,
          0.03260869565217391,
          0.043478260869565216,
          0.04395604395604396,
          0.05434782608695652,
          0.05555555555555555,
          0.06521739130434782,
          0.06593406593406594,
          0.06666666666666667,
          0.07608695652173914,
          0.07692307692307693,
          0.07777777777777778,
          0.08695652173913043,
          0.08791208791208792,
          0.1,
          0.10869565217391304,
          0.11956521739130435,
          0.12087912087912088,
          0.13043478260869565,
          0.13333333333333333,
          0.14130434782608695,
          0.14285714285714285,
          0.14444444444444443,
          0.15217391304347827,
          0.15384615384615385,
          0.15555555555555556,
          0.16304347826086957,
          0.16483516483516483,
          0.17777777777777778,
          0.18478260869565216,
          0.1956521739130435,
          0.1978021978021978,
          0.20652173913043478,
          0.2111111111111111,
          0.21739130434782608,
          0.21978021978021978,
          0.2222222222222222,
          0.22826086956521738,
          0.23076923076923078,
          0.23333333333333334,
          0.2391304347826087,
          0.24175824175824176,
          0.25555555555555554,
          0.2608695652173913,
          0.2717391304347826,
          0.27472527472527475,
          0.2826086956521739,
          0.28888888888888886,
          0.29347826086956524,
          0.2967032967032967,
          0.3,
          0.30434782608695654,
          0.3076923076923077,
          0.3111111111111111,
          0.31521739130434784,
          0.31868131868131866,
          0.3333333333333333,
          0.33695652173913043,
          0.34782608695652173,
          0.3516483516483517,
          0.358695652173913,
          0.36666666666666664,
          0.3695652173913043,
          0.37362637362637363,
          0.37777777777777777,
          0.3804347826086957,
          0.38461538461538464,
          0.3888888888888889,
          0.391304347826087,
          0.3956043956043956,
          0.4111111111111111,
          0.41304347826086957,
          0.42391304347826086,
          0.42857142857142855,
          0.43478260869565216,
          0.4444444444444444,
          0.44565217391304346,
          0.45054945054945056,
          0.45555555555555555,
          0.45652173913043476,
          0.46153846153846156,
          0.4666666666666667,
          0.4673913043478261,
          0.4725274725274725,
          0.4888888888888889,
          0.4891304347826087,
          0.5,
          0.5054945054945055,
          0.5108695652173914,
          0.5217391304347826,
          0.5222222222222223,
          0.5274725274725275,
          0.532608695652174,
          0.5333333333333333,
          0.5384615384615384,
          0.5434782608695652,
          0.5444444444444444,
          0.5494505494505495,
          0.5652173913043478,
          0.5666666666666667,
          0.5760869565217391,
          0.5824175824175825,
          0.5869565217391305,
          0.5978260869565217,
          0.6,
          0.6043956043956044,
          0.6086956521739131,
          0.6111111111111112,
          0.6153846153846154,
          0.6195652173913043,
          0.6222222222222222,
          0.6263736263736264,
          0.6413043478260869,
          0.6444444444444445,
          0.6521739130434783,
          0.6593406593406593,
          0.6630434782608695,
          0.6739130434782609,
          0.6777777777777778,
          0.6813186813186813,
          0.6847826086956522,
          0.6888888888888889,
          0.6923076923076923,
          0.6956521739130435,
          0.7,
          0.7032967032967034,
          0.717391304347826,
          0.7222222222222222,
          0.7282608695652174,
          0.7362637362637363,
          0.7391304347826086,
          0.75,
          0.7555555555555555,
          0.7582417582417582,
          0.7608695652173914,
          0.7666666666666667,
          0.7692307692307693,
          0.7717391304347826,
          0.7777777777777778,
          0.7802197802197802,
          0.7934782608695652,
          0.8,
          0.8043478260869565,
          0.8131868131868132,
          0.8152173913043478,
          0.8260869565217391,
          0.8333333333333334,
          0.8351648351648352,
          0.8369565217391305,
          0.8444444444444444,
          0.8461538461538461,
          0.8478260869565217,
          0.8555555555555555,
          0.8571428571428571,
          0.8695652173913043,
          0.8777777777777778,
          0.8804347826086957,
          0.8901098901098901,
          0.8913043478260869,
          0.9021739130434783,
          0.9111111111111111,
          0.9120879120879121,
          0.9130434782608695,
          0.9222222222222223,
          0.9230769230769231,
          0.9239130434782609,
          0.9333333333333333,
          0.9340659340659341,
          0.9456521739130435,
          0.9555555555555556,
          0.9565217391304348,
          0.967032967032967,
          0.967391304347826,
          0.9782608695652174,
          0.9888888888888889,
          0.989010989010989,
          0.9891304347826086
         ],
         "xaxis": "x4",
         "y": [
          -69.74430203399257,
          -118.83678734370713,
          -119.33677017679955,
          -161.58427299299055,
          -191.0340349698896,
          -210.82724276856575,
          -211.43294132124873,
          -219.23722739189307,
          -219.49991331177284,
          -217.19843468738628,
          -216.73749152157953,
          -216.22818962139564,
          -206.58343691254368,
          -205.48243573507534,
          -204.3215522434458,
          -189.98865946035838,
          -188.34293714460077,
          -166.4613351593646,
          -151.09037357505989,
          -134.8252522722597,
          -133.18911526107405,
          -124.0138377236928,
          -122.27482386940574,
          -120.23847955812018,
          -120.32367087398615,
          -120.57484120367536,
          -124.14865543275643,
          -125.42431599874335,
          -126.90676390557604,
          -135.4150222868943,
          -137.9040967739849,
          -160.08522352951024,
          -174.28692358196454,
          -197.3958871382557,
          -201.92319692198856,
          -219.41079671417506,
          -227.7356439878385,
          -237.72990570227034,
          -241.03161323379317,
          -244.08941518633347,
          -250.15578174334107,
          -252.0071962124154,
          -253.47285800661325,
          -255.1404666867686,
          -255.1277481198471,
          -247.17955911911702,
          -240.74080828211345,
          -222.5100419724707,
          -216.48633303464808,
          -198.97746069201324,
          -183.8208564414504,
          -172.3633694421409,
          -164.23422435526172,
          -155.9350253857931,
          -145.11990870916475,
          -136.98743317796743,
          -128.9166031621051,
          -119.63746512940877,
          -112.23324287187704,
          -86.38010765960968,
          -81.55885652923195,
          -71.14328950638966,
          -68.90878676515388,
          -66.6091921707965,
          -66.52622933568031,
          -67.05194800779796,
          -68.19087339931583,
          -69.74336601030858,
          -70.88946926656487,
          -72.8439011554283,
          -74.91428530505785,
          -76.0643230038486,
          -77.98031783613249,
          -81.52549145444183,
          -81.40272769417405,
          -77.50839142074186,
          -73.97108972863356,
          -67.35257931493567,
          -52.63702807881453,
          -50.42455399459443,
          -40.64107684655708,
          -29.36593012098792,
          -27.051525731658167,
          -14.37961202225255,
          -0.4234082384577036,
          1.6188182935782187,
          16.499730409419218,
          66.1978212013808,
          66.92871791826825,
          98.59737142053706,
          113.19914957336354,
          126.17230286757794,
          147.41922849745356,
          148.18788108226275,
          155.488251371096,
          160.68957615561177,
          161.26435528854154,
          164.19004377893114,
          165.10952320644938,
          165.06730521629277,
          163.7354130008262,
          148.29486564306745,
          146.12356306215517,
          129.61989359327495,
          116.73258963968482,
          106.93833471180741,
          82.88916585792937,
          78.15586341106547,
          68.83788001878814,
          60.183521767111195,
          55.578724877354354,
          47.97575930389493,
          41.31319581759718,
          37.52595282519663,
          32.369582357656164,
          22.426494114583367,
          22.161041610113447,
          24.23924645998696,
          29.503428457141258,
          33.3911792020879,
          48.77230814134908,
          55.4294548506754,
          61.95248079970505,
          68.65179230928553,
          76.90066293693123,
          83.93912964351503,
          90.90149729854336,
          99.95683213365334,
          106.74645053423207,
          133.61319434153955,
          141.5436765371898,
          150.2343687262466,
          159.40134358396833,
          161.99408868627933,
          168.47592018142336,
          169.82843785305676,
          170.04724213809487,
          170.0078295473339,
          169.12527917600463,
          168.43010158547025,
          167.59773972839943,
          165.1054852105563,
          163.9555910644295,
          157.40733944699298,
          154.70773074621667,
          153.3664273873922,
          152.2321797407513,
          152.32990107721992,
          155.49724356540133,
          160.2401066791069,
          161.7747074810709,
          163.40394127850342,
          171.51410311346217,
          173.63923977816367,
          175.80741824324556,
          186.82158165244735,
          189.24996425375167,
          209.22672213750164,
          222.23066825645674,
          226.18084807154787,
          238.65401920732572,
          239.9254880964135,
          247.84760144224492,
          248.3510195754691,
          248.02595671223406,
          247.63125459695266,
          239.80757057644757,
          238.6949222458999,
          237.54161355003328,
          220.07197061194478,
          218.3683813029266,
          185.00038934716292,
          147.64301517082967,
          143.6151121181628,
          96.18875283051163,
          94.47197883350411,
          40.31817234411753,
          -14.342562292007337,
          -14.96756829049503,
          -15.578779151545913
         ],
         "yaxis": "y4"
        },
        {
         "mode": "lines",
         "name": "YEARLY_SEASONALITY",
         "opacity": 0.8,
         "showlegend": false,
         "type": "scatter",
         "x": [
          0,
          0.005479452054794521,
          0.010958904109589041,
          0.0136986301369863,
          0.01643835616438356,
          0.019178082191780823,
          0.024657534246575342,
          0.030136986301369864,
          0.03287671232876712,
          0.03561643835616438,
          0.038356164383561646,
          0.043835616438356165,
          0.049315068493150684,
          0.052054794520547946,
          0.0547945205479452,
          0.057534246575342465,
          0.06301369863013699,
          0.0684931506849315,
          0.07123287671232877,
          0.07397260273972603,
          0.07671232876712329,
          0.0821917808219178,
          0.08767123287671233,
          0.09041095890410959,
          0.09315068493150686,
          0.0958904109589041,
          0.10136986301369863,
          0.10684931506849316,
          0.1095890410958904,
          0.11232876712328767,
          0.11506849315068493,
          0.12054794520547946,
          0.12602739726027398,
          0.12876712328767123,
          0.13150684931506848,
          0.13424657534246576,
          0.13972602739726028,
          0.14520547945205478,
          0.14794520547945206,
          0.1506849315068493,
          0.15342465753424658,
          0.1589041095890411,
          0.16164383561643836,
          0.16712328767123288,
          0.16986301369863013,
          0.1726027397260274,
          0.1780821917808219,
          0.18082191780821918,
          0.1863013698630137,
          0.18904109589041096,
          0.1917808219178082,
          0.19726027397260273,
          0.2,
          0.2054794520547945,
          0.20821917808219179,
          0.21095890410958903,
          0.21643835616438356,
          0.2191780821917808,
          0.22465753424657534,
          0.2273972602739726,
          0.23013698630136986,
          0.2356164383561644,
          0.23835616438356164,
          0.24383561643835616,
          0.2465753424657534,
          0.2493150684931507,
          0.25753424657534246,
          0.26301369863013696,
          0.26575342465753427,
          0.2684931506849315,
          0.27671232876712326,
          0.2821917808219178,
          0.28493150684931506,
          0.2876712328767123,
          0.2958904109589041,
          0.3013698630136986,
          0.3041095890410959,
          0.30684931506849317,
          0.3150684931506849,
          0.32054794520547947,
          0.3232876712328767,
          0.32602739726027397,
          0.33424657534246577,
          0.33972602739726027,
          0.3424657534246575,
          0.3452054794520548,
          0.35342465753424657,
          0.3589041095890411,
          0.36164383561643837,
          0.3643835616438356,
          0.3726027397260274,
          0.3780821917808219,
          0.38082191780821917,
          0.3835616438356164,
          0.3917808219178082,
          0.3972602739726027,
          0.4,
          0.40273972602739727,
          0.410958904109589,
          0.41643835616438357,
          0.4191780821917808,
          0.42191780821917807,
          0.4301369863013699,
          0.43561643835616437,
          0.4383561643835616,
          0.4410958904109589,
          0.44931506849315067,
          0.4547945205479452,
          0.4575342465753425,
          0.4602739726027397,
          0.4684931506849315,
          0.473972602739726,
          0.4767123287671233,
          0.4794520547945205,
          0.4876712328767123,
          0.4931506849315068,
          0.4958904109589041,
          0.4986301369863014,
          0.5068493150684932,
          0.5123287671232877,
          0.5150684931506849,
          0.5178082191780822,
          0.5260273972602739,
          0.5315068493150685,
          0.5342465753424658,
          0.536986301369863,
          0.5452054794520548,
          0.5506849315068493,
          0.5534246575342465,
          0.5561643835616439,
          0.5643835616438356,
          0.5698630136986301,
          0.5726027397260274,
          0.5753424657534246,
          0.5835616438356165,
          0.589041095890411,
          0.5917808219178082,
          0.5945205479452055,
          0.6027397260273972,
          0.6082191780821918,
          0.6109589041095891,
          0.6136986301369863,
          0.6219178082191781,
          0.6273972602739726,
          0.6301369863013698,
          0.6328767123287671,
          0.6410958904109589,
          0.6465753424657534,
          0.6493150684931507,
          0.6520547945205479,
          0.6602739726027397,
          0.6657534246575343,
          0.6684931506849315,
          0.6712328767123288,
          0.6794520547945205,
          0.684931506849315,
          0.6876712328767123,
          0.6904109589041096,
          0.6986301369863014,
          0.7041095890410959,
          0.7068493150684931,
          0.7095890410958904,
          0.7178082191780822,
          0.7232876712328767,
          0.726027397260274,
          0.7287671232876712,
          0.736986301369863,
          0.7424657534246575,
          0.7452054794520548,
          0.7479452054794521,
          0.7561643835616438,
          0.7616438356164383,
          0.7643835616438356,
          0.7671232876712328,
          0.7753424657534247,
          0.7808219178082192,
          0.7835616438356164,
          0.7863013698630137,
          0.7945205479452054,
          0.8,
          0.8027397260273973,
          0.8054794520547945,
          0.8136986301369863,
          0.8191780821917808,
          0.821917808219178,
          0.8246575342465754,
          0.8328767123287671,
          0.8383561643835616,
          0.8410958904109589,
          0.8438356164383561,
          0.852054794520548,
          0.8575342465753425,
          0.8602739726027397,
          0.863013698630137,
          0.8712328767123287,
          0.8767123287671232,
          0.8794520547945206,
          0.8821917808219178,
          0.8904109589041096,
          0.8958904109589041,
          0.8986301369863013,
          0.9013698630136986,
          0.9095890410958904,
          0.915068493150685,
          0.9178082191780822,
          0.9205479452054794,
          0.9287671232876712,
          0.9342465753424658,
          0.936986301369863,
          0.9397260273972603,
          0.947945205479452,
          0.9534246575342465,
          0.9561643835616438,
          0.958904109589041,
          0.9671232876712329,
          0.9726027397260274,
          0.9753424657534246,
          0.9780821917808219,
          0.9863013698630136,
          0.9917808219178083,
          0.9945205479452055,
          0.9972602739726028
         ],
         "xaxis": "x5",
         "y": [
          680.4726281202663,
          783.668704698032,
          882.0889312362605,
          926.3507962563215,
          964.2445913105098,
          994.9401180286482,
          1030.6569633293684,
          1028.7714082479893,
          1013.025804706496,
          988.6769143777605,
          956.267838999269,
          872.0045710872594,
          774.1009718202115,
          719.2481500439368,
          667.7667516310892,
          618.650065252128,
          533.1200247128404,
          473.7935575901468,
          453.11457013325986,
          442.35838721491365,
          440.2392905892438,
          462.2495532128896,
          515.1033010409215,
          558.0396449086436,
          605.0113704431565,
          658.4546118367633,
          781.4908137715476,
          911.995971415368,
          991.4891044955822,
          1063.6104089791575,
          1134.6039572885866,
          1267.5917275435202,
          1373.0828072587854,
          1423.8801976739378,
          1459.5512669772563,
          1485.466840069253,
          1506.2097359344418,
          1488.7031698035419,
          1462.0571847085132,
          1430.6269246194172,
          1393.3422416577334,
          1309.3857256688625,
          1234.4017463321015,
          1194.811743297961,
          1168.8988833930337,
          1152.430946835975,
          1153.0376625485517,
          1195.1496471492358,
          1242.5282916426045,
          1292.7736790002637,
          1350.0174760189009,
          1473.9299448359109,
          1577.311866728695,
          1631.1288208324227,
          1661.2446974142194,
          1674.5835533041952,
          1640.5350812118375,
          1533.578744264773,
          1417.0827915177933,
          1296.8943596527408,
          1156.4524288923171,
          826.4651044869191,
          501.729467590125,
          266.8181152049286,
          80.56398425742074,
          -98.21311373395125,
          -639.4459537173575,
          -760.691395086816,
          -832.4283404858319,
          -882.7195281580022,
          -906.1007209304212,
          -869.8590420813823,
          -832.4334996851991,
          -790.3847491374225,
          -638.6562755341082,
          -599.7834303360363,
          -577.469226889173,
          -562.0347684719579,
          -555.4856569813685,
          -565.202316068852,
          -573.7120238551,
          -581.7398314325386,
          -591.1620704981211,
          -583.4224165253593,
          -573.7787768214313,
          -561.4045855372666,
          -506.1259245923846,
          -487.7143510192909,
          -476.82205924626544,
          -468.8535101049419,
          -467.2803107332634,
          -476.34310584275454,
          -484.9393173090146,
          -494.3403636817684,
          -522.5950194305262,
          -526.6816792231949,
          -526.4079849844688,
          -523.4528810520649,
          -496.19153117289795,
          -482.70939825619035,
          -474.0756925951299,
          -467.05843168748214,
          -463.5460231626888,
          -473.2538433528381,
          -483.46537865432055,
          -495.9131548616224,
          -546.5277214544363,
          -563.5651720225418,
          -571.9426706690961,
          -576.7871400040356,
          -560.5925144885618,
          -538.9684408249258,
          -520.37135271813,
          -499.5317720062093,
          -422.4858175682527,
          -395.1741768278578,
          -380.6837163682575,
          -369.93673148011175,
          -364.48057973264196,
          -376.09967089962095,
          -387.1305357553055,
          -399.9095650697943,
          -445.70303319822176,
          -460.40343615993226,
          -466.62659371580673,
          -469.7128580619003,
          -455.152592102788,
          -437.5061945042239,
          -423.5058272248351,
          -408.1353944215351,
          -352.90342397634123,
          -330.4490486338169,
          -317.96464874802894,
          -307.17921293314066,
          -283.80438593606993,
          -279.3933853052433,
          -278.2907492616841,
          -278.2590603968859,
          -283.8991236562495,
          -288.7087693723617,
          -292.2411206317038,
          -296.1596368169421,
          -312.13370145169176,
          -321.0990860482145,
          -326.8695894374964,
          -332.69386950295143,
          -350.7735990392415,
          -357.595730155685,
          -360.80854282974315,
          -363.26025636400146,
          -366.7570067323512,
          -367.2383851567711,
          -367.82468539032465,
          -369.02035069641664,
          -381.1755098009083,
          -393.9595317535692,
          -403.90927360839305,
          -415.50144675158776,
          -462.13528598710735,
          -487.71649560056244,
          -501.940038864676,
          -514.9270649361301,
          -543.7270949933654,
          -548.2012424648501,
          -547.3279982478726,
          -544.1159674315966,
          -521.7938991723429,
          -506.6490056546645,
          -498.2960789673142,
          -490.7631876387861,
          -475.37029181683545,
          -473.3768830581383,
          -473.78238863199147,
          -474.8425955018817,
          -476.8576055024259,
          -472.4329078635629,
          -466.9619718093773,
          -458.9757059511033,
          -415.6939484825805,
          -381.2980635658098,
          -360.08723100194885,
          -338.11146084435615,
          -269.91638147034195,
          -237.22129231056786,
          -222.22602423588907,
          -209.63241267566252,
          -185.29469886819663,
          -179.98681443447754,
          -178.80665462902832,
          -178.3177973858357,
          -177.3251958547393,
          -175.00704780348843,
          -173.02790914979914,
          -170.66099331878343,
          -163.05215672906937,
          -160.59970240975258,
          -160.46895294310346,
          -161.2262878670523,
          -167.59545216591266,
          -170.96773974652623,
          -171.01907043903807,
          -169.02671147325026,
          -143.28617740247716,
          -108.18711251667239,
          -83.3947662784032,
          -54.380531443748154,
          55.82300245121859,
          133.609704458213,
          173.6336910865044,
          212.08984066303057,
          310.53543509462014,
          352.9311808734139,
          368.07181689256186,
          379.1463402961264,
          395.6447005787812,
          403.11286027264373,
          409.53585621101183,
          419.2726156250444,
          477.5518871860375,
          543.9113605287328,
          585.3423675239303,
          631.2188991222217
         ],
         "yaxis": "y5"
        },
        {
         "mode": "lines",
         "name": "events",
         "opacity": 0.8,
         "showlegend": false,
         "type": "scatter",
         "x": [
          "2017-01-01T00:00:00",
          "2017-01-08T00:00:00",
          "2017-01-15T00:00:00",
          "2017-01-22T00:00:00",
          "2017-01-29T00:00:00",
          "2017-02-05T00:00:00",
          "2017-02-12T00:00:00",
          "2017-02-19T00:00:00",
          "2017-02-26T00:00:00",
          "2017-03-05T00:00:00",
          "2017-03-12T00:00:00",
          "2017-03-19T00:00:00",
          "2017-03-26T00:00:00",
          "2017-04-02T00:00:00",
          "2017-04-09T00:00:00",
          "2017-04-16T00:00:00",
          "2017-04-23T00:00:00",
          "2017-04-30T00:00:00",
          "2017-05-07T00:00:00",
          "2017-05-14T00:00:00",
          "2017-05-21T00:00:00",
          "2017-05-28T00:00:00",
          "2017-06-04T00:00:00",
          "2017-06-11T00:00:00",
          "2017-06-18T00:00:00",
          "2017-06-25T00:00:00",
          "2017-07-02T00:00:00",
          "2017-07-09T00:00:00",
          "2017-07-16T00:00:00",
          "2017-07-23T00:00:00",
          "2017-07-30T00:00:00",
          "2017-08-06T00:00:00",
          "2017-08-13T00:00:00",
          "2017-08-20T00:00:00",
          "2017-08-27T00:00:00",
          "2017-09-03T00:00:00",
          "2017-09-10T00:00:00",
          "2017-09-17T00:00:00",
          "2017-09-24T00:00:00",
          "2017-10-01T00:00:00",
          "2017-10-08T00:00:00",
          "2017-10-15T00:00:00",
          "2017-10-22T00:00:00",
          "2017-10-29T00:00:00",
          "2017-11-05T00:00:00",
          "2017-11-12T00:00:00",
          "2017-11-19T00:00:00",
          "2017-11-26T00:00:00",
          "2017-12-03T00:00:00",
          "2017-12-10T00:00:00",
          "2017-12-17T00:00:00",
          "2017-12-24T00:00:00",
          "2017-12-31T00:00:00",
          "2018-01-07T00:00:00",
          "2018-01-14T00:00:00",
          "2018-01-21T00:00:00",
          "2018-01-28T00:00:00",
          "2018-02-04T00:00:00",
          "2018-02-11T00:00:00",
          "2018-02-18T00:00:00",
          "2018-02-25T00:00:00",
          "2018-03-04T00:00:00",
          "2018-03-11T00:00:00",
          "2018-03-18T00:00:00",
          "2018-03-25T00:00:00",
          "2018-04-01T00:00:00",
          "2018-04-08T00:00:00",
          "2018-04-15T00:00:00",
          "2018-04-22T00:00:00",
          "2018-04-29T00:00:00",
          "2018-05-06T00:00:00",
          "2018-05-13T00:00:00",
          "2018-05-20T00:00:00",
          "2018-05-27T00:00:00",
          "2018-06-03T00:00:00",
          "2018-06-10T00:00:00",
          "2018-06-17T00:00:00",
          "2018-06-24T00:00:00",
          "2018-07-01T00:00:00",
          "2018-07-08T00:00:00",
          "2018-07-15T00:00:00",
          "2018-07-22T00:00:00",
          "2018-07-29T00:00:00",
          "2018-08-05T00:00:00",
          "2018-08-12T00:00:00",
          "2018-08-19T00:00:00",
          "2018-08-26T00:00:00",
          "2018-09-02T00:00:00",
          "2018-09-09T00:00:00",
          "2018-09-16T00:00:00",
          "2018-09-23T00:00:00",
          "2018-09-30T00:00:00",
          "2018-10-07T00:00:00",
          "2018-10-14T00:00:00",
          "2018-10-21T00:00:00",
          "2018-10-28T00:00:00",
          "2018-11-04T00:00:00",
          "2018-11-11T00:00:00",
          "2018-11-18T00:00:00",
          "2018-11-25T00:00:00",
          "2018-12-02T00:00:00",
          "2018-12-09T00:00:00",
          "2018-12-16T00:00:00",
          "2018-12-23T00:00:00",
          "2018-12-30T00:00:00",
          "2019-01-06T00:00:00",
          "2019-01-13T00:00:00",
          "2019-01-20T00:00:00",
          "2019-01-27T00:00:00",
          "2019-02-03T00:00:00",
          "2019-02-10T00:00:00",
          "2019-02-17T00:00:00",
          "2019-02-24T00:00:00",
          "2019-03-03T00:00:00",
          "2019-03-10T00:00:00",
          "2019-03-17T00:00:00",
          "2019-03-24T00:00:00",
          "2019-03-31T00:00:00",
          "2019-04-07T00:00:00",
          "2019-04-14T00:00:00",
          "2019-04-21T00:00:00",
          "2019-04-28T00:00:00",
          "2019-05-05T00:00:00",
          "2019-05-12T00:00:00",
          "2019-05-19T00:00:00",
          "2019-05-26T00:00:00",
          "2019-06-02T00:00:00",
          "2019-06-09T00:00:00",
          "2019-06-16T00:00:00",
          "2019-06-23T00:00:00",
          "2019-06-30T00:00:00",
          "2019-07-07T00:00:00",
          "2019-07-14T00:00:00",
          "2019-07-21T00:00:00",
          "2019-07-28T00:00:00",
          "2019-08-04T00:00:00",
          "2019-08-11T00:00:00",
          "2019-08-18T00:00:00",
          "2019-08-25T00:00:00",
          "2019-09-01T00:00:00",
          "2019-09-08T00:00:00",
          "2019-09-15T00:00:00",
          "2019-09-22T00:00:00",
          "2019-09-29T00:00:00",
          "2019-10-06T00:00:00",
          "2019-10-13T00:00:00",
          "2019-10-20T00:00:00",
          "2019-10-27T00:00:00",
          "2019-11-03T00:00:00",
          "2019-11-10T00:00:00",
          "2019-11-17T00:00:00",
          "2019-11-24T00:00:00",
          "2019-12-01T00:00:00",
          "2019-12-08T00:00:00",
          "2019-12-15T00:00:00",
          "2019-12-22T00:00:00",
          "2019-12-29T00:00:00",
          "2020-01-05T00:00:00",
          "2020-01-12T00:00:00",
          "2020-01-19T00:00:00",
          "2020-01-26T00:00:00",
          "2020-02-02T00:00:00",
          "2020-02-09T00:00:00",
          "2020-02-16T00:00:00",
          "2020-02-23T00:00:00",
          "2020-03-01T00:00:00",
          "2020-03-08T00:00:00",
          "2020-03-15T00:00:00",
          "2020-03-22T00:00:00",
          "2020-03-29T00:00:00",
          "2020-04-05T00:00:00",
          "2020-04-12T00:00:00",
          "2020-04-19T00:00:00",
          "2020-04-26T00:00:00",
          "2020-05-03T00:00:00",
          "2020-05-10T00:00:00",
          "2020-05-17T00:00:00",
          "2020-05-24T00:00:00",
          "2020-05-31T00:00:00",
          "2020-06-07T00:00:00",
          "2020-06-14T00:00:00",
          "2020-06-21T00:00:00",
          "2020-06-28T00:00:00",
          "2020-07-05T00:00:00",
          "2020-07-12T00:00:00",
          "2020-07-19T00:00:00",
          "2020-07-26T00:00:00",
          "2020-08-02T00:00:00",
          "2020-08-09T00:00:00",
          "2020-08-16T00:00:00",
          "2020-08-23T00:00:00",
          "2020-08-30T00:00:00",
          "2020-09-06T00:00:00",
          "2020-09-13T00:00:00",
          "2020-09-20T00:00:00",
          "2020-09-27T00:00:00",
          "2020-10-04T00:00:00",
          "2020-10-11T00:00:00",
          "2020-10-18T00:00:00",
          "2020-10-25T00:00:00",
          "2020-11-01T00:00:00",
          "2020-11-08T00:00:00",
          "2020-11-15T00:00:00",
          "2020-11-22T00:00:00",
          "2020-11-29T00:00:00",
          "2020-12-06T00:00:00",
          "2020-12-13T00:00:00",
          "2020-12-20T00:00:00",
          "2020-12-27T00:00:00",
          "2021-01-03T00:00:00",
          "2021-01-10T00:00:00",
          "2021-01-17T00:00:00",
          "2021-01-24T00:00:00",
          "2021-01-31T00:00:00",
          "2021-02-07T00:00:00",
          "2021-02-14T00:00:00",
          "2021-02-21T00:00:00",
          "2021-02-28T00:00:00",
          "2021-03-07T00:00:00",
          "2021-03-14T00:00:00",
          "2021-03-21T00:00:00",
          "2021-03-28T00:00:00"
         ],
         "xaxis": "x6",
         "y": [
          -157.8433062021457,
          0,
          -38.18240137714949,
          0,
          117.58681757291117,
          0,
          0,
          -47.68887108786499,
          0,
          0,
          -47.68887108786499,
          -3.955815912946635,
          0,
          -49.21160044628796,
          -45.89797698058625,
          -125.07223107997847,
          0,
          -71.81584572541695,
          -47.68887108786499,
          0,
          0,
          -117.28578995433668,
          -93.58684806845125,
          0,
          0,
          -96.90047153415296,
          -12.479969332611745,
          0,
          -3.955815912946635,
          0,
          0,
          -47.68887108786499,
          -61.691569778899705,
          0,
          -47.68887108786499,
          -63.83210537312443,
          -3.955815912946635,
          0,
          0,
          -142.79844851473922,
          -47.68887108786499,
          0,
          0,
          0,
          0,
          4.338632444301851,
          0,
          0,
          -3.955815912946635,
          0,
          0,
          -80.98349503664453,
          -72.00841951135236,
          0,
          -93.58684806845125,
          0,
          -3.955815912946635,
          0,
          0,
          183.11787083612919,
          0,
          -3.955815912946635,
          0,
          -38.18240137714949,
          -45.89797698058625,
          -125.07223107997847,
          0,
          0,
          0,
          -42.998697379123776,
          -96.90047153415296,
          0,
          -93.58684806845125,
          -68.07418950804872,
          0,
          0,
          -42.13821729009612,
          0,
          0,
          0,
          9.5064697107155,
          0,
          0,
          -47.68887108786499,
          0,
          0,
          -47.68887108786499,
          -24.126974637551967,
          9.5064697107155,
          0,
          -51.64468700081162,
          -96.90047153415296,
          -47.68887108786499,
          0,
          0,
          0,
          -3.955815912946635,
          -99.90963073975225,
          0,
          0,
          -3.955815912946635,
          0,
          0,
          -65.05270273396403,
          -111.1259524194947,
          0,
          -47.68887108786499,
          -47.68887108786499,
          9.5064697107155,
          -17.309242330624308,
          0,
          -47.68887108786499,
          0,
          0,
          0,
          -93.58684806845125,
          0,
          0,
          -3.955815912946635,
          -45.89797698058625,
          -125.07223107997847,
          0,
          -47.68887108786499,
          0,
          0,
          -68.07418950804872,
          0,
          -97.54266398139788,
          0,
          0,
          0,
          0,
          -49.853792893532884,
          0,
          0,
          -47.68887108786499,
          -47.68887108786499,
          0,
          -47.68887108786499,
          -24.126974637551967,
          -95.10957742687421,
          -3.955815912946635,
          0,
          -49.21160044628796,
          0,
          -47.68887108786499,
          0,
          -45.89797698058625,
          5.550653797768865,
          -99.10363140147106,
          0,
          0,
          9.5064697107155,
          0,
          0,
          0,
          -47.68887108786499,
          0,
          -49.21160044628796,
          -47.68887108786499,
          71.68884059232491,
          0,
          0,
          -47.68887108786499,
          0,
          0,
          -47.68887108786499,
          -49.21160044628796,
          0,
          0,
          -36.39150726987075,
          -125.07223107997847,
          0,
          0,
          -11.031652215562227,
          -3.955815912946635,
          0,
          -113.97216648863497,
          -93.58684806845125,
          0,
          0,
          0,
          0,
          -14.756115594734615,
          -95.10957742687421,
          0,
          0,
          -47.68887108786499,
          0,
          -1.2938299710724799,
          0,
          -38.18240137714949,
          -63.83210537312443,
          0,
          0,
          0,
          5.550653797768865,
          -47.68887108786499,
          0,
          9.5064697107155,
          -93.58684806845125,
          0,
          9.5064697107155,
          0,
          -47.68887108786499,
          0,
          0,
          0,
          -9.031269450613522,
          8.305181963569225,
          0,
          -47.68887108786499,
          -49.21160044628796,
          0,
          0,
          183.11787083612919,
          0,
          0,
          0,
          0,
          0,
          -45.89797698058625
         ],
         "yaxis": "y6"
        }
       ],
       "layout": {
        "height": 2100,
        "showlegend": true,
        "template": {
         "data": {
          "bar": [
           {
            "error_x": {
             "color": "#2a3f5f"
            },
            "error_y": {
             "color": "#2a3f5f"
            },
            "marker": {
             "line": {
              "color": "#E5ECF6",
              "width": 0.5
             }
            },
            "type": "bar"
           }
          ],
          "barpolar": [
           {
            "marker": {
             "line": {
              "color": "#E5ECF6",
              "width": 0.5
             }
            },
            "type": "barpolar"
           }
          ],
          "carpet": [
           {
            "aaxis": {
             "endlinecolor": "#2a3f5f",
             "gridcolor": "white",
             "linecolor": "white",
             "minorgridcolor": "white",
             "startlinecolor": "#2a3f5f"
            },
            "baxis": {
             "endlinecolor": "#2a3f5f",
             "gridcolor": "white",
             "linecolor": "white",
             "minorgridcolor": "white",
             "startlinecolor": "#2a3f5f"
            },
            "type": "carpet"
           }
          ],
          "choropleth": [
           {
            "colorbar": {
             "outlinewidth": 0,
             "ticks": ""
            },
            "type": "choropleth"
           }
          ],
          "contour": [
           {
            "colorbar": {
             "outlinewidth": 0,
             "ticks": ""
            },
            "colorscale": [
             [
              0,
              "#0d0887"
             ],
             [
              0.1111111111111111,
              "#46039f"
             ],
             [
              0.2222222222222222,
              "#7201a8"
             ],
             [
              0.3333333333333333,
              "#9c179e"
             ],
             [
              0.4444444444444444,
              "#bd3786"
             ],
             [
              0.5555555555555556,
              "#d8576b"
             ],
             [
              0.6666666666666666,
              "#ed7953"
             ],
             [
              0.7777777777777778,
              "#fb9f3a"
             ],
             [
              0.8888888888888888,
              "#fdca26"
             ],
             [
              1,
              "#f0f921"
             ]
            ],
            "type": "contour"
           }
          ],
          "contourcarpet": [
           {
            "colorbar": {
             "outlinewidth": 0,
             "ticks": ""
            },
            "type": "contourcarpet"
           }
          ],
          "heatmap": [
           {
            "colorbar": {
             "outlinewidth": 0,
             "ticks": ""
            },
            "colorscale": [
             [
              0,
              "#0d0887"
             ],
             [
              0.1111111111111111,
              "#46039f"
             ],
             [
              0.2222222222222222,
              "#7201a8"
             ],
             [
              0.3333333333333333,
              "#9c179e"
             ],
             [
              0.4444444444444444,
              "#bd3786"
             ],
             [
              0.5555555555555556,
              "#d8576b"
             ],
             [
              0.6666666666666666,
              "#ed7953"
             ],
             [
              0.7777777777777778,
              "#fb9f3a"
             ],
             [
              0.8888888888888888,
              "#fdca26"
             ],
             [
              1,
              "#f0f921"
             ]
            ],
            "type": "heatmap"
           }
          ],
          "heatmapgl": [
           {
            "colorbar": {
             "outlinewidth": 0,
             "ticks": ""
            },
            "colorscale": [
             [
              0,
              "#0d0887"
             ],
             [
              0.1111111111111111,
              "#46039f"
             ],
             [
              0.2222222222222222,
              "#7201a8"
             ],
             [
              0.3333333333333333,
              "#9c179e"
             ],
             [
              0.4444444444444444,
              "#bd3786"
             ],
             [
              0.5555555555555556,
              "#d8576b"
             ],
             [
              0.6666666666666666,
              "#ed7953"
             ],
             [
              0.7777777777777778,
              "#fb9f3a"
             ],
             [
              0.8888888888888888,
              "#fdca26"
             ],
             [
              1,
              "#f0f921"
             ]
            ],
            "type": "heatmapgl"
           }
          ],
          "histogram": [
           {
            "marker": {
             "colorbar": {
              "outlinewidth": 0,
              "ticks": ""
             }
            },
            "type": "histogram"
           }
          ],
          "histogram2d": [
           {
            "colorbar": {
             "outlinewidth": 0,
             "ticks": ""
            },
            "colorscale": [
             [
              0,
              "#0d0887"
             ],
             [
              0.1111111111111111,
              "#46039f"
             ],
             [
              0.2222222222222222,
              "#7201a8"
             ],
             [
              0.3333333333333333,
              "#9c179e"
             ],
             [
              0.4444444444444444,
              "#bd3786"
             ],
             [
              0.5555555555555556,
              "#d8576b"
             ],
             [
              0.6666666666666666,
              "#ed7953"
             ],
             [
              0.7777777777777778,
              "#fb9f3a"
             ],
             [
              0.8888888888888888,
              "#fdca26"
             ],
             [
              1,
              "#f0f921"
             ]
            ],
            "type": "histogram2d"
           }
          ],
          "histogram2dcontour": [
           {
            "colorbar": {
             "outlinewidth": 0,
             "ticks": ""
            },
            "colorscale": [
             [
              0,
              "#0d0887"
             ],
             [
              0.1111111111111111,
              "#46039f"
             ],
             [
              0.2222222222222222,
              "#7201a8"
             ],
             [
              0.3333333333333333,
              "#9c179e"
             ],
             [
              0.4444444444444444,
              "#bd3786"
             ],
             [
              0.5555555555555556,
              "#d8576b"
             ],
             [
              0.6666666666666666,
              "#ed7953"
             ],
             [
              0.7777777777777778,
              "#fb9f3a"
             ],
             [
              0.8888888888888888,
              "#fdca26"
             ],
             [
              1,
              "#f0f921"
             ]
            ],
            "type": "histogram2dcontour"
           }
          ],
          "mesh3d": [
           {
            "colorbar": {
             "outlinewidth": 0,
             "ticks": ""
            },
            "type": "mesh3d"
           }
          ],
          "parcoords": [
           {
            "line": {
             "colorbar": {
              "outlinewidth": 0,
              "ticks": ""
             }
            },
            "type": "parcoords"
           }
          ],
          "pie": [
           {
            "automargin": true,
            "type": "pie"
           }
          ],
          "scatter": [
           {
            "marker": {
             "colorbar": {
              "outlinewidth": 0,
              "ticks": ""
             }
            },
            "type": "scatter"
           }
          ],
          "scatter3d": [
           {
            "line": {
             "colorbar": {
              "outlinewidth": 0,
              "ticks": ""
             }
            },
            "marker": {
             "colorbar": {
              "outlinewidth": 0,
              "ticks": ""
             }
            },
            "type": "scatter3d"
           }
          ],
          "scattercarpet": [
           {
            "marker": {
             "colorbar": {
              "outlinewidth": 0,
              "ticks": ""
             }
            },
            "type": "scattercarpet"
           }
          ],
          "scattergeo": [
           {
            "marker": {
             "colorbar": {
              "outlinewidth": 0,
              "ticks": ""
             }
            },
            "type": "scattergeo"
           }
          ],
          "scattergl": [
           {
            "marker": {
             "colorbar": {
              "outlinewidth": 0,
              "ticks": ""
             }
            },
            "type": "scattergl"
           }
          ],
          "scattermapbox": [
           {
            "marker": {
             "colorbar": {
              "outlinewidth": 0,
              "ticks": ""
             }
            },
            "type": "scattermapbox"
           }
          ],
          "scatterpolar": [
           {
            "marker": {
             "colorbar": {
              "outlinewidth": 0,
              "ticks": ""
             }
            },
            "type": "scatterpolar"
           }
          ],
          "scatterpolargl": [
           {
            "marker": {
             "colorbar": {
              "outlinewidth": 0,
              "ticks": ""
             }
            },
            "type": "scatterpolargl"
           }
          ],
          "scatterternary": [
           {
            "marker": {
             "colorbar": {
              "outlinewidth": 0,
              "ticks": ""
             }
            },
            "type": "scatterternary"
           }
          ],
          "surface": [
           {
            "colorbar": {
             "outlinewidth": 0,
             "ticks": ""
            },
            "colorscale": [
             [
              0,
              "#0d0887"
             ],
             [
              0.1111111111111111,
              "#46039f"
             ],
             [
              0.2222222222222222,
              "#7201a8"
             ],
             [
              0.3333333333333333,
              "#9c179e"
             ],
             [
              0.4444444444444444,
              "#bd3786"
             ],
             [
              0.5555555555555556,
              "#d8576b"
             ],
             [
              0.6666666666666666,
              "#ed7953"
             ],
             [
              0.7777777777777778,
              "#fb9f3a"
             ],
             [
              0.8888888888888888,
              "#fdca26"
             ],
             [
              1,
              "#f0f921"
             ]
            ],
            "type": "surface"
           }
          ],
          "table": [
           {
            "cells": {
             "fill": {
              "color": "#EBF0F8"
             },
             "line": {
              "color": "white"
             }
            },
            "header": {
             "fill": {
              "color": "#C8D4E3"
             },
             "line": {
              "color": "white"
             }
            },
            "type": "table"
           }
          ]
         },
         "layout": {
          "annotationdefaults": {
           "arrowcolor": "#2a3f5f",
           "arrowhead": 0,
           "arrowwidth": 1
          },
          "autotypenumbers": "strict",
          "coloraxis": {
           "colorbar": {
            "outlinewidth": 0,
            "ticks": ""
           }
          },
          "colorscale": {
           "diverging": [
            [
             0,
             "#8e0152"
            ],
            [
             0.1,
             "#c51b7d"
            ],
            [
             0.2,
             "#de77ae"
            ],
            [
             0.3,
             "#f1b6da"
            ],
            [
             0.4,
             "#fde0ef"
            ],
            [
             0.5,
             "#f7f7f7"
            ],
            [
             0.6,
             "#e6f5d0"
            ],
            [
             0.7,
             "#b8e186"
            ],
            [
             0.8,
             "#7fbc41"
            ],
            [
             0.9,
             "#4d9221"
            ],
            [
             1,
             "#276419"
            ]
           ],
           "sequential": [
            [
             0,
             "#0d0887"
            ],
            [
             0.1111111111111111,
             "#46039f"
            ],
            [
             0.2222222222222222,
             "#7201a8"
            ],
            [
             0.3333333333333333,
             "#9c179e"
            ],
            [
             0.4444444444444444,
             "#bd3786"
            ],
            [
             0.5555555555555556,
             "#d8576b"
            ],
            [
             0.6666666666666666,
             "#ed7953"
            ],
            [
             0.7777777777777778,
             "#fb9f3a"
            ],
            [
             0.8888888888888888,
             "#fdca26"
            ],
            [
             1,
             "#f0f921"
            ]
           ],
           "sequentialminus": [
            [
             0,
             "#0d0887"
            ],
            [
             0.1111111111111111,
             "#46039f"
            ],
            [
             0.2222222222222222,
             "#7201a8"
            ],
            [
             0.3333333333333333,
             "#9c179e"
            ],
            [
             0.4444444444444444,
             "#bd3786"
            ],
            [
             0.5555555555555556,
             "#d8576b"
            ],
            [
             0.6666666666666666,
             "#ed7953"
            ],
            [
             0.7777777777777778,
             "#fb9f3a"
            ],
            [
             0.8888888888888888,
             "#fdca26"
            ],
            [
             1,
             "#f0f921"
            ]
           ]
          },
          "colorway": [
           "#636efa",
           "#EF553B",
           "#00cc96",
           "#ab63fa",
           "#FFA15A",
           "#19d3f3",
           "#FF6692",
           "#B6E880",
           "#FF97FF",
           "#FECB52"
          ],
          "font": {
           "color": "#2a3f5f"
          },
          "geo": {
           "bgcolor": "white",
           "lakecolor": "white",
           "landcolor": "#E5ECF6",
           "showlakes": true,
           "showland": true,
           "subunitcolor": "white"
          },
          "hoverlabel": {
           "align": "left"
          },
          "hovermode": "closest",
          "mapbox": {
           "style": "light"
          },
          "paper_bgcolor": "white",
          "plot_bgcolor": "#E5ECF6",
          "polar": {
           "angularaxis": {
            "gridcolor": "white",
            "linecolor": "white",
            "ticks": ""
           },
           "bgcolor": "#E5ECF6",
           "radialaxis": {
            "gridcolor": "white",
            "linecolor": "white",
            "ticks": ""
           }
          },
          "scene": {
           "xaxis": {
            "backgroundcolor": "#E5ECF6",
            "gridcolor": "white",
            "gridwidth": 2,
            "linecolor": "white",
            "showbackground": true,
            "ticks": "",
            "zerolinecolor": "white"
           },
           "yaxis": {
            "backgroundcolor": "#E5ECF6",
            "gridcolor": "white",
            "gridwidth": 2,
            "linecolor": "white",
            "showbackground": true,
            "ticks": "",
            "zerolinecolor": "white"
           },
           "zaxis": {
            "backgroundcolor": "#E5ECF6",
            "gridcolor": "white",
            "gridwidth": 2,
            "linecolor": "white",
            "showbackground": true,
            "ticks": "",
            "zerolinecolor": "white"
           }
          },
          "shapedefaults": {
           "line": {
            "color": "#2a3f5f"
           }
          },
          "ternary": {
           "aaxis": {
            "gridcolor": "white",
            "linecolor": "white",
            "ticks": ""
           },
           "baxis": {
            "gridcolor": "white",
            "linecolor": "white",
            "ticks": ""
           },
           "bgcolor": "#E5ECF6",
           "caxis": {
            "gridcolor": "white",
            "linecolor": "white",
            "ticks": ""
           }
          },
          "title": {
           "x": 0.05
          },
          "xaxis": {
           "automargin": true,
           "gridcolor": "white",
           "linecolor": "white",
           "ticks": "",
           "title": {
            "standoff": 15
           },
           "zerolinecolor": "white",
           "zerolinewidth": 2
          },
          "yaxis": {
           "automargin": true,
           "gridcolor": "white",
           "linecolor": "white",
           "ticks": "",
           "title": {
            "standoff": 15
           },
           "zerolinecolor": "white",
           "zerolinewidth": 2
          }
         }
        },
        "title": {
         "text": "Component plots",
         "x": 0.5
        },
        "xaxis": {
         "anchor": "y",
         "domain": [
          0,
          1
         ],
         "mirror": true,
         "showline": true,
         "title": {
          "text": "ts"
         }
        },
        "xaxis2": {
         "anchor": "y2",
         "domain": [
          0,
          1
         ],
         "mirror": true,
         "showline": true,
         "title": {
          "text": "ts"
         }
        },
        "xaxis3": {
         "anchor": "y3",
         "domain": [
          0,
          1
         ],
         "mirror": true,
         "showline": true,
         "title": {
          "text": "Time of month"
         }
        },
        "xaxis4": {
         "anchor": "y4",
         "domain": [
          0,
          1
         ],
         "mirror": true,
         "showline": true,
         "title": {
          "text": "Time of quarter"
         }
        },
        "xaxis5": {
         "anchor": "y5",
         "domain": [
          0,
          1
         ],
         "mirror": true,
         "showline": true,
         "title": {
          "text": "Time of year"
         }
        },
        "xaxis6": {
         "anchor": "y6",
         "domain": [
          0,
          1
         ],
         "mirror": true,
         "showline": true,
         "title": {
          "text": "ts"
         }
        },
        "yaxis": {
         "anchor": "x",
         "domain": [
          0.8819444444444444,
          1
         ],
         "mirror": true,
         "showline": true,
         "title": {
          "text": "y"
         }
        },
        "yaxis2": {
         "anchor": "x2",
         "domain": [
          0.7055555555555556,
          0.8236111111111112
         ],
         "mirror": true,
         "showline": true,
         "title": {
          "text": "trend"
         }
        },
        "yaxis3": {
         "anchor": "x3",
         "domain": [
          0.5291666666666667,
          0.6472222222222223
         ],
         "mirror": true,
         "showline": true,
         "title": {
          "text": "monthly"
         }
        },
        "yaxis4": {
         "anchor": "x4",
         "domain": [
          0.3527777777777778,
          0.4708333333333334
         ],
         "mirror": true,
         "showline": true,
         "title": {
          "text": "quarterly"
         }
        },
        "yaxis5": {
         "anchor": "x5",
         "domain": [
          0.1763888888888889,
          0.29444444444444445
         ],
         "mirror": true,
         "showline": true,
         "title": {
          "text": "yearly"
         }
        },
        "yaxis6": {
         "anchor": "x6",
         "domain": [
          0,
          0.11805555555555557
         ],
         "mirror": true,
         "showline": true,
         "title": {
          "text": "events"
         }
        }
       }
      },
      "text/html": [
       "<div>                            <div id=\"07e132a7-bc21-49b6-8063-fb364806a886\" class=\"plotly-graph-div\" style=\"height:2100px; width:100%;\"></div>            <script type=\"text/javascript\">                require([\"plotly\"], function(Plotly) {                    window.PLOTLYENV=window.PLOTLYENV || {};                                    if (document.getElementById(\"07e132a7-bc21-49b6-8063-fb364806a886\")) {                    Plotly.newPlot(                        \"07e132a7-bc21-49b6-8063-fb364806a886\",                        [{\"mode\": \"lines\", \"name\": \"y\", \"opacity\": 0.8, \"showlegend\": false, \"type\": \"scatter\", \"x\": [\"2017-01-01T00:00:00\", \"2017-01-08T00:00:00\", \"2017-01-15T00:00:00\", \"2017-01-22T00:00:00\", \"2017-01-29T00:00:00\", \"2017-02-05T00:00:00\", \"2017-02-12T00:00:00\", \"2017-02-19T00:00:00\", \"2017-02-26T00:00:00\", \"2017-03-05T00:00:00\", \"2017-03-12T00:00:00\", \"2017-03-19T00:00:00\", \"2017-03-26T00:00:00\", \"2017-04-02T00:00:00\", \"2017-04-09T00:00:00\", \"2017-04-16T00:00:00\", \"2017-04-23T00:00:00\", \"2017-04-30T00:00:00\", \"2017-05-07T00:00:00\", \"2017-05-14T00:00:00\", \"2017-05-21T00:00:00\", \"2017-05-28T00:00:00\", \"2017-06-04T00:00:00\", \"2017-06-11T00:00:00\", \"2017-06-18T00:00:00\", \"2017-06-25T00:00:00\", \"2017-07-02T00:00:00\", \"2017-07-09T00:00:00\", \"2017-07-16T00:00:00\", \"2017-07-23T00:00:00\", \"2017-07-30T00:00:00\", \"2017-08-06T00:00:00\", \"2017-08-13T00:00:00\", \"2017-08-20T00:00:00\", \"2017-08-27T00:00:00\", \"2017-09-03T00:00:00\", \"2017-09-10T00:00:00\", \"2017-09-17T00:00:00\", \"2017-09-24T00:00:00\", \"2017-10-01T00:00:00\", \"2017-10-08T00:00:00\", \"2017-10-15T00:00:00\", \"2017-10-22T00:00:00\", \"2017-10-29T00:00:00\", \"2017-11-05T00:00:00\", \"2017-11-12T00:00:00\", \"2017-11-19T00:00:00\", \"2017-11-26T00:00:00\", \"2017-12-03T00:00:00\", \"2017-12-10T00:00:00\", \"2017-12-17T00:00:00\", \"2017-12-24T00:00:00\", \"2017-12-31T00:00:00\", \"2018-01-07T00:00:00\", \"2018-01-14T00:00:00\", \"2018-01-21T00:00:00\", \"2018-01-28T00:00:00\", \"2018-02-04T00:00:00\", \"2018-02-11T00:00:00\", \"2018-02-18T00:00:00\", \"2018-02-25T00:00:00\", \"2018-03-04T00:00:00\", \"2018-03-11T00:00:00\", \"2018-03-18T00:00:00\", \"2018-03-25T00:00:00\", \"2018-04-01T00:00:00\", \"2018-04-08T00:00:00\", \"2018-04-15T00:00:00\", \"2018-04-22T00:00:00\", \"2018-04-29T00:00:00\", \"2018-05-06T00:00:00\", \"2018-05-13T00:00:00\", \"2018-05-20T00:00:00\", \"2018-05-27T00:00:00\", \"2018-06-03T00:00:00\", \"2018-06-10T00:00:00\", \"2018-06-17T00:00:00\", \"2018-06-24T00:00:00\", \"2018-07-01T00:00:00\", \"2018-07-08T00:00:00\", \"2018-07-15T00:00:00\", \"2018-07-22T00:00:00\", \"2018-07-29T00:00:00\", \"2018-08-05T00:00:00\", \"2018-08-12T00:00:00\", \"2018-08-19T00:00:00\", \"2018-08-26T00:00:00\", \"2018-09-02T00:00:00\", \"2018-09-09T00:00:00\", \"2018-09-16T00:00:00\", \"2018-09-23T00:00:00\", \"2018-09-30T00:00:00\", \"2018-10-07T00:00:00\", \"2018-10-14T00:00:00\", \"2018-10-21T00:00:00\", \"2018-10-28T00:00:00\", \"2018-11-04T00:00:00\", \"2018-11-11T00:00:00\", \"2018-11-18T00:00:00\", \"2018-11-25T00:00:00\", \"2018-12-02T00:00:00\", \"2018-12-09T00:00:00\", \"2018-12-16T00:00:00\", \"2018-12-23T00:00:00\", \"2018-12-30T00:00:00\", \"2019-01-06T00:00:00\", \"2019-01-13T00:00:00\", \"2019-01-20T00:00:00\", \"2019-01-27T00:00:00\", \"2019-02-03T00:00:00\", \"2019-02-10T00:00:00\", \"2019-02-17T00:00:00\", \"2019-02-24T00:00:00\", \"2019-03-03T00:00:00\", \"2019-03-10T00:00:00\", \"2019-03-17T00:00:00\", \"2019-03-24T00:00:00\", \"2019-03-31T00:00:00\", \"2019-04-07T00:00:00\", \"2019-04-14T00:00:00\", \"2019-04-21T00:00:00\", \"2019-04-28T00:00:00\", \"2019-05-05T00:00:00\", \"2019-05-12T00:00:00\", \"2019-05-19T00:00:00\", \"2019-05-26T00:00:00\", \"2019-06-02T00:00:00\", \"2019-06-09T00:00:00\", \"2019-06-16T00:00:00\", \"2019-06-23T00:00:00\", \"2019-06-30T00:00:00\", \"2019-07-07T00:00:00\", \"2019-07-14T00:00:00\", \"2019-07-21T00:00:00\", \"2019-07-28T00:00:00\", \"2019-08-04T00:00:00\", \"2019-08-11T00:00:00\", \"2019-08-18T00:00:00\", \"2019-08-25T00:00:00\", \"2019-09-01T00:00:00\", \"2019-09-08T00:00:00\", \"2019-09-15T00:00:00\", \"2019-09-22T00:00:00\", \"2019-09-29T00:00:00\", \"2019-10-06T00:00:00\", \"2019-10-13T00:00:00\", \"2019-10-20T00:00:00\", \"2019-10-27T00:00:00\", \"2019-11-03T00:00:00\", \"2019-11-10T00:00:00\", \"2019-11-17T00:00:00\", \"2019-11-24T00:00:00\", \"2019-12-01T00:00:00\", \"2019-12-08T00:00:00\", \"2019-12-15T00:00:00\", \"2019-12-22T00:00:00\", \"2019-12-29T00:00:00\", \"2020-01-05T00:00:00\", \"2020-01-12T00:00:00\", \"2020-01-19T00:00:00\", \"2020-01-26T00:00:00\", \"2020-02-02T00:00:00\", \"2020-02-09T00:00:00\", \"2020-02-16T00:00:00\", \"2020-02-23T00:00:00\", \"2020-03-01T00:00:00\", \"2020-03-08T00:00:00\", \"2020-03-15T00:00:00\", \"2020-03-22T00:00:00\", \"2020-03-29T00:00:00\", \"2020-04-05T00:00:00\", \"2020-04-12T00:00:00\", \"2020-04-19T00:00:00\", \"2020-04-26T00:00:00\", \"2020-05-03T00:00:00\", \"2020-05-10T00:00:00\", \"2020-05-17T00:00:00\", \"2020-05-24T00:00:00\", \"2020-05-31T00:00:00\", \"2020-06-07T00:00:00\", \"2020-06-14T00:00:00\", \"2020-06-21T00:00:00\", \"2020-06-28T00:00:00\", \"2020-07-05T00:00:00\", \"2020-07-12T00:00:00\", \"2020-07-19T00:00:00\", \"2020-07-26T00:00:00\", \"2020-08-02T00:00:00\", \"2020-08-09T00:00:00\", \"2020-08-16T00:00:00\", \"2020-08-23T00:00:00\", \"2020-08-30T00:00:00\", \"2020-09-06T00:00:00\", \"2020-09-13T00:00:00\", \"2020-09-20T00:00:00\", \"2020-09-27T00:00:00\", \"2020-10-04T00:00:00\", \"2020-10-11T00:00:00\", \"2020-10-18T00:00:00\", \"2020-10-25T00:00:00\", \"2020-11-01T00:00:00\", \"2020-11-08T00:00:00\", \"2020-11-15T00:00:00\", \"2020-11-22T00:00:00\", \"2020-11-29T00:00:00\", \"2020-12-06T00:00:00\", \"2020-12-13T00:00:00\", \"2020-12-20T00:00:00\", \"2020-12-27T00:00:00\", \"2021-01-03T00:00:00\", \"2021-01-10T00:00:00\", \"2021-01-17T00:00:00\", \"2021-01-24T00:00:00\", \"2021-01-31T00:00:00\", \"2021-02-07T00:00:00\", \"2021-02-14T00:00:00\", \"2021-02-21T00:00:00\", \"2021-02-28T00:00:00\", \"2021-03-07T00:00:00\", \"2021-03-14T00:00:00\", \"2021-03-21T00:00:00\", \"2021-03-28T00:00:00\"], \"xaxis\": \"x\", \"y\": [981.6376879920928, 915.2058142519436, 817.0549635712492, 921.0022294154238, 916.4743844403482, 1018.327562124935, 1002.9858857063558, 1052.5456970824382, 1165.8244162493393, 1258.6520904332842, 1198.4495991848353, 1009.8453678806043, 965.6647718384512, 1080.593671156791, 1195.2263193941758, 1168.5849291604588, 1235.959071154503, 1331.428636861853, 1541.9670501659964, 1781.992960291066, 2022.2277678510666, 2188.8339780159095, 2524.769903107526, 2907.1849046281804, 2564.159564217592, 2557.9534132747376, 2445.2220216764304, 2538.7765526156186, 1938.9989240757789, 2766.018589895212, 2674.9081195927315, 3236.1315535456533, 4022.9411932688417, 4059.5180476308906, 4340.433891081189, 4575.300758474094, 4178.9680422029805, 3634.043061056025, 3694.9808246963107, 4290.272278589144, 4497.856967223395, 5608.239015452093, 5909.253738347273, 5890.56903730675, 7458.414757038099, 6113.264264574333, 7827.131551353381, 8971.770344226623, 11291.622579057115, 14132.601710642339, 19186.169610256275, 13652.628406286824, 13337.513232213194, 16516.38596170831, 13678.34344394982, 11894.038151210543, 11673.754262195793, 8718.772985557165, 8187.7584321186805, 10737.516565552482, 9594.672009343749, 11241.467414556733, 9059.7413486486, 7678.897274336678, 8535.27998779133, 6796.601292610656, 6988.220222870914, 8215.062462895481, 8888.486728819395, 9355.907476675324, 9615.743948307036, 8550.046166780056, 8362.053475615578, 7316.551009348536, 7690.58057537641, 7132.902355224252, 6508.827389822967, 6023.8896670909435, 6349.980904651709, 6738.8721180935745, 6318.013231735982, 7447.723313695186, 8202.498761161012, 6995.192839452979, 6305.226968673242, 6401.7003608656405, 6670.069420563303, 7240.745144965029, 6295.955871608836, 6481.711958450328, 6707.643346377803, 6578.164624514121, 6533.448685133508, 6226.1260207690675, 6434.035994542509, 6402.290679530039, 6369.730653024255, 6337.526091595159, 5534.734346708526, 3756.9321726632147, 4120.589503435377, 3471.6984966057476, 3217.320694474901, 3978.056280943766, 3787.8872244049644, 3885.3312363064815, 3575.310055370954, 3600.5671484172353, 3544.653609846713, 3424.824032234868, 3607.855117072525, 3585.2871700518717, 3985.1708804270693, 3800.987502450217, 3892.6368754301884, 3963.4112159366673, 3968.46245122984, 4088.4294700084174, 5128.484710430335, 5078.929244976857, 5287.273093444004, 5169.575513691476, 5722.166836310573, 7154.9551372121105, 7933.9268158052155, 8128.546958223451, 8670.265812880712, 7798.498155120784, 9095.289101530452, 10746.900511013211, 11542.5519109653, 11311.47674802796, 10857.026633891062, 10577.614454422597, 9484.914105643693, 10820.892324169692, 11378.232876254126, 10292.527044551465, 10100.656939299763, 9626.724277129402, 10460.721158303631, 10316.665172788826, 9978.878329965732, 8073.95375222317, 7980.2613741350415, 8358.546977063057, 8020.297620718581, 9413.283675192675, 9217.614908547763, 8896.594757823774, 8514.029198381439, 7146.012933634438, 7353.310525060708, 7495.626457542383, 7089.723106689306, 7228.238391081989, 7345.635970926209, 7430.027209611784, 8111.715362809299, 8847.166821810986, 8430.129199500645, 9377.036114146784, 10080.72238297771, 9905.53388478716, 9870.245958296517, 8557.198634572247, 8569.848185239654, 5300.8230481772, 6132.192548689882, 6104.824055534396, 6796.675729856801, 6954.061312250376, 7166.968470350743, 7603.793608820947, 8979.892588601406, 8687.485435756498, 9626.880262499786, 9119.084263966222, 9546.667359008288, 9618.2132603281, 9403.238615212738, 9348.204026697782, 9056.25733932299, 9062.05921703053, 9249.438246949527, 9154.807427888656, 9834.34345093738, 11333.746837542161, 11672.131345720929, 11850.765200290209, 11623.091878436793, 11609.048559349349, 10201.799719070545, 10393.662602084078, 10915.45825408122, 10717.587523472932, 10604.973839338634, 11360.626362271318, 11424.963448037344, 13056.228187102959, 13769.800513425602, 15202.594518399836, 15995.998189848071, 18432.242585682645, 17991.419820260784, 19145.148466569415, 19113.047104531674, 23594.411731075204, 27043.386470000005, 33467.36252562915, 39727.27752555421, 35650.76418554722, 32225.07011977885, 33450.93785876327, 38711.77455524941, 48600.49151849026, 57040.825943830474, 44818.44755210362, 50218.21680438112, 60455.84483148646, 57312.59853645818, 55832.958823907036], \"yaxis\": \"y\"}, {\"mode\": \"lines\", \"name\": \"trend\", \"opacity\": 0.8, \"showlegend\": false, \"type\": \"scatter\", \"x\": [\"2017-01-01T00:00:00\", \"2017-01-08T00:00:00\", \"2017-01-15T00:00:00\", \"2017-01-22T00:00:00\", \"2017-01-29T00:00:00\", \"2017-02-05T00:00:00\", \"2017-02-12T00:00:00\", \"2017-02-19T00:00:00\", \"2017-02-26T00:00:00\", \"2017-03-05T00:00:00\", \"2017-03-12T00:00:00\", \"2017-03-19T00:00:00\", \"2017-03-26T00:00:00\", \"2017-04-02T00:00:00\", \"2017-04-09T00:00:00\", \"2017-04-16T00:00:00\", \"2017-04-23T00:00:00\", \"2017-04-30T00:00:00\", \"2017-05-07T00:00:00\", \"2017-05-14T00:00:00\", \"2017-05-21T00:00:00\", \"2017-05-28T00:00:00\", \"2017-06-04T00:00:00\", \"2017-06-11T00:00:00\", \"2017-06-18T00:00:00\", \"2017-06-25T00:00:00\", \"2017-07-02T00:00:00\", \"2017-07-09T00:00:00\", \"2017-07-16T00:00:00\", \"2017-07-23T00:00:00\", \"2017-07-30T00:00:00\", \"2017-08-06T00:00:00\", \"2017-08-13T00:00:00\", \"2017-08-20T00:00:00\", \"2017-08-27T00:00:00\", \"2017-09-03T00:00:00\", \"2017-09-10T00:00:00\", \"2017-09-17T00:00:00\", \"2017-09-24T00:00:00\", \"2017-10-01T00:00:00\", \"2017-10-08T00:00:00\", \"2017-10-15T00:00:00\", \"2017-10-22T00:00:00\", \"2017-10-29T00:00:00\", \"2017-11-05T00:00:00\", \"2017-11-12T00:00:00\", \"2017-11-19T00:00:00\", \"2017-11-26T00:00:00\", \"2017-12-03T00:00:00\", \"2017-12-10T00:00:00\", \"2017-12-17T00:00:00\", \"2017-12-24T00:00:00\", \"2017-12-31T00:00:00\", \"2018-01-07T00:00:00\", \"2018-01-14T00:00:00\", \"2018-01-21T00:00:00\", \"2018-01-28T00:00:00\", \"2018-02-04T00:00:00\", \"2018-02-11T00:00:00\", \"2018-02-18T00:00:00\", \"2018-02-25T00:00:00\", \"2018-03-04T00:00:00\", \"2018-03-11T00:00:00\", \"2018-03-18T00:00:00\", \"2018-03-25T00:00:00\", \"2018-04-01T00:00:00\", \"2018-04-08T00:00:00\", \"2018-04-15T00:00:00\", \"2018-04-22T00:00:00\", \"2018-04-29T00:00:00\", \"2018-05-06T00:00:00\", \"2018-05-13T00:00:00\", \"2018-05-20T00:00:00\", \"2018-05-27T00:00:00\", \"2018-06-03T00:00:00\", \"2018-06-10T00:00:00\", \"2018-06-17T00:00:00\", \"2018-06-24T00:00:00\", \"2018-07-01T00:00:00\", \"2018-07-08T00:00:00\", \"2018-07-15T00:00:00\", \"2018-07-22T00:00:00\", \"2018-07-29T00:00:00\", \"2018-08-05T00:00:00\", \"2018-08-12T00:00:00\", \"2018-08-19T00:00:00\", \"2018-08-26T00:00:00\", \"2018-09-02T00:00:00\", \"2018-09-09T00:00:00\", \"2018-09-16T00:00:00\", \"2018-09-23T00:00:00\", \"2018-09-30T00:00:00\", \"2018-10-07T00:00:00\", \"2018-10-14T00:00:00\", \"2018-10-21T00:00:00\", \"2018-10-28T00:00:00\", \"2018-11-04T00:00:00\", \"2018-11-11T00:00:00\", \"2018-11-18T00:00:00\", \"2018-11-25T00:00:00\", \"2018-12-02T00:00:00\", \"2018-12-09T00:00:00\", \"2018-12-16T00:00:00\", \"2018-12-23T00:00:00\", \"2018-12-30T00:00:00\", \"2019-01-06T00:00:00\", \"2019-01-13T00:00:00\", \"2019-01-20T00:00:00\", \"2019-01-27T00:00:00\", \"2019-02-03T00:00:00\", \"2019-02-10T00:00:00\", \"2019-02-17T00:00:00\", \"2019-02-24T00:00:00\", \"2019-03-03T00:00:00\", \"2019-03-10T00:00:00\", \"2019-03-17T00:00:00\", \"2019-03-24T00:00:00\", \"2019-03-31T00:00:00\", \"2019-04-07T00:00:00\", \"2019-04-14T00:00:00\", \"2019-04-21T00:00:00\", \"2019-04-28T00:00:00\", \"2019-05-05T00:00:00\", \"2019-05-12T00:00:00\", \"2019-05-19T00:00:00\", \"2019-05-26T00:00:00\", \"2019-06-02T00:00:00\", \"2019-06-09T00:00:00\", \"2019-06-16T00:00:00\", \"2019-06-23T00:00:00\", \"2019-06-30T00:00:00\", \"2019-07-07T00:00:00\", \"2019-07-14T00:00:00\", \"2019-07-21T00:00:00\", \"2019-07-28T00:00:00\", \"2019-08-04T00:00:00\", \"2019-08-11T00:00:00\", \"2019-08-18T00:00:00\", \"2019-08-25T00:00:00\", \"2019-09-01T00:00:00\", \"2019-09-08T00:00:00\", \"2019-09-15T00:00:00\", \"2019-09-22T00:00:00\", \"2019-09-29T00:00:00\", \"2019-10-06T00:00:00\", \"2019-10-13T00:00:00\", \"2019-10-20T00:00:00\", \"2019-10-27T00:00:00\", \"2019-11-03T00:00:00\", \"2019-11-10T00:00:00\", \"2019-11-17T00:00:00\", \"2019-11-24T00:00:00\", \"2019-12-01T00:00:00\", \"2019-12-08T00:00:00\", \"2019-12-15T00:00:00\", \"2019-12-22T00:00:00\", \"2019-12-29T00:00:00\", \"2020-01-05T00:00:00\", \"2020-01-12T00:00:00\", \"2020-01-19T00:00:00\", \"2020-01-26T00:00:00\", \"2020-02-02T00:00:00\", \"2020-02-09T00:00:00\", \"2020-02-16T00:00:00\", \"2020-02-23T00:00:00\", \"2020-03-01T00:00:00\", \"2020-03-08T00:00:00\", \"2020-03-15T00:00:00\", \"2020-03-22T00:00:00\", \"2020-03-29T00:00:00\", \"2020-04-05T00:00:00\", \"2020-04-12T00:00:00\", \"2020-04-19T00:00:00\", \"2020-04-26T00:00:00\", \"2020-05-03T00:00:00\", \"2020-05-10T00:00:00\", \"2020-05-17T00:00:00\", \"2020-05-24T00:00:00\", \"2020-05-31T00:00:00\", \"2020-06-07T00:00:00\", \"2020-06-14T00:00:00\", \"2020-06-21T00:00:00\", \"2020-06-28T00:00:00\", \"2020-07-05T00:00:00\", \"2020-07-12T00:00:00\", \"2020-07-19T00:00:00\", \"2020-07-26T00:00:00\", \"2020-08-02T00:00:00\", \"2020-08-09T00:00:00\", \"2020-08-16T00:00:00\", \"2020-08-23T00:00:00\", \"2020-08-30T00:00:00\", \"2020-09-06T00:00:00\", \"2020-09-13T00:00:00\", \"2020-09-20T00:00:00\", \"2020-09-27T00:00:00\", \"2020-10-04T00:00:00\", \"2020-10-11T00:00:00\", \"2020-10-18T00:00:00\", \"2020-10-25T00:00:00\", \"2020-11-01T00:00:00\", \"2020-11-08T00:00:00\", \"2020-11-15T00:00:00\", \"2020-11-22T00:00:00\", \"2020-11-29T00:00:00\", \"2020-12-06T00:00:00\", \"2020-12-13T00:00:00\", \"2020-12-20T00:00:00\", \"2020-12-27T00:00:00\", \"2021-01-03T00:00:00\", \"2021-01-10T00:00:00\", \"2021-01-17T00:00:00\", \"2021-01-24T00:00:00\", \"2021-01-31T00:00:00\", \"2021-02-07T00:00:00\", \"2021-02-14T00:00:00\", \"2021-02-21T00:00:00\", \"2021-02-28T00:00:00\", \"2021-03-07T00:00:00\", \"2021-03-14T00:00:00\", \"2021-03-21T00:00:00\", \"2021-03-28T00:00:00\"], \"xaxis\": \"x2\", \"y\": [0.0, 43.84323699555422, 87.68647399110844, 131.52971098718248, 175.3729479827367, 219.21618497829093, 263.05942197384513, 306.9026589699192, 350.7458959654734, 394.5891329610276, 438.43236995658185, 482.27560695265583, 526.11884394821, 569.9620809437644, 613.8053179393186, 657.6485549348728, 701.4917919309468, 745.335028926501, 789.1782659220552, 833.0215029176095, 876.8647399136835, 920.7079769092377, 964.5512139047919, 1008.3944509003461, 1052.2376878959003, 1096.0809248919743, 1139.9241618875287, 1183.767398883083, 1227.6106358786371, 1271.4538728747111, 1315.2971098702653, 1359.1403468658195, 1402.9835838613737, 1446.8268208574477, 1490.670057853002, 1534.5132948485561, 1578.3565318441103, 1622.1997688396648, 1666.0430058357388, 1709.886242831293, 1753.7294798268472, 1797.5727168224014, 1841.4159538184754, 1885.2591908140296, 1929.1024278095838, 1972.945664805138, 2016.7889018006922, 2060.6321387967664, 2104.4753757923204, 2148.318612787875, 2192.161849783429, 2236.005086779503, 2279.8483237750575, 2323.6915607706114, 2367.534797766166, 2411.3780347622396, 2455.221271757794, 2499.064508753348, 2542.9077457489025, 2586.7509827444565, 2630.5942197405307, 2674.4374567360846, 2718.280693731639, 2762.1239307271935, 2805.9671677232673, 2849.8104047188217, 2893.6536417143757, 2937.49687870993, 2981.340115705484, 3025.1833527015583, 3069.0265896971123, 3112.8698266926667, 3156.7130636882207, 3200.556300684295, 3244.3995376798493, 3288.2427746754033, 3332.0860116709578, 3375.9292486670315, 3419.772485662586, 3463.61572265814, 3507.4589596536944, 3551.3021966492483, 3595.1454336453226, 3638.9886706408765, 3682.831907636431, 3726.6751446319854, 3770.518381628059, 3814.3616186236136, 3858.2048556191676, 3902.048092614722, 3945.891329610276, 3989.73456660635, 4033.577803601904, 4077.4210405974586, 4121.264277593013, 4165.107514589087, 4208.950751584641, 4252.793988580195, 4296.63722557575, 4340.480462571823, 4384.323699567378, 4428.166936562932, 4472.010173558486, 4515.85341055404, 4559.696647550115, 4603.539884545668, 4647.383121541223, 4691.226358536777, 4735.069595532851, 4778.9128325284055, 4822.75606952396, 4866.599306519513, 4910.442543515068, 4954.285780511142, 4998.129017506696, 5041.9722545022505, 5085.815491497805, 5129.658728493879, 5173.501965489433, 5217.345202484988, 5261.188439480541, 5305.031676476616, 5348.874913472169, 5392.718150467724, 5436.561387463278, 5480.404624458833, 5524.247861454906, 5568.091098450461, 5611.934335446015, 5655.777572441569, 5699.620809437643, 5743.464046433197, 5787.307283428751, 5831.150520424306, 5874.99375741986, 5918.836994415934, 5962.680231411488, 6006.523468407043, 6050.366705402596, 6094.209942398671, 6138.053179394225, 6181.896416389779, 6225.739653385333, 6269.582890381407, 6313.426127376962, 6357.269364372516, 6401.11260136807, 6444.955838363624, 6488.799075359699, 6532.642312355252, 6576.485549350807, 6620.328786346361, 6664.172023342435, 6708.015260337989, 6751.858497333544, 6795.701734329097, 6839.544971324652, 6883.319756740786, 6927.043203471446, 6970.766650202106, 7014.4900969327655, 7058.213543663425, 7101.936990394085, 7145.660437124745, 7189.383883855405, 7233.107330586065, 7276.830777316724, 7320.554224047384, 7364.277670778044, 7408.001117508704, 7451.724564238843, 7495.448010969503, 7539.171457700163, 7582.894904430823, 7626.618351161483, 7670.3417978921425, 7714.065244622802, 7757.788691353462, 7801.512138084122, 7845.235584814781, 7888.959031545441, 7932.6824782761005, 7976.40592500676, 8020.12937173742, 8063.85281846808, 8107.57626519874, 8151.2997119294, 8195.02315866006, 8238.74660539072, 8282.470052121378, 8326.193498852039, 8369.916945582698, 8413.640392313358, 8457.363839044017, 8501.087285774678, 8544.810732505337, 8588.534179235998, 8632.257625966657, 8675.981072697317, 8719.704519427976, 8763.427966158637, 8807.151412889296, 8850.874859619957, 8894.598306350616, 8938.321753081276, 8982.045199811935, 9025.768646542594, 9069.492093273255, 9113.215540003914, 9156.973212524545, 9200.816449520618, 9244.659686516172, 9288.502923511727, 9332.34616050728, 9376.189397502834, 9420.03263449891, 9463.875871494463, 9507.719108490017, 9551.562345485572, 9595.405582481646, 9639.2488194772, 9683.092056472755], \"yaxis\": \"y2\"}, {\"mode\": \"lines\", \"name\": \"MONTHLY_SEASONALITY\", \"opacity\": 0.8, \"showlegend\": false, \"type\": \"scatter\", \"x\": [0.0, 0.03225806451612903, 0.03333333333333333, 0.034482758620689655, 0.06451612903225806, 0.06666666666666667, 0.07142857142857142, 0.0967741935483871, 0.1, 0.10714285714285714, 0.12903225806451613, 0.13333333333333333, 0.14285714285714285, 0.16129032258064516, 0.16666666666666666, 0.1935483870967742, 0.2, 0.21428571428571427, 0.22580645161290322, 0.23333333333333334, 0.25806451612903225, 0.26666666666666666, 0.27586206896551724, 0.2903225806451613, 0.3, 0.32142857142857145, 0.3225806451612903, 0.3333333333333333, 0.3548387096774194, 0.35714285714285715, 0.36666666666666664, 0.3870967741935484, 0.39285714285714285, 0.4, 0.41935483870967744, 0.43333333333333335, 0.45161290322580644, 0.4642857142857143, 0.4666666666666667, 0.4838709677419355, 0.5, 0.5161290322580645, 0.5172413793103449, 0.5333333333333333, 0.5483870967741935, 0.5666666666666667, 0.5714285714285714, 0.5806451612903226, 0.6, 0.6071428571428571, 0.6129032258064516, 0.6333333333333333, 0.6428571428571429, 0.6451612903225806, 0.6666666666666666, 0.6774193548387096, 0.7, 0.7096774193548387, 0.7142857142857143, 0.7333333333333333, 0.7419354838709677, 0.7586206896551724, 0.7666666666666667, 0.7741935483870968, 0.8, 0.8064516129032258, 0.8214285714285714, 0.8333333333333334, 0.8387096774193549, 0.8571428571428571, 0.8666666666666667, 0.8709677419354839, 0.8928571428571429, 0.9, 0.9032258064516129, 0.9333333333333333, 0.9354838709677419, 0.9642857142857143, 0.9666666666666667, 0.967741935483871], \"xaxis\": \"x3\", \"y\": [-67.56400815827338, -78.9338967852787, -79.18817210385413, -79.45074430054493, -82.88602744367641, -82.87878194699562, -82.74406986872768, -79.36947461221166, -78.63455594893249, -76.77881632726461, -69.29962721711051, -67.54669660788478, -63.38170550583995, -54.39567723579491, -51.594594480652404, -36.89840263951814, -33.30085518071158, -25.404695557548816, -19.21413351620316, -15.305417325617555, -3.5423157212266254, 0.06804982249011715, 3.6076107117090785, 8.453682055541066, 11.179494634259582, 15.696526023000505, 15.880278558089612, 17.31156443953659, 18.715496363468446, 18.759051573222443, 18.741025367455443, 17.764142773761375, 17.29907311768934, 16.63247117438317, 14.47560041433567, 12.775253693593854, 10.655880007190252, 9.414205137845176, 9.211818638929376, 8.122777913740421, 7.824432332933128, 8.362165670671867, 8.432573484701276, 9.954385413872231, 12.243130713579554, 16.12193508027645, 17.319501070586206, 19.83994182176431, 25.897514195646387, 28.34867686569468, 30.39121760978623, 37.948173588158525, 41.5381784578876, 42.40409503282091, 50.252443718736764, 53.88730148683895, 60.44714673639868, 62.67571742941465, 63.59083165364288, 66.24631077261246, 66.79374895322806, 66.58662096816838, 65.85930225533862, 64.7981039787282, 58.334877968955404, 56.043489656841835, 49.72804277514098, 43.77016214771926, 40.82686523128445, 29.67108788834747, 23.346469766839302, 20.385245500293973, 4.544453930263029, -0.8165177546588769, -3.2544697194630494, -25.96556401813653, -27.55136035485773, -47.60034123393921, -49.12766822241807, -49.80948776776546], \"yaxis\": \"y3\"}, {\"mode\": \"lines\", \"name\": \"QUARTERLY_SEASONALITY\", \"opacity\": 0.8, \"showlegend\": false, \"type\": \"scatter\", \"x\": [0.0, 0.010869565217391304, 0.01098901098901099, 0.022222222222222223, 0.03260869565217391, 0.043478260869565216, 0.04395604395604396, 0.05434782608695652, 0.05555555555555555, 0.06521739130434782, 0.06593406593406594, 0.06666666666666667, 0.07608695652173914, 0.07692307692307693, 0.07777777777777778, 0.08695652173913043, 0.08791208791208792, 0.1, 0.10869565217391304, 0.11956521739130435, 0.12087912087912088, 0.13043478260869565, 0.13333333333333333, 0.14130434782608695, 0.14285714285714285, 0.14444444444444443, 0.15217391304347827, 0.15384615384615385, 0.15555555555555556, 0.16304347826086957, 0.16483516483516483, 0.17777777777777778, 0.18478260869565216, 0.1956521739130435, 0.1978021978021978, 0.20652173913043478, 0.2111111111111111, 0.21739130434782608, 0.21978021978021978, 0.2222222222222222, 0.22826086956521738, 0.23076923076923078, 0.23333333333333334, 0.2391304347826087, 0.24175824175824176, 0.25555555555555554, 0.2608695652173913, 0.2717391304347826, 0.27472527472527475, 0.2826086956521739, 0.28888888888888886, 0.29347826086956524, 0.2967032967032967, 0.3, 0.30434782608695654, 0.3076923076923077, 0.3111111111111111, 0.31521739130434784, 0.31868131868131866, 0.3333333333333333, 0.33695652173913043, 0.34782608695652173, 0.3516483516483517, 0.358695652173913, 0.36666666666666664, 0.3695652173913043, 0.37362637362637363, 0.37777777777777777, 0.3804347826086957, 0.38461538461538464, 0.3888888888888889, 0.391304347826087, 0.3956043956043956, 0.4111111111111111, 0.41304347826086957, 0.42391304347826086, 0.42857142857142855, 0.43478260869565216, 0.4444444444444444, 0.44565217391304346, 0.45054945054945056, 0.45555555555555555, 0.45652173913043476, 0.46153846153846156, 0.4666666666666667, 0.4673913043478261, 0.4725274725274725, 0.4888888888888889, 0.4891304347826087, 0.5, 0.5054945054945055, 0.5108695652173914, 0.5217391304347826, 0.5222222222222223, 0.5274725274725275, 0.532608695652174, 0.5333333333333333, 0.5384615384615384, 0.5434782608695652, 0.5444444444444444, 0.5494505494505495, 0.5652173913043478, 0.5666666666666667, 0.5760869565217391, 0.5824175824175825, 0.5869565217391305, 0.5978260869565217, 0.6, 0.6043956043956044, 0.6086956521739131, 0.6111111111111112, 0.6153846153846154, 0.6195652173913043, 0.6222222222222222, 0.6263736263736264, 0.6413043478260869, 0.6444444444444445, 0.6521739130434783, 0.6593406593406593, 0.6630434782608695, 0.6739130434782609, 0.6777777777777778, 0.6813186813186813, 0.6847826086956522, 0.6888888888888889, 0.6923076923076923, 0.6956521739130435, 0.7, 0.7032967032967034, 0.717391304347826, 0.7222222222222222, 0.7282608695652174, 0.7362637362637363, 0.7391304347826086, 0.75, 0.7555555555555555, 0.7582417582417582, 0.7608695652173914, 0.7666666666666667, 0.7692307692307693, 0.7717391304347826, 0.7777777777777778, 0.7802197802197802, 0.7934782608695652, 0.8, 0.8043478260869565, 0.8131868131868132, 0.8152173913043478, 0.8260869565217391, 0.8333333333333334, 0.8351648351648352, 0.8369565217391305, 0.8444444444444444, 0.8461538461538461, 0.8478260869565217, 0.8555555555555555, 0.8571428571428571, 0.8695652173913043, 0.8777777777777778, 0.8804347826086957, 0.8901098901098901, 0.8913043478260869, 0.9021739130434783, 0.9111111111111111, 0.9120879120879121, 0.9130434782608695, 0.9222222222222223, 0.9230769230769231, 0.9239130434782609, 0.9333333333333333, 0.9340659340659341, 0.9456521739130435, 0.9555555555555556, 0.9565217391304348, 0.967032967032967, 0.967391304347826, 0.9782608695652174, 0.9888888888888889, 0.989010989010989, 0.9891304347826086], \"xaxis\": \"x4\", \"y\": [-69.74430203399257, -118.83678734370713, -119.33677017679955, -161.58427299299055, -191.0340349698896, -210.82724276856575, -211.43294132124873, -219.23722739189307, -219.49991331177284, -217.19843468738628, -216.73749152157953, -216.22818962139564, -206.58343691254368, -205.48243573507534, -204.3215522434458, -189.98865946035838, -188.34293714460077, -166.4613351593646, -151.09037357505989, -134.8252522722597, -133.18911526107405, -124.0138377236928, -122.27482386940574, -120.23847955812018, -120.32367087398615, -120.57484120367536, -124.14865543275643, -125.42431599874335, -126.90676390557604, -135.4150222868943, -137.9040967739849, -160.08522352951024, -174.28692358196454, -197.3958871382557, -201.92319692198856, -219.41079671417506, -227.7356439878385, -237.72990570227034, -241.03161323379317, -244.08941518633347, -250.15578174334107, -252.0071962124154, -253.47285800661325, -255.1404666867686, -255.1277481198471, -247.17955911911702, -240.74080828211345, -222.5100419724707, -216.48633303464808, -198.97746069201324, -183.8208564414504, -172.3633694421409, -164.23422435526172, -155.9350253857931, -145.11990870916475, -136.98743317796743, -128.9166031621051, -119.63746512940877, -112.23324287187704, -86.38010765960968, -81.55885652923195, -71.14328950638966, -68.90878676515388, -66.6091921707965, -66.52622933568031, -67.05194800779796, -68.19087339931583, -69.74336601030858, -70.88946926656487, -72.8439011554283, -74.91428530505785, -76.0643230038486, -77.98031783613249, -81.52549145444183, -81.40272769417405, -77.50839142074186, -73.97108972863356, -67.35257931493567, -52.63702807881453, -50.42455399459443, -40.64107684655708, -29.36593012098792, -27.051525731658167, -14.37961202225255, -0.4234082384577036, 1.6188182935782187, 16.499730409419218, 66.1978212013808, 66.92871791826825, 98.59737142053706, 113.19914957336354, 126.17230286757794, 147.41922849745356, 148.18788108226275, 155.488251371096, 160.68957615561177, 161.26435528854154, 164.19004377893114, 165.10952320644938, 165.06730521629277, 163.7354130008262, 148.29486564306745, 146.12356306215517, 129.61989359327495, 116.73258963968482, 106.93833471180741, 82.88916585792937, 78.15586341106547, 68.83788001878814, 60.183521767111195, 55.578724877354354, 47.97575930389493, 41.31319581759718, 37.52595282519663, 32.369582357656164, 22.426494114583367, 22.161041610113447, 24.23924645998696, 29.503428457141258, 33.3911792020879, 48.77230814134908, 55.4294548506754, 61.95248079970505, 68.65179230928553, 76.90066293693123, 83.93912964351503, 90.90149729854336, 99.95683213365334, 106.74645053423207, 133.61319434153955, 141.5436765371898, 150.2343687262466, 159.40134358396833, 161.99408868627933, 168.47592018142336, 169.82843785305676, 170.04724213809487, 170.0078295473339, 169.12527917600463, 168.43010158547025, 167.59773972839943, 165.1054852105563, 163.9555910644295, 157.40733944699298, 154.70773074621667, 153.3664273873922, 152.2321797407513, 152.32990107721992, 155.49724356540133, 160.2401066791069, 161.7747074810709, 163.40394127850342, 171.51410311346217, 173.63923977816367, 175.80741824324556, 186.82158165244735, 189.24996425375167, 209.22672213750164, 222.23066825645674, 226.18084807154787, 238.65401920732572, 239.9254880964135, 247.84760144224492, 248.3510195754691, 248.02595671223406, 247.63125459695266, 239.80757057644757, 238.6949222458999, 237.54161355003328, 220.07197061194478, 218.3683813029266, 185.00038934716292, 147.64301517082967, 143.6151121181628, 96.18875283051163, 94.47197883350411, 40.31817234411753, -14.342562292007337, -14.96756829049503, -15.578779151545913], \"yaxis\": \"y4\"}, {\"mode\": \"lines\", \"name\": \"YEARLY_SEASONALITY\", \"opacity\": 0.8, \"showlegend\": false, \"type\": \"scatter\", \"x\": [0.0, 0.005479452054794521, 0.010958904109589041, 0.0136986301369863, 0.01643835616438356, 0.019178082191780823, 0.024657534246575342, 0.030136986301369864, 0.03287671232876712, 0.03561643835616438, 0.038356164383561646, 0.043835616438356165, 0.049315068493150684, 0.052054794520547946, 0.0547945205479452, 0.057534246575342465, 0.06301369863013699, 0.0684931506849315, 0.07123287671232877, 0.07397260273972603, 0.07671232876712329, 0.0821917808219178, 0.08767123287671233, 0.09041095890410959, 0.09315068493150686, 0.0958904109589041, 0.10136986301369863, 0.10684931506849316, 0.1095890410958904, 0.11232876712328767, 0.11506849315068493, 0.12054794520547946, 0.12602739726027398, 0.12876712328767123, 0.13150684931506848, 0.13424657534246576, 0.13972602739726028, 0.14520547945205478, 0.14794520547945206, 0.1506849315068493, 0.15342465753424658, 0.1589041095890411, 0.16164383561643836, 0.16712328767123288, 0.16986301369863013, 0.1726027397260274, 0.1780821917808219, 0.18082191780821918, 0.1863013698630137, 0.18904109589041096, 0.1917808219178082, 0.19726027397260273, 0.2, 0.2054794520547945, 0.20821917808219179, 0.21095890410958903, 0.21643835616438356, 0.2191780821917808, 0.22465753424657534, 0.2273972602739726, 0.23013698630136986, 0.2356164383561644, 0.23835616438356164, 0.24383561643835616, 0.2465753424657534, 0.2493150684931507, 0.25753424657534246, 0.26301369863013696, 0.26575342465753427, 0.2684931506849315, 0.27671232876712326, 0.2821917808219178, 0.28493150684931506, 0.2876712328767123, 0.2958904109589041, 0.3013698630136986, 0.3041095890410959, 0.30684931506849317, 0.3150684931506849, 0.32054794520547947, 0.3232876712328767, 0.32602739726027397, 0.33424657534246577, 0.33972602739726027, 0.3424657534246575, 0.3452054794520548, 0.35342465753424657, 0.3589041095890411, 0.36164383561643837, 0.3643835616438356, 0.3726027397260274, 0.3780821917808219, 0.38082191780821917, 0.3835616438356164, 0.3917808219178082, 0.3972602739726027, 0.4, 0.40273972602739727, 0.410958904109589, 0.41643835616438357, 0.4191780821917808, 0.42191780821917807, 0.4301369863013699, 0.43561643835616437, 0.4383561643835616, 0.4410958904109589, 0.44931506849315067, 0.4547945205479452, 0.4575342465753425, 0.4602739726027397, 0.4684931506849315, 0.473972602739726, 0.4767123287671233, 0.4794520547945205, 0.4876712328767123, 0.4931506849315068, 0.4958904109589041, 0.4986301369863014, 0.5068493150684932, 0.5123287671232877, 0.5150684931506849, 0.5178082191780822, 0.5260273972602739, 0.5315068493150685, 0.5342465753424658, 0.536986301369863, 0.5452054794520548, 0.5506849315068493, 0.5534246575342465, 0.5561643835616439, 0.5643835616438356, 0.5698630136986301, 0.5726027397260274, 0.5753424657534246, 0.5835616438356165, 0.589041095890411, 0.5917808219178082, 0.5945205479452055, 0.6027397260273972, 0.6082191780821918, 0.6109589041095891, 0.6136986301369863, 0.6219178082191781, 0.6273972602739726, 0.6301369863013698, 0.6328767123287671, 0.6410958904109589, 0.6465753424657534, 0.6493150684931507, 0.6520547945205479, 0.6602739726027397, 0.6657534246575343, 0.6684931506849315, 0.6712328767123288, 0.6794520547945205, 0.684931506849315, 0.6876712328767123, 0.6904109589041096, 0.6986301369863014, 0.7041095890410959, 0.7068493150684931, 0.7095890410958904, 0.7178082191780822, 0.7232876712328767, 0.726027397260274, 0.7287671232876712, 0.736986301369863, 0.7424657534246575, 0.7452054794520548, 0.7479452054794521, 0.7561643835616438, 0.7616438356164383, 0.7643835616438356, 0.7671232876712328, 0.7753424657534247, 0.7808219178082192, 0.7835616438356164, 0.7863013698630137, 0.7945205479452054, 0.8, 0.8027397260273973, 0.8054794520547945, 0.8136986301369863, 0.8191780821917808, 0.821917808219178, 0.8246575342465754, 0.8328767123287671, 0.8383561643835616, 0.8410958904109589, 0.8438356164383561, 0.852054794520548, 0.8575342465753425, 0.8602739726027397, 0.863013698630137, 0.8712328767123287, 0.8767123287671232, 0.8794520547945206, 0.8821917808219178, 0.8904109589041096, 0.8958904109589041, 0.8986301369863013, 0.9013698630136986, 0.9095890410958904, 0.915068493150685, 0.9178082191780822, 0.9205479452054794, 0.9287671232876712, 0.9342465753424658, 0.936986301369863, 0.9397260273972603, 0.947945205479452, 0.9534246575342465, 0.9561643835616438, 0.958904109589041, 0.9671232876712329, 0.9726027397260274, 0.9753424657534246, 0.9780821917808219, 0.9863013698630136, 0.9917808219178083, 0.9945205479452055, 0.9972602739726028], \"xaxis\": \"x5\", \"y\": [680.4726281202663, 783.668704698032, 882.0889312362605, 926.3507962563215, 964.2445913105098, 994.9401180286482, 1030.6569633293684, 1028.7714082479893, 1013.025804706496, 988.6769143777605, 956.267838999269, 872.0045710872594, 774.1009718202115, 719.2481500439368, 667.7667516310892, 618.650065252128, 533.1200247128404, 473.7935575901468, 453.11457013325986, 442.35838721491365, 440.2392905892438, 462.2495532128896, 515.1033010409215, 558.0396449086436, 605.0113704431565, 658.4546118367633, 781.4908137715476, 911.995971415368, 991.4891044955822, 1063.6104089791575, 1134.6039572885866, 1267.5917275435202, 1373.0828072587854, 1423.8801976739378, 1459.5512669772563, 1485.466840069253, 1506.2097359344418, 1488.7031698035419, 1462.0571847085132, 1430.6269246194172, 1393.3422416577334, 1309.3857256688625, 1234.4017463321015, 1194.811743297961, 1168.8988833930337, 1152.430946835975, 1153.0376625485517, 1195.1496471492358, 1242.5282916426045, 1292.7736790002637, 1350.0174760189009, 1473.9299448359109, 1577.311866728695, 1631.1288208324227, 1661.2446974142194, 1674.5835533041952, 1640.5350812118375, 1533.578744264773, 1417.0827915177933, 1296.8943596527408, 1156.4524288923171, 826.4651044869191, 501.729467590125, 266.8181152049286, 80.56398425742074, -98.21311373395125, -639.4459537173575, -760.691395086816, -832.4283404858319, -882.7195281580022, -906.1007209304212, -869.8590420813823, -832.4334996851991, -790.3847491374225, -638.6562755341082, -599.7834303360363, -577.469226889173, -562.0347684719579, -555.4856569813685, -565.202316068852, -573.7120238551, -581.7398314325386, -591.1620704981211, -583.4224165253593, -573.7787768214313, -561.4045855372666, -506.1259245923846, -487.7143510192909, -476.82205924626544, -468.8535101049419, -467.2803107332634, -476.34310584275454, -484.9393173090146, -494.3403636817684, -522.5950194305262, -526.6816792231949, -526.4079849844688, -523.4528810520649, -496.19153117289795, -482.70939825619035, -474.0756925951299, -467.05843168748214, -463.5460231626888, -473.2538433528381, -483.46537865432055, -495.9131548616224, -546.5277214544363, -563.5651720225418, -571.9426706690961, -576.7871400040356, -560.5925144885618, -538.9684408249258, -520.37135271813, -499.5317720062093, -422.4858175682527, -395.1741768278578, -380.6837163682575, -369.93673148011175, -364.48057973264196, -376.09967089962095, -387.1305357553055, -399.9095650697943, -445.70303319822176, -460.40343615993226, -466.62659371580673, -469.7128580619003, -455.152592102788, -437.5061945042239, -423.5058272248351, -408.1353944215351, -352.90342397634123, -330.4490486338169, -317.96464874802894, -307.17921293314066, -283.80438593606993, -279.3933853052433, -278.2907492616841, -278.2590603968859, -283.8991236562495, -288.7087693723617, -292.2411206317038, -296.1596368169421, -312.13370145169176, -321.0990860482145, -326.8695894374964, -332.69386950295143, -350.7735990392415, -357.595730155685, -360.80854282974315, -363.26025636400146, -366.7570067323512, -367.2383851567711, -367.82468539032465, -369.02035069641664, -381.1755098009083, -393.9595317535692, -403.90927360839305, -415.50144675158776, -462.13528598710735, -487.71649560056244, -501.940038864676, -514.9270649361301, -543.7270949933654, -548.2012424648501, -547.3279982478726, -544.1159674315966, -521.7938991723429, -506.6490056546645, -498.2960789673142, -490.7631876387861, -475.37029181683545, -473.3768830581383, -473.78238863199147, -474.8425955018817, -476.8576055024259, -472.4329078635629, -466.9619718093773, -458.9757059511033, -415.6939484825805, -381.2980635658098, -360.08723100194885, -338.11146084435615, -269.91638147034195, -237.22129231056786, -222.22602423588907, -209.63241267566252, -185.29469886819663, -179.98681443447754, -178.80665462902832, -178.3177973858357, -177.3251958547393, -175.00704780348843, -173.02790914979914, -170.66099331878343, -163.05215672906937, -160.59970240975258, -160.46895294310346, -161.2262878670523, -167.59545216591266, -170.96773974652623, -171.01907043903807, -169.02671147325026, -143.28617740247716, -108.18711251667239, -83.3947662784032, -54.380531443748154, 55.82300245121859, 133.609704458213, 173.6336910865044, 212.08984066303057, 310.53543509462014, 352.9311808734139, 368.07181689256186, 379.1463402961264, 395.6447005787812, 403.11286027264373, 409.53585621101183, 419.2726156250444, 477.5518871860375, 543.9113605287328, 585.3423675239303, 631.2188991222217], \"yaxis\": \"y5\"}, {\"mode\": \"lines\", \"name\": \"events\", \"opacity\": 0.8, \"showlegend\": false, \"type\": \"scatter\", \"x\": [\"2017-01-01T00:00:00\", \"2017-01-08T00:00:00\", \"2017-01-15T00:00:00\", \"2017-01-22T00:00:00\", \"2017-01-29T00:00:00\", \"2017-02-05T00:00:00\", \"2017-02-12T00:00:00\", \"2017-02-19T00:00:00\", \"2017-02-26T00:00:00\", \"2017-03-05T00:00:00\", \"2017-03-12T00:00:00\", \"2017-03-19T00:00:00\", \"2017-03-26T00:00:00\", \"2017-04-02T00:00:00\", \"2017-04-09T00:00:00\", \"2017-04-16T00:00:00\", \"2017-04-23T00:00:00\", \"2017-04-30T00:00:00\", \"2017-05-07T00:00:00\", \"2017-05-14T00:00:00\", \"2017-05-21T00:00:00\", \"2017-05-28T00:00:00\", \"2017-06-04T00:00:00\", \"2017-06-11T00:00:00\", \"2017-06-18T00:00:00\", \"2017-06-25T00:00:00\", \"2017-07-02T00:00:00\", \"2017-07-09T00:00:00\", \"2017-07-16T00:00:00\", \"2017-07-23T00:00:00\", \"2017-07-30T00:00:00\", \"2017-08-06T00:00:00\", \"2017-08-13T00:00:00\", \"2017-08-20T00:00:00\", \"2017-08-27T00:00:00\", \"2017-09-03T00:00:00\", \"2017-09-10T00:00:00\", \"2017-09-17T00:00:00\", \"2017-09-24T00:00:00\", \"2017-10-01T00:00:00\", \"2017-10-08T00:00:00\", \"2017-10-15T00:00:00\", \"2017-10-22T00:00:00\", \"2017-10-29T00:00:00\", \"2017-11-05T00:00:00\", \"2017-11-12T00:00:00\", \"2017-11-19T00:00:00\", \"2017-11-26T00:00:00\", \"2017-12-03T00:00:00\", \"2017-12-10T00:00:00\", \"2017-12-17T00:00:00\", \"2017-12-24T00:00:00\", \"2017-12-31T00:00:00\", \"2018-01-07T00:00:00\", \"2018-01-14T00:00:00\", \"2018-01-21T00:00:00\", \"2018-01-28T00:00:00\", \"2018-02-04T00:00:00\", \"2018-02-11T00:00:00\", \"2018-02-18T00:00:00\", \"2018-02-25T00:00:00\", \"2018-03-04T00:00:00\", \"2018-03-11T00:00:00\", \"2018-03-18T00:00:00\", \"2018-03-25T00:00:00\", \"2018-04-01T00:00:00\", \"2018-04-08T00:00:00\", \"2018-04-15T00:00:00\", \"2018-04-22T00:00:00\", \"2018-04-29T00:00:00\", \"2018-05-06T00:00:00\", \"2018-05-13T00:00:00\", \"2018-05-20T00:00:00\", \"2018-05-27T00:00:00\", \"2018-06-03T00:00:00\", \"2018-06-10T00:00:00\", \"2018-06-17T00:00:00\", \"2018-06-24T00:00:00\", \"2018-07-01T00:00:00\", \"2018-07-08T00:00:00\", \"2018-07-15T00:00:00\", \"2018-07-22T00:00:00\", \"2018-07-29T00:00:00\", \"2018-08-05T00:00:00\", \"2018-08-12T00:00:00\", \"2018-08-19T00:00:00\", \"2018-08-26T00:00:00\", \"2018-09-02T00:00:00\", \"2018-09-09T00:00:00\", \"2018-09-16T00:00:00\", \"2018-09-23T00:00:00\", \"2018-09-30T00:00:00\", \"2018-10-07T00:00:00\", \"2018-10-14T00:00:00\", \"2018-10-21T00:00:00\", \"2018-10-28T00:00:00\", \"2018-11-04T00:00:00\", \"2018-11-11T00:00:00\", \"2018-11-18T00:00:00\", \"2018-11-25T00:00:00\", \"2018-12-02T00:00:00\", \"2018-12-09T00:00:00\", \"2018-12-16T00:00:00\", \"2018-12-23T00:00:00\", \"2018-12-30T00:00:00\", \"2019-01-06T00:00:00\", \"2019-01-13T00:00:00\", \"2019-01-20T00:00:00\", \"2019-01-27T00:00:00\", \"2019-02-03T00:00:00\", \"2019-02-10T00:00:00\", \"2019-02-17T00:00:00\", \"2019-02-24T00:00:00\", \"2019-03-03T00:00:00\", \"2019-03-10T00:00:00\", \"2019-03-17T00:00:00\", \"2019-03-24T00:00:00\", \"2019-03-31T00:00:00\", \"2019-04-07T00:00:00\", \"2019-04-14T00:00:00\", \"2019-04-21T00:00:00\", \"2019-04-28T00:00:00\", \"2019-05-05T00:00:00\", \"2019-05-12T00:00:00\", \"2019-05-19T00:00:00\", \"2019-05-26T00:00:00\", \"2019-06-02T00:00:00\", \"2019-06-09T00:00:00\", \"2019-06-16T00:00:00\", \"2019-06-23T00:00:00\", \"2019-06-30T00:00:00\", \"2019-07-07T00:00:00\", \"2019-07-14T00:00:00\", \"2019-07-21T00:00:00\", \"2019-07-28T00:00:00\", \"2019-08-04T00:00:00\", \"2019-08-11T00:00:00\", \"2019-08-18T00:00:00\", \"2019-08-25T00:00:00\", \"2019-09-01T00:00:00\", \"2019-09-08T00:00:00\", \"2019-09-15T00:00:00\", \"2019-09-22T00:00:00\", \"2019-09-29T00:00:00\", \"2019-10-06T00:00:00\", \"2019-10-13T00:00:00\", \"2019-10-20T00:00:00\", \"2019-10-27T00:00:00\", \"2019-11-03T00:00:00\", \"2019-11-10T00:00:00\", \"2019-11-17T00:00:00\", \"2019-11-24T00:00:00\", \"2019-12-01T00:00:00\", \"2019-12-08T00:00:00\", \"2019-12-15T00:00:00\", \"2019-12-22T00:00:00\", \"2019-12-29T00:00:00\", \"2020-01-05T00:00:00\", \"2020-01-12T00:00:00\", \"2020-01-19T00:00:00\", \"2020-01-26T00:00:00\", \"2020-02-02T00:00:00\", \"2020-02-09T00:00:00\", \"2020-02-16T00:00:00\", \"2020-02-23T00:00:00\", \"2020-03-01T00:00:00\", \"2020-03-08T00:00:00\", \"2020-03-15T00:00:00\", \"2020-03-22T00:00:00\", \"2020-03-29T00:00:00\", \"2020-04-05T00:00:00\", \"2020-04-12T00:00:00\", \"2020-04-19T00:00:00\", \"2020-04-26T00:00:00\", \"2020-05-03T00:00:00\", \"2020-05-10T00:00:00\", \"2020-05-17T00:00:00\", \"2020-05-24T00:00:00\", \"2020-05-31T00:00:00\", \"2020-06-07T00:00:00\", \"2020-06-14T00:00:00\", \"2020-06-21T00:00:00\", \"2020-06-28T00:00:00\", \"2020-07-05T00:00:00\", \"2020-07-12T00:00:00\", \"2020-07-19T00:00:00\", \"2020-07-26T00:00:00\", \"2020-08-02T00:00:00\", \"2020-08-09T00:00:00\", \"2020-08-16T00:00:00\", \"2020-08-23T00:00:00\", \"2020-08-30T00:00:00\", \"2020-09-06T00:00:00\", \"2020-09-13T00:00:00\", \"2020-09-20T00:00:00\", \"2020-09-27T00:00:00\", \"2020-10-04T00:00:00\", \"2020-10-11T00:00:00\", \"2020-10-18T00:00:00\", \"2020-10-25T00:00:00\", \"2020-11-01T00:00:00\", \"2020-11-08T00:00:00\", \"2020-11-15T00:00:00\", \"2020-11-22T00:00:00\", \"2020-11-29T00:00:00\", \"2020-12-06T00:00:00\", \"2020-12-13T00:00:00\", \"2020-12-20T00:00:00\", \"2020-12-27T00:00:00\", \"2021-01-03T00:00:00\", \"2021-01-10T00:00:00\", \"2021-01-17T00:00:00\", \"2021-01-24T00:00:00\", \"2021-01-31T00:00:00\", \"2021-02-07T00:00:00\", \"2021-02-14T00:00:00\", \"2021-02-21T00:00:00\", \"2021-02-28T00:00:00\", \"2021-03-07T00:00:00\", \"2021-03-14T00:00:00\", \"2021-03-21T00:00:00\", \"2021-03-28T00:00:00\"], \"xaxis\": \"x6\", \"y\": [-157.8433062021457, 0.0, -38.18240137714949, 0.0, 117.58681757291117, 0.0, 0.0, -47.68887108786499, 0.0, 0.0, -47.68887108786499, -3.955815912946635, 0.0, -49.21160044628796, -45.89797698058625, -125.07223107997847, 0.0, -71.81584572541695, -47.68887108786499, 0.0, 0.0, -117.28578995433668, -93.58684806845125, 0.0, 0.0, -96.90047153415296, -12.479969332611745, 0.0, -3.955815912946635, 0.0, 0.0, -47.68887108786499, -61.691569778899705, 0.0, -47.68887108786499, -63.83210537312443, -3.955815912946635, 0.0, 0.0, -142.79844851473922, -47.68887108786499, 0.0, 0.0, 0.0, 0.0, 4.338632444301851, 0.0, 0.0, -3.955815912946635, 0.0, 0.0, -80.98349503664453, -72.00841951135236, 0.0, -93.58684806845125, 0.0, -3.955815912946635, 0.0, 0.0, 183.11787083612919, 0.0, -3.955815912946635, 0.0, -38.18240137714949, -45.89797698058625, -125.07223107997847, 0.0, 0.0, 0.0, -42.998697379123776, -96.90047153415296, 0.0, -93.58684806845125, -68.07418950804872, 0.0, 0.0, -42.13821729009612, 0.0, 0.0, 0.0, 9.5064697107155, 0.0, 0.0, -47.68887108786499, 0.0, 0.0, -47.68887108786499, -24.126974637551967, 9.5064697107155, 0.0, -51.64468700081162, -96.90047153415296, -47.68887108786499, 0.0, 0.0, 0.0, -3.955815912946635, -99.90963073975225, 0.0, 0.0, -3.955815912946635, 0.0, 0.0, -65.05270273396403, -111.1259524194947, 0.0, -47.68887108786499, -47.68887108786499, 9.5064697107155, -17.309242330624308, 0.0, -47.68887108786499, 0.0, 0.0, 0.0, -93.58684806845125, 0.0, 0.0, -3.955815912946635, -45.89797698058625, -125.07223107997847, 0.0, -47.68887108786499, 0.0, 0.0, -68.07418950804872, 0.0, -97.54266398139788, 0.0, 0.0, 0.0, 0.0, -49.853792893532884, 0.0, 0.0, -47.68887108786499, -47.68887108786499, 0.0, -47.68887108786499, -24.126974637551967, -95.10957742687421, -3.955815912946635, 0.0, -49.21160044628796, 0.0, -47.68887108786499, 0.0, -45.89797698058625, 5.550653797768865, -99.10363140147106, 0.0, 0.0, 9.5064697107155, 0.0, 0.0, 0.0, -47.68887108786499, 0.0, -49.21160044628796, -47.68887108786499, 71.68884059232491, 0.0, 0.0, -47.68887108786499, 0.0, 0.0, -47.68887108786499, -49.21160044628796, 0.0, 0.0, -36.39150726987075, -125.07223107997847, 0.0, 0.0, -11.031652215562227, -3.955815912946635, 0.0, -113.97216648863497, -93.58684806845125, 0.0, 0.0, 0.0, 0.0, -14.756115594734615, -95.10957742687421, 0.0, 0.0, -47.68887108786499, 0.0, -1.2938299710724799, 0.0, -38.18240137714949, -63.83210537312443, 0.0, 0.0, 0.0, 5.550653797768865, -47.68887108786499, 0.0, 9.5064697107155, -93.58684806845125, 0.0, 9.5064697107155, 0.0, -47.68887108786499, 0.0, 0.0, 0.0, -9.031269450613522, 8.305181963569225, 0.0, -47.68887108786499, -49.21160044628796, 0.0, 0.0, 183.11787083612919, 0.0, 0.0, 0.0, 0.0, 0.0, -45.89797698058625], \"yaxis\": \"y6\"}],                        {\"height\": 2100, \"showlegend\": true, \"template\": {\"data\": {\"bar\": [{\"error_x\": {\"color\": \"#2a3f5f\"}, \"error_y\": {\"color\": \"#2a3f5f\"}, \"marker\": {\"line\": {\"color\": \"#E5ECF6\", \"width\": 0.5}}, \"type\": \"bar\"}], \"barpolar\": [{\"marker\": {\"line\": {\"color\": \"#E5ECF6\", \"width\": 0.5}}, \"type\": \"barpolar\"}], \"carpet\": [{\"aaxis\": {\"endlinecolor\": \"#2a3f5f\", \"gridcolor\": \"white\", \"linecolor\": \"white\", \"minorgridcolor\": \"white\", \"startlinecolor\": \"#2a3f5f\"}, \"baxis\": {\"endlinecolor\": \"#2a3f5f\", \"gridcolor\": \"white\", \"linecolor\": \"white\", \"minorgridcolor\": \"white\", \"startlinecolor\": \"#2a3f5f\"}, \"type\": \"carpet\"}], \"choropleth\": [{\"colorbar\": {\"outlinewidth\": 0, \"ticks\": \"\"}, \"type\": \"choropleth\"}], \"contour\": [{\"colorbar\": {\"outlinewidth\": 0, \"ticks\": \"\"}, \"colorscale\": [[0.0, \"#0d0887\"], [0.1111111111111111, \"#46039f\"], [0.2222222222222222, \"#7201a8\"], [0.3333333333333333, \"#9c179e\"], [0.4444444444444444, \"#bd3786\"], [0.5555555555555556, \"#d8576b\"], [0.6666666666666666, \"#ed7953\"], [0.7777777777777778, \"#fb9f3a\"], [0.8888888888888888, \"#fdca26\"], [1.0, \"#f0f921\"]], \"type\": \"contour\"}], \"contourcarpet\": [{\"colorbar\": {\"outlinewidth\": 0, \"ticks\": \"\"}, \"type\": \"contourcarpet\"}], \"heatmap\": [{\"colorbar\": {\"outlinewidth\": 0, \"ticks\": \"\"}, \"colorscale\": [[0.0, \"#0d0887\"], [0.1111111111111111, \"#46039f\"], [0.2222222222222222, \"#7201a8\"], [0.3333333333333333, \"#9c179e\"], [0.4444444444444444, \"#bd3786\"], [0.5555555555555556, \"#d8576b\"], [0.6666666666666666, \"#ed7953\"], [0.7777777777777778, \"#fb9f3a\"], [0.8888888888888888, \"#fdca26\"], [1.0, \"#f0f921\"]], \"type\": \"heatmap\"}], \"heatmapgl\": [{\"colorbar\": {\"outlinewidth\": 0, \"ticks\": \"\"}, \"colorscale\": [[0.0, \"#0d0887\"], [0.1111111111111111, \"#46039f\"], [0.2222222222222222, \"#7201a8\"], [0.3333333333333333, \"#9c179e\"], [0.4444444444444444, \"#bd3786\"], [0.5555555555555556, \"#d8576b\"], [0.6666666666666666, \"#ed7953\"], [0.7777777777777778, \"#fb9f3a\"], [0.8888888888888888, \"#fdca26\"], [1.0, \"#f0f921\"]], \"type\": \"heatmapgl\"}], \"histogram\": [{\"marker\": {\"colorbar\": {\"outlinewidth\": 0, \"ticks\": \"\"}}, \"type\": \"histogram\"}], \"histogram2d\": [{\"colorbar\": {\"outlinewidth\": 0, \"ticks\": \"\"}, \"colorscale\": [[0.0, \"#0d0887\"], [0.1111111111111111, \"#46039f\"], [0.2222222222222222, \"#7201a8\"], [0.3333333333333333, \"#9c179e\"], [0.4444444444444444, \"#bd3786\"], [0.5555555555555556, \"#d8576b\"], [0.6666666666666666, \"#ed7953\"], [0.7777777777777778, \"#fb9f3a\"], [0.8888888888888888, \"#fdca26\"], [1.0, \"#f0f921\"]], \"type\": \"histogram2d\"}], \"histogram2dcontour\": [{\"colorbar\": {\"outlinewidth\": 0, \"ticks\": \"\"}, \"colorscale\": [[0.0, \"#0d0887\"], [0.1111111111111111, \"#46039f\"], [0.2222222222222222, \"#7201a8\"], [0.3333333333333333, \"#9c179e\"], [0.4444444444444444, \"#bd3786\"], [0.5555555555555556, \"#d8576b\"], [0.6666666666666666, \"#ed7953\"], [0.7777777777777778, \"#fb9f3a\"], [0.8888888888888888, \"#fdca26\"], [1.0, \"#f0f921\"]], \"type\": \"histogram2dcontour\"}], \"mesh3d\": [{\"colorbar\": {\"outlinewidth\": 0, \"ticks\": \"\"}, \"type\": \"mesh3d\"}], \"parcoords\": [{\"line\": {\"colorbar\": {\"outlinewidth\": 0, \"ticks\": \"\"}}, \"type\": \"parcoords\"}], \"pie\": [{\"automargin\": true, \"type\": \"pie\"}], \"scatter\": [{\"marker\": {\"colorbar\": {\"outlinewidth\": 0, \"ticks\": \"\"}}, \"type\": \"scatter\"}], \"scatter3d\": [{\"line\": {\"colorbar\": {\"outlinewidth\": 0, \"ticks\": \"\"}}, \"marker\": {\"colorbar\": {\"outlinewidth\": 0, \"ticks\": \"\"}}, \"type\": \"scatter3d\"}], \"scattercarpet\": [{\"marker\": {\"colorbar\": {\"outlinewidth\": 0, \"ticks\": \"\"}}, \"type\": \"scattercarpet\"}], \"scattergeo\": [{\"marker\": {\"colorbar\": {\"outlinewidth\": 0, \"ticks\": \"\"}}, \"type\": \"scattergeo\"}], \"scattergl\": [{\"marker\": {\"colorbar\": {\"outlinewidth\": 0, \"ticks\": \"\"}}, \"type\": \"scattergl\"}], \"scattermapbox\": [{\"marker\": {\"colorbar\": {\"outlinewidth\": 0, \"ticks\": \"\"}}, \"type\": \"scattermapbox\"}], \"scatterpolar\": [{\"marker\": {\"colorbar\": {\"outlinewidth\": 0, \"ticks\": \"\"}}, \"type\": \"scatterpolar\"}], \"scatterpolargl\": [{\"marker\": {\"colorbar\": {\"outlinewidth\": 0, \"ticks\": \"\"}}, \"type\": \"scatterpolargl\"}], \"scatterternary\": [{\"marker\": {\"colorbar\": {\"outlinewidth\": 0, \"ticks\": \"\"}}, \"type\": \"scatterternary\"}], \"surface\": [{\"colorbar\": {\"outlinewidth\": 0, \"ticks\": \"\"}, \"colorscale\": [[0.0, \"#0d0887\"], [0.1111111111111111, \"#46039f\"], [0.2222222222222222, \"#7201a8\"], [0.3333333333333333, \"#9c179e\"], [0.4444444444444444, \"#bd3786\"], [0.5555555555555556, \"#d8576b\"], [0.6666666666666666, \"#ed7953\"], [0.7777777777777778, \"#fb9f3a\"], [0.8888888888888888, \"#fdca26\"], [1.0, \"#f0f921\"]], \"type\": \"surface\"}], \"table\": [{\"cells\": {\"fill\": {\"color\": \"#EBF0F8\"}, \"line\": {\"color\": \"white\"}}, \"header\": {\"fill\": {\"color\": \"#C8D4E3\"}, \"line\": {\"color\": \"white\"}}, \"type\": \"table\"}]}, \"layout\": {\"annotationdefaults\": {\"arrowcolor\": \"#2a3f5f\", \"arrowhead\": 0, \"arrowwidth\": 1}, \"autotypenumbers\": \"strict\", \"coloraxis\": {\"colorbar\": {\"outlinewidth\": 0, \"ticks\": \"\"}}, \"colorscale\": {\"diverging\": [[0, \"#8e0152\"], [0.1, \"#c51b7d\"], [0.2, \"#de77ae\"], [0.3, \"#f1b6da\"], [0.4, \"#fde0ef\"], [0.5, \"#f7f7f7\"], [0.6, \"#e6f5d0\"], [0.7, \"#b8e186\"], [0.8, \"#7fbc41\"], [0.9, \"#4d9221\"], [1, \"#276419\"]], \"sequential\": [[0.0, \"#0d0887\"], [0.1111111111111111, \"#46039f\"], [0.2222222222222222, \"#7201a8\"], [0.3333333333333333, \"#9c179e\"], [0.4444444444444444, \"#bd3786\"], [0.5555555555555556, \"#d8576b\"], [0.6666666666666666, \"#ed7953\"], [0.7777777777777778, \"#fb9f3a\"], [0.8888888888888888, \"#fdca26\"], [1.0, \"#f0f921\"]], \"sequentialminus\": [[0.0, \"#0d0887\"], [0.1111111111111111, \"#46039f\"], [0.2222222222222222, \"#7201a8\"], [0.3333333333333333, \"#9c179e\"], [0.4444444444444444, \"#bd3786\"], [0.5555555555555556, \"#d8576b\"], [0.6666666666666666, \"#ed7953\"], [0.7777777777777778, \"#fb9f3a\"], [0.8888888888888888, \"#fdca26\"], [1.0, \"#f0f921\"]]}, \"colorway\": [\"#636efa\", \"#EF553B\", \"#00cc96\", \"#ab63fa\", \"#FFA15A\", \"#19d3f3\", \"#FF6692\", \"#B6E880\", \"#FF97FF\", \"#FECB52\"], \"font\": {\"color\": \"#2a3f5f\"}, \"geo\": {\"bgcolor\": \"white\", \"lakecolor\": \"white\", \"landcolor\": \"#E5ECF6\", \"showlakes\": true, \"showland\": true, \"subunitcolor\": \"white\"}, \"hoverlabel\": {\"align\": \"left\"}, \"hovermode\": \"closest\", \"mapbox\": {\"style\": \"light\"}, \"paper_bgcolor\": \"white\", \"plot_bgcolor\": \"#E5ECF6\", \"polar\": {\"angularaxis\": {\"gridcolor\": \"white\", \"linecolor\": \"white\", \"ticks\": \"\"}, \"bgcolor\": \"#E5ECF6\", \"radialaxis\": {\"gridcolor\": \"white\", \"linecolor\": \"white\", \"ticks\": \"\"}}, \"scene\": {\"xaxis\": {\"backgroundcolor\": \"#E5ECF6\", \"gridcolor\": \"white\", \"gridwidth\": 2, \"linecolor\": \"white\", \"showbackground\": true, \"ticks\": \"\", \"zerolinecolor\": \"white\"}, \"yaxis\": {\"backgroundcolor\": \"#E5ECF6\", \"gridcolor\": \"white\", \"gridwidth\": 2, \"linecolor\": \"white\", \"showbackground\": true, \"ticks\": \"\", \"zerolinecolor\": \"white\"}, \"zaxis\": {\"backgroundcolor\": \"#E5ECF6\", \"gridcolor\": \"white\", \"gridwidth\": 2, \"linecolor\": \"white\", \"showbackground\": true, \"ticks\": \"\", \"zerolinecolor\": \"white\"}}, \"shapedefaults\": {\"line\": {\"color\": \"#2a3f5f\"}}, \"ternary\": {\"aaxis\": {\"gridcolor\": \"white\", \"linecolor\": \"white\", \"ticks\": \"\"}, \"baxis\": {\"gridcolor\": \"white\", \"linecolor\": \"white\", \"ticks\": \"\"}, \"bgcolor\": \"#E5ECF6\", \"caxis\": {\"gridcolor\": \"white\", \"linecolor\": \"white\", \"ticks\": \"\"}}, \"title\": {\"x\": 0.05}, \"xaxis\": {\"automargin\": true, \"gridcolor\": \"white\", \"linecolor\": \"white\", \"ticks\": \"\", \"title\": {\"standoff\": 15}, \"zerolinecolor\": \"white\", \"zerolinewidth\": 2}, \"yaxis\": {\"automargin\": true, \"gridcolor\": \"white\", \"linecolor\": \"white\", \"ticks\": \"\", \"title\": {\"standoff\": 15}, \"zerolinecolor\": \"white\", \"zerolinewidth\": 2}}}, \"title\": {\"text\": \"Component plots\", \"x\": 0.5}, \"xaxis\": {\"anchor\": \"y\", \"domain\": [0.0, 1.0], \"mirror\": true, \"showline\": true, \"title\": {\"text\": \"ts\"}}, \"xaxis2\": {\"anchor\": \"y2\", \"domain\": [0.0, 1.0], \"mirror\": true, \"showline\": true, \"title\": {\"text\": \"ts\"}}, \"xaxis3\": {\"anchor\": \"y3\", \"domain\": [0.0, 1.0], \"mirror\": true, \"showline\": true, \"title\": {\"text\": \"Time of month\"}}, \"xaxis4\": {\"anchor\": \"y4\", \"domain\": [0.0, 1.0], \"mirror\": true, \"showline\": true, \"title\": {\"text\": \"Time of quarter\"}}, \"xaxis5\": {\"anchor\": \"y5\", \"domain\": [0.0, 1.0], \"mirror\": true, \"showline\": true, \"title\": {\"text\": \"Time of year\"}}, \"xaxis6\": {\"anchor\": \"y6\", \"domain\": [0.0, 1.0], \"mirror\": true, \"showline\": true, \"title\": {\"text\": \"ts\"}}, \"yaxis\": {\"anchor\": \"x\", \"domain\": [0.8819444444444444, 1.0], \"mirror\": true, \"showline\": true, \"title\": {\"text\": \"y\"}}, \"yaxis2\": {\"anchor\": \"x2\", \"domain\": [0.7055555555555556, 0.8236111111111112], \"mirror\": true, \"showline\": true, \"title\": {\"text\": \"trend\"}}, \"yaxis3\": {\"anchor\": \"x3\", \"domain\": [0.5291666666666667, 0.6472222222222223], \"mirror\": true, \"showline\": true, \"title\": {\"text\": \"monthly\"}}, \"yaxis4\": {\"anchor\": \"x4\", \"domain\": [0.3527777777777778, 0.4708333333333334], \"mirror\": true, \"showline\": true, \"title\": {\"text\": \"quarterly\"}}, \"yaxis5\": {\"anchor\": \"x5\", \"domain\": [0.1763888888888889, 0.29444444444444445], \"mirror\": true, \"showline\": true, \"title\": {\"text\": \"yearly\"}}, \"yaxis6\": {\"anchor\": \"x6\", \"domain\": [0.0, 0.11805555555555557], \"mirror\": true, \"showline\": true, \"title\": {\"text\": \"events\"}}},                        {\"responsive\": true}                    ).then(function(){\n",
       "                            \n",
       "var gd = document.getElementById('07e132a7-bc21-49b6-8063-fb364806a886');\n",
       "var x = new MutationObserver(function (mutations, observer) {{\n",
       "        var display = window.getComputedStyle(gd).display;\n",
       "        if (!display || display === 'none') {{\n",
       "            console.log([gd, 'removed!']);\n",
       "            Plotly.purge(gd);\n",
       "            observer.disconnect();\n",
       "        }}\n",
       "}});\n",
       "\n",
       "// Listen for the removal of the full notebook cells\n",
       "var notebookContainer = gd.closest('#notebook-container');\n",
       "if (notebookContainer) {{\n",
       "    x.observe(notebookContainer, {childList: true});\n",
       "}}\n",
       "\n",
       "// Listen for the clearing of the current output cell\n",
       "var outputEl = gd.closest('.output');\n",
       "if (outputEl) {{\n",
       "    x.observe(outputEl, {childList: true});\n",
       "}}\n",
       "\n",
       "                        })                };                });            </script>        </div>"
      ]
     },
     "metadata": {},
     "output_type": "display_data"
    }
   ],
   "source": [
    "fig = forecast.plot_components().show()\n"
   ]
  },
  {
   "cell_type": "markdown",
   "id": "perceived-decade",
   "metadata": {
    "papermill": {
     "duration": 0.121829,
     "end_time": "2022-05-21T20:59:48.023453",
     "exception": false,
     "start_time": "2022-05-21T20:59:47.901624",
     "status": "completed"
    },
    "tags": []
   },
   "source": [
    " <p style=\"font-size:15px;color:#1C37A6;\"> The model summary allows inspection of individual model terms. Check parameter estimates and their significance for insights on how the model works and what can be further improved.</p>\n"
   ]
  },
  {
   "cell_type": "code",
   "execution_count": 21,
   "id": "nominated-custom",
   "metadata": {
    "execution": {
     "iopub.execute_input": "2022-05-21T20:59:48.271570Z",
     "iopub.status.busy": "2022-05-21T20:59:48.270426Z",
     "iopub.status.idle": "2022-05-21T20:59:50.143540Z",
     "shell.execute_reply": "2022-05-21T20:59:50.144106Z"
    },
    "papermill": {
     "duration": 1.999724,
     "end_time": "2022-05-21T20:59:50.144283",
     "exception": false,
     "start_time": "2022-05-21T20:59:48.144559",
     "status": "completed"
    },
    "tags": []
   },
   "outputs": [
    {
     "name": "stdout",
     "output_type": "stream",
     "text": [
      "================================ Model Summary =================================\n",
      "\n",
      "Number of observations: 222,   Number of features: 96\n",
      "Method: Ridge regression\n",
      "Number of nonzero features: 73\n",
      "Regularization parameter: 376.5\n",
      "\n",
      "Residuals:\n",
      "         Min           1Q       Median           3Q          Max\n",
      "     -8482.0      -3713.0      -2063.0       -26.97    4.445e+04\n",
      "\n",
      "            Pred_col Estimate Std. Err Pr(>)_boot sig. code             95%CI\n",
      "           Intercept   4771.0    347.8     <2e-16       ***  (4240.0, 5638.0)\n",
      " events_C...New Year    69.68    79.29      0.476             (-38.83, 249.6)\n",
      " events_C...w Year-1   -21.77    14.17      0.080         .      (-52.78, 0.)\n",
      " events_C...w Year-2   -17.31    16.17      0.144                (-56.96, 0.)\n",
      " events_C...w Year+1    69.68    79.29      0.476             (-38.83, 249.6)\n",
      " events_C...w Year+2    91.45    77.53      0.098         .       (0., 268.5)\n",
      "events_Christmas Day       0.       0.      1.000                    (0., 0.)\n",
      " events_C...as Day-1    15.92    14.18      0.156                 (0., 44.02)\n",
      " events_C...as Day-2   -15.84    14.87      0.164                (-51.45, 0.)\n",
      " events_C...as Day+1       0.       0.      1.000                    (0., 0.)\n",
      " events_C...as Day+2    33.11    30.68      0.154                 (0., 99.46)\n",
      "  events_Good Friday       0.       0.      1.000                    (0., 0.)\n",
      "events_Good Friday-1       0.       0.      1.000                    (0., 0.)\n",
      "events_Good Friday-2       0.       0.      1.000                    (0., 0.)\n",
      "events_Good Friday+1       0.       0.      1.000                    (0., 0.)\n",
      "events_Good Friday+2   -31.49    16.84      0.062         .      (-66.46, 0.)\n",
      " events_I...ence Day       0.       0.      1.000                    (0., 0.)\n",
      " events_I...ce Day-1       0.       0.      1.000                    (0., 0.)\n",
      " events_I...ce Day-2   -12.48    8.921      0.098         .      (-33.13, 0.)\n",
      " events_I...ce Day+1    -10.8    9.055      0.170              (-31.05, 1.35)\n",
      " events_I...ce Day+2       0.       0.      1.000                    (0., 0.)\n",
      "    events_Labor Day       0.       0.      1.000                    (0., 0.)\n",
      "  events_Labor Day-1   -24.13    12.97      0.040         *  (-50.98, -2.333)\n",
      "  events_Labor Day-2    6.213      5.6      0.160                 (0., 18.15)\n",
      "  events_Labor Day+1       0.       0.      1.000                    (0., 0.)\n",
      "  events_Labor Day+2   -7.076    7.099      0.148                (-24.33, 0.)\n",
      " events_Memorial Day       0.       0.      1.000                    (0., 0.)\n",
      " events_M...al Day-1   -20.39    10.66      0.036         * (-41.87, -0.8523)\n",
      " events_M...al Day-2       0.       0.      1.000                    (0., 0.)\n",
      " events_M...al Day+1       0.       0.      1.000                    (0., 0.)\n",
      " events_M...al Day+2       0.       0.      1.000                    (0., 0.)\n",
      "events_New Years Day   -11.09    10.99      0.144                (-37.47, 0.)\n",
      " events_N...rs Day-1    15.39    13.86      0.158                 (0., 44.29)\n",
      " events_N...rs Day-2   -16.02    14.35      0.160                (-47.55, 0.)\n",
      " events_N...rs Day+1       0.       0.      1.000                    (0., 0.)\n",
      " events_N...rs Day+2    50.44    45.21      0.442                 (0., 144.1)\n",
      "        events_Other    -45.9    93.98      0.638             (-210.3, 145.5)\n",
      "      events_Other-1   -47.69    96.47      0.608             (-235.4, 131.8)\n",
      "      events_Other-2   -49.21    56.58      0.388             (-161.7, 55.87)\n",
      "      events_Other+1    9.506    63.54      0.874             (-108.8, 141.2)\n",
      "      events_Other+2   -3.956    61.57      0.948             (-111.3, 114.4)\n",
      " events_Thanksgiving       0.       0.      1.000                    (0., 0.)\n",
      " events_T...giving-1       0.       0.      1.000                    (0., 0.)\n",
      " events_T...giving-2       0.       0.      1.000                    (0., 0.)\n",
      " events_T...giving+1       0.       0.      1.000                    (0., 0.)\n",
      " events_T...giving+2       0.       0.      1.000                    (0., 0.)\n",
      " events_Veterans Day   -6.323    6.421      0.524                (-22.05, 0.)\n",
      " events_V...ns Day-1   -5.517    5.329      0.136                (-17.88, 0.)\n",
      " events_V...ns Day-2       0.       0.      1.000                    (0., 0.)\n",
      " events_V...ns Day+1   -1.212    2.101      0.640            (-7.283, 0.4413)\n",
      " events_V...ns Day+2       0.       0.      1.000                    (0., 0.)\n",
      "                 ct1   2286.0    323.1     <2e-16       ***  (1653.0, 2839.0)\n",
      "    sin1_tom_monthly   -37.04    122.8      0.772             (-273.9, 191.8)\n",
      "    cos1_tom_monthly   -37.69    120.4      0.752             (-262.2, 198.7)\n",
      "    sin2_tom_monthly   -18.02    178.9      0.916             (-360.3, 324.4)\n",
      "    cos2_tom_monthly   -29.87    178.3      0.854             (-367.4, 316.8)\n",
      "  sin1_toq_quarterly   -184.5    140.4      0.164             (-469.4, 85.51)\n",
      "  cos1_toq_quarterly   -20.16    139.9      0.884             (-302.6, 252.0)\n",
      "  sin2_toq_quarterly   -60.98    148.7      0.682             (-351.0, 237.4)\n",
      "  cos2_toq_quarterly    28.08    144.3      0.838             (-240.6, 293.5)\n",
      "  sin3_toq_quarterly   -36.09    124.0      0.788             (-271.8, 206.8)\n",
      "  cos3_toq_quarterly   -39.41    120.5      0.732             (-259.6, 187.6)\n",
      "  sin4_toq_quarterly   -10.01    182.2      0.962             (-359.4, 319.8)\n",
      "  cos4_toq_quarterly   -13.66    169.5      0.918             (-354.4, 300.7)\n",
      "  sin5_toq_quarterly   -61.79    175.9      0.744             (-390.8, 276.2)\n",
      "  cos5_toq_quarterly    -24.6    172.3      0.868             (-360.5, 308.7)\n",
      "     sin1_ct1_yearly    369.0    188.2      0.052         .    (23.25, 724.7)\n",
      "     cos1_ct1_yearly    609.4    137.8     <2e-16       ***    (333.1, 883.8)\n",
      "     sin2_ct1_yearly    433.7    159.6      0.010         *    (116.5, 742.8)\n",
      "     cos2_ct1_yearly    78.19    178.5      0.668             (-278.9, 418.0)\n",
      "     sin3_ct1_yearly    -3.04    166.0      0.988             (-330.6, 336.4)\n",
      "     cos3_ct1_yearly   -202.3    179.7      0.254             (-552.8, 142.7)\n",
      "     sin4_ct1_yearly   -182.4    142.0      0.172             (-474.9, 91.25)\n",
      "     cos4_ct1_yearly    -36.8    138.7      0.800             (-324.2, 233.2)\n",
      "     sin5_ct1_yearly   -45.55    162.1      0.776             (-355.1, 299.8)\n",
      "     cos5_ct1_yearly    218.3    163.1      0.178             (-115.5, 535.5)\n",
      "     sin6_ct1_yearly    106.6    178.1      0.568             (-212.9, 450.0)\n",
      "     cos6_ct1_yearly    115.6    155.2      0.462             (-204.0, 400.0)\n",
      "     sin7_ct1_yearly    33.63    163.3      0.826             (-295.9, 344.8)\n",
      "     cos7_ct1_yearly   -44.59    175.3      0.770             (-393.2, 297.5)\n",
      "     sin8_ct1_yearly   -59.81    148.0      0.672             (-355.2, 234.9)\n",
      "     cos8_ct1_yearly    12.72    144.0      0.926             (-265.9, 277.8)\n",
      "     sin9_ct1_yearly     24.2    185.8      0.894             (-304.4, 395.7)\n",
      "     cos9_ct1_yearly    76.73    174.7      0.678             (-234.4, 446.7)\n",
      "    sin10_ct1_yearly    124.7    174.5      0.466             (-214.7, 474.7)\n",
      "    cos10_ct1_yearly    15.98    183.6      0.940             (-306.2, 382.3)\n",
      "    sin11_ct1_yearly    70.46    177.9      0.688             (-239.5, 442.9)\n",
      "    cos11_ct1_yearly   -114.7    182.2      0.546             (-440.5, 225.7)\n",
      "    sin12_ct1_yearly   -29.35    127.6      0.826             (-279.4, 219.4)\n",
      "    cos12_ct1_yearly   -54.11    118.3      0.642             (-266.9, 182.9)\n",
      "    sin13_ct1_yearly    -42.9    162.3      0.788             (-351.1, 257.9)\n",
      "    cos13_ct1_yearly    9.533    163.5      0.952             (-288.9, 360.8)\n",
      "    sin14_ct1_yearly     33.4    171.3      0.848             (-285.5, 354.5)\n",
      "    cos14_ct1_yearly    25.63    169.6      0.906             (-313.3, 340.0)\n",
      "    sin15_ct1_yearly    31.38    169.0      0.856             (-270.8, 377.3)\n",
      "    cos15_ct1_yearly   -29.14    179.6      0.880             (-390.0, 318.4)\n",
      "Signif. Code: 0 '***' 0.001 '**' 0.01 '*' 0.05 '.' 0.1 ' ' 1\n",
      "\n",
      "Multiple R-squared: 0.2944,   Adjusted R-squared: 0.2626\n",
      "F-statistic: 2.7048 on 9 and 211 DF,   p-value: 0.004473\n",
      "Model AIC: 5235.1,   model BIC: 5270.9\n",
      "\n",
      "WARNING: the F-ratio and its p-value on regularized methods might be misleading, they are provided only for reference purposes.\n",
      "WARNING: the following columns have estimated coefficients equal to zero, while ridge is not supposed to have zero estimates. This is probably because these columns are degenerate in the design matrix. Make sure these columns do not have constant values.\n",
      "[\"C(Q('events_Christmas Day'), levels=['', 'event'])[T.event]\", \"C(Q('events_Christmas Day_plus_1'), levels=['', 'event'])[T.event]\", \"C(Q('events_Good Friday'), levels=['', 'event'])[T.event]\", \"C(Q('events_Good Friday_minus_1'), levels=['', 'event'])[T.event]\", \"C(Q('events_Good Friday_minus_2'), levels=['', 'event'])[T.event]\", \"C(Q('events_Good Friday_plus_1'), levels=['', 'event'])[T.event]\", \"C(Q('events_Independence Day'), levels=['', 'event'])[T.event]\", \"C(Q('events_Independence Day_minus_1'), levels=['', 'event'])[T.event]\", \"C(Q('events_Independence Day_plus_2'), levels=['', 'event'])[T.event]\", \"C(Q('events_Labor Day'), levels=['', 'event'])[T.event]\", \"C(Q('events_Labor Day_plus_1'), levels=['', 'event'])[T.event]\", \"C(Q('events_Memorial Day'), levels=['', 'event'])[T.event]\", \"C(Q('events_Memorial Day_minus_2'), levels=['', 'event'])[T.event]\", \"C(Q('events_Memorial Day_plus_1'), levels=['', 'event'])[T.event]\", \"C(Q('events_Memorial Day_plus_2'), levels=['', 'event'])[T.event]\", \"C(Q('events_New Years Day_plus_1'), levels=['', 'event'])[T.event]\", \"C(Q('events_Thanksgiving'), levels=['', 'event'])[T.event]\", \"C(Q('events_Thanksgiving_minus_1'), levels=['', 'event'])[T.event]\", \"C(Q('events_Thanksgiving_minus_2'), levels=['', 'event'])[T.event]\", \"C(Q('events_Thanksgiving_plus_1'), levels=['', 'event'])[T.event]\", \"C(Q('events_Thanksgiving_plus_2'), levels=['', 'event'])[T.event]\", \"C(Q('events_Veterans Day_minus_2'), levels=['', 'event'])[T.event]\", \"C(Q('events_Veterans Day_plus_2'), levels=['', 'event'])[T.event]\"]\n",
      "WARNING: the following columns are degenerate, do you really want to include them in your model? This may cause some of them to show unrealistic significance. Consider using the `drop_degenerate` transformer.\n",
      "['Intercept', \"C(Q('events_Christmas Day'), levels=['', 'event'])[T.event]\", \"C(Q('events_Christmas Day_plus_1'), levels=['', 'event'])[T.event]\", \"C(Q('events_Good Friday'), levels=['', 'event'])[T.event]\", \"C(Q('events_Good Friday_minus_1'), levels=['', 'event'])[T.event]\", \"C(Q('events_Good Friday_minus_2'), levels=['', 'event'])[T.event]\", \"C(Q('events_Good Friday_plus_1'), levels=['', 'event'])[T.event]\", \"C(Q('events_Independence Day'), levels=['', 'event'])[T.event]\", \"C(Q('events_Independence Day_minus_1'), levels=['', 'event'])[T.event]\", \"C(Q('events_Independence Day_plus_2'), levels=['', 'event'])[T.event]\", \"C(Q('events_Labor Day'), levels=['', 'event'])[T.event]\", \"C(Q('events_Labor Day_plus_1'), levels=['', 'event'])[T.event]\", \"C(Q('events_Memorial Day'), levels=['', 'event'])[T.event]\", \"C(Q('events_Memorial Day_minus_2'), levels=['', 'event'])[T.event]\", \"C(Q('events_Memorial Day_plus_1'), levels=['', 'event'])[T.event]\", \"C(Q('events_Memorial Day_plus_2'), levels=['', 'event'])[T.event]\", \"C(Q('events_New Years Day_plus_1'), levels=['', 'event'])[T.event]\", \"C(Q('events_Thanksgiving'), levels=['', 'event'])[T.event]\", \"C(Q('events_Thanksgiving_minus_1'), levels=['', 'event'])[T.event]\", \"C(Q('events_Thanksgiving_minus_2'), levels=['', 'event'])[T.event]\", \"C(Q('events_Thanksgiving_plus_1'), levels=['', 'event'])[T.event]\", \"C(Q('events_Thanksgiving_plus_2'), levels=['', 'event'])[T.event]\", \"C(Q('events_Veterans Day_minus_2'), levels=['', 'event'])[T.event]\", \"C(Q('events_Veterans Day_plus_2'), levels=['', 'event'])[T.event]\"]\n",
      "\n"
     ]
    }
   ],
   "source": [
    "summary = result.model[-1].summary()  # -1 retrieves the estimator from the pipeline\n",
    "print(summary)"
   ]
  },
  {
   "cell_type": "code",
   "execution_count": 22,
   "id": "eleven-township",
   "metadata": {
    "execution": {
     "iopub.execute_input": "2022-05-21T20:59:50.393170Z",
     "iopub.status.busy": "2022-05-21T20:59:50.392135Z",
     "iopub.status.idle": "2022-05-21T20:59:50.463226Z",
     "shell.execute_reply": "2022-05-21T20:59:50.463709Z"
    },
    "papermill": {
     "duration": 0.196513,
     "end_time": "2022-05-21T20:59:50.463897",
     "exception": false,
     "start_time": "2022-05-21T20:59:50.267384",
     "status": "completed"
    },
    "tags": []
   },
   "outputs": [
    {
     "data": {
      "text/plain": [
       "Pipeline(steps=[('input',\n",
       "                 PandasFeatureUnion(transformer_list=[('date',\n",
       "                                                       Pipeline(steps=[('select_date',\n",
       "                                                                        ColumnSelector(column_names=['ts']))])),\n",
       "                                                      ('response',\n",
       "                                                       Pipeline(steps=[('select_val',\n",
       "                                                                        ColumnSelector(column_names=['y'])),\n",
       "                                                                       ('outlier',\n",
       "                                                                        ZscoreOutlierTransformer()),\n",
       "                                                                       ('null',\n",
       "                                                                        NullTransformer(impute_algorithm='interpolate',\n",
       "                                                                                        impute_params={'axis': 0,\n",
       "                                                                                                       'limit_direct...\n",
       "                                                            'simple_freq': <SimpleTimeFrequencyEnum.WEEK: Frequency(default_horizon=12, seconds_per_observation=604800, valid_seas={'MONTHLY_SEASONALITY', 'QUARTERLY_SEASONALITY', 'YEARLY_SEASONALITY'})>,\n",
       "                                                            'start_year': 2017},\n",
       "                                           uncertainty_dict={'params': {'conditional_cols': None,\n",
       "                                                                        'quantile_estimation_method': 'normal_fit',\n",
       "                                                                        'quantiles': [0.025000000000000022,\n",
       "                                                                                      0.975],\n",
       "                                                                        'sample_size_thresh': 5,\n",
       "                                                                        'small_sample_size_method': 'std_quantiles',\n",
       "                                                                        'small_sample_size_quantile': 0.98},\n",
       "                                                             'uncertainty_method': 'simple_conditional_residuals'}))])"
      ]
     },
     "execution_count": 22,
     "metadata": {},
     "output_type": "execute_result"
    }
   ],
   "source": [
    "model = result.model\n",
    "model"
   ]
  },
  {
   "cell_type": "code",
   "execution_count": 23,
   "id": "faced-honor",
   "metadata": {
    "execution": {
     "iopub.execute_input": "2022-05-21T20:59:50.787122Z",
     "iopub.status.busy": "2022-05-21T20:59:50.786454Z",
     "iopub.status.idle": "2022-05-21T20:59:50.797972Z",
     "shell.execute_reply": "2022-05-21T20:59:50.799097Z"
    },
    "papermill": {
     "duration": 0.213712,
     "end_time": "2022-05-21T20:59:50.799271",
     "exception": false,
     "start_time": "2022-05-21T20:59:50.585559",
     "status": "completed"
    },
    "tags": []
   },
   "outputs": [
    {
     "data": {
      "text/html": [
       "<div>\n",
       "<style scoped>\n",
       "    .dataframe tbody tr th:only-of-type {\n",
       "        vertical-align: middle;\n",
       "    }\n",
       "\n",
       "    .dataframe tbody tr th {\n",
       "        vertical-align: top;\n",
       "    }\n",
       "\n",
       "    .dataframe thead th {\n",
       "        text-align: right;\n",
       "    }\n",
       "</style>\n",
       "<table border=\"1\" class=\"dataframe\">\n",
       "  <thead>\n",
       "    <tr style=\"text-align: right;\">\n",
       "      <th></th>\n",
       "      <th>ts</th>\n",
       "      <th>y</th>\n",
       "    </tr>\n",
       "  </thead>\n",
       "  <tbody>\n",
       "    <tr>\n",
       "      <th>2021-04-04</th>\n",
       "      <td>2021-04-04</td>\n",
       "      <td>NaN</td>\n",
       "    </tr>\n",
       "    <tr>\n",
       "      <th>2021-04-11</th>\n",
       "      <td>2021-04-11</td>\n",
       "      <td>NaN</td>\n",
       "    </tr>\n",
       "    <tr>\n",
       "      <th>2021-04-18</th>\n",
       "      <td>2021-04-18</td>\n",
       "      <td>NaN</td>\n",
       "    </tr>\n",
       "    <tr>\n",
       "      <th>2021-04-25</th>\n",
       "      <td>2021-04-25</td>\n",
       "      <td>NaN</td>\n",
       "    </tr>\n",
       "  </tbody>\n",
       "</table>\n",
       "</div>"
      ],
      "text/plain": [
       "                   ts   y\n",
       "2021-04-04 2021-04-04 NaN\n",
       "2021-04-11 2021-04-11 NaN\n",
       "2021-04-18 2021-04-18 NaN\n",
       "2021-04-25 2021-04-25 NaN"
      ]
     },
     "execution_count": 23,
     "metadata": {},
     "output_type": "execute_result"
    }
   ],
   "source": [
    "future_df = result.timeseries.make_future_dataframe(\n",
    "    periods=4,\n",
    "    include_history=False)\n",
    "future_df"
   ]
  },
  {
   "cell_type": "code",
   "execution_count": 24,
   "id": "executive-specification",
   "metadata": {
    "execution": {
     "iopub.execute_input": "2022-05-21T20:59:51.072889Z",
     "iopub.status.busy": "2022-05-21T20:59:51.067489Z",
     "iopub.status.idle": "2022-05-21T20:59:51.702389Z",
     "shell.execute_reply": "2022-05-21T20:59:51.701727Z"
    },
    "papermill": {
     "duration": 0.777589,
     "end_time": "2022-05-21T20:59:51.702532",
     "exception": false,
     "start_time": "2022-05-21T20:59:50.924943",
     "status": "completed"
    },
    "tags": []
   },
   "outputs": [
    {
     "data": {
      "text/html": [
       "<div>\n",
       "<style scoped>\n",
       "    .dataframe tbody tr th:only-of-type {\n",
       "        vertical-align: middle;\n",
       "    }\n",
       "\n",
       "    .dataframe tbody tr th {\n",
       "        vertical-align: top;\n",
       "    }\n",
       "\n",
       "    .dataframe thead th {\n",
       "        text-align: right;\n",
       "    }\n",
       "</style>\n",
       "<table border=\"1\" class=\"dataframe\">\n",
       "  <thead>\n",
       "    <tr style=\"text-align: right;\">\n",
       "      <th></th>\n",
       "      <th>ts</th>\n",
       "      <th>forecast</th>\n",
       "      <th>forecast_lower</th>\n",
       "      <th>forecast_upper</th>\n",
       "      <th>y_quantile_summary</th>\n",
       "      <th>err_std</th>\n",
       "    </tr>\n",
       "  </thead>\n",
       "  <tbody>\n",
       "    <tr>\n",
       "      <th>0</th>\n",
       "      <td>2021-04-04</td>\n",
       "      <td>13684.712459</td>\n",
       "      <td>-2914.324065</td>\n",
       "      <td>30283.748984</td>\n",
       "      <td>(-2914.3240651010674, 30283.748983712296)</td>\n",
       "      <td>8469.051807</td>\n",
       "    </tr>\n",
       "    <tr>\n",
       "      <th>1</th>\n",
       "      <td>2021-04-11</td>\n",
       "      <td>13486.453986</td>\n",
       "      <td>-3112.582538</td>\n",
       "      <td>30085.490511</td>\n",
       "      <td>(-3112.582538268998, 30085.490510544365)</td>\n",
       "      <td>8469.051807</td>\n",
       "    </tr>\n",
       "    <tr>\n",
       "      <th>2</th>\n",
       "      <td>2021-04-18</td>\n",
       "      <td>13719.761027</td>\n",
       "      <td>-2879.275498</td>\n",
       "      <td>30318.797551</td>\n",
       "      <td>(-2879.2754975017633, 30318.7975513116)</td>\n",
       "      <td>8469.051807</td>\n",
       "    </tr>\n",
       "    <tr>\n",
       "      <th>3</th>\n",
       "      <td>2021-04-25</td>\n",
       "      <td>13901.315286</td>\n",
       "      <td>-2697.721238</td>\n",
       "      <td>30500.351811</td>\n",
       "      <td>(-2697.721238111364, 30500.351810702)</td>\n",
       "      <td>8469.051807</td>\n",
       "    </tr>\n",
       "  </tbody>\n",
       "</table>\n",
       "</div>"
      ],
      "text/plain": [
       "          ts      forecast  forecast_lower  forecast_upper  \\\n",
       "0 2021-04-04  13684.712459    -2914.324065    30283.748984   \n",
       "1 2021-04-11  13486.453986    -3112.582538    30085.490511   \n",
       "2 2021-04-18  13719.761027    -2879.275498    30318.797551   \n",
       "3 2021-04-25  13901.315286    -2697.721238    30500.351811   \n",
       "\n",
       "                          y_quantile_summary      err_std  \n",
       "0  (-2914.3240651010674, 30283.748983712296)  8469.051807  \n",
       "1   (-3112.582538268998, 30085.490510544365)  8469.051807  \n",
       "2    (-2879.2754975017633, 30318.7975513116)  8469.051807  \n",
       "3      (-2697.721238111364, 30500.351810702)  8469.051807  "
      ]
     },
     "execution_count": 24,
     "metadata": {},
     "output_type": "execute_result"
    }
   ],
   "source": [
    "model.predict(future_df)"
   ]
  },
  {
   "cell_type": "markdown",
   "id": "promising-fisher",
   "metadata": {
    "papermill": {
     "duration": 0.122438,
     "end_time": "2022-05-21T20:59:51.949368",
     "exception": false,
     "start_time": "2022-05-21T20:59:51.826930",
     "status": "completed"
    },
    "tags": []
   },
   "source": [
    "<h1 style=\"background-color:#88FBFF;font-size:30px;color:#00033E;font-weight : bold\">LSTM approach :</h1>"
   ]
  },
  {
   "cell_type": "markdown",
   "id": "alleged-breakdown",
   "metadata": {
    "papermill": {
     "duration": 0.121374,
     "end_time": "2022-05-21T20:59:52.193702",
     "exception": false,
     "start_time": "2022-05-21T20:59:52.072328",
     "status": "completed"
    },
    "tags": []
   },
   "source": [
    "![](https://miro.medium.com/max/1032/1*AUwc53cmW04hjPrKtVyePQ.gif)"
   ]
  },
  {
   "cell_type": "code",
   "execution_count": 25,
   "id": "brave-holder",
   "metadata": {
    "_kg_hide-input": true,
    "execution": {
     "iopub.execute_input": "2022-05-21T20:59:52.443956Z",
     "iopub.status.busy": "2022-05-21T20:59:52.443322Z",
     "iopub.status.idle": "2022-05-21T20:59:52.446242Z",
     "shell.execute_reply": "2022-05-21T20:59:52.446813Z",
     "shell.execute_reply.started": "2021-06-08T22:51:35.865224Z"
    },
    "papermill": {
     "duration": 0.131475,
     "end_time": "2022-05-21T20:59:52.446984",
     "exception": false,
     "start_time": "2022-05-21T20:59:52.315509",
     "status": "completed"
    },
    "tags": []
   },
   "outputs": [],
   "source": [
    "training_set = df_train.values\n",
    "training_set = np.reshape(training_set, (len(training_set), 1))\n",
    "from sklearn.preprocessing import MinMaxScaler\n",
    "sc = MinMaxScaler()\n",
    "training_set = sc.fit_transform(training_set)\n",
    "X_train = training_set[0:len(training_set)-1]\n",
    "y_train = training_set[1:len(training_set)]\n",
    "X_train = np.reshape(X_train, (len(X_train), 1, 1))"
   ]
  },
  {
   "cell_type": "markdown",
   "id": "complex-yield",
   "metadata": {
    "papermill": {
     "duration": 0.120934,
     "end_time": "2022-05-21T20:59:52.690671",
     "exception": false,
     "start_time": "2022-05-21T20:59:52.569737",
     "status": "completed"
    },
    "tags": []
   },
   "source": [
    "<h1 style=\"background-color:#FF85A3;font-size:20px;color:#00033E;font-weight : bold\">Training the Model :</h1>"
   ]
  },
  {
   "cell_type": "code",
   "execution_count": 26,
   "id": "ordered-certificate",
   "metadata": {
    "_kg_hide-input": true,
    "execution": {
     "iopub.execute_input": "2022-05-21T20:59:52.941897Z",
     "iopub.status.busy": "2022-05-21T20:59:52.941173Z",
     "iopub.status.idle": "2022-05-21T20:59:53.187890Z",
     "shell.execute_reply": "2022-05-21T20:59:53.187267Z",
     "shell.execute_reply.started": "2021-06-08T23:05:07.134307Z"
    },
    "papermill": {
     "duration": 0.376072,
     "end_time": "2022-05-21T20:59:53.188037",
     "exception": false,
     "start_time": "2022-05-21T20:59:52.811965",
     "status": "completed"
    },
    "tags": []
   },
   "outputs": [],
   "source": [
    "model1 = Sequential()\n",
    "model1.add(LSTM(10,activation=\"sigmoid\",return_sequences = True,input_shape = (None, 1)))\n",
    "# model1.add(Dropout(0.2))\n",
    "# model1.add(LSTM(64,return_sequences = True))\n",
    "# model1.add(Dropout(0.2))\n",
    "# model1.add(LSTM(10))\n",
    "# model1.add(Dropout(0.2))\n",
    "\n",
    "model1.add(Dense(1))\n",
    "model1.compile(loss='mean_squared_error', optimizer='adam')"
   ]
  },
  {
   "cell_type": "code",
   "execution_count": 27,
   "id": "expected-franchise",
   "metadata": {
    "_kg_hide-input": true,
    "execution": {
     "iopub.execute_input": "2022-05-21T20:59:53.444393Z",
     "iopub.status.busy": "2022-05-21T20:59:53.443712Z",
     "iopub.status.idle": "2022-05-21T20:59:53.449113Z",
     "shell.execute_reply": "2022-05-21T20:59:53.449899Z",
     "shell.execute_reply.started": "2021-06-08T23:05:08.303858Z"
    },
    "papermill": {
     "duration": 0.134252,
     "end_time": "2022-05-21T20:59:53.450142",
     "exception": false,
     "start_time": "2022-05-21T20:59:53.315890",
     "status": "completed"
    },
    "tags": []
   },
   "outputs": [
    {
     "name": "stdout",
     "output_type": "stream",
     "text": [
      "Model: \"sequential\"\n",
      "_________________________________________________________________\n",
      "Layer (type)                 Output Shape              Param #   \n",
      "=================================================================\n",
      "lstm (LSTM)                  (None, None, 10)          480       \n",
      "_________________________________________________________________\n",
      "dense (Dense)                (None, None, 1)           11        \n",
      "=================================================================\n",
      "Total params: 491\n",
      "Trainable params: 491\n",
      "Non-trainable params: 0\n",
      "_________________________________________________________________\n"
     ]
    }
   ],
   "source": [
    "model1.summary()"
   ]
  },
  {
   "cell_type": "code",
   "execution_count": 28,
   "id": "public-universe",
   "metadata": {
    "_kg_hide-input": true,
    "_kg_hide-output": true,
    "execution": {
     "iopub.execute_input": "2022-05-21T20:59:53.704123Z",
     "iopub.status.busy": "2022-05-21T20:59:53.703455Z",
     "iopub.status.idle": "2022-05-21T21:00:02.308407Z",
     "shell.execute_reply": "2022-05-21T21:00:02.307552Z",
     "shell.execute_reply.started": "2021-06-08T23:05:10.444396Z"
    },
    "papermill": {
     "duration": 8.733133,
     "end_time": "2022-05-21T21:00:02.308565",
     "exception": false,
     "start_time": "2022-05-21T20:59:53.575432",
     "status": "completed"
    },
    "tags": []
   },
   "outputs": [
    {
     "name": "stdout",
     "output_type": "stream",
     "text": [
      "Epoch 1/20\n",
      "300/300 [==============================] - 2s 1ms/step - loss: 0.2960\n",
      "Epoch 2/20\n",
      "300/300 [==============================] - 0s 1ms/step - loss: 0.0153\n",
      "Epoch 3/20\n",
      "300/300 [==============================] - 0s 1ms/step - loss: 0.0134\n",
      "Epoch 4/20\n",
      "300/300 [==============================] - 0s 1ms/step - loss: 0.0123\n",
      "Epoch 5/20\n",
      "300/300 [==============================] - 0s 1ms/step - loss: 0.0099\n",
      "Epoch 6/20\n",
      "300/300 [==============================] - 0s 1ms/step - loss: 0.0095\n",
      "Epoch 7/20\n",
      "300/300 [==============================] - 0s 1ms/step - loss: 0.0073\n",
      "Epoch 8/20\n",
      "300/300 [==============================] - 0s 1ms/step - loss: 0.0049\n",
      "Epoch 9/20\n",
      "300/300 [==============================] - 0s 1ms/step - loss: 0.0048\n",
      "Epoch 10/20\n",
      "300/300 [==============================] - 0s 1ms/step - loss: 0.0030\n",
      "Epoch 11/20\n",
      "300/300 [==============================] - 0s 1ms/step - loss: 0.0018\n",
      "Epoch 12/20\n",
      "300/300 [==============================] - 0s 1ms/step - loss: 0.0011\n",
      "Epoch 13/20\n",
      "300/300 [==============================] - 0s 1ms/step - loss: 6.5369e-04\n",
      "Epoch 14/20\n",
      "300/300 [==============================] - 0s 1ms/step - loss: 2.6755e-04\n",
      "Epoch 15/20\n",
      "300/300 [==============================] - 0s 1ms/step - loss: 2.2276e-04\n",
      "Epoch 16/20\n",
      "300/300 [==============================] - 0s 1ms/step - loss: 1.7363e-04\n",
      "Epoch 17/20\n",
      "300/300 [==============================] - 0s 1ms/step - loss: 1.4839e-04\n",
      "Epoch 18/20\n",
      "300/300 [==============================] - 0s 1ms/step - loss: 1.5048e-04\n",
      "Epoch 19/20\n",
      "300/300 [==============================] - 0s 1ms/step - loss: 1.0066e-04\n",
      "Epoch 20/20\n",
      "300/300 [==============================] - 0s 1ms/step - loss: 1.1933e-04\n"
     ]
    }
   ],
   "source": [
    "history=model1.fit(X_train, y_train, batch_size = 5, epochs = 20)"
   ]
  },
  {
   "cell_type": "markdown",
   "id": "hungry-profile",
   "metadata": {
    "papermill": {
     "duration": 0.190592,
     "end_time": "2022-05-21T21:00:02.688113",
     "exception": false,
     "start_time": "2022-05-21T21:00:02.497521",
     "status": "completed"
    },
    "tags": []
   },
   "source": [
    "<h1 style=\"background-color:#FF85A3;font-size:20px;color:#00033E;font-weight : bold\">Visualizing Model Performance :</h1>"
   ]
  },
  {
   "cell_type": "code",
   "execution_count": 29,
   "id": "classified-gabriel",
   "metadata": {
    "_kg_hide-input": true,
    "execution": {
     "iopub.execute_input": "2022-05-21T21:00:03.041485Z",
     "iopub.status.busy": "2022-05-21T21:00:03.040816Z",
     "iopub.status.idle": "2022-05-21T21:00:03.257312Z",
     "shell.execute_reply": "2022-05-21T21:00:03.256821Z",
     "shell.execute_reply.started": "2021-06-08T23:05:20.763926Z"
    },
    "papermill": {
     "duration": 0.394561,
     "end_time": "2022-05-21T21:00:03.257457",
     "exception": false,
     "start_time": "2022-05-21T21:00:02.862896",
     "status": "completed"
    },
    "tags": []
   },
   "outputs": [
    {
     "data": {
      "image/png": "[encoded data removed]",
      "text/plain": [
       "<Figure size 1080x360 with 1 Axes>"
      ]
     },
     "metadata": {
      "needs_background": "light"
     },
     "output_type": "display_data"
    }
   ],
   "source": [
    "%matplotlib inline\n",
    "plt.figure(figsize=(15,5))\n",
    "plt.plot(history.history['loss'])\n",
    "plt.title(\"The model's evaluation\", fontsize=14)\n",
    "plt.xlabel('Epoch')\n",
    "plt.ylabel('Loss')\n",
    "plt.show()"
   ]
  },
  {
   "cell_type": "code",
   "execution_count": 30,
   "id": "active-success",
   "metadata": {
    "execution": {
     "iopub.execute_input": "2022-05-21T21:00:03.615723Z",
     "iopub.status.busy": "2022-05-21T21:00:03.615076Z",
     "iopub.status.idle": "2022-05-21T21:00:04.183427Z",
     "shell.execute_reply": "2022-05-21T21:00:04.182907Z",
     "shell.execute_reply.started": "2021-06-08T22:58:45.645088Z"
    },
    "papermill": {
     "duration": 0.750437,
     "end_time": "2022-05-21T21:00:04.183568",
     "exception": false,
     "start_time": "2022-05-21T21:00:03.433131",
     "status": "completed"
    },
    "tags": []
   },
   "outputs": [
    {
     "data": {
      "image/png": "[encoded data removed]",
      "text/plain": [
       "<IPython.core.display.Image object>"
      ]
     },
     "execution_count": 30,
     "metadata": {},
     "output_type": "execute_result"
    }
   ],
   "source": [
    "from keras.utils.vis_utils import plot_model\n",
    "plot_model(model1, to_file='model_plot.png', show_shapes=True, show_layer_names=True, expand_nested=False)"
   ]
  },
  {
   "cell_type": "code",
   "execution_count": 31,
   "id": "pediatric-beginning",
   "metadata": {
    "_kg_hide-input": true,
    "execution": {
     "iopub.execute_input": "2022-05-21T21:00:04.553545Z",
     "iopub.status.busy": "2022-05-21T21:00:04.552552Z",
     "iopub.status.idle": "2022-05-21T21:00:04.807118Z",
     "shell.execute_reply": "2022-05-21T21:00:04.806369Z",
     "shell.execute_reply.started": "2021-06-08T23:05:25.063821Z"
    },
    "papermill": {
     "duration": 0.443907,
     "end_time": "2022-05-21T21:00:04.807266",
     "exception": false,
     "start_time": "2022-05-21T21:00:04.363359",
     "status": "completed"
    },
    "tags": []
   },
   "outputs": [],
   "source": [
    "# Making the predictions\n",
    "test_set = df_test.values\n",
    "inputs = np.reshape(test_set, (len(test_set), 1))\n",
    "inputs = sc.transform(inputs)\n",
    "inputs = np.reshape(inputs, (len(inputs), 1, 1))\n",
    "predicted_BTC_price = model1.predict(inputs)\n",
    "predicted_BTC_price=predicted_BTC_price.reshape(-1,1)\n",
    "predicted_BTC_price = sc.inverse_transform(predicted_BTC_price)"
   ]
  },
  {
   "cell_type": "code",
   "execution_count": 32,
   "id": "supported-valuation",
   "metadata": {
    "_kg_hide-input": true,
    "execution": {
     "iopub.execute_input": "2022-05-21T21:00:05.177610Z",
     "iopub.status.busy": "2022-05-21T21:00:05.176551Z",
     "iopub.status.idle": "2022-05-21T21:00:05.393781Z",
     "shell.execute_reply": "2022-05-21T21:00:05.395255Z",
     "shell.execute_reply.started": "2021-06-08T23:05:26.063995Z"
    },
    "papermill": {
     "duration": 0.406987,
     "end_time": "2022-05-21T21:00:05.395462",
     "exception": false,
     "start_time": "2022-05-21T21:00:04.988475",
     "status": "completed"
    },
    "tags": []
   },
   "outputs": [
    {
     "data": {
      "image/png": "[encoded data removed]",
      "text/plain": [
       "<Figure size 1080x576 with 1 Axes>"
      ]
     },
     "metadata": {
      "needs_background": "light"
     },
     "output_type": "display_data"
    }
   ],
   "source": [
    "%matplotlib inline\n",
    "plt.figure(figsize=(15,8))\n",
    "plt.plot(test_set, color = \"red\", label = \"Real Stock Price\")\n",
    "plt.plot(predicted_BTC_price, color = \"black\", label = \"Predict Stock Price\")\n",
    "plt.title(\"BTC Price Prediction\")\n",
    "plt.xlabel(\"Time\")\n",
    "plt.ylabel(\"BTC Price(USD)\")\n",
    "plt.legend()\n",
    "plt.show()"
   ]
  },
  {
   "cell_type": "markdown",
   "id": "unauthorized-station",
   "metadata": {
    "papermill": {
     "duration": 0.180012,
     "end_time": "2022-05-21T21:00:05.761813",
     "exception": false,
     "start_time": "2022-05-21T21:00:05.581801",
     "status": "completed"
    },
    "tags": []
   },
   "source": [
    "<h1 style=\"background-color:#88FBFF;font-size:20px;color:#00033E;font-weight : bold\">Wrapping Up :</h1>"
   ]
  },
  {
   "cell_type": "markdown",
   "id": "respected-bones",
   "metadata": {
    "papermill": {
     "duration": 0.179905,
     "end_time": "2022-05-21T21:00:06.122461",
     "exception": false,
     "start_time": "2022-05-21T21:00:05.942556",
     "status": "completed"
    },
    "tags": []
   },
   "source": [
    " <p style=\"font-size:15px;color:#1C37A6;font-weight : bold\">I had tried to give a gentle introduction to Time Series Forecasting Using GreyKite Python Library and the traditional LSTM approach. I hope you learn something from this blog, and it will help you in the future.<br>\n",
    "The library is still in the development process, and the developers are planning to add other useful open-source algorithms in the future to give users more options to choose from through a unified interface.</p>\n",
    "\n",
    "**References** :\n",
    "- https://engineering.linkedin.com/blog/2021/greykite--a-flexible--intuitive--and-fast-forecasting-library\n",
    "- https://arxiv.org/abs/2105.01098\n",
    "- https://venturebeat.com/2021/05/13/linkedin-open-sources-greykite-a-library-for-time-series-forecasting/\n",
    "- https://github.com/linkedin/greykite\n",
    "- https://analyticsindiamag.com/linkedin-open-sources-this-new-library-for-time-series-forecasting/\n",
    "\n"
   ]
  },
  {
   "cell_type": "markdown",
   "id": "passing-central",
   "metadata": {
    "papermill": {
     "duration": 0.178307,
     "end_time": "2022-05-21T21:00:06.481646",
     "exception": false,
     "start_time": "2022-05-21T21:00:06.303339",
     "status": "completed"
    },
    "tags": []
   },
   "source": [
    "![](https://i.pinimg.com/originals/cf/90/bb/cf90bb1b741ff44adde054a2e12b82e6.gif)"
   ]
  },
  {
   "cell_type": "markdown",
   "id": "focused-bulletin",
   "metadata": {
    "papermill": {
     "duration": 0.178122,
     "end_time": "2022-05-21T21:00:06.838813",
     "exception": false,
     "start_time": "2022-05-21T21:00:06.660691",
     "status": "completed"
    },
    "tags": []
   },
   "source": [
    "# **Do UPVOTE if you like my work** "
   ]
  },
  {
   "cell_type": "code",
   "execution_count": null,
   "id": "technical-accent",
   "metadata": {
    "papermill": {
     "duration": 0.182599,
     "end_time": "2022-05-21T21:00:07.201581",
     "exception": false,
     "start_time": "2022-05-21T21:00:07.018982",
     "status": "completed"
    },
    "tags": []
   },
   "outputs": [],
   "source": []
  }
 ],
 "metadata": {
  "kernelspec": {
   "display_name": "Python 3",
   "language": "python",
   "name": "python3"
  },
  "language_info": {
   "codemirror_mode": {
    "name": "ipython",
    "version": 3
   },
   "file_extension": ".py",
   "mimetype": "text/x-python",
   "name": "python",
   "nbconvert_exporter": "python",
   "pygments_lexer": "ipython3",
   "version": "3.7.10"
  },
  "papermill": {
   "default_parameters": {},
   "duration": 148.947308,
   "end_time": "2022-05-21T21:00:09.530161",
   "environment_variables": {},
   "exception": null,
   "input_path": "__notebook__.ipynb",
   "output_path": "__notebook__.ipynb",
   "parameters": {},
   "start_time": "2022-05-21T20:57:40.582853",
   "version": "2.3.3"
  }
 },
 "nbformat": 4,
 "nbformat_minor": 5
}
